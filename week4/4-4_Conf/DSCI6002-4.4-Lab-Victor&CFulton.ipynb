{
 "cells": [
  {
   "cell_type": "markdown",
   "metadata": {},
   "source": [
    "# Lab 4.4: Confidence Intervals\n",
    "\n",
    "## Outline\n",
    "\n",
    "- z-score\n",
    "- t-distribution\n",
    "- Confidence Interval Basics\n",
    "- Confidence Interval for One Sample Mean"
   ]
  },
  {
   "cell_type": "markdown",
   "metadata": {},
   "source": [
    "**Question 1**\n",
    "\n",
    "1) Write down the standard Normal distribution.\n",
    "\n",
    "$$ {X} {\\sim} N(\\mu, {\\sigma^2}) $$  \n",
    "\n",
    "   <br>"
   ]
  },
  {
   "cell_type": "markdown",
   "metadata": {},
   "source": [
    "2) z-score measures how many `_standard deviations_` a value is from the mean.\n",
    "   - units\n",
    "   - variances\n",
    "   \n",
    "    $ {\\sim} $ - standard deviations \n",
    "    \n",
    "   \n",
    "   - medians\n",
    "   - modes\n",
    "\n",
    "   <br>"
   ]
  },
  {
   "cell_type": "markdown",
   "metadata": {},
   "source": [
    "3) Given a Normal distribution that has mean of 10.5 and variance of 3.2, compute the\n",
    "   - z-score for observing a value of 8.3\n",
    "   - probability of observing a z-score greater than the calculated value above\n",
    "   \n",
    "   <br>"
   ]
  },
  {
   "cell_type": "markdown",
   "metadata": {},
   "source": [
    "$P(\\bar{X} = 8.3)$"
   ]
  },
  {
   "cell_type": "markdown",
   "metadata": {},
   "source": [
    "# Question 1.1"
   ]
  },
  {
   "cell_type": "markdown",
   "metadata": {},
   "source": [
    "standard normal distribution\n",
    "\n",
    "$$ {X} {\\sim} N(\\mu, {\\sigma^2}) $$ \n",
    "\n",
    "standard normal mean : $\\mu = 0 \\\\ $\n",
    "\n",
    "standard normal deviation : $\\sigma = 1$"
   ]
  },
  {
   "cell_type": "markdown",
   "metadata": {},
   "source": [
    "# Question 1.2\n",
    "\n",
    "z-score measures standard deviations away from the mean"
   ]
  },
  {
   "cell_type": "markdown",
   "metadata": {},
   "source": [
    "# Question 1.3"
   ]
  },
  {
   "cell_type": "code",
   "execution_count": 5,
   "metadata": {
    "collapsed": false
   },
   "outputs": [
    {
     "name": "stdout",
     "output_type": "stream",
     "text": [
      "Populating the interactive namespace from numpy and matplotlib\n"
     ]
    }
   ],
   "source": [
    "%pylab inline\n",
    "\n",
    "import pandas as pd\n",
    "from scipy import stats\n",
    "import numpy as np"
   ]
  },
  {
   "cell_type": "markdown",
   "metadata": {},
   "source": [
    "## $Z = \\frac{\\bar{X} - \\mu}{\\sqrt{\\sigma^2}}$\n"
   ]
  },
  {
   "cell_type": "code",
   "execution_count": 10,
   "metadata": {
    "collapsed": false
   },
   "outputs": [
    {
     "data": {
      "text/plain": [
       "-1.229837387624884"
      ]
     },
     "execution_count": 10,
     "metadata": {},
     "output_type": "execute_result"
    }
   ],
   "source": [
    "z_score = (8.3 - 10.5) / np.sqrt(3.2)\n",
    "z_score"
   ]
  },
  {
   "cell_type": "code",
   "execution_count": 8,
   "metadata": {
    "collapsed": false,
    "scrolled": true
   },
   "outputs": [
    {
     "name": "stdout",
     "output_type": "stream",
     "text": [
      "probability of getting higher than this z-score:\n",
      " 0.890620997733\n"
     ]
    }
   ],
   "source": [
    "print(\"probability of getting higher than this z-score:\\n\", 1 - stats.norm(10.5, np.sqrt(3.2)).cdf(8.3))"
   ]
  },
  {
   "cell_type": "markdown",
   "metadata": {},
   "source": [
    "# Question 1.4\n",
    "\n",
    "4) Verify that the probability of observing a z-score greater than calculated in `3.` is same that the probability of observing a value greater than 8.3 from the original Normal distribution (with mean 10.5 and variance 3.2).  \n",
    "\n",
    "   <br>"
   ]
  },
  {
   "cell_type": "code",
   "execution_count": 14,
   "metadata": {
    "collapsed": false
   },
   "outputs": [
    {
     "data": {
      "text/plain": [
       "0.89062099773330372"
      ]
     },
     "execution_count": 14,
     "metadata": {},
     "output_type": "execute_result"
    }
   ],
   "source": [
    "1 - stats.norm(0, 1).cdf(z_score)"
   ]
  },
  {
   "cell_type": "markdown",
   "metadata": {},
   "source": [
    "   \n",
    "5) For the standard Normal random variable $Z$, compute the following: \n",
    "1. $P(0.2 < Z \\leq 1.4)$\n",
    "2. $P(-1.48 \\leq Z \\leq 0.4)$\n",
    "3. $P(Z > 1.23)$\n",
    "4. $E(3 + 3Z)$\n",
    "5. $Var(3 + 3Z)$  \n",
    "\n",
    "   <br>"
   ]
  },
  {
   "cell_type": "markdown",
   "metadata": {},
   "source": [
    "# Question 1.5"
   ]
  },
  {
   "cell_type": "code",
   "execution_count": 23,
   "metadata": {
    "collapsed": false
   },
   "outputs": [
    {
     "name": "stdout",
     "output_type": "stream",
     "text": [
      "1.  0.339983631327\n",
      "2.  0.585985118277\n",
      "3.  0.109348552426\n",
      "4.  3\n",
      "5.  4\n"
     ]
    }
   ],
   "source": [
    "print(\"1. \", stats.norm(0, 1).cdf(1.4) - stats.norm(0, 1).cdf(.2))\n",
    "print(\"2. \", stats.norm(0, 1).cdf(.4) - stats.norm(0, 1).cdf(-1.48))\n",
    "print(\"3. \", 1 - stats.norm(0, 1).cdf(1.23))\n",
    "print(\"4. \", 3+0)\n",
    "print(\"5. \", 3+1)"
   ]
  },
  {
   "cell_type": "markdown",
   "metadata": {},
   "source": [
    "1. $P(0.2 < Z \\leq 1.4)$ = .9192 - .5793 = 0.3399\n",
    "2. $P(-1.48 \\leq Z \\leq 0.4)$ = .6554 - .0694 = 0.586\n",
    "3. $P(Z > 1.23)$ = 1 - .8907 = .1093\n",
    "4. $E(3 + 3Z)$ = 3\n",
    "5. $Var(3 + 3Z)$  = 4\n",
    "\n",
    "   <br>"
   ]
  },
  {
   "cell_type": "markdown",
   "metadata": {},
   "source": [
    "**Question 2**\n",
    "   \n",
    "1) Visually, what is the difference between a t-distribution and a standard Normal distribution? \n",
    "\n",
    "   <br> "
   ]
  },
  {
   "cell_type": "markdown",
   "metadata": {},
   "source": [
    "# Question 2.1\n",
    "\n",
    "The t-distribution has more \"spread\" or fatter tails than the Normal.\n",
    "\n",
    "And is defined by its degrees of freedom which is n-1. "
   ]
  },
  {
   "cell_type": "markdown",
   "metadata": {},
   "source": [
    "   \n",
    "2) Plot the pdf of the following distributions.  \n",
    "\n",
    "* Standard Normal $N(0, 1)$\n",
    "* $t_{5}$\n",
    "* $t_{10}$\n",
    "* $t_{100}$\n",
    "* $t_{10000}$\n",
    "  "
   ]
  },
  {
   "cell_type": "markdown",
   "metadata": {},
   "source": [
    "# Question 2.2"
   ]
  },
  {
   "cell_type": "code",
   "execution_count": 41,
   "metadata": {
    "collapsed": false
   },
   "outputs": [],
   "source": [
    "from scipy.stats import t\n",
    "import matplotlib.pyplot as plt"
   ]
  },
  {
   "cell_type": "code",
   "execution_count": 52,
   "metadata": {
    "collapsed": false
   },
   "outputs": [
    {
     "data": {
      "image/png": "[encoded data removed]",
      "text/plain": [
       "<matplotlib.figure.Figure at 0x1199acc88>"
      ]
     },
     "metadata": {},
     "output_type": "display_data"
    }
   ],
   "source": [
    "x = np.linspace(-5, 5, 100)\n",
    "t5 = t.pdf(x,4)\n",
    "t10 = t.pdf(x,9)\n",
    "t100 = t.pdf(x,99)\n",
    "t10000 = t.pdf(x,9999)\n",
    "plt.plot(x, t5)\n",
    "plt.plot(x, t10)\n",
    "plt.plot(x, t100)\n",
    "plt.plot(x, t10000);"
   ]
  },
  {
   "cell_type": "markdown",
   "metadata": {},
   "source": [
    "3) Comment on the plots. How does the shape of t-distribution change as the degrees of freedom change?   \n",
    "\n",
    "   <br>"
   ]
  },
  {
   "cell_type": "markdown",
   "metadata": {},
   "source": [
    "# Question 2.3\n",
    "\n",
    "As the degrees of freedom increase, the distribution becomes tighter around the mean. "
   ]
  },
  {
   "cell_type": "markdown",
   "metadata": {},
   "source": [
    "**Question 3**\n",
    "\n",
    "1) Explain why confidence interval is more informative than a point estimate.\n",
    "\n",
    "   <br>"
   ]
  },
  {
   "cell_type": "markdown",
   "metadata": {},
   "source": [
    "# Question 3.1\n",
    "\n",
    "The point estimate is rarely 100% correct. Whereas a range of prob. values using the Confidence Interval allows for prediction parameters to be made, ie. 99%, 95% or 90%, for example.  Point estimates do not allow for this. "
   ]
  },
  {
   "cell_type": "markdown",
   "metadata": {},
   "source": [
    "2) Explain why the following statement is **wrong**:\n",
    "   - The 95% confidence interval means there is a 95% chance that the true value lies in the interval|\n",
    "   \n",
    "   <br>"
   ]
  },
  {
   "cell_type": "markdown",
   "metadata": {},
   "source": [
    "Wrong.  There is a 95% chance that our Interval includes the mean. "
   ]
  },
  {
   "cell_type": "markdown",
   "metadata": {},
   "source": [
    "3) Explain in plain words what the following means:\n",
    "   - The 95% confidence interval of the click through rate to website A is 0.10 to 0.15\n",
    "\n",
    "   <br>"
   ]
  },
  {
   "cell_type": "markdown",
   "metadata": {},
   "source": [
    "If we sampled the population and used this same method, we would find that our CI of the CTR would include the mean 95% of the time - the true (but unknown) mean."
   ]
  },
  {
   "cell_type": "markdown",
   "metadata": {},
   "source": [
    "4) You are presented with 2 measurements below, select the measurement that is more precise and explain why that is.\n",
    "   - **Measurement 1**: 5.00 cm with 95% confidence interval of (4.52 cm, 5.52 cm)\n",
    "   - **Measurement 2**: 5.20 cm with 95% confidence interval of (5.13 cm, 5.22 cm)\n",
    "\n",
    "   <br>"
   ]
  },
  {
   "cell_type": "markdown",
   "metadata": {},
   "source": [
    "MEasurement 2 is more precise.  It's CI in M2 has a tighter/narrower range(-0.07 to 0.02) than that found in M1(-.48 to 0.52)."
   ]
  },
  {
   "cell_type": "markdown",
   "metadata": {},
   "source": [
    "5) Is a 99% confidence interval wider or narrower than a 90% confidence interval?  \n",
    "\n",
    "   <br>"
   ]
  },
  {
   "cell_type": "markdown",
   "metadata": {},
   "source": [
    "a 99% CI would be wider."
   ]
  },
  {
   "cell_type": "markdown",
   "metadata": {},
   "source": [
    "**Question 4**\n",
    "\n",
    "1) Suppose Google sampled 200 of its employees and measured how long they are gone for lunch. \n",
    "   - Download the data from https://s3-us-west-2.amazonaws.com/dsci/6002/data/lunch_hour.txt (right click -> \"Save Link As...\")\n",
    "   - Load the data by `numpy.loadtxt('lunch_hour_200.txt')`\n",
    "   - Compute the mean lunch hour of the sample\n",
    "   - Compute the 95% confidence interval for how long, on average, Google employees take to have lunch.\n",
    "     (**_There is a python function to calculate this, which you will use later to verify your results; for this part, calculate it by following the formula given in class_**)\n",
    "\n",
    "   <br>"
   ]
  },
  {
   "cell_type": "markdown",
   "metadata": {},
   "source": [
    "# Question 4.1"
   ]
  },
  {
   "cell_type": "code",
   "execution_count": 57,
   "metadata": {
    "collapsed": false
   },
   "outputs": [],
   "source": [
    "lunch = np.loadtxt('lunch_hour.txt')"
   ]
  },
  {
   "cell_type": "code",
   "execution_count": 61,
   "metadata": {
    "collapsed": false,
    "scrolled": true
   },
   "outputs": [
    {
     "data": {
      "text/plain": [
       "2.1844999999999999"
      ]
     },
     "execution_count": 61,
     "metadata": {},
     "output_type": "execute_result"
    }
   ],
   "source": [
    "xbar = lunch.mean()\n",
    "xbar"
   ]
  },
  {
   "cell_type": "code",
   "execution_count": 64,
   "metadata": {
    "collapsed": false
   },
   "outputs": [
    {
     "data": {
      "text/plain": [
       "0.57732984506259499"
      ]
     },
     "execution_count": 64,
     "metadata": {},
     "output_type": "execute_result"
    }
   ],
   "source": [
    "std_dev = lunch.std()\n",
    "std_dev"
   ]
  },
  {
   "cell_type": "code",
   "execution_count": 67,
   "metadata": {
    "collapsed": false
   },
   "outputs": [
    {
     "data": {
      "text/plain": [
       "200"
      ]
     },
     "execution_count": 67,
     "metadata": {},
     "output_type": "execute_result"
    }
   ],
   "source": [
    "n = len(lunch)\n",
    "n"
   ]
  },
  {
   "cell_type": "markdown",
   "metadata": {},
   "source": [
    "We are 95% confident that the true mean $\\mu$ is in the interval  \n",
    "\n",
    "$$ (\\bar{X} - 1.96 \\frac{\\sigma}{\\sqrt{n}} \\text{, } \\bar{X} + 1.96 \\frac{\\sigma}{\\sqrt{n}}) $$\n",
    "\n",
    "$$ (2.1845 - 1.96 \\frac{.5773}{\\sqrt{200}} \\text{, } 2.1845 + 1.96 \\frac{.5773}{\\sqrt{200}}) $$\n",
    "\n",
    "$$ (2.104 \\text{, } 2.265) $$"
   ]
  },
  {
   "cell_type": "code",
   "execution_count": 91,
   "metadata": {
    "collapsed": false
   },
   "outputs": [
    {
     "data": {
      "text/plain": [
       "2.2645138342913271"
      ]
     },
     "execution_count": 91,
     "metadata": {},
     "output_type": "execute_result"
    }
   ],
   "source": [
    "xbar + 1.96*(std_dev/sqrt(n))"
   ]
  },
  {
   "cell_type": "code",
   "execution_count": 90,
   "metadata": {
    "collapsed": false
   },
   "outputs": [
    {
     "data": {
      "text/plain": [
       "2.1044861657086726"
      ]
     },
     "execution_count": 90,
     "metadata": {},
     "output_type": "execute_result"
    }
   ],
   "source": [
    "xbar - 1.96*(std_dev/sqrt(n))"
   ]
  },
  {
   "cell_type": "markdown",
   "metadata": {},
   "source": [
    "   \n",
    "2) Suppose only the first 20 employees are sampled. Re-compute the 95% confidence interval based on this smaller sample.\n",
    "\n",
    "   <br>"
   ]
  },
  {
   "cell_type": "markdown",
   "metadata": {},
   "source": [
    "# Question 4.2\n",
    "\n",
    "We are 95% confident that the true mean $\\mu$ is in the interval  \n",
    "\n",
    "$$ (\\bar{X} - 1.96 \\frac{\\sigma}{\\sqrt{n}} \\text{, } \\bar{X} + 1.96 \\frac{\\sigma}{\\sqrt{n}}) $$\n",
    "\n",
    "$$ (2.1845 - 1.96 \\frac{.5773}{\\sqrt{20}} \\text{, } 2.1845 + 1.96 \\frac{.5773}{\\sqrt{20}}) $$\n",
    "\n",
    "$$ (1.929 \\text{, } 2.440) $$"
   ]
  },
  {
   "cell_type": "code",
   "execution_count": 92,
   "metadata": {
    "collapsed": false,
    "scrolled": true
   },
   "outputs": [
    {
     "data": {
      "text/plain": [
       "1.928892141758122"
      ]
     },
     "execution_count": 92,
     "metadata": {},
     "output_type": "execute_result"
    }
   ],
   "source": [
    "xbar - 1.98*(std_dev/sqrt(20))"
   ]
  },
  {
   "cell_type": "code",
   "execution_count": 93,
   "metadata": {
    "collapsed": false
   },
   "outputs": [
    {
     "data": {
      "text/plain": [
       "2.4401078582418778"
      ]
     },
     "execution_count": 93,
     "metadata": {},
     "output_type": "execute_result"
    }
   ],
   "source": [
    "xbar + 1.98*(std_dev/sqrt(20))"
   ]
  },
  {
   "cell_type": "markdown",
   "metadata": {
    "collapsed": true
   },
   "source": [
    "   \n",
    "3) Use the following Python functions to verify your results above (which one should you use?):\n",
    "\n",
    "```python\n",
    "# Function to calculate z-based 95% CI\n",
    "scipy.stats.norm.interval(0.05, mean, std)\n",
    "\n",
    "# Function to calculate t-based 95% with 19 degrees of freedom\n",
    "scipy.stats.t.interval(0.05, 19, mean, std)\n",
    "```\n",
    "\n",
    "   <br>"
   ]
  },
  {
   "cell_type": "code",
   "execution_count": 86,
   "metadata": {
    "collapsed": false
   },
   "outputs": [
    {
     "data": {
      "text/plain": [
       "(2.1482975056056697, 2.2207024943943301)"
      ]
     },
     "execution_count": 86,
     "metadata": {},
     "output_type": "execute_result"
    }
   ],
   "source": [
    "stats.norm.interval(0.05, xbar, std_dev)"
   ]
  },
  {
   "cell_type": "code",
   "execution_count": 87,
   "metadata": {
    "collapsed": false
   },
   "outputs": [
    {
     "data": {
      "text/plain": [
       "(2.1478162916151451, 2.2211837083412385)"
      ]
     },
     "execution_count": 87,
     "metadata": {},
     "output_type": "execute_result"
    }
   ],
   "source": [
    "stats.t.interval(0.05, 19, xbar, std_dev)"
   ]
  },
  {
   "cell_type": "markdown",
   "metadata": {},
   "source": [
    "### Question 3.3\n",
    "\n",
    "In this case, we should use the z-distribution because we have more data points and a tighter interval."
   ]
  },
  {
   "cell_type": "markdown",
   "metadata": {},
   "source": [
    "**Question 5**\n",
    "\n",
    "A survey is planned to determine the mean annual family medical expenses of employees of a large company. The management of the company wishes to be 95% confident that the sample mean is\n",
    "correct to within +/- \\$50 of the true population mean of annual family medical expenses. A pilot\n",
    "study indicated the population standard deviation can be estimated to be $400.  \n",
    "\n",
    "1) How large a sample size is needed?  \n",
    "\n",
    "\n",
    "2) If management wants to be correct to within +/- \\$25, what sample size is necessary?  \n"
   ]
  },
  {
   "cell_type": "code",
   "execution_count": 9,
   "metadata": {
    "collapsed": false
   },
   "outputs": [
    {
     "data": {
      "text/plain": [
       "245.86239999999998"
      ]
     },
     "execution_count": 9,
     "metadata": {},
     "output_type": "execute_result"
    }
   ],
   "source": [
    "#e = 1.96 * (400/sqrt(n)) = 50\n",
    "\n",
    "n = (400/(50/1.96))**2\n",
    "n"
   ]
  },
  {
   "cell_type": "code",
   "execution_count": 17,
   "metadata": {
    "collapsed": false
   },
   "outputs": [
    {
     "data": {
      "text/plain": [
       "983.4495999999999"
      ]
     },
     "execution_count": 17,
     "metadata": {},
     "output_type": "execute_result"
    }
   ],
   "source": [
    "# because we are dealing with the sq rt of n, for every doubling (or the converse for halving) we need to 4x (or 2x2 in this case) the \n",
    "\n",
    "n*4"
   ]
  },
  {
   "cell_type": "markdown",
   "metadata": {},
   "source": [
    "### confirmed below"
   ]
  },
  {
   "cell_type": "code",
   "execution_count": 55,
   "metadata": {
    "collapsed": false
   },
   "outputs": [
    {
     "data": {
      "text/plain": [
       "983.4495999999999"
      ]
     },
     "execution_count": 55,
     "metadata": {},
     "output_type": "execute_result"
    }
   ],
   "source": [
    "(400/(25/1.96))**2"
   ]
  }
 ],
 "metadata": {
  "anaconda-cloud": {},
  "kernelspec": {
   "display_name": "Python 3",
   "language": "python",
   "name": "python3"
  },
  "language_info": {
   "codemirror_mode": {
    "name": "ipython",
    "version": 3
   },
   "file_extension": ".py",
   "mimetype": "text/x-python",
   "name": "python",
   "nbconvert_exporter": "python",
   "pygments_lexer": "ipython3",
   "version": "3.5.2"
  }
 },
 "nbformat": 4,
 "nbformat_minor": 0
}
