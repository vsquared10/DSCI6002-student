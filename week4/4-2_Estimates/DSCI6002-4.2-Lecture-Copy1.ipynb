{
 "cells": [
  {
   "cell_type": "markdown",
   "metadata": {
    "slideshow": {
     "slide_type": "slide"
    }
   },
   "source": [
    "# Lecture 4.2: Point Estimation"
   ]
  },
  {
   "cell_type": "markdown",
   "metadata": {
    "slideshow": {
     "slide_type": "slide"
    }
   },
   "source": [
    "## Outline\n",
    "\n",
    "* Difference between estimand, estimator and estimate\n",
    "\n",
    "* Methods of finding estimators\n",
    "    * Method of moments (MOM)\n",
    "    * Maximum likelihood estimation (MLE)\n",
    "* Evaluating estimators\n",
    "    * Mean squared error (MSE)\n",
    "        * Bias of an estimator\n",
    "        * Variance of an estimator"
   ]
  },
  {
   "cell_type": "markdown",
   "metadata": {
    "slideshow": {
     "slide_type": "slide"
    }
   },
   "source": [
    "## Objectives\n",
    "\n",
    "* Understand clearly the difference between an estimator and an estimate\n",
    "* Know how to use MOM for estimation\n",
    "* Know how to find the MLE for a parameter of interest\n",
    "* Know how to evaluate an estimator using mean squared error (MSE)\n",
    "* Have a general understanding of bias-variance trade-off"
   ]
  },
  {
   "cell_type": "markdown",
   "metadata": {
    "slideshow": {
     "slide_type": "slide"
    }
   },
   "source": [
    "## Estimand, Estimator and Estimate\n",
    "\n",
    "* **Estimand**: what we are trying to estimate (the quantity of interest)\n",
    "    * e.g. the population mean, $\\mu$  "
   ]
  },
  {
   "cell_type": "markdown",
   "metadata": {
    "slideshow": {
     "slide_type": "subslide"
    }
   },
   "source": [
    "* **Estimator**: what we use to estimate the estimand (the rule)\n",
    "    * e.g. the sample mean $\\bar{X} = \\frac{1}{n} \\sum_{i = 1}^n X_i$\n",
    "    * the estimator contains random variables, not the actual observed data for them\n",
    "    * the estimator itself is a random variable\n",
    "    * the estimator has its mean and variance  "
   ]
  },
  {
   "cell_type": "markdown",
   "metadata": {
    "slideshow": {
     "slide_type": "subslide"
    }
   },
   "source": [
    "* **Estimate**: the actual estimate given by the estimator and a set of data (the result)\n",
    "    * e.g. the sample mean we calculate from real data $\\bar{x} = \\frac{1}{n} \\sum_{i = 1}^n x_i$\n",
    "    * an estimate is realization of the estimator\n",
    "    * estimator vs estimate is just like $X$ vs $x$ (the random variable vs one value of the random variable)\n",
    "    * the estimate is a fixed quantity   "
   ]
  },
  {
   "cell_type": "markdown",
   "metadata": {
    "slideshow": {
     "slide_type": "slide"
    }
   },
   "source": [
    "## Methods of Finding Estimators\n",
    "\n",
    "<img src=\"images/coins.png\" width=\"400\">"
   ]
  },
  {
   "cell_type": "markdown",
   "metadata": {
    "slideshow": {
     "slide_type": "slide"
    }
   },
   "source": [
    "### Method of Moments (MOM)\n",
    "\n",
    "Coin experiment: 8 heads out of 10 tosses  \n",
    "\n",
    "We wanted to estimate the true probability of getting a head (the estimand) \n",
    "\n",
    "You said: it's common sense, $8/10 = 0.8$ (an estimate based on the data observed) \n",
    "\n",
    "You were essentially using a moment estimator (method of moments)  "
   ]
  },
  {
   "cell_type": "markdown",
   "metadata": {
    "slideshow": {
     "slide_type": "subslide"
    }
   },
   "source": [
    "#### What are moments?\n",
    "\n",
    "Statistical moments of a set of points used to quantitatively summarize their distribution, and to provide information about their location and variability. The $n$-th __moment__ of a set of sample points $m$ points, $\\textbf{x}=\\{x_1,x_2,...,x_m\\}$, about a point $a$ is given by:\n",
    "\n",
    "$$ \\mu_n = \\operatorname{E}[(X-a)^n] = \\sum_{i=1}^mp_i\\cdot(x_i-a)^n$$"
   ]
  },
  {
   "cell_type": "markdown",
   "metadata": {
    "slideshow": {
     "slide_type": "subslide"
    }
   },
   "source": [
    "If we assume that out samples are equally likely with $p_i=\\frac{1}{m}$, we can simplify the above equation as\n",
    "\n",
    "$$ \\mu_n = \\operatorname{E}[(X-a)^n] = \\frac{1}{m}\\sum_{i=1}^m(x_i-a)^n$$\n",
    "\n",
    "We will use this form to express some of the commonly used moments."
   ]
  },
  {
   "cell_type": "code",
   "execution_count": 1,
   "metadata": {
    "collapsed": false,
    "slideshow": {
     "slide_type": "skip"
    }
   },
   "outputs": [
    {
     "name": "stdout",
     "output_type": "stream",
     "text": [
      "Populating the interactive namespace from numpy and matplotlib\n"
     ]
    }
   ],
   "source": [
    "%pylab inline"
   ]
  },
  {
   "cell_type": "code",
   "execution_count": 2,
   "metadata": {
    "collapsed": false,
    "slideshow": {
     "slide_type": "subslide"
    }
   },
   "outputs": [
    {
     "data": {
      "text/plain": [
       "9.0"
      ]
     },
     "execution_count": 2,
     "metadata": {},
     "output_type": "execute_result"
    }
   ],
   "source": [
    "x1 = array([10, 8, 13, 9, 11, 14, 6, 4, 12, 7, 5])\n",
    "m = len(x1)\n",
    "a = 0.0  # when calculating the first moment: a = 0\n",
    "n = 1\n",
    "(sum((x1 - a)**n))/m"
   ]
  },
  {
   "cell_type": "code",
   "execution_count": 3,
   "metadata": {
    "collapsed": false,
    "slideshow": {
     "slide_type": "fragment"
    }
   },
   "outputs": [
    {
     "data": {
      "text/plain": [
       "9.0"
      ]
     },
     "execution_count": 3,
     "metadata": {},
     "output_type": "execute_result"
    }
   ],
   "source": [
    "mean(x1)"
   ]
  },
  {
   "cell_type": "markdown",
   "metadata": {
    "slideshow": {
     "slide_type": "slide"
    }
   },
   "source": [
    "### Expectation as a moment\n",
    "\n",
    "If a moment is calculated about $0$, it is called the __raw moment__. The expected value, $\\mu$, of a set of $n$ points is exactly the first raw moment.\n",
    "\n",
    "$$\\mu = \\mu_1 = \\frac{1}{n}\\sum_{i=1}^nx_i$$\n",
    "\n",
    "Note that we can also compute a zeroth moment, which would simply be $1$."
   ]
  },
  {
   "cell_type": "code",
   "execution_count": 4,
   "metadata": {
    "collapsed": false,
    "slideshow": {
     "slide_type": "fragment"
    }
   },
   "outputs": [
    {
     "data": {
      "text/plain": [
       "1.0"
      ]
     },
     "execution_count": 4,
     "metadata": {},
     "output_type": "execute_result"
    }
   ],
   "source": [
    "n = 0\n",
    "(sum((x1 - a)**n))/m"
   ]
  },
  {
   "cell_type": "markdown",
   "metadata": {
    "slideshow": {
     "slide_type": "slide"
    }
   },
   "source": [
    "### Variance and Standard Deviation\n",
    "\n",
    "If a moment is calculated about the mean, then the moment is called a __central moment__. Second central moment about the mean is called the __variance__ and its square root is called the __standard deviation__, $\\sigma$, of the set.\n",
    "\n",
    "$$Var(X) = \\sigma^2 = \\operatorname{E}[(X-\\mu)^2] = \\frac{1}{n}\\sum_{i=1}^n(x_i-\\mu)^2$$\n",
    "\n",
    "Note that we are again using the assumption that all samples are equally likely. "
   ]
  },
  {
   "cell_type": "markdown",
   "metadata": {
    "slideshow": {
     "slide_type": "subslide"
    }
   },
   "source": [
    "An equivalent (and easier to remember) form of the variance can be derived by using expectation form of the mean,$\\mu$, as:\n",
    "\n",
    "$$\\begin{align}Var(X) &= \\operatorname{E}\\left[(X - \\operatorname{E}[X])^2\\right] \\\\\n",
    "&= \\operatorname{E}\\left[X^2 - 2X\\operatorname{E}[X] + (\\operatorname{E}[X])^2\\right] \\\\\n",
    "&= \\operatorname{E}\\left[X^2\\right] - 2\\operatorname{E}[X]\\operatorname{E}[X] + (\\operatorname{E}[X])^2 \\\\\n",
    "&= \\operatorname{E}\\left[X^2 \\right] - (\\operatorname{E}[X])^2\n",
    "\\end{align}$$\n",
    "\n",
    "i.e. $Var(X)$ equals the mean of the squares minus the square of the means of the samples. "
   ]
  },
  {
   "cell_type": "markdown",
   "metadata": {
    "slideshow": {
     "slide_type": "subslide"
    }
   },
   "source": [
    "The variance, and equivalently the standard deviation, measure the spread of a dataset. The standard deviation (or variance) is used along with the mean to parameterize the underlying probability density function (__pdf__) of a sample. For example, the pdf for normal (or Gaussian) distribution is given by:\n",
    "\n",
    "$$f(x) = \\frac{1}{\\sqrt{2\\pi \\sigma^2}} e^{ -\\frac{(x-\\mu)^2}{2\\sigma^2} }$$\n",
    "\n",
    "If a set of samples is drawn from a normal distribution, $N(\\mu,\\sigma)$, then the $\\sigma$ can be used to specify the __tolerance intervals__ of the samples i.e. we can say that ~68.3% of the samples will lie in $[\\mu-\\sigma,\\mu+\\sigma]$, ~95.5% of the samples will lie in $[\\mu-2\\sigma,\\mu+2\\sigma]$ and ~99.7% of the samples will lie in $[\\mu-3\\sigma,\\mu+3\\sigma]$."
   ]
  },
  {
   "cell_type": "code",
   "execution_count": 5,
   "metadata": {
    "collapsed": false,
    "slideshow": {
     "slide_type": "subslide"
    }
   },
   "outputs": [
    {
     "data": {
      "text/plain": [
       "10.0"
      ]
     },
     "execution_count": 5,
     "metadata": {},
     "output_type": "execute_result"
    }
   ],
   "source": [
    "a = 0; n = 1\n",
    "# when calculating the second moment, a = the first moment i.e. the mean\n",
    "a = (sum((x1 - a)**n))/m  \n",
    "n = 2\n",
    "(sum((x1 - a)**n))/m"
   ]
  },
  {
   "cell_type": "code",
   "execution_count": 6,
   "metadata": {
    "collapsed": false,
    "slideshow": {
     "slide_type": "fragment"
    }
   },
   "outputs": [
    {
     "data": {
      "text/plain": [
       "10.0"
      ]
     },
     "execution_count": 6,
     "metadata": {},
     "output_type": "execute_result"
    }
   ],
   "source": [
    "var(x1)"
   ]
  },
  {
   "cell_type": "code",
   "execution_count": 7,
   "metadata": {
    "collapsed": false,
    "slideshow": {
     "slide_type": "skip"
    }
   },
   "outputs": [
    {
     "data": {
      "image/png": "[encoded data removed]",
      "text/plain": [
       "<matplotlib.figure.Figure at 0x10c3b4550>"
      ]
     },
     "metadata": {},
     "output_type": "display_data"
    }
   ],
   "source": [
    "from scipy import stats\n",
    "from scipy import interpolate\n",
    "\n",
    "# Set the number of samples\n",
    "N = 100\n",
    "# Set mean and sigma of distribution\n",
    "mu = 0.\n",
    "sigma = 1.\n",
    "x = linspace(-5,5,N)\n",
    "\n",
    "# Generate the probabilities for x based on ~Normal(0,1)\n",
    "prob = stats.norm.pdf(x, loc=mu, scale=sigma)\n",
    "\n",
    "s = interpolate.spline(x, prob,x)\n",
    "\n",
    "plot(x,s,color=\"black\")\n",
    "xlabel(\"x\"); ylabel(\"p(x)\");\n",
    "\n",
    "bbox_props = dict(boxstyle=\"round\", fc=\"w\", ec=\"w\")\n",
    "\n",
    "for i in [1,2,3]:    \n",
    "    annotate(\"\", xy=(mu-i*sigma,stats.norm.pdf(i*sigma, loc=mu, scale=sigma)),\n",
    "             xycoords=\"data\", \n",
    "             xytext=(mu+i*sigma, stats.norm.pdf(i*sigma, loc=mu, scale=sigma)),\n",
    "             textcoords=\"data\", \n",
    "             arrowprops=dict(arrowstyle=\"<->\",connectionstyle=\"arc3\"))\n",
    "    annotate(\"\", xy=(mu-i*sigma,0),\n",
    "             xycoords=\"data\", \n",
    "             xytext=(mu-i*sigma, 0.3/i**2),\n",
    "             textcoords=\"data\", \n",
    "             arrowprops=dict(arrowstyle=\"-\",connectionstyle=\"arc3\"))\n",
    "    annotate(\"\", xy=(mu+i*sigma,0),\n",
    "             xycoords=\"data\", \n",
    "             xytext=(mu+i*sigma, 0.3/i**2),\n",
    "             textcoords=\"data\", \n",
    "             arrowprops=dict(arrowstyle=\"-\",connectionstyle=\"arc3\"))\n",
    "    text(mu, stats.norm.pdf(i*sigma, loc=mu, scale=sigma), \n",
    "         r\"$\\mu\\pm{}\\sigma$\".format(i), va=\"center\", ha=\"center\",size=15, bbox=bbox_props)\n",
    "\n",
    "savefig(\"Normal_tol_intervals.png\")"
   ]
  },
  {
   "cell_type": "markdown",
   "metadata": {
    "slideshow": {
     "slide_type": "fragment"
    }
   },
   "source": [
    "![Normal_tol_intervals.png](Normal_tol_intervals.png)"
   ]
  },
  {
   "cell_type": "markdown",
   "metadata": {
    "slideshow": {
     "slide_type": "subslide"
    }
   },
   "source": [
    "### Note on _unbiased_ sample variance\n",
    "\n",
    "The definition of standard deviation in Eq. (1) is considered to be a _biased_ (by a factor of $(n-1)/n$) estimate of the sample variance, and in practice the following form is used to compute the sample variance:\n",
    "\n",
    "$$Var(X) = \\sigma^2 = \\frac{1}{n-1}\\sum_{i=1}^n(x_i-\\bar{x})^2$$\n",
    "\n",
    "Note that we have also replaced the population mean, $\\mu$, by the estimate of the sample mean $\\bar{x}$."
   ]
  },
  {
   "cell_type": "code",
   "execution_count": 8,
   "metadata": {
    "collapsed": false,
    "slideshow": {
     "slide_type": "subslide"
    }
   },
   "outputs": [
    {
     "data": {
      "text/plain": [
       "11.0"
      ]
     },
     "execution_count": 8,
     "metadata": {},
     "output_type": "execute_result"
    }
   ],
   "source": [
    "a = 0; n = 1\n",
    "a = (sum((x1 - a)**n))/m  \n",
    "n = 2\n",
    "(sum((x1 - a)**n))/(m - 1)"
   ]
  },
  {
   "cell_type": "code",
   "execution_count": 9,
   "metadata": {
    "collapsed": false,
    "slideshow": {
     "slide_type": "fragment"
    }
   },
   "outputs": [
    {
     "data": {
      "text/plain": [
       "11.0"
      ]
     },
     "execution_count": 9,
     "metadata": {},
     "output_type": "execute_result"
    }
   ],
   "source": [
    "var(x1, ddof=1)"
   ]
  },
  {
   "cell_type": "code",
   "execution_count": 10,
   "metadata": {
    "collapsed": false,
    "slideshow": {
     "slide_type": "skip"
    }
   },
   "outputs": [],
   "source": [
    "N = 10000\n",
    "M = N/2\n",
    "M_half = M/2\n",
    "\n",
    "# Generate array of N numbers from N(0,1)\n",
    "arr_a = normal(0,1,[N,1])\n",
    "\n",
    "# Generate array of N numbers from N(0,5)\n",
    "arr_b = normal(0,3,[N,1])\n",
    "\n",
    "# Create +vely skewed distribution by stitching together left half of the \n",
    "# distribution of a with right half of distribution of b\n",
    "a_neg_vals = arr_a[arr_a < 0];\n",
    "b_pos_vals = arr_b[arr_b > 0];\n",
    "\n",
    "# Use either hstack or concatenate to join 2 vectors or matrices\n",
    "d_pos_skew = hstack((a_neg_vals[1:int(M_half)],b_pos_vals[1:int(M_half)]));"
   ]
  },
  {
   "cell_type": "code",
   "execution_count": 11,
   "metadata": {
    "collapsed": false,
    "slideshow": {
     "slide_type": "skip"
    }
   },
   "outputs": [
    {
     "data": {
      "image/png": "[encoded data removed]",
      "text/plain": [
       "<matplotlib.figure.Figure at 0x112ce6908>"
      ]
     },
     "metadata": {},
     "output_type": "display_data"
    }
   ],
   "source": [
    "hist(arr_a,20,normed=True)\n",
    "title(\"PDF of sample distribution A ~ N(0,1), skew = {[0]:.2}\".format(stats.skew(arr_a)))\n",
    "savefig(\"ZeroSkew.png\")"
   ]
  },
  {
   "cell_type": "code",
   "execution_count": 12,
   "metadata": {
    "collapsed": false,
    "slideshow": {
     "slide_type": "skip"
    }
   },
   "outputs": [
    {
     "data": {
      "image/png": "[encoded data removed]",
      "text/plain": [
       "<matplotlib.figure.Figure at 0x112cc40b8>"
      ]
     },
     "metadata": {},
     "output_type": "display_data"
    }
   ],
   "source": [
    "hist(d_pos_skew,20,normed=True);\n",
    "title(\"PDF of positively skewed distribution D, skew = {:.2}\".format(stats.skew(d_pos_skew)))\n",
    "savefig(\"PosSkew.png\")"
   ]
  },
  {
   "cell_type": "markdown",
   "metadata": {
    "slideshow": {
     "slide_type": "subslide"
    }
   },
   "source": [
    "### Normalized moments and Skewness\n",
    "\n",
    "The $n$-th __normalized central moment__ (or __standardized central moment__) is defined as the $n$-th central moment divided by $\\sigma^n$. The normalized $3$-rd central moment of a distribution is called __skewness__ and is given by:\n",
    "\n",
    "$$ \\gamma = \\operatorname{E}\\Big[\\big(\\tfrac{X-\\mu}{\\sigma}\\big)^{\\!3}\\, \\Big] \n",
    "             = \\frac{\\mu_3}{\\sigma^3} \n",
    "             = \\frac{\\operatorname{E}\\big[(X-\\mu)^3\\big]}{\\ \\ \\ ( \\operatorname{E}\\big[ (X-\\mu)^2 \\big] )^{3/2}}$$"
   ]
  },
  {
   "cell_type": "markdown",
   "metadata": {
    "slideshow": {
     "slide_type": "subslide"
    }
   },
   "source": [
    "An equivalent name for $\\gamma$ is the Pearson moment coefficient of skewness. The skewness of a distribution represnts the asymmetry of the distribution. If skewness if positive for a set of samples the right tail of the distribution will be longer, indicating that the mass of the distribution is concentrated to the left. Such a distribution is called a right-tailed or right-skewed distribution.  A negtive skewness indicates a long left tail."
   ]
  },
  {
   "cell_type": "markdown",
   "metadata": {
    "slideshow": {
     "slide_type": "subslide"
    }
   },
   "source": [
    "<TABLE><TR><TD><img src=\"ZeroSkew.png\"></TD><TD><img src=\"PosSkew.png\"></TD></TR></TABLE>"
   ]
  },
  {
   "cell_type": "code",
   "execution_count": 13,
   "metadata": {
    "collapsed": false,
    "slideshow": {
     "slide_type": "subslide"
    }
   },
   "outputs": [
    {
     "data": {
      "text/plain": [
       "0.0"
      ]
     },
     "execution_count": 13,
     "metadata": {},
     "output_type": "execute_result"
    }
   ],
   "source": [
    "# x1 has no skew:\n",
    "m1 = (sum((x1 - 0)**1))/m   # First moment (i.e. mean)\n",
    "m2 = (sum((x1 - m1)**2))/m  # Second moment (i.e. variance)\n",
    "m3 = (sum((x1 - m1)**3))/m  # Third moment\n",
    "m3/m2**1.5  # Skewness = 3rd moment / standard deviation cubed"
   ]
  },
  {
   "cell_type": "code",
   "execution_count": 14,
   "metadata": {
    "collapsed": false,
    "slideshow": {
     "slide_type": "subslide"
    }
   },
   "outputs": [
    {
     "data": {
      "text/plain": [
       "2.8460498941515415"
      ]
     },
     "execution_count": 14,
     "metadata": {},
     "output_type": "execute_result"
    }
   ],
   "source": [
    "x2 = array([8, 8, 8, 8, 8, 8, 8, 19, 8, 8, 8])\n",
    "m1 = (sum((x2 - 0)**1))/m\n",
    "m2 = (sum((x2 - m1)**2))/m \n",
    "m3 = (sum((x2 - m1)**3))/m\n",
    "m3/m2**1.5"
   ]
  },
  {
   "cell_type": "code",
   "execution_count": 15,
   "metadata": {
    "collapsed": false,
    "slideshow": {
     "slide_type": "fragment"
    }
   },
   "outputs": [
    {
     "data": {
      "text/plain": [
       "2.8460498941515415"
      ]
     },
     "execution_count": 15,
     "metadata": {},
     "output_type": "execute_result"
    }
   ],
   "source": [
    "stats.skew(x2)"
   ]
  },
  {
   "cell_type": "code",
   "execution_count": 16,
   "metadata": {
    "collapsed": false,
    "slideshow": {
     "slide_type": "subslide"
    }
   },
   "outputs": [
    {
     "data": {
      "text/plain": [
       "3.3166247903554"
      ]
     },
     "execution_count": 16,
     "metadata": {},
     "output_type": "execute_result"
    }
   ],
   "source": [
    "stats.skew(x2, bias=False)"
   ]
  },
  {
   "cell_type": "code",
   "execution_count": 17,
   "metadata": {
    "collapsed": false,
    "slideshow": {
     "slide_type": "fragment"
    }
   },
   "outputs": [
    {
     "data": {
      "text/plain": [
       "3.3166247903554003"
      ]
     },
     "execution_count": 17,
     "metadata": {},
     "output_type": "execute_result"
    }
   ],
   "source": [
    "m1 = (sum((x2 - 0)**1))/m\n",
    "m2 = (sum((x2 - m1)**2))/(m-1)  # unbiased variance\n",
    "m3 = (sum((x2 - m1)**3))/m\n",
    "(m**2/((m-1)*(m-2)))*m3/m2**1.5  # unbiased skewness"
   ]
  },
  {
   "cell_type": "markdown",
   "metadata": {
    "slideshow": {
     "slide_type": "slide"
    }
   },
   "source": [
    "### Kurtosis\n",
    "\n",
    "The last moment we will discuss in this section is the $4$-th normalized central moment, called __kurtosis__ and is given by:\n",
    "$${\\beta=}\\frac{\\operatorname{E}[(X-{\\mu})^4]}{(\\operatorname{E}[(X-{\\mu})^2])^2} {=} \\frac{\\mu_4}{\\sigma^4}$$\n",
    "\n",
    "The kurtosis of the standard normal distribution is 3. In order to zero out the kurtosis of the normal distribution, a slightly altered definition of kurtosis, called the __excess kurtosis__ is used:\n",
    "\n",
    "$$\\gamma_2=\\frac{\\mu_4}{\\sigma^4} - 3$$"
   ]
  },
  {
   "cell_type": "markdown",
   "metadata": {
    "slideshow": {
     "slide_type": "subslide"
    }
   },
   "source": [
    "The sample kurtosis is can be derived form the above definition by replacing the expectations with the sample means:\n",
    "\n",
    "$$g_2 = \\frac{\\tfrac{1}{n} \\sum_{i=1}^n (x_i - \\overline{x})^4}{\\left(\\tfrac{1}{n} \\sum_{i=1}^n (x_i - \\overline{x})^2\\right)^2} - 3$$"
   ]
  },
  {
   "cell_type": "markdown",
   "metadata": {
    "slideshow": {
     "slide_type": "subslide"
    }
   },
   "source": [
    "The kurtosis, or equivalently excess kurtosis, is often used as a measure of the \"flatness\" or \"peakedness\" of a distribution. A distribution with negative excess kurtosis is tends to be more flat, and is called a __platykurtic__ distribution. A distribution with positive excess kurtosis tends to be sharper, or more \"peaked\", and is called a __leptokurtic__ distribution. \n",
    "\n",
    "<img src=images/symmetric_pdfs_kurt.png>\n",
    "\n",
    "Probability density functions for 7 different distributions - Laplace, Hyperbolic Secant, logistic, normal, raised cosine, Wigmer semicircle and uniform distribution - all with $\\mu$=0 and $\\sigma^2$=1. \n",
    "Source: http://en.wikipedia.org/wiki/Kurtosis"
   ]
  },
  {
   "cell_type": "code",
   "execution_count": 18,
   "metadata": {
    "collapsed": false,
    "slideshow": {
     "slide_type": "subslide"
    }
   },
   "outputs": [
    {
     "data": {
      "text/plain": [
       "-1.22"
      ]
     },
     "execution_count": 18,
     "metadata": {},
     "output_type": "execute_result"
    }
   ],
   "source": [
    "m1 = (sum((x1 - 0)**1))/m   # First moment\n",
    "m2 = (sum((x1 - m1)**2))/m  # Second moment\n",
    "m4 = (sum((x1 - m1)**4))/m  # Fourth moment\n",
    "m4/m2**2 - 3  # excess kurtosis = 4th Moment / 2nd Moment Squared - 3"
   ]
  },
  {
   "cell_type": "code",
   "execution_count": 19,
   "metadata": {
    "collapsed": false,
    "slideshow": {
     "slide_type": "fragment"
    }
   },
   "outputs": [
    {
     "data": {
      "text/plain": [
       "-1.22"
      ]
     },
     "execution_count": 19,
     "metadata": {},
     "output_type": "execute_result"
    }
   ],
   "source": [
    "stats.kurtosis(x1)"
   ]
  },
  {
   "cell_type": "code",
   "execution_count": 20,
   "metadata": {
    "collapsed": false,
    "slideshow": {
     "slide_type": "subslide"
    }
   },
   "outputs": [
    {
     "data": {
      "text/plain": [
       "6.0999999999999996"
      ]
     },
     "execution_count": 20,
     "metadata": {},
     "output_type": "execute_result"
    }
   ],
   "source": [
    "m1 = (sum((x2 - 0)**1))/m\n",
    "m2 = (sum((x2 - m1)**2))/m \n",
    "m4 = (sum((x2 - m1)**4))/m\n",
    "m4/m2**2 - 3"
   ]
  },
  {
   "cell_type": "code",
   "execution_count": 21,
   "metadata": {
    "collapsed": false,
    "slideshow": {
     "slide_type": "fragment"
    }
   },
   "outputs": [
    {
     "data": {
      "text/plain": [
       "6.1"
      ]
     },
     "execution_count": 21,
     "metadata": {},
     "output_type": "execute_result"
    }
   ],
   "source": [
    "stats.kurtosis(x2)"
   ]
  },
  {
   "cell_type": "markdown",
   "metadata": {
    "slideshow": {
     "slide_type": "slide"
    }
   },
   "source": [
    "**Advantages of MOM**\n",
    "\n",
    "* Simple to calculate\n",
    "* Consistent (if we keep increasing the sample size, we eventually obtain accurate estimates)\n",
    "\n",
    "**Disadvantages of MOM**\n",
    "\n",
    "* Often biased (more on biasness later today)\n",
    "* Sometimes gives estimates outside the parameter space"
   ]
  },
  {
   "cell_type": "markdown",
   "metadata": {
    "slideshow": {
     "slide_type": "slide"
    }
   },
   "source": [
    "### Maximum Likelihood Estimation (MLE)\n",
    "\n",
    "* The method of maximum likelihood we looked at yesterday is arguably the most popular technique for deriving estimators.\n",
    "\n",
    "* Recall that if $X_1, \\dots, X_n$ are i.i.d. (independently, identically distributed) sample from a population with PDF or PMF $f(x | \\theta_1, \\dots, \\theta_k)$, the likelihood function is defined by\n",
    "\n",
    "$$L(\\theta | \\textbf{x}) = L(\\theta_1, \\dots, \\theta_k | x_1, \\dots, x_n) = \\prod_{i = 1}^n f(x_i | \\theta_1, \\dots, \\theta_k) $$  \n",
    "\n",
    "* Definition: For each sample $\\textbf{x}$, let $\\hat{\\theta}(\\textbf{x})$ be a parameter value at which $L(\\theta | \\textbf{x})$ attains its maximum as a function of $\\theta$, with $\\textbf{x}$ fixed. A **maximum likelihood estimator (MLE)** of the parameter $\\theta$ based on a sample $\\textbf{X}$ is $\\hat{\\theta}(\\textbf{X})$.  \n",
    "\n",
    "* We sometimes write $L(\\theta | \\textbf{x})$ as $L(\\theta)$, and $\\hat{\\theta}(\\textbf{x})$ as $\\hat{\\theta}$."
   ]
  },
  {
   "cell_type": "markdown",
   "metadata": {
    "slideshow": {
     "slide_type": "slide"
    }
   },
   "source": [
    "**Example: Bernoulli MLE**\n",
    "\n",
    "Let $X_1, \\dots, X_n$ be i.i.d. $Bernoulli(p)$. Then the likelihood function is\n",
    "\n",
    "$$ L(p | \\textbf{x}) = \\prod_{i = 1}^n p^{x_i} (1 - p)^{1 - x_1} = p^y(1 - p)^{n - y} $$  \n",
    "\n",
    "where $y = \\sum x_i$.  "
   ]
  },
  {
   "cell_type": "markdown",
   "metadata": {
    "slideshow": {
     "slide_type": "fragment"
    }
   },
   "source": [
    "While this function is not hard to differentiate, it is much easier to differentiate the log-likelihood  \n",
    "\n",
    "$$ l(p | \\textbf{x}) = log(L(p | \\textbf{x})) = y log(p) + (n - y) log(1 - p) $$"
   ]
  },
  {
   "cell_type": "markdown",
   "metadata": {
    "slideshow": {
     "slide_type": "subslide"
    }
   },
   "source": [
    "Differentiate $log(L(p | \\textbf{x}))$ and set it to 0  \n",
    "\n",
    "$$ \\frac{y}{p} - \\frac{n - y}{1 - p} = 0 $$\n",
    "\n",
    "Solve for $p$, and we get,  \n",
    "\n",
    "$$\\hat{p} = \\frac{y}{n}$$"
   ]
  },
  {
   "cell_type": "markdown",
   "metadata": {
    "slideshow": {
     "slide_type": "slide"
    }
   },
   "source": [
    "## Evaluating Estimators\n",
    "\n",
    "In many cases, different methods will lead to different estimators, and in today's class, we will introduce one of the criteria for evaluating estimators."
   ]
  },
  {
   "cell_type": "markdown",
   "metadata": {
    "slideshow": {
     "slide_type": "subslide"
    }
   },
   "source": [
    "### Mean Squared Error (MSE)\n",
    "\n",
    "* The **mean squared error (MSE)** of an estimator $\\hat{\\theta}$ of a parameter $\\theta$ is the function of $\\theta$ defined by $E(\\hat{\\theta} - \\theta)^2$.\n",
    "\n",
    "* So basically, the MSE of a particular estimator $\\hat{\\theta}$ is $E(\\hat{\\theta} - \\theta)^2$.  \n",
    "\n",
    "* If we do some math, we can express MSE as\n",
    "\n",
    "$$ E(\\hat{\\theta} - \\theta)^2 = Var(\\hat{\\theta}) + [E(\\hat{\\theta}) - \\theta]^2 = Var(\\hat{\\theta}) + (Bias(\\hat{\\theta}))^2 $$ "
   ]
  },
  {
   "cell_type": "markdown",
   "metadata": {
    "slideshow": {
     "slide_type": "slide"
    }
   },
   "source": [
    "#### Bias\n",
    "\n",
    "* The **bias** of a point estimator $\\hat{\\theta}$ is the difference between the expected value of $\\hat{\\theta}$ and $\\theta$.  \n",
    "\n",
    "* That is, $Bias(\\hat{\\theta}) = E(\\hat{\\theta}) - \\theta$. \n",
    "\n",
    "* If an estimator satisfies $Bias(\\hat{\\theta}) = E(\\hat{\\theta}) - \\theta = 0$ for all $\\theta$, it is called an **unbiased estimator**."
   ]
  },
  {
   "cell_type": "markdown",
   "metadata": {
    "slideshow": {
     "slide_type": "slide"
    }
   },
   "source": [
    "#### The two components of MSE\n",
    "\n",
    "* $Var(\\hat{\\theta})$, the variability of the estimator (precision)  \n",
    "\n",
    "\n",
    "* $Bias(\\hat{\\theta})$, the bias of the estimator (accuracy)  \n",
    "\n",
    "\n",
    "**To find an estimator with good MSE properties**, we need to find estimators that control both variance and bias."
   ]
  },
  {
   "cell_type": "markdown",
   "metadata": {
    "slideshow": {
     "slide_type": "slide"
    }
   },
   "source": [
    "#### Unbiased estimators\n",
    "\n",
    "* Unbiased estimators do a good job of controlling bias  \n",
    "\n",
    "* We have  \n",
    "\n",
    "$$ MSE = E(\\hat{\\theta} - \\theta)^2 = Var(\\hat{\\theta}) $$  \n",
    "\n",
    "* If an estimator is unbiased, its MSE is equal to its variance."
   ]
  },
  {
   "cell_type": "markdown",
   "metadata": {
    "slideshow": {
     "slide_type": "slide"
    }
   },
   "source": [
    "**Example: Normal MSE**  \n",
    "\n",
    "Let $X_1, \\dots, X_n$ be i.i.d. $N(\\mu, \\sigma^2)$. The statistics $\\bar{X}$ (sample mean) and $S^2$ (sample variance) are both unbiased estimators since\n",
    "\n",
    "$$ E(\\bar{X}) = \\mu $$  \n",
    "\n",
    "\n",
    "$$ E(S^2) = \\sigma^2 $$  \n",
    "\n",
    "\n",
    "for all $\\mu$ and $\\sigma^2$."
   ]
  },
  {
   "cell_type": "markdown",
   "metadata": {
    "slideshow": {
     "slide_type": "fragment"
    }
   },
   "source": [
    "The **MSE**s of these estimators are given by  \n",
    "\n",
    "\n",
    "$$ E(\\bar{X} - \\mu)^2 = Var(\\bar{X}) = \\frac{\\sigma^2}{n} $$  \n",
    "\n",
    "\n",
    "$$ E(S^2 - \\sigma^2)^2 = Var(S^2) = \\frac{2 \\sigma^4}{n - 1} $$"
   ]
  },
  {
   "cell_type": "markdown",
   "metadata": {
    "slideshow": {
     "slide_type": "slide"
    }
   },
   "source": [
    "#### Bias-variance trade-off\n",
    "\n",
    "* Although many unbiased estimators are also reasonable from the standpoint of MSE, keep in mind that controlling bias alone does not guarantee that MSE is controlled.  \n",
    "\n",
    "* In particular, it is sometimes the case that a trade-off occurs between variance and bias in such a way that a small increase in bias can be traded for a larger decrease in variance, resulting in an improved MSE."
   ]
  }
 ],
 "metadata": {
  "anaconda-cloud": {},
  "kernelspec": {
   "display_name": "Python 3",
   "language": "python",
   "name": "python3"
  },
  "language_info": {
   "codemirror_mode": {
    "name": "ipython",
    "version": 3
   },
   "file_extension": ".py",
   "mimetype": "text/x-python",
   "name": "python",
   "nbconvert_exporter": "python",
   "pygments_lexer": "ipython3",
   "version": "3.5.2"
  }
 },
 "nbformat": 4,
 "nbformat_minor": 0
}
