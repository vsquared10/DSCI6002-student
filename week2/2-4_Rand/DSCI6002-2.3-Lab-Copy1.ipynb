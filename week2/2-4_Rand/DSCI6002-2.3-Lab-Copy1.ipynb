{
 "cells": [
  {
   "cell_type": "markdown",
   "metadata": {},
   "source": [
    "# Lab Exercises"
   ]
  },
  {
   "cell_type": "markdown",
   "metadata": {},
   "source": [
    "1) Let random variable $X$ be the number we get when we roll a die,    \n",
    "    1. Write out the probability mass function of X.     \n",
    "    2. Calculate the mean of X.  \n",
    "    3. Calculate the variance of X.  "
   ]
  },
  {
   "cell_type": "markdown",
   "metadata": {},
   "source": [
    "PMF:\n",
    "\n",
    "P(X = 1) = (1/6)\n",
    "P(X = 2) = (1/6)\n",
    "P(X = 3) = (1/6)\n",
    "P(X = 4) = (1/6)\n",
    "P(X = 5) = (1/6)\n",
    "P(X = 6) = (1/6)\n",
    "\n",
    "E(X) = (1/6)*1 + (1/6)*2 + (1/6)*3 + (1/6)*4 + (1/6)*5 + (1/6)*6\n",
    "E(X) = 3.5\n",
    "\n",
    "Var(X) = (1 - 3.5)^2 * (1/6) + (2 - 3.5)^2 * (1/6) + (3 - 3.5)^2 * (1/6) (4 - 3.5)^2 * (1/6) + (5 - 3.5)^2 * (1/6) + (6 - 3.5)^2 * (1/6)\n",
    "Var(X) = 2.92"
   ]
  },
  {
   "cell_type": "markdown",
   "metadata": {},
   "source": [
    "2) Use either `randint` or `random_sample` to generate a series of 20 rolls. Use `.mean()` and `.var()` to calculate the sample mean and variance. How do these compare to the population mean and variance you calculated above? What if you increase the number of rolls to 2000. Are your estimates closer to the true statistics or further away?"
   ]
  },
  {
   "cell_type": "code",
   "execution_count": 8,
   "metadata": {
    "collapsed": false
   },
   "outputs": [
    {
     "name": "stdout",
     "output_type": "stream",
     "text": [
      "Sample of 20 (2.9500000000000002, 2.4475000000000002)\n",
      "Sample of 2000 (3.4914999999999998, 2.9619277499999996)\n"
     ]
    }
   ],
   "source": [
    "import numpy as np\n",
    "def sample_stats(n):\n",
    "    rolls = np.asarray([np.random.randint(1, 7, size=n)])\n",
    "    mean = rolls.mean()\n",
    "    var = rolls.var()\n",
    "    return mean, var\n",
    "\n",
    "print(\"Sample of 20\", sample_stats(20))\n",
    "print(\"Sample of 2000\", sample_stats(2000))"
   ]
  },
  {
   "cell_type": "markdown",
   "metadata": {},
   "source": [
    "3) Now we have two dice, and X and Y are the numbers appear on each die respectively. Let Z be the sum of the numbers from the two dice,  \n",
    "    1. Write out the probability mass function of Z.  \n",
    "    2. Calculate the mean of Z.  \n",
    "    3. Calculate the variance of Z."
   ]
  },
  {
   "cell_type": "markdown",
   "metadata": {},
   "source": [
    "PMF(Z):\n",
    "\n",
    "P(Z = 2) = (1/36)\n",
    "P(Z = 3) = (1/18)\n",
    "P(Z = 4) = (1/12)\n",
    "P(Z = 5) = (1/8)\n",
    "P(Z = 6) = (5/36)\n",
    "P(Z = 7) = (1/6)\n",
    "P(Z = 8) = (5/36)\n",
    "P(Z = 9) = (1/8)\n",
    "P(Z = 10) = (1/12)\n",
    "P(Z = 11) = (1/18)\n",
    "P(Z = 12) = (1/36)\n",
    "\n",
    "E(Z) = E(X) + E(Y)\n",
    "E(Z) = 3.5 + 3.5 = 7\n",
    "\n",
    "Var(Z) = Var(X) + Var(Y)\n",
    "Var(Z) = 2.92 + 2.92 = 5.84"
   ]
  },
  {
   "cell_type": "markdown",
   "metadata": {},
   "source": [
    "4) Do the same as in (2) but with two dice as in (3). Again, check to see how $N$, the number of samples, affects your result."
   ]
  },
  {
   "cell_type": "code",
   "execution_count": 9,
   "metadata": {
    "collapsed": false
   },
   "outputs": [
    {
     "name": "stdout",
     "output_type": "stream",
     "text": [
      "Sample of 20 (5.8499999999999996, 4.6275000000000004)\n",
      "Sample of 2000 (6.9470000000000001, 5.4941909999999998)\n"
     ]
    }
   ],
   "source": [
    "def sample_stats(n):\n",
    "    rolls = sum(np.asarray([np.random.randint(1, 7, size=n)]), np.asarray([np.random.randint(1, 7, size=n)]))\n",
    "    mean = rolls.mean()\n",
    "    var = rolls.var()\n",
    "    return mean, var\n",
    "\n",
    "print(\"Sample of 20\", sample_stats(20))\n",
    "print(\"Sample of 2000\", sample_stats(2000))"
   ]
  },
  {
   "cell_type": "markdown",
   "metadata": {},
   "source": [
    "5) Find the variance of each of the following bets from the class notes. Which bet is riskiest and which best is safest (where \"risk\" is assessed according to variance, not expected value)?\n",
    "\n",
    "1. You get \\$5 with probability 1.0.  \n",
    "2. You get \\$10 with probability 0.5, or \\$0 with probability 0.5.  \n",
    "3. You get \\$5 with probability 0.5, \\$10 with probability 0.25 and \\$0 with probability 0.25.  \n",
    "4. You get \\$5 with probability 0.5, \\$105 with probability 0.25 or lose \\$95 with probability 0.25.  "
   ]
  },
  {
   "cell_type": "markdown",
   "metadata": {},
   "source": [
    "Var(one) = (5-5)^2 * 1 = 0\n",
    "Var(two) = (10-5)^2 *.5 + (0-5)^2 * .5 = 25\n",
    "Var(three) = (5-5)^2 *.5 + (10-5)^2 *.25 + (0-5)^2 *.25 = 12.5\n",
    "Var(four) = (5-5)^2 *.5 + (105-5)^2 *.25 + (-95-5)^2 *.25 = 5000\n",
    "\n",
    "Bet one is still the safest/best bet b/c it has a zero variance. Bet four is the riskiest with a variance of 5000"
   ]
  },
  {
   "cell_type": "markdown",
   "metadata": {},
   "source": [
    "6) Brandon Lang is a creative entrepreneur who has developed a novelty soap item called Jackpot to target consumers with a gambling habit. Inside each bar of Jackpot shower soap is a single rolled-up bill of U.S. currency. The currency (rolled up and sealed in shrink-wrap) is appropriately inserted into the soap mixture prior to the cutting and stamping procedure. The distribution of paper currency (per 1000 bars of soap) is given in the following table.  \n",
    "\n",
    "|   Bill Denomination   |   Number of Bills |\n",
    "|:---------------------:|:-----------------:|\n",
    "|\\$1                     | 520 |\n",
    "|\\$5                     | 260 |\n",
    "|\\$10                    | 120 |\n",
    "|\\$20                    | 70  |\n",
    "|\\$50                    | 29  |  \n",
    "|\\$100                   | 1   |\n",
    "| Total                  | 1000|\n",
    "\n",
    "1. What is the expected amount of money in a single bar of Jackpot soap?\n",
    "2. What is the standard deviation of the money in a single bar of Jackpot soap?\n",
    "3. How many bars of soap would a customer have to buy so that, on average, he or she has purchased three bars   containing a \\$50 or \\$100 bill?\n",
    "4. If a customer buys 8 bars of soap, what is the probability that at least one of these bars contains a bill of \\$20 or larger? "
   ]
  },
  {
   "cell_type": "markdown",
   "metadata": {},
   "source": [
    "#1\n",
    "E(X) = $1(520/1000) + $5(260/1000) + $10(120/1000) + $20(70/1000) + $50(29/1000) + $100(1/1000)\n",
    "E(X) = .52 + 1.3 + 1.2 + 1.4 + 1.45 + .1\n",
    "E(X) = $5.97\n",
    "\n",
    "#2\n",
    "Var(X) = ((1-5.97)^2 * .52) + ((5-5.97)^2 * .26) + ((10-5.97)^2 * .12) + ((20-5.97)^2 * .07) + ((50-5.97)^2 * .029) + ((100-5.97)^2 * .001)\n",
    "Var(X) = 93.88\n",
    "Stdev(X) = 9.69\n",
    "\n",
    "#3\n",
    "Define X random variable to be the scenario of getting 3 bars that contains either a $50 or a $100 bill. Count that scenario as 1 and every other scenario as 0.\n",
    "\n",
    "X = [1 : 30/1000, 0 : 970/1000]\n",
    "\n",
    "PMF(X):\n",
    "P(X = 0) = (970/1000)\n",
    "P(X = 1) = (30/1000)\n",
    "\n",
    "Then define another random variable D as the number of times that X=1 occurs in \"n\" trials.\n",
    "\n",
    "nE(D) = E(D(n)) = 3 \"wins\" of $50 or $100\n",
    "nE(D) = n(30/1000) = 3\n",
    "n = (3000/30)\n",
    "n = 100 bars on average need to be purchased to earn 3 bars of $50 or $100\n",
    "\n",
    "#4\n",
    "Define X random variable to be the scenario of getting a bar that contains a $20 bill or great. Count that scenario as 1 and every other scenario as 0.\n",
    "\n",
    "X = [1 : 100/1000, 0 : 900/1000]\n",
    "\n",
    "PMF(X):\n",
    "P(X = 0) = (900/1000)\n",
    "P(X = 1) = (100/1000)\n",
    "\n",
    "Then define another random variable Y as the number of times that X=1 occurs in \"n\" trials.\n",
    "\n",
    "nE(D) = E(D(n)) = 1 \"win\" of $20 or more\n",
    "nE(D) = 1 - (900/1000)^8\n",
    "chance of getting $20 or more = 56.95%"
   ]
  },
  {
   "cell_type": "markdown",
   "metadata": {},
   "source": [
    "7) Write a function that randomly draws from the above distribution. \n",
    "\n",
    "1. Use it to simulate the answer to part 3 of the last question at least 20 times. How often do you get the expected result? \n",
    "2. Use it to simulate part 4 of the last question 100 times. How close does your simulation come to the true expected value?"
   ]
  },
  {
   "cell_type": "code",
   "execution_count": 50,
   "metadata": {
    "collapsed": false
   },
   "outputs": [
    {
     "data": {
      "text/plain": [
       "[2, 1, 4, 1, 3, 2, 4, 2, 0, 5, 5, 3, 0, 2, 7, 2, 3, 2, 2, 3]"
      ]
     },
     "execution_count": 50,
     "metadata": {},
     "output_type": "execute_result"
    }
   ],
   "source": [
    "number_of_bills = [.52, .26, .12, .07, .029, .001]\n",
    "dollars = [1, 5, 10, 20, 50, 100]\n",
    "def fifty_hundred(values, chances, n):\n",
    "    return [list(np.random.choice(values, size=100, p=chances)).count(50 or 100) for _ in range(n)]\n",
    "\n",
    "fifty_hundred(dollars, number_of_bills, 20)"
   ]
  },
  {
   "cell_type": "code",
   "execution_count": 33,
   "metadata": {
    "collapsed": false
   },
   "outputs": [
    {
     "data": {
      "text/plain": [
       "0.56950000000000001"
      ]
     },
     "execution_count": 33,
     "metadata": {},
     "output_type": "execute_result"
    }
   ],
   "source": [
    "def more_twenty(values, chances, n):\n",
    "    return np.mean([list(np.random.choice(values, size=8, p=chances)).count(20 or 50 or 100) for _ in range(n)])\n",
    "\n",
    "more_twenty(dollars, number_of_bills, 2000)"
   ]
  },
  {
   "cell_type": "markdown",
   "metadata": {},
   "source": [
    "8) (Extra Credit) Think back to the coin tossing example we discussed at the beginning of the lecture, if we let $X$ be the number of heads we get from 10 coin tosses, what is the probability mass function of $X$? What are the mean and variance of $X$? (**Note**: You are not required to complete this problem, so don't spend too much time on this. This is just to get you to start thinking about the probabilities of events when we have multiple trials of an experiment - we will talk about this on Monday.)"
   ]
  },
  {
   "cell_type": "markdown",
   "metadata": {},
   "source": [
    "PMF(X):\n",
    "\n",
    "P(X=0) = (1/2)^10\n",
    "P(X=1) = (1/2) * (1/2)^9 * 10C2\n",
    "P(X=2) = (1/2)^2 * (1/2)^8 * 10C3\n",
    "P(X=3) = (1/2)^3 * (1/2)^7 * 10C4\n",
    "P(X=4) = (1/2)^4 * (1/2)^6 * 10C5\n",
    "P(X=5) = (1/2)^5 * (1/2)^5 * 10C6\n",
    "P(X=6) = (1/2)^6 * (1/2)^4 * 10C7\n",
    "P(X=7) = (1/2)^7 * (1/2)^3 * 10C8\n",
    "P(X=8) = (1/2)^8 * (1/2)^2 * 10C9\n",
    "P(X=9) = (1/2)^9 * (1/2) * 10C10\n",
    "P(X=10) = (1/2)^10\n",
    "\n",
    "E(X) = 5\n",
    "\n",
    "Var(X) = np*(1-p)\n",
    "Var(X) = 10(.5) * (1-.5)\n",
    "Var(X) = 2.5\n"
   ]
  }
 ],
 "metadata": {
  "anaconda-cloud": {},
  "kernelspec": {
   "display_name": "Python 3",
   "language": "python",
   "name": "python3"
  },
  "language_info": {
   "codemirror_mode": {
    "name": "ipython",
    "version": 3
   },
   "file_extension": ".py",
   "mimetype": "text/x-python",
   "name": "python",
   "nbconvert_exporter": "python",
   "pygments_lexer": "ipython3",
   "version": "3.5.2"
  }
 },
 "nbformat": 4,
 "nbformat_minor": 0
}
