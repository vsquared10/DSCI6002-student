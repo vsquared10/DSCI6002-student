{
 "cells": [
  {
   "cell_type": "markdown",
   "metadata": {},
   "source": [
    "# Lab 2.1: Probability and Counting"
   ]
  },
  {
   "cell_type": "markdown",
   "metadata": {},
   "source": [
    "Exercises:\n",
    "----------"
   ]
  },
  {
   "cell_type": "markdown",
   "metadata": {},
   "source": [
    "1) A student's test score $T$ is an integer between 0 and 100 corresponding to the experimental outcomes $s_0,...,s_{100}$. A score of 90 to 100 is an $A$, 80 to 89 is a $B$, 70 to 79 is a $C$, 60 to 69 is a $D$, and below 60 is a failing grade of $F$. Given that all scores between 51 and 100 are qually likely and a score of 50 or less cannot occur, please find the following probabilities:  \n",
    "\n",
    "a) $P(s_{79})$  \n",
    "\n",
    "b) $P(s_{100})$  \n",
    "\n",
    "c) $P(A)$  \n",
    "\n",
    "d) $P(F)$  \n",
    "\n",
    "e) $P(T\\geq80)$  \n",
    "\n",
    "f) $P(T<90)$  \n",
    "\n",
    "g) $P$(a $C$ grade or better)  \n",
    "\n",
    "h) $P$(student passes)  \n",
    "    "
   ]
  },
  {
   "cell_type": "markdown",
   "metadata": {},
   "source": []
  },
  {
   "cell_type": "markdown",
   "metadata": {},
   "source": [
    "2) Use either `randint` or `random_sample` to generate a series of random grades for forty (40) students according to the above distribution. Put these in a DataFrame along with `student_id`s (hint: use `range` to generate your `id`s) and then `groupby` to count how many of each grade there are. The result should look something like:\n",
    "<table border=\"1\" class=\"dataframe\">\n",
    "  <thead>\n",
    "    <tr style=\"text-align: right;\">\n",
    "      <th></th>\n",
    "      <th>student_id</th>\n",
    "    </tr>\n",
    "    <tr>\n",
    "      <th>grade</th>\n",
    "      <th></th>\n",
    "    </tr>\n",
    "  </thead>\n",
    "  <tbody>\n",
    "    <tr>\n",
    "      <th>A</th>\n",
    "      <td>3</td>\n",
    "    </tr>\n",
    "    <tr>\n",
    "      <th>B</th>\n",
    "      <td>6</td>\n",
    "    </tr>\n",
    "    <tr>\n",
    "      <th>C</th>\n",
    "      <td>3</td>\n",
    "    </tr>\n",
    "    <tr>\n",
    "      <th>D</th>\n",
    "      <td>2</td>\n",
    "    </tr>\n",
    "    <tr>\n",
    "      <th>F</th>\n",
    "      <td>26</td>\n",
    "    </tr>\n",
    "  </tbody>\n",
    "</table>\n",
    "(though the numbers will be different)"
   ]
  },
  {
   "cell_type": "code",
   "execution_count": 8,
   "metadata": {
    "collapsed": false
   },
   "outputs": [
    {
     "data": {
      "text/plain": [
       "<pandas.core.groupby.DataFrameGroupBy object at 0x113d099b0>"
      ]
     },
     "execution_count": 8,
     "metadata": {},
     "output_type": "execute_result"
    }
   ],
   "source": [
    "grades.index.name = 'grade'\n",
    "grades.groupby(student_id)\n",
    "\n"
   ]
  },
  {
   "cell_type": "code",
   "execution_count": 5,
   "metadata": {
    "collapsed": true
   },
   "outputs": [],
   "source": [
    "student_id = list(range(41))"
   ]
  },
  {
   "cell_type": "code",
   "execution_count": 6,
   "metadata": {
    "collapsed": false
   },
   "outputs": [
    {
     "name": "stdout",
     "output_type": "stream",
     "text": [
      "B\n"
     ]
    }
   ],
   "source": [
    "def let_grade(n):\n",
    "    #grade = str()\n",
    "    if n >= 51 and n < 60:\n",
    "        #grade = 'F'\n",
    "        print(\"F\")\n",
    "    elif n >= 60 and n < 70:\n",
    "        #grade = 'D'\n",
    "        print(\"D\")\n",
    "    elif n >= 70 and n < 80:\n",
    "        #grade = 'C'\n",
    "        print(\"C\")\n",
    "    elif n >= 80 and n < 90:\n",
    "        #grade = 'B'\n",
    "        print(\"B\")\n",
    "    elif n >= 90 and n < 100:\n",
    "        #grade = 'A'\n",
    "        print(\"A\")\n",
    "    #return grade\n",
    "let_grade(80)        "
   ]
  },
  {
   "cell_type": "code",
   "execution_count": 7,
   "metadata": {
    "collapsed": false,
    "scrolled": true
   },
   "outputs": [
    {
     "data": {
      "text/html": [
       "<div>\n",
       "<table border=\"1\" class=\"dataframe\">\n",
       "  <thead>\n",
       "    <tr style=\"text-align: right;\">\n",
       "      <th></th>\n",
       "      <th>score</th>\n",
       "      <th>grade</th>\n",
       "    </tr>\n",
       "  </thead>\n",
       "  <tbody>\n",
       "    <tr>\n",
       "      <th>0</th>\n",
       "      <td>80</td>\n",
       "      <td>None</td>\n",
       "    </tr>\n",
       "    <tr>\n",
       "      <th>1</th>\n",
       "      <td>93</td>\n",
       "      <td>None</td>\n",
       "    </tr>\n",
       "    <tr>\n",
       "      <th>2</th>\n",
       "      <td>67</td>\n",
       "      <td>None</td>\n",
       "    </tr>\n",
       "    <tr>\n",
       "      <th>3</th>\n",
       "      <td>94</td>\n",
       "      <td>None</td>\n",
       "    </tr>\n",
       "    <tr>\n",
       "      <th>4</th>\n",
       "      <td>57</td>\n",
       "      <td>None</td>\n",
       "    </tr>\n",
       "  </tbody>\n",
       "</table>\n",
       "</div>"
      ],
      "text/plain": [
       "   score grade\n",
       "0     80  None\n",
       "1     93  None\n",
       "2     67  None\n",
       "3     94  None\n",
       "4     57  None"
      ]
     },
     "execution_count": 7,
     "metadata": {},
     "output_type": "execute_result"
    }
   ],
   "source": [
    "import numpy as np\n",
    "import pandas as pd\n",
    "\n",
    "grades = pd.DataFrame(np.random.randint(51, 100, 41), index=[student_id], columns=['score'])\n",
    "grades['grade'] = None\n",
    "grades.head()"
   ]
  },
  {
   "cell_type": "code",
   "execution_count": 11,
   "metadata": {
    "collapsed": false
   },
   "outputs": [
    {
     "ename": "TypeError",
     "evalue": "unorderable types: NoneType() >= int()",
     "output_type": "error",
     "traceback": [
      "\u001b[0;31m---------------------------------------------------------------------------\u001b[0m",
      "\u001b[0;31mTypeError\u001b[0m                                 Traceback (most recent call last)",
      "\u001b[0;32m<ipython-input-11-1c319766e567>\u001b[0m in \u001b[0;36m<module>\u001b[0;34m()\u001b[0m\n\u001b[0;32m----> 1\u001b[0;31m \u001b[0mgrades\u001b[0m\u001b[0;34m.\u001b[0m\u001b[0mscore\u001b[0m \u001b[0;34m=\u001b[0m \u001b[0mgrades\u001b[0m\u001b[0;34m.\u001b[0m\u001b[0mscore\u001b[0m\u001b[0;34m.\u001b[0m\u001b[0mapply\u001b[0m\u001b[0;34m(\u001b[0m\u001b[0;32mlambda\u001b[0m \u001b[0mrow\u001b[0m\u001b[0;34m:\u001b[0m \u001b[0mlet_grade\u001b[0m\u001b[0;34m(\u001b[0m\u001b[0mrow\u001b[0m\u001b[0;34m)\u001b[0m\u001b[0;34m)\u001b[0m\u001b[0;34m\u001b[0m\u001b[0m\n\u001b[0m\u001b[1;32m      2\u001b[0m \u001b[0mgrades\u001b[0m\u001b[0;34m.\u001b[0m\u001b[0mhead\u001b[0m\u001b[0;34m(\u001b[0m\u001b[0;34m)\u001b[0m\u001b[0;34m\u001b[0m\u001b[0m\n",
      "\u001b[0;32m/Users/victorvulovic/anaconda/lib/python3.5/site-packages/pandas/core/series.py\u001b[0m in \u001b[0;36mapply\u001b[0;34m(self, func, convert_dtype, args, **kwds)\u001b[0m\n\u001b[1;32m   2218\u001b[0m         \u001b[0;32melse\u001b[0m\u001b[0;34m:\u001b[0m\u001b[0;34m\u001b[0m\u001b[0m\n\u001b[1;32m   2219\u001b[0m             \u001b[0mvalues\u001b[0m \u001b[0;34m=\u001b[0m \u001b[0mself\u001b[0m\u001b[0;34m.\u001b[0m\u001b[0masobject\u001b[0m\u001b[0;34m\u001b[0m\u001b[0m\n\u001b[0;32m-> 2220\u001b[0;31m             \u001b[0mmapped\u001b[0m \u001b[0;34m=\u001b[0m \u001b[0mlib\u001b[0m\u001b[0;34m.\u001b[0m\u001b[0mmap_infer\u001b[0m\u001b[0;34m(\u001b[0m\u001b[0mvalues\u001b[0m\u001b[0;34m,\u001b[0m \u001b[0mf\u001b[0m\u001b[0;34m,\u001b[0m \u001b[0mconvert\u001b[0m\u001b[0;34m=\u001b[0m\u001b[0mconvert_dtype\u001b[0m\u001b[0;34m)\u001b[0m\u001b[0;34m\u001b[0m\u001b[0m\n\u001b[0m\u001b[1;32m   2221\u001b[0m \u001b[0;34m\u001b[0m\u001b[0m\n\u001b[1;32m   2222\u001b[0m         \u001b[0;32mif\u001b[0m \u001b[0mlen\u001b[0m\u001b[0;34m(\u001b[0m\u001b[0mmapped\u001b[0m\u001b[0;34m)\u001b[0m \u001b[0;32mand\u001b[0m \u001b[0misinstance\u001b[0m\u001b[0;34m(\u001b[0m\u001b[0mmapped\u001b[0m\u001b[0;34m[\u001b[0m\u001b[0;36m0\u001b[0m\u001b[0;34m]\u001b[0m\u001b[0;34m,\u001b[0m \u001b[0mSeries\u001b[0m\u001b[0;34m)\u001b[0m\u001b[0;34m:\u001b[0m\u001b[0;34m\u001b[0m\u001b[0m\n",
      "\u001b[0;32mpandas/src/inference.pyx\u001b[0m in \u001b[0;36mpandas.lib.map_infer (pandas/lib.c:62658)\u001b[0;34m()\u001b[0m\n",
      "\u001b[0;32m<ipython-input-11-1c319766e567>\u001b[0m in \u001b[0;36m<lambda>\u001b[0;34m(row)\u001b[0m\n\u001b[0;32m----> 1\u001b[0;31m \u001b[0mgrades\u001b[0m\u001b[0;34m.\u001b[0m\u001b[0mscore\u001b[0m \u001b[0;34m=\u001b[0m \u001b[0mgrades\u001b[0m\u001b[0;34m.\u001b[0m\u001b[0mscore\u001b[0m\u001b[0;34m.\u001b[0m\u001b[0mapply\u001b[0m\u001b[0;34m(\u001b[0m\u001b[0;32mlambda\u001b[0m \u001b[0mrow\u001b[0m\u001b[0;34m:\u001b[0m \u001b[0mlet_grade\u001b[0m\u001b[0;34m(\u001b[0m\u001b[0mrow\u001b[0m\u001b[0;34m)\u001b[0m\u001b[0;34m)\u001b[0m\u001b[0;34m\u001b[0m\u001b[0m\n\u001b[0m\u001b[1;32m      2\u001b[0m \u001b[0mgrades\u001b[0m\u001b[0;34m.\u001b[0m\u001b[0mhead\u001b[0m\u001b[0;34m(\u001b[0m\u001b[0;34m)\u001b[0m\u001b[0;34m\u001b[0m\u001b[0m\n",
      "\u001b[0;32m<ipython-input-4-6df3b66db0dc>\u001b[0m in \u001b[0;36mlet_grade\u001b[0;34m(n)\u001b[0m\n\u001b[1;32m      1\u001b[0m \u001b[0;32mdef\u001b[0m \u001b[0mlet_grade\u001b[0m\u001b[0;34m(\u001b[0m\u001b[0mn\u001b[0m\u001b[0;34m)\u001b[0m\u001b[0;34m:\u001b[0m\u001b[0;34m\u001b[0m\u001b[0m\n\u001b[1;32m      2\u001b[0m     \u001b[0;31m#grade = str()\u001b[0m\u001b[0;34m\u001b[0m\u001b[0;34m\u001b[0m\u001b[0m\n\u001b[0;32m----> 3\u001b[0;31m     \u001b[0;32mif\u001b[0m \u001b[0mn\u001b[0m \u001b[0;34m>=\u001b[0m \u001b[0;36m51\u001b[0m \u001b[0;32mand\u001b[0m \u001b[0mn\u001b[0m \u001b[0;34m<\u001b[0m \u001b[0;36m60\u001b[0m\u001b[0;34m:\u001b[0m\u001b[0;34m\u001b[0m\u001b[0m\n\u001b[0m\u001b[1;32m      4\u001b[0m         \u001b[0;31m#grade = 'F'\u001b[0m\u001b[0;34m\u001b[0m\u001b[0;34m\u001b[0m\u001b[0m\n\u001b[1;32m      5\u001b[0m         \u001b[0mprint\u001b[0m\u001b[0;34m(\u001b[0m\u001b[0;34m\"F\"\u001b[0m\u001b[0;34m)\u001b[0m\u001b[0;34m\u001b[0m\u001b[0m\n",
      "\u001b[0;31mTypeError\u001b[0m: unorderable types: NoneType() >= int()"
     ]
    }
   ],
   "source": [
    "grades.score = grades.score.apply(lambda row: let_grade(row))\n",
    "grades.head()"
   ]
  },
  {
   "cell_type": "markdown",
   "metadata": {},
   "source": [
    "3) Using two six-sided dice, what is the probability of:\n",
    "    1. Rolling a 7?\n",
    "    2. Rolling an 11?\n",
    "    3. Rolling two 7s in a row?\n",
    "    4. Rolling a 7 or 11?\n",
    "    5. Rolling a 7 or 11 twice in a row? (i.e. 7, 7; 7, 11; 11, 7; 11, 11)\n",
    "    "
   ]
  },
  {
   "cell_type": "markdown",
   "metadata": {},
   "source": []
  },
  {
   "cell_type": "markdown",
   "metadata": {},
   "source": [
    "4) Create a function that plays craps. The rules of craps are these:  \n",
    "    If you roll a seven (7) or an eleven (11) on your **first** roll, you win.  \n",
    "    Otherwise, keep track of what you rolled the first time and keep rolling until:  \n",
    "- you roll what you rolled the first time, which means you win; or  \n",
    "- you roll a 7 or an 11, which means you lose.  \n",
    "\n",
    "For example, if I roll 7, I win. But if I roll 5 and then a 7, I lose. If I roll 5, 3, 9, 10, 5, I win.\n",
    "\n",
    "Your function should print out the status with each roll. Sample output might look something like...\n",
    "\n",
    "    1) Target = 6\n",
    "    2) Rolled 10\n",
    "    Didn't roll 7, 11, or 6. Rerolling...\n",
    "    3) Rolled 7\n",
    "    Lost on roll 3"
   ]
  },
  {
   "cell_type": "code",
   "execution_count": 52,
   "metadata": {
    "collapsed": false
   },
   "outputs": [],
   "source": [
    "rolls = np.asarray([1, 2, 3, 4, 5, 6])\n",
    "\n",
    "def craps():\n",
    "    first = sum(np.random.choice(rolls, 2))\n",
    "    print(\"Your first roll is...\", first)\n",
    "    if first == 7 or first == 11:\n",
    "        print(\"You win! Play again?\")\n",
    "        response = input(\"Type Yes or No: \")\n",
    "        if response == \"yes\" or \"Yes\":\n",
    "            return craps()\n",
    "        else:\n",
    "            Print(\"Goodbye!\")\n",
    "    else:\n",
    "        print(\"You got\", first, \". That's your new Target.\")\n",
    "        target = first\n",
    "        nextroll = sum(np.random.choice(rolls, 2))\n",
    "        print(\"Your next roll is \", nextroll)\n",
    "        while nextroll != 7 or nextroll != 11 or nextroll != target:\n",
    "            print(\"Didn't roll 7, 11, or \", target, \". Rerolling...\")\n",
    "            if nextroll == 7 or nextroll == 11:\n",
    "                print(\"Sorry, you lost. You rolled\", nextroll)\n",
    "                break\n",
    "            if nextroll == target:\n",
    "                print(\"Congrats, you rolled!\", target, \". You win. Play again?\")\n",
    "                break\n",
    "            else:\n",
    "                nextroll = sum(np.random.choice(rolls, 2))\n",
    "        response = input('Type Yes or No')\n",
    "        if response == \"yes\" or \"Yes\":\n",
    "            return craps()\n",
    "        else:\n",
    "            Print(\"Goodbye!\")"
   ]
  },
  {
   "cell_type": "markdown",
   "metadata": {},
   "source": [
    "5) 300 Australians were asked about their car preferences in 1998. Of the respondents, 33% had children. The respondents were asked what sort of car they would like if they could choose any car at all. 13% of respondents had children and chose a large car. 12% of respondents did not have children and chose a large car. Find the probability that a randomly chosen respondent:\n",
    "     1. would choose a large car;\n",
    "     2. either has children or would choose a large car (or both)."
   ]
  },
  {
   "cell_type": "markdown",
   "metadata": {},
   "source": []
  },
  {
   "cell_type": "markdown",
   "metadata": {},
   "source": [
    "6) Write a function that will generate random data according to the statistics describe above. If you call your DataFrame `aus` and name your columns `children` and `large_car` respectively, you should be able to get something like:\n",
    "\n",
    "<table border=\"1\" class=\"dataframe\">\n",
    "  <thead>\n",
    "    <tr style=\"text-align: right;\">\n",
    "      <th>large_car</th>\n",
    "      <th>False</th>\n",
    "      <th>True</th>\n",
    "      <th>All</th>\n",
    "    </tr>\n",
    "    <tr>\n",
    "      <th>children</th>\n",
    "      <th></th>\n",
    "      <th></th>\n",
    "      <th></th>\n",
    "    </tr>\n",
    "  </thead>\n",
    "  <tbody>\n",
    "    <tr>\n",
    "      <th>False</th>\n",
    "      <td>?</td>\n",
    "      <td>?</td>\n",
    "      <td>?</td>\n",
    "    </tr>\n",
    "    <tr>\n",
    "      <th>True</th>\n",
    "      <td>?</td>\n",
    "      <td>?</td>\n",
    "      <td>?</td>\n",
    "    </tr>\n",
    "    <tr>\n",
    "      <th>All</th>\n",
    "      <td>?</td>\n",
    "      <td>?</td>\n",
    "      <td>300</td>\n",
    "    </tr>\n",
    "  </tbody>\n",
    "</table>\n",
    "\n",
    "using the command\n",
    "```python\n",
    "pd.crosstab(aus.children, aus.large_car, margins=True)\n",
    "```\n",
    "(with the counts filled in, of course)"
   ]
  },
  {
   "cell_type": "code",
   "execution_count": null,
   "metadata": {
    "collapsed": true
   },
   "outputs": [],
   "source": []
  },
  {
   "cell_type": "markdown",
   "metadata": {},
   "source": [
    "7) 90 students are to be split at random into 3 classes of equal size. Joe and Jane are two of the students. What is the probability that they end up in the same class?"
   ]
  },
  {
   "cell_type": "markdown",
   "metadata": {},
   "source": []
  },
  {
   "cell_type": "markdown",
   "metadata": {},
   "source": [
    "8) Write a function that will randomly deal a 52 card deck into four equal parts. That is, it should return a 4-tuple of lists of 13 strings each representing cards with no repeats (_i.e._ the Ace of Spades should appear exactly once and so on)."
   ]
  },
  {
   "cell_type": "code",
   "execution_count": null,
   "metadata": {
    "collapsed": false
   },
   "outputs": [],
   "source": [
    "define a 52 card deck as a list\n",
    "create a random deal from a regular 52 card deck with out repeating\n",
    "append dealt with new list(random deal of 13) if no repeats among items of random deals\n",
    "GOAL: return dealt = [[random deal of 13],[random deal of 13],[random deal of 13],[random deal of 13]]"
   ]
  },
  {
   "cell_type": "code",
   "execution_count": 86,
   "metadata": {
    "collapsed": false
   },
   "outputs": [],
   "source": [
    "deck = np.asarray(['2H', '3H', '4H', '5H', '6H', '7H', '8H', '9H', '10H', 'JH', 'QH', 'KH', 'AH',\n",
    "        '2C', '3C', '4C', '5C', '6C', '7C', '8C', '9C', '10C', 'JC', 'QC', 'KC', 'AC',\n",
    "        '2S', '3S', '4S', '5S', '6S', '7S', '8S', '9S', '10S', 'JS', 'QS', 'KS', 'AS',\n",
    "        '2D', '3D', '4D', '5D', '6D', '7D', '8D', '9D', '10D', 'JD', 'QD', 'KD', 'AD'])\n",
    "\n",
    "def deal(cards):\n",
    "    dealt = []\n",
    "    for i in range(4):\n",
    "        dealt.append(np.random.choice(cards, 13, replace=False))\n",
    "    return dealt"
   ]
  },
  {
   "cell_type": "code",
   "execution_count": 87,
   "metadata": {
    "collapsed": false,
    "scrolled": true
   },
   "outputs": [
    {
     "data": {
      "text/plain": [
       "[array(['4C', 'QD', '7D', '5H', '7C', 'QC', '2C', '6S', '8C', '6C', 'AD',\n",
       "        '2D', '6H'], \n",
       "       dtype='<U3'),\n",
       " array(['7C', '5H', '4H', 'KC', 'AC', '6H', '3S', '10H', '7S', 'QD', 'QS',\n",
       "        'JH', '6S'], \n",
       "       dtype='<U3'),\n",
       " array(['3C', 'QS', 'AC', 'JC', 'JD', '3D', 'JH', '5H', '10S', '4C', 'QD',\n",
       "        '9H', 'KH'], \n",
       "       dtype='<U3'),\n",
       " array(['QD', 'QS', '5H', '8H', '4D', 'KS', 'QC', '8D', 'JC', 'AD', '7H',\n",
       "        '8S', 'KD'], \n",
       "       dtype='<U3')]"
      ]
     },
     "execution_count": 87,
     "metadata": {},
     "output_type": "execute_result"
    }
   ],
   "source": [
    "deal(deck)"
   ]
  },
  {
   "cell_type": "code",
   "execution_count": null,
   "metadata": {
    "collapsed": true
   },
   "outputs": [],
   "source": [
    "if any(i in deck)"
   ]
  },
  {
   "cell_type": "markdown",
   "metadata": {},
   "source": [
    "8) A well-shuffled 52-card deck is dealt to 4 players. Find the probability that each of the players gets an ace."
   ]
  },
  {
   "cell_type": "markdown",
   "metadata": {},
   "source": []
  }
 ],
 "metadata": {
  "anaconda-cloud": {},
  "kernelspec": {
   "display_name": "Python 3",
   "language": "python",
   "name": "python3"
  },
  "language_info": {
   "codemirror_mode": {
    "name": "ipython",
    "version": 3
   },
   "file_extension": ".py",
   "mimetype": "text/x-python",
   "name": "python",
   "nbconvert_exporter": "python",
   "pygments_lexer": "ipython3",
   "version": "3.5.2"
  }
 },
 "nbformat": 4,
 "nbformat_minor": 0
}
