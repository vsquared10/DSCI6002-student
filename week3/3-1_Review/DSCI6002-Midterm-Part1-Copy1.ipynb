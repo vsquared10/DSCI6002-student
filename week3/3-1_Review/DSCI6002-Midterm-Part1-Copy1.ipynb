{
 "cells": [
  {
   "cell_type": "markdown",
   "metadata": {},
   "source": [
    "# Midterm Part 1 - _Due Monday, September 19_\n",
    "---\n",
    "## Note: this is part of the midterm. It is _not_ a paired programming assignment. **You must complete this lab _on your own_**. \n",
    "---\n",
    "### We'll be exploring the Pokemon dataset from [Kaggle](http://www.kaggle.com).\n",
    "The dataset was downloaded from https://www.kaggle.com/abcsds/pokemon. \n",
    "\n",
    "1. sign up or log in\n",
    "2. accept terms and conditions (if necessary)\n",
    "3. download `pokemon.zip`\n",
    "4. unzip it to your local directory\n",
    "\n",
    "After loading and cleaning the data:\n",
    "\n",
    "+ **SQL**: \n",
    "    - Which Pokemon seems the most useful (largest `Total` value)?\n",
    "    - Come up with at least one other question that can be answered using SQL (and answer it).\n",
    "+ **EDA**: \n",
    "    - Calculate the percent of distinct Pokemon that are Legendary (distinct means unique Pokemon `#`).\n",
    "    - Make at least one barplot of a categorical variable\n",
    "    - Make at least one boxplot of continuous variables\n",
    "    - Make at least one boxplot of continuous variables grouped by a categorical variable\n",
    "+ **EDA/Statistics**: \n",
    "    - Calculate the mean and standard deviation of the `total` column for each Pokemon Type 1.\n",
    "    - Calculate the mean and standard deviation of at least one other continuous variable\n",
    "+ **Statistics/Random Sampling** - For the following questions, draw a sample of 100:\n",
    "    - Compare sample statistics & population statistics for Attack points.\n",
    "    - Make histograms of the Attack points sample & Attack points population.\n",
    "    - Compare sample statistics & population statistics for at least one other continuous variable.\n",
    "    - Make histograms of the Attack points sample & at least one other continuous variable in the population.\n",
    "+ **Probability**: Assume you are a Pokemaster and have caught every Pokemon. You pick 6 Pokemon at random to carry.\n",
    "     - What's the probability that they are all Water type? (probability of a Pokemon with Type 1 or Type 2 of `Water`)\n",
    "     - Come up with at least one more scenario for your set of six Pokemon and compute the probability of getting it.\n",
    "\n",
    "***\n",
    "## Setup & clean the data\n",
    "### First, load the packages that will be used in this notebook."
   ]
  },
  {
   "cell_type": "code",
   "execution_count": 1,
   "metadata": {
    "collapsed": false
   },
   "outputs": [
    {
     "name": "stdout",
     "output_type": "stream",
     "text": [
      "Populating the interactive namespace from numpy and matplotlib\n"
     ]
    }
   ],
   "source": [
    "%pylab inline\n",
    "\n",
    "import numpy as np\n",
    "import pandas as pd\n",
    "import seaborn as sns\n",
    "\n",
    "from sqlalchemy import create_engine\n",
    "\n",
    "random.seed(1234)\n",
    "sns.set(font_scale=1.5)"
   ]
  },
  {
   "cell_type": "markdown",
   "metadata": {},
   "source": [
    "### Next, load the csv file into a DataFrame and look at the first few lines."
   ]
  },
  {
   "cell_type": "code",
   "execution_count": 74,
   "metadata": {
    "collapsed": false
   },
   "outputs": [
    {
     "data": {
      "text/html": [
       "<div>\n",
       "<table border=\"1\" class=\"dataframe\">\n",
       "  <thead>\n",
       "    <tr style=\"text-align: right;\">\n",
       "      <th></th>\n",
       "      <th>#</th>\n",
       "      <th>Name</th>\n",
       "      <th>Type 1</th>\n",
       "      <th>Type 2</th>\n",
       "      <th>Total</th>\n",
       "      <th>HP</th>\n",
       "      <th>Attack</th>\n",
       "      <th>Defense</th>\n",
       "      <th>Sp. Atk</th>\n",
       "      <th>Sp. Def</th>\n",
       "      <th>Speed</th>\n",
       "      <th>Generation</th>\n",
       "      <th>Legendary</th>\n",
       "    </tr>\n",
       "  </thead>\n",
       "  <tbody>\n",
       "    <tr>\n",
       "      <th>0</th>\n",
       "      <td>1</td>\n",
       "      <td>Bulbasaur</td>\n",
       "      <td>Grass</td>\n",
       "      <td>Poison</td>\n",
       "      <td>318</td>\n",
       "      <td>45</td>\n",
       "      <td>49</td>\n",
       "      <td>49</td>\n",
       "      <td>65</td>\n",
       "      <td>65</td>\n",
       "      <td>45</td>\n",
       "      <td>1</td>\n",
       "      <td>False</td>\n",
       "    </tr>\n",
       "    <tr>\n",
       "      <th>1</th>\n",
       "      <td>2</td>\n",
       "      <td>Ivysaur</td>\n",
       "      <td>Grass</td>\n",
       "      <td>Poison</td>\n",
       "      <td>405</td>\n",
       "      <td>60</td>\n",
       "      <td>62</td>\n",
       "      <td>63</td>\n",
       "      <td>80</td>\n",
       "      <td>80</td>\n",
       "      <td>60</td>\n",
       "      <td>1</td>\n",
       "      <td>False</td>\n",
       "    </tr>\n",
       "    <tr>\n",
       "      <th>2</th>\n",
       "      <td>3</td>\n",
       "      <td>Venusaur</td>\n",
       "      <td>Grass</td>\n",
       "      <td>Poison</td>\n",
       "      <td>525</td>\n",
       "      <td>80</td>\n",
       "      <td>82</td>\n",
       "      <td>83</td>\n",
       "      <td>100</td>\n",
       "      <td>100</td>\n",
       "      <td>80</td>\n",
       "      <td>1</td>\n",
       "      <td>False</td>\n",
       "    </tr>\n",
       "    <tr>\n",
       "      <th>3</th>\n",
       "      <td>3</td>\n",
       "      <td>VenusaurMega Venusaur</td>\n",
       "      <td>Grass</td>\n",
       "      <td>Poison</td>\n",
       "      <td>625</td>\n",
       "      <td>80</td>\n",
       "      <td>100</td>\n",
       "      <td>123</td>\n",
       "      <td>122</td>\n",
       "      <td>120</td>\n",
       "      <td>80</td>\n",
       "      <td>1</td>\n",
       "      <td>False</td>\n",
       "    </tr>\n",
       "    <tr>\n",
       "      <th>4</th>\n",
       "      <td>4</td>\n",
       "      <td>Charmander</td>\n",
       "      <td>Fire</td>\n",
       "      <td>NaN</td>\n",
       "      <td>309</td>\n",
       "      <td>39</td>\n",
       "      <td>52</td>\n",
       "      <td>43</td>\n",
       "      <td>60</td>\n",
       "      <td>50</td>\n",
       "      <td>65</td>\n",
       "      <td>1</td>\n",
       "      <td>False</td>\n",
       "    </tr>\n",
       "  </tbody>\n",
       "</table>\n",
       "</div>"
      ],
      "text/plain": [
       "   #                   Name Type 1  Type 2  Total  HP  Attack  Defense  \\\n",
       "0  1              Bulbasaur  Grass  Poison    318  45      49       49   \n",
       "1  2                Ivysaur  Grass  Poison    405  60      62       63   \n",
       "2  3               Venusaur  Grass  Poison    525  80      82       83   \n",
       "3  3  VenusaurMega Venusaur  Grass  Poison    625  80     100      123   \n",
       "4  4             Charmander   Fire     NaN    309  39      52       43   \n",
       "\n",
       "   Sp. Atk  Sp. Def  Speed  Generation Legendary  \n",
       "0       65       65     45           1     False  \n",
       "1       80       80     60           1     False  \n",
       "2      100      100     80           1     False  \n",
       "3      122      120     80           1     False  \n",
       "4       60       50     65           1     False  "
      ]
     },
     "execution_count": 74,
     "metadata": {},
     "output_type": "execute_result"
    }
   ],
   "source": [
    "pkmn = pd.read_csv('Pokemon.csv')\n",
    "pkmn.head()"
   ]
  },
  {
   "cell_type": "markdown",
   "metadata": {},
   "source": [
    "Here are some variable descriptions from the Kaggle website:\n",
    "\n",
    "|Variable|Description|\n",
    "|:-:|:--|\n",
    "|**#**|ID for each pokemon|\n",
    "|**Name**|Name of each pokemon|\n",
    "|**Type 1**|Each pokemon has a type, this determines weakness/resistance to attacks|\n",
    "|**Type 2**|Some pokemon are dual type and have 2|\n",
    "|**Total**|sum of all stats that come after this, a general guide to how strong a pokemon is|\n",
    "|**HP**|hit points, or health, defines how much damage a pokemon can withstand before fainting|\n",
    "|**Attack**|the base modifier for normal attacks (eg. Scratch, Punch)|\n",
    "|**Defense**|the base damage resistance against normal attacks|\n",
    "|**SP. Atk**|special attack, the base modifier for special attacks (e.g. fire blast, bubble beam)|\n",
    "|**SP. Def**|the base damage resistance against special attacks|\n",
    "|**Speed**|determines which pokemon attacks first each round|\n",
    "|**Generation**|the number of the generation a pokemon belongs to\n",
    "|**Legendary**|boolean value indicating if a pokemon is Legendary (True) or not Legendary (False)|\n",
    "\n",
    "Notice that there are multiple entries for Pokemon \\#3 (Venusaur). We won't be able to set `#` as the index since it contains duplicates.\n",
    "\n",
    "We can also modify the column names to get rid of periods and spaces. The column names should also be lowercased for use with SQLite."
   ]
  },
  {
   "cell_type": "code",
   "execution_count": 75,
   "metadata": {
    "collapsed": false
   },
   "outputs": [
    {
     "name": "stdout",
     "output_type": "stream",
     "text": [
      "Index(['#', 'name', 'type1', 'type2', 'total', 'hp', 'attack', 'defense',\n",
      "       'spatk', 'spdef', 'speed', 'generation', 'legendary'],\n",
      "      dtype='object')\n"
     ]
    }
   ],
   "source": [
    "# Lowercase and replace periods & spaces in the column names\n",
    "new_names = []\n",
    "\n",
    "for col in pkmn.columns:\n",
    "    new_names.append(col.replace('.', '', len(col)).replace(' ', '', len(col)).lower())\n",
    "\n",
    "pkmn.columns = new_names\n",
    "\n",
    "print(pkmn.columns)"
   ]
  },
  {
   "cell_type": "code",
   "execution_count": 76,
   "metadata": {
    "collapsed": false
   },
   "outputs": [
    {
     "data": {
      "text/html": [
       "<div>\n",
       "<table border=\"1\" class=\"dataframe\">\n",
       "  <thead>\n",
       "    <tr style=\"text-align: right;\">\n",
       "      <th></th>\n",
       "      <th>#</th>\n",
       "      <th>name</th>\n",
       "      <th>type1</th>\n",
       "      <th>type2</th>\n",
       "      <th>total</th>\n",
       "      <th>hp</th>\n",
       "      <th>attack</th>\n",
       "      <th>defense</th>\n",
       "      <th>spatk</th>\n",
       "      <th>spdef</th>\n",
       "      <th>speed</th>\n",
       "      <th>generation</th>\n",
       "      <th>legendary</th>\n",
       "    </tr>\n",
       "  </thead>\n",
       "  <tbody>\n",
       "    <tr>\n",
       "      <th>0</th>\n",
       "      <td>1</td>\n",
       "      <td>Bulbasaur</td>\n",
       "      <td>Grass</td>\n",
       "      <td>Poison</td>\n",
       "      <td>318</td>\n",
       "      <td>45</td>\n",
       "      <td>49</td>\n",
       "      <td>49</td>\n",
       "      <td>65</td>\n",
       "      <td>65</td>\n",
       "      <td>45</td>\n",
       "      <td>1</td>\n",
       "      <td>False</td>\n",
       "    </tr>\n",
       "    <tr>\n",
       "      <th>1</th>\n",
       "      <td>2</td>\n",
       "      <td>Ivysaur</td>\n",
       "      <td>Grass</td>\n",
       "      <td>Poison</td>\n",
       "      <td>405</td>\n",
       "      <td>60</td>\n",
       "      <td>62</td>\n",
       "      <td>63</td>\n",
       "      <td>80</td>\n",
       "      <td>80</td>\n",
       "      <td>60</td>\n",
       "      <td>1</td>\n",
       "      <td>False</td>\n",
       "    </tr>\n",
       "    <tr>\n",
       "      <th>2</th>\n",
       "      <td>3</td>\n",
       "      <td>Venusaur</td>\n",
       "      <td>Grass</td>\n",
       "      <td>Poison</td>\n",
       "      <td>525</td>\n",
       "      <td>80</td>\n",
       "      <td>82</td>\n",
       "      <td>83</td>\n",
       "      <td>100</td>\n",
       "      <td>100</td>\n",
       "      <td>80</td>\n",
       "      <td>1</td>\n",
       "      <td>False</td>\n",
       "    </tr>\n",
       "    <tr>\n",
       "      <th>3</th>\n",
       "      <td>3</td>\n",
       "      <td>VenusaurMega Venusaur</td>\n",
       "      <td>Grass</td>\n",
       "      <td>Poison</td>\n",
       "      <td>625</td>\n",
       "      <td>80</td>\n",
       "      <td>100</td>\n",
       "      <td>123</td>\n",
       "      <td>122</td>\n",
       "      <td>120</td>\n",
       "      <td>80</td>\n",
       "      <td>1</td>\n",
       "      <td>False</td>\n",
       "    </tr>\n",
       "    <tr>\n",
       "      <th>4</th>\n",
       "      <td>4</td>\n",
       "      <td>Charmander</td>\n",
       "      <td>Fire</td>\n",
       "      <td>NaN</td>\n",
       "      <td>309</td>\n",
       "      <td>39</td>\n",
       "      <td>52</td>\n",
       "      <td>43</td>\n",
       "      <td>60</td>\n",
       "      <td>50</td>\n",
       "      <td>65</td>\n",
       "      <td>1</td>\n",
       "      <td>False</td>\n",
       "    </tr>\n",
       "  </tbody>\n",
       "</table>\n",
       "</div>"
      ],
      "text/plain": [
       "   #                   name  type1   type2  total  hp  attack  defense  spatk  \\\n",
       "0  1              Bulbasaur  Grass  Poison    318  45      49       49     65   \n",
       "1  2                Ivysaur  Grass  Poison    405  60      62       63     80   \n",
       "2  3               Venusaur  Grass  Poison    525  80      82       83    100   \n",
       "3  3  VenusaurMega Venusaur  Grass  Poison    625  80     100      123    122   \n",
       "4  4             Charmander   Fire     NaN    309  39      52       43     60   \n",
       "\n",
       "   spdef  speed  generation legendary  \n",
       "0     65     45           1     False  \n",
       "1     80     60           1     False  \n",
       "2    100     80           1     False  \n",
       "3    120     80           1     False  \n",
       "4     50     65           1     False  "
      ]
     },
     "execution_count": 76,
     "metadata": {},
     "output_type": "execute_result"
    }
   ],
   "source": [
    "pkmn.head()"
   ]
  },
  {
   "cell_type": "markdown",
   "metadata": {},
   "source": [
    "Let's also convert `Legendary` to a binary column, where `1` represents `True` and `0` represents `False`.\n",
    "\n",
    "Python's lambda functions are useful for defining functions in-line. You can read more at:<br>\n",
    "https://pythonconquerstheuniverse.wordpress.com/2011/08/29/lambda_tutorial/<br>\n",
    "http://stackoverflow.com/questions/890128/why-are-python-lambdas-useful"
   ]
  },
  {
   "cell_type": "code",
   "execution_count": 77,
   "metadata": {
    "collapsed": false
   },
   "outputs": [
    {
     "data": {
      "text/html": [
       "<div>\n",
       "<table border=\"1\" class=\"dataframe\">\n",
       "  <thead>\n",
       "    <tr style=\"text-align: right;\">\n",
       "      <th></th>\n",
       "      <th>#</th>\n",
       "      <th>name</th>\n",
       "      <th>type1</th>\n",
       "      <th>type2</th>\n",
       "      <th>total</th>\n",
       "      <th>hp</th>\n",
       "      <th>attack</th>\n",
       "      <th>defense</th>\n",
       "      <th>spatk</th>\n",
       "      <th>spdef</th>\n",
       "      <th>speed</th>\n",
       "      <th>generation</th>\n",
       "      <th>legendary</th>\n",
       "    </tr>\n",
       "  </thead>\n",
       "  <tbody>\n",
       "    <tr>\n",
       "      <th>0</th>\n",
       "      <td>1</td>\n",
       "      <td>Bulbasaur</td>\n",
       "      <td>Grass</td>\n",
       "      <td>Poison</td>\n",
       "      <td>318</td>\n",
       "      <td>45</td>\n",
       "      <td>49</td>\n",
       "      <td>49</td>\n",
       "      <td>65</td>\n",
       "      <td>65</td>\n",
       "      <td>45</td>\n",
       "      <td>1</td>\n",
       "      <td>0</td>\n",
       "    </tr>\n",
       "    <tr>\n",
       "      <th>1</th>\n",
       "      <td>2</td>\n",
       "      <td>Ivysaur</td>\n",
       "      <td>Grass</td>\n",
       "      <td>Poison</td>\n",
       "      <td>405</td>\n",
       "      <td>60</td>\n",
       "      <td>62</td>\n",
       "      <td>63</td>\n",
       "      <td>80</td>\n",
       "      <td>80</td>\n",
       "      <td>60</td>\n",
       "      <td>1</td>\n",
       "      <td>0</td>\n",
       "    </tr>\n",
       "    <tr>\n",
       "      <th>2</th>\n",
       "      <td>3</td>\n",
       "      <td>Venusaur</td>\n",
       "      <td>Grass</td>\n",
       "      <td>Poison</td>\n",
       "      <td>525</td>\n",
       "      <td>80</td>\n",
       "      <td>82</td>\n",
       "      <td>83</td>\n",
       "      <td>100</td>\n",
       "      <td>100</td>\n",
       "      <td>80</td>\n",
       "      <td>1</td>\n",
       "      <td>0</td>\n",
       "    </tr>\n",
       "    <tr>\n",
       "      <th>3</th>\n",
       "      <td>3</td>\n",
       "      <td>VenusaurMega Venusaur</td>\n",
       "      <td>Grass</td>\n",
       "      <td>Poison</td>\n",
       "      <td>625</td>\n",
       "      <td>80</td>\n",
       "      <td>100</td>\n",
       "      <td>123</td>\n",
       "      <td>122</td>\n",
       "      <td>120</td>\n",
       "      <td>80</td>\n",
       "      <td>1</td>\n",
       "      <td>0</td>\n",
       "    </tr>\n",
       "    <tr>\n",
       "      <th>4</th>\n",
       "      <td>4</td>\n",
       "      <td>Charmander</td>\n",
       "      <td>Fire</td>\n",
       "      <td>NaN</td>\n",
       "      <td>309</td>\n",
       "      <td>39</td>\n",
       "      <td>52</td>\n",
       "      <td>43</td>\n",
       "      <td>60</td>\n",
       "      <td>50</td>\n",
       "      <td>65</td>\n",
       "      <td>1</td>\n",
       "      <td>0</td>\n",
       "    </tr>\n",
       "  </tbody>\n",
       "</table>\n",
       "</div>"
      ],
      "text/plain": [
       "   #                   name  type1   type2  total  hp  attack  defense  spatk  \\\n",
       "0  1              Bulbasaur  Grass  Poison    318  45      49       49     65   \n",
       "1  2                Ivysaur  Grass  Poison    405  60      62       63     80   \n",
       "2  3               Venusaur  Grass  Poison    525  80      82       83    100   \n",
       "3  3  VenusaurMega Venusaur  Grass  Poison    625  80     100      123    122   \n",
       "4  4             Charmander   Fire     NaN    309  39      52       43     60   \n",
       "\n",
       "   spdef  speed  generation  legendary  \n",
       "0     65     45           1          0  \n",
       "1     80     60           1          0  \n",
       "2    100     80           1          0  \n",
       "3    120     80           1          0  \n",
       "4     50     65           1          0  "
      ]
     },
     "execution_count": 77,
     "metadata": {},
     "output_type": "execute_result"
    }
   ],
   "source": [
    "pkmn['legendary'] = pkmn['legendary'].apply(lambda x: 1 if x == True else 0)\n",
    "pkmn.head()"
   ]
  },
  {
   "cell_type": "markdown",
   "metadata": {},
   "source": [
    "### Next, load the data into SQL\n",
    "\n",
    "First we'll need to create a database, then create a table in our new database."
   ]
  },
  {
   "cell_type": "code",
   "execution_count": 78,
   "metadata": {
    "collapsed": false
   },
   "outputs": [
    {
     "ename": "ValueError",
     "evalue": "Table 'pokemon' already exists.",
     "output_type": "error",
     "traceback": [
      "\u001b[0;31m---------------------------------------------------------------------------\u001b[0m",
      "\u001b[0;31mValueError\u001b[0m                                Traceback (most recent call last)",
      "\u001b[0;32m<ipython-input-78-ec6cea988e1d>\u001b[0m in \u001b[0;36m<module>\u001b[0;34m()\u001b[0m\n\u001b[1;32m      2\u001b[0m \u001b[0mengine\u001b[0m \u001b[0;34m=\u001b[0m \u001b[0mcreate_engine\u001b[0m\u001b[0;34m(\u001b[0m\u001b[0;34m'sqlite:///pokemon.db'\u001b[0m\u001b[0;34m)\u001b[0m\u001b[0;34m\u001b[0m\u001b[0m\n\u001b[1;32m      3\u001b[0m \u001b[0mconn\u001b[0m \u001b[0;34m=\u001b[0m \u001b[0mengine\u001b[0m\u001b[0;34m.\u001b[0m\u001b[0mconnect\u001b[0m\u001b[0;34m(\u001b[0m\u001b[0;34m)\u001b[0m\u001b[0;34m\u001b[0m\u001b[0m\n\u001b[0;32m----> 4\u001b[0;31m \u001b[0mpkmn\u001b[0m\u001b[0;34m.\u001b[0m\u001b[0mto_sql\u001b[0m\u001b[0;34m(\u001b[0m\u001b[0;34m'pokemon'\u001b[0m\u001b[0;34m,\u001b[0m \u001b[0mconn\u001b[0m\u001b[0;34m)\u001b[0m\u001b[0;34m\u001b[0m\u001b[0m\n\u001b[0m",
      "\u001b[0;32m/Users/victorvulovic/anaconda/lib/python3.5/site-packages/pandas/core/generic.py\u001b[0m in \u001b[0;36mto_sql\u001b[0;34m(self, name, con, flavor, schema, if_exists, index, index_label, chunksize, dtype)\u001b[0m\n\u001b[1;32m   1163\u001b[0m         sql.to_sql(self, name, con, flavor=flavor, schema=schema,\n\u001b[1;32m   1164\u001b[0m                    \u001b[0mif_exists\u001b[0m\u001b[0;34m=\u001b[0m\u001b[0mif_exists\u001b[0m\u001b[0;34m,\u001b[0m \u001b[0mindex\u001b[0m\u001b[0;34m=\u001b[0m\u001b[0mindex\u001b[0m\u001b[0;34m,\u001b[0m \u001b[0mindex_label\u001b[0m\u001b[0;34m=\u001b[0m\u001b[0mindex_label\u001b[0m\u001b[0;34m,\u001b[0m\u001b[0;34m\u001b[0m\u001b[0m\n\u001b[0;32m-> 1165\u001b[0;31m                    chunksize=chunksize, dtype=dtype)\n\u001b[0m\u001b[1;32m   1166\u001b[0m \u001b[0;34m\u001b[0m\u001b[0m\n\u001b[1;32m   1167\u001b[0m     \u001b[0;32mdef\u001b[0m \u001b[0mto_pickle\u001b[0m\u001b[0;34m(\u001b[0m\u001b[0mself\u001b[0m\u001b[0;34m,\u001b[0m \u001b[0mpath\u001b[0m\u001b[0;34m)\u001b[0m\u001b[0;34m:\u001b[0m\u001b[0;34m\u001b[0m\u001b[0m\n",
      "\u001b[0;32m/Users/victorvulovic/anaconda/lib/python3.5/site-packages/pandas/io/sql.py\u001b[0m in \u001b[0;36mto_sql\u001b[0;34m(frame, name, con, flavor, schema, if_exists, index, index_label, chunksize, dtype)\u001b[0m\n\u001b[1;32m    569\u001b[0m     pandas_sql.to_sql(frame, name, if_exists=if_exists, index=index,\n\u001b[1;32m    570\u001b[0m                       \u001b[0mindex_label\u001b[0m\u001b[0;34m=\u001b[0m\u001b[0mindex_label\u001b[0m\u001b[0;34m,\u001b[0m \u001b[0mschema\u001b[0m\u001b[0;34m=\u001b[0m\u001b[0mschema\u001b[0m\u001b[0;34m,\u001b[0m\u001b[0;34m\u001b[0m\u001b[0m\n\u001b[0;32m--> 571\u001b[0;31m                       chunksize=chunksize, dtype=dtype)\n\u001b[0m\u001b[1;32m    572\u001b[0m \u001b[0;34m\u001b[0m\u001b[0m\n\u001b[1;32m    573\u001b[0m \u001b[0;34m\u001b[0m\u001b[0m\n",
      "\u001b[0;32m/Users/victorvulovic/anaconda/lib/python3.5/site-packages/pandas/io/sql.py\u001b[0m in \u001b[0;36mto_sql\u001b[0;34m(self, frame, name, if_exists, index, index_label, schema, chunksize, dtype)\u001b[0m\n\u001b[1;32m   1247\u001b[0m                          \u001b[0mif_exists\u001b[0m\u001b[0;34m=\u001b[0m\u001b[0mif_exists\u001b[0m\u001b[0;34m,\u001b[0m \u001b[0mindex_label\u001b[0m\u001b[0;34m=\u001b[0m\u001b[0mindex_label\u001b[0m\u001b[0;34m,\u001b[0m\u001b[0;34m\u001b[0m\u001b[0m\n\u001b[1;32m   1248\u001b[0m                          schema=schema, dtype=dtype)\n\u001b[0;32m-> 1249\u001b[0;31m         \u001b[0mtable\u001b[0m\u001b[0;34m.\u001b[0m\u001b[0mcreate\u001b[0m\u001b[0;34m(\u001b[0m\u001b[0;34m)\u001b[0m\u001b[0;34m\u001b[0m\u001b[0m\n\u001b[0m\u001b[1;32m   1250\u001b[0m         \u001b[0mtable\u001b[0m\u001b[0;34m.\u001b[0m\u001b[0minsert\u001b[0m\u001b[0;34m(\u001b[0m\u001b[0mchunksize\u001b[0m\u001b[0;34m)\u001b[0m\u001b[0;34m\u001b[0m\u001b[0m\n\u001b[1;32m   1251\u001b[0m         \u001b[0;32mif\u001b[0m \u001b[0;34m(\u001b[0m\u001b[0;32mnot\u001b[0m \u001b[0mname\u001b[0m\u001b[0;34m.\u001b[0m\u001b[0misdigit\u001b[0m\u001b[0;34m(\u001b[0m\u001b[0;34m)\u001b[0m \u001b[0;32mand\u001b[0m \u001b[0;32mnot\u001b[0m \u001b[0mname\u001b[0m\u001b[0;34m.\u001b[0m\u001b[0mislower\u001b[0m\u001b[0;34m(\u001b[0m\u001b[0;34m)\u001b[0m\u001b[0;34m)\u001b[0m\u001b[0;34m:\u001b[0m\u001b[0;34m\u001b[0m\u001b[0m\n",
      "\u001b[0;32m/Users/victorvulovic/anaconda/lib/python3.5/site-packages/pandas/io/sql.py\u001b[0m in \u001b[0;36mcreate\u001b[0;34m(self)\u001b[0m\n\u001b[1;32m    690\u001b[0m         \u001b[0;32mif\u001b[0m \u001b[0mself\u001b[0m\u001b[0;34m.\u001b[0m\u001b[0mexists\u001b[0m\u001b[0;34m(\u001b[0m\u001b[0;34m)\u001b[0m\u001b[0;34m:\u001b[0m\u001b[0;34m\u001b[0m\u001b[0m\n\u001b[1;32m    691\u001b[0m             \u001b[0;32mif\u001b[0m \u001b[0mself\u001b[0m\u001b[0;34m.\u001b[0m\u001b[0mif_exists\u001b[0m \u001b[0;34m==\u001b[0m \u001b[0;34m'fail'\u001b[0m\u001b[0;34m:\u001b[0m\u001b[0;34m\u001b[0m\u001b[0m\n\u001b[0;32m--> 692\u001b[0;31m                 \u001b[0;32mraise\u001b[0m \u001b[0mValueError\u001b[0m\u001b[0;34m(\u001b[0m\u001b[0;34m\"Table '%s' already exists.\"\u001b[0m \u001b[0;34m%\u001b[0m \u001b[0mself\u001b[0m\u001b[0;34m.\u001b[0m\u001b[0mname\u001b[0m\u001b[0;34m)\u001b[0m\u001b[0;34m\u001b[0m\u001b[0m\n\u001b[0m\u001b[1;32m    693\u001b[0m             \u001b[0;32melif\u001b[0m \u001b[0mself\u001b[0m\u001b[0;34m.\u001b[0m\u001b[0mif_exists\u001b[0m \u001b[0;34m==\u001b[0m \u001b[0;34m'replace'\u001b[0m\u001b[0;34m:\u001b[0m\u001b[0;34m\u001b[0m\u001b[0m\n\u001b[1;32m    694\u001b[0m                 \u001b[0mself\u001b[0m\u001b[0;34m.\u001b[0m\u001b[0mpd_sql\u001b[0m\u001b[0;34m.\u001b[0m\u001b[0mdrop_table\u001b[0m\u001b[0;34m(\u001b[0m\u001b[0mself\u001b[0m\u001b[0;34m.\u001b[0m\u001b[0mname\u001b[0m\u001b[0;34m,\u001b[0m \u001b[0mself\u001b[0m\u001b[0;34m.\u001b[0m\u001b[0mschema\u001b[0m\u001b[0;34m)\u001b[0m\u001b[0;34m\u001b[0m\u001b[0m\n",
      "\u001b[0;31mValueError\u001b[0m: Table 'pokemon' already exists."
     ]
    }
   ],
   "source": [
    "# Create pokemon table in pokemon database (only run this once!)\n",
    "engine = create_engine('sqlite:///pokemon.db')\n",
    "conn = engine.connect()\n",
    "pkmn.to_sql('pokemon', conn)"
   ]
  },
  {
   "cell_type": "markdown",
   "metadata": {},
   "source": [
    "# SQL"
   ]
  },
  {
   "cell_type": "code",
   "execution_count": 7,
   "metadata": {
    "collapsed": false
   },
   "outputs": [
    {
     "name": "stderr",
     "output_type": "stream",
     "text": [
      "/Users/victorvulovic/anaconda/lib/python3.5/site-packages/IPython/config.py:13: ShimWarning: The `IPython.config` package has been deprecated. You should import from traitlets.config instead.\n",
      "  \"You should import from traitlets.config instead.\", ShimWarning)\n",
      "/Users/victorvulovic/anaconda/lib/python3.5/site-packages/IPython/utils/traitlets.py:5: UserWarning: IPython.utils.traitlets has moved to a top-level traitlets package.\n",
      "  warn(\"IPython.utils.traitlets has moved to a top-level traitlets package.\")\n"
     ]
    }
   ],
   "source": [
    "%load_ext sql"
   ]
  },
  {
   "cell_type": "code",
   "execution_count": 8,
   "metadata": {
    "collapsed": false
   },
   "outputs": [
    {
     "data": {
      "text/plain": [
       "'Connected: None@pokemon.db'"
      ]
     },
     "execution_count": 8,
     "metadata": {},
     "output_type": "execute_result"
    }
   ],
   "source": [
    "%sql sqlite:///pokemon.db"
   ]
  },
  {
   "cell_type": "code",
   "execution_count": 9,
   "metadata": {
    "collapsed": false
   },
   "outputs": [
    {
     "name": "stdout",
     "output_type": "stream",
     "text": [
      "Done.\n"
     ]
    },
    {
     "data": {
      "text/html": [
       "<table>\n",
       "    <tr>\n",
       "        <th>name</th>\n",
       "        <th>total</th>\n",
       "    </tr>\n",
       "    <tr>\n",
       "        <td>MewtwoMega Mewtwo X</td>\n",
       "        <td>780</td>\n",
       "    </tr>\n",
       "</table>"
      ],
      "text/plain": [
       "[('MewtwoMega Mewtwo X', 780)]"
      ]
     },
     "execution_count": 9,
     "metadata": {},
     "output_type": "execute_result"
    }
   ],
   "source": [
    "%%sql\n",
    "SELECT name, MAX(total) AS total FROM pokemon;"
   ]
  },
  {
   "cell_type": "code",
   "execution_count": 10,
   "metadata": {
    "collapsed": true
   },
   "outputs": [],
   "source": [
    "#who are the most powerful pokemon by type1?"
   ]
  },
  {
   "cell_type": "code",
   "execution_count": 11,
   "metadata": {
    "collapsed": false
   },
   "outputs": [
    {
     "name": "stdout",
     "output_type": "stream",
     "text": [
      "Done.\n"
     ]
    },
    {
     "data": {
      "text/html": [
       "<table>\n",
       "    <tr>\n",
       "        <th>name</th>\n",
       "        <th>type1</th>\n",
       "        <th>total</th>\n",
       "    </tr>\n",
       "    <tr>\n",
       "        <td>PinsirMega Pinsir</td>\n",
       "        <td>Bug</td>\n",
       "        <td>600</td>\n",
       "    </tr>\n",
       "    <tr>\n",
       "        <td>Yveltal</td>\n",
       "        <td>Dark</td>\n",
       "        <td>680</td>\n",
       "    </tr>\n",
       "    <tr>\n",
       "        <td>RayquazaMega Rayquaza</td>\n",
       "        <td>Dragon</td>\n",
       "        <td>780</td>\n",
       "    </tr>\n",
       "    <tr>\n",
       "        <td>AmpharosMega Ampharos</td>\n",
       "        <td>Electric</td>\n",
       "        <td>610</td>\n",
       "    </tr>\n",
       "    <tr>\n",
       "        <td>Xerneas</td>\n",
       "        <td>Fairy</td>\n",
       "        <td>680</td>\n",
       "    </tr>\n",
       "    <tr>\n",
       "        <td>LucarioMega Lucario</td>\n",
       "        <td>Fighting</td>\n",
       "        <td>625</td>\n",
       "    </tr>\n",
       "    <tr>\n",
       "        <td>Ho-oh</td>\n",
       "        <td>Fire</td>\n",
       "        <td>680</td>\n",
       "    </tr>\n",
       "    <tr>\n",
       "        <td>TornadusIncarnate Forme</td>\n",
       "        <td>Flying</td>\n",
       "        <td>580</td>\n",
       "    </tr>\n",
       "    <tr>\n",
       "        <td>GiratinaAltered Forme</td>\n",
       "        <td>Ghost</td>\n",
       "        <td>680</td>\n",
       "    </tr>\n",
       "    <tr>\n",
       "        <td>SceptileMega Sceptile</td>\n",
       "        <td>Grass</td>\n",
       "        <td>630</td>\n",
       "    </tr>\n",
       "    <tr>\n",
       "        <td>GroudonPrimal Groudon</td>\n",
       "        <td>Ground</td>\n",
       "        <td>770</td>\n",
       "    </tr>\n",
       "    <tr>\n",
       "        <td>Articuno</td>\n",
       "        <td>Ice</td>\n",
       "        <td>580</td>\n",
       "    </tr>\n",
       "    <tr>\n",
       "        <td>Arceus</td>\n",
       "        <td>Normal</td>\n",
       "        <td>720</td>\n",
       "    </tr>\n",
       "    <tr>\n",
       "        <td>Crobat</td>\n",
       "        <td>Poison</td>\n",
       "        <td>535</td>\n",
       "    </tr>\n",
       "    <tr>\n",
       "        <td>MewtwoMega Mewtwo X</td>\n",
       "        <td>Psychic</td>\n",
       "        <td>780</td>\n",
       "    </tr>\n",
       "    <tr>\n",
       "        <td>TyranitarMega Tyranitar</td>\n",
       "        <td>Rock</td>\n",
       "        <td>700</td>\n",
       "    </tr>\n",
       "    <tr>\n",
       "        <td>MetagrossMega Metagross</td>\n",
       "        <td>Steel</td>\n",
       "        <td>700</td>\n",
       "    </tr>\n",
       "    <tr>\n",
       "        <td>KyogrePrimal Kyogre</td>\n",
       "        <td>Water</td>\n",
       "        <td>770</td>\n",
       "    </tr>\n",
       "</table>"
      ],
      "text/plain": [
       "[('PinsirMega Pinsir', 'Bug', 600),\n",
       " ('Yveltal', 'Dark', 680),\n",
       " ('RayquazaMega Rayquaza', 'Dragon', 780),\n",
       " ('AmpharosMega Ampharos', 'Electric', 610),\n",
       " ('Xerneas', 'Fairy', 680),\n",
       " ('LucarioMega Lucario', 'Fighting', 625),\n",
       " ('Ho-oh', 'Fire', 680),\n",
       " ('TornadusIncarnate Forme', 'Flying', 580),\n",
       " ('GiratinaAltered Forme', 'Ghost', 680),\n",
       " ('SceptileMega Sceptile', 'Grass', 630),\n",
       " ('GroudonPrimal Groudon', 'Ground', 770),\n",
       " ('Articuno', 'Ice', 580),\n",
       " ('Arceus', 'Normal', 720),\n",
       " ('Crobat', 'Poison', 535),\n",
       " ('MewtwoMega Mewtwo X', 'Psychic', 780),\n",
       " ('TyranitarMega Tyranitar', 'Rock', 700),\n",
       " ('MetagrossMega Metagross', 'Steel', 700),\n",
       " ('KyogrePrimal Kyogre', 'Water', 770)]"
      ]
     },
     "execution_count": 11,
     "metadata": {},
     "output_type": "execute_result"
    }
   ],
   "source": [
    "%%sql\n",
    "SELECT name, type1, MAX(total) AS total FROM pokemon GROUP BY type1;"
   ]
  },
  {
   "cell_type": "code",
   "execution_count": 79,
   "metadata": {
    "collapsed": false
   },
   "outputs": [],
   "source": [
    "pkmn = pkmn.rename(columns={'#' : 'num'})"
   ]
  },
  {
   "cell_type": "markdown",
   "metadata": {},
   "source": [
    "Calculate the percent of distinct Pokemon that are Legendary (distinct means unique Pokemon #)."
   ]
  },
  {
   "cell_type": "code",
   "execution_count": 80,
   "metadata": {
    "collapsed": false,
    "scrolled": true
   },
   "outputs": [
    {
     "data": {
      "text/html": [
       "<div>\n",
       "<table border=\"1\" class=\"dataframe\">\n",
       "  <thead>\n",
       "    <tr style=\"text-align: right;\">\n",
       "      <th></th>\n",
       "      <th>num</th>\n",
       "      <th>name</th>\n",
       "      <th>type1</th>\n",
       "      <th>type2</th>\n",
       "      <th>total</th>\n",
       "      <th>hp</th>\n",
       "      <th>attack</th>\n",
       "      <th>defense</th>\n",
       "      <th>spatk</th>\n",
       "      <th>spdef</th>\n",
       "      <th>speed</th>\n",
       "      <th>generation</th>\n",
       "      <th>legendary</th>\n",
       "    </tr>\n",
       "  </thead>\n",
       "  <tbody>\n",
       "    <tr>\n",
       "      <th>0</th>\n",
       "      <td>1</td>\n",
       "      <td>Bulbasaur</td>\n",
       "      <td>Grass</td>\n",
       "      <td>Poison</td>\n",
       "      <td>318</td>\n",
       "      <td>45</td>\n",
       "      <td>49</td>\n",
       "      <td>49</td>\n",
       "      <td>65</td>\n",
       "      <td>65</td>\n",
       "      <td>45</td>\n",
       "      <td>1</td>\n",
       "      <td>0</td>\n",
       "    </tr>\n",
       "    <tr>\n",
       "      <th>1</th>\n",
       "      <td>2</td>\n",
       "      <td>Ivysaur</td>\n",
       "      <td>Grass</td>\n",
       "      <td>Poison</td>\n",
       "      <td>405</td>\n",
       "      <td>60</td>\n",
       "      <td>62</td>\n",
       "      <td>63</td>\n",
       "      <td>80</td>\n",
       "      <td>80</td>\n",
       "      <td>60</td>\n",
       "      <td>1</td>\n",
       "      <td>0</td>\n",
       "    </tr>\n",
       "    <tr>\n",
       "      <th>2</th>\n",
       "      <td>3</td>\n",
       "      <td>Venusaur</td>\n",
       "      <td>Grass</td>\n",
       "      <td>Poison</td>\n",
       "      <td>525</td>\n",
       "      <td>80</td>\n",
       "      <td>82</td>\n",
       "      <td>83</td>\n",
       "      <td>100</td>\n",
       "      <td>100</td>\n",
       "      <td>80</td>\n",
       "      <td>1</td>\n",
       "      <td>0</td>\n",
       "    </tr>\n",
       "    <tr>\n",
       "      <th>3</th>\n",
       "      <td>3</td>\n",
       "      <td>VenusaurMega Venusaur</td>\n",
       "      <td>Grass</td>\n",
       "      <td>Poison</td>\n",
       "      <td>625</td>\n",
       "      <td>80</td>\n",
       "      <td>100</td>\n",
       "      <td>123</td>\n",
       "      <td>122</td>\n",
       "      <td>120</td>\n",
       "      <td>80</td>\n",
       "      <td>1</td>\n",
       "      <td>0</td>\n",
       "    </tr>\n",
       "    <tr>\n",
       "      <th>4</th>\n",
       "      <td>4</td>\n",
       "      <td>Charmander</td>\n",
       "      <td>Fire</td>\n",
       "      <td>NaN</td>\n",
       "      <td>309</td>\n",
       "      <td>39</td>\n",
       "      <td>52</td>\n",
       "      <td>43</td>\n",
       "      <td>60</td>\n",
       "      <td>50</td>\n",
       "      <td>65</td>\n",
       "      <td>1</td>\n",
       "      <td>0</td>\n",
       "    </tr>\n",
       "  </tbody>\n",
       "</table>\n",
       "</div>"
      ],
      "text/plain": [
       "   num                   name  type1   type2  total  hp  attack  defense  \\\n",
       "0    1              Bulbasaur  Grass  Poison    318  45      49       49   \n",
       "1    2                Ivysaur  Grass  Poison    405  60      62       63   \n",
       "2    3               Venusaur  Grass  Poison    525  80      82       83   \n",
       "3    3  VenusaurMega Venusaur  Grass  Poison    625  80     100      123   \n",
       "4    4             Charmander   Fire     NaN    309  39      52       43   \n",
       "\n",
       "   spatk  spdef  speed  generation  legendary  \n",
       "0     65     65     45           1          0  \n",
       "1     80     80     60           1          0  \n",
       "2    100    100     80           1          0  \n",
       "3    122    120     80           1          0  \n",
       "4     60     50     65           1          0  "
      ]
     },
     "execution_count": 80,
     "metadata": {},
     "output_type": "execute_result"
    }
   ],
   "source": [
    "pkmn.head()"
   ]
  },
  {
   "cell_type": "code",
   "execution_count": 81,
   "metadata": {
    "collapsed": false
   },
   "outputs": [
    {
     "data": {
      "text/html": [
       "<div>\n",
       "<table border=\"1\" class=\"dataframe\">\n",
       "  <thead>\n",
       "    <tr style=\"text-align: right;\">\n",
       "      <th></th>\n",
       "      <th>num</th>\n",
       "    </tr>\n",
       "    <tr>\n",
       "      <th>legendary</th>\n",
       "      <th></th>\n",
       "    </tr>\n",
       "  </thead>\n",
       "  <tbody>\n",
       "    <tr>\n",
       "      <th>0</th>\n",
       "      <td>675</td>\n",
       "    </tr>\n",
       "    <tr>\n",
       "      <th>1</th>\n",
       "      <td>46</td>\n",
       "    </tr>\n",
       "  </tbody>\n",
       "</table>\n",
       "</div>"
      ],
      "text/plain": [
       "           num\n",
       "legendary     \n",
       "0          675\n",
       "1           46"
      ]
     },
     "execution_count": 81,
     "metadata": {},
     "output_type": "execute_result"
    }
   ],
   "source": [
    "legendary = pd.DataFrame(pkmn.groupby('legendary').num.nunique())\n",
    "legendary"
   ]
  },
  {
   "cell_type": "markdown",
   "metadata": {},
   "source": [
    "# EDA"
   ]
  },
  {
   "cell_type": "code",
   "execution_count": 15,
   "metadata": {
    "collapsed": false
   },
   "outputs": [
    {
     "data": {
      "text/plain": [
       "num    0.06815\n",
       "dtype: float64"
      ]
     },
     "execution_count": 15,
     "metadata": {},
     "output_type": "execute_result"
    }
   ],
   "source": [
    "percent = (legendary.iloc[1] / legendary.iloc[0])\n",
    "percent.round(5)"
   ]
  },
  {
   "cell_type": "code",
   "execution_count": 82,
   "metadata": {
    "collapsed": false
   },
   "outputs": [
    {
     "data": {
      "image/png": "[encoded data removed]",
      "text/plain": [
       "<matplotlib.figure.Figure at 0x11b3f0208>"
      ]
     },
     "metadata": {},
     "output_type": "display_data"
    }
   ],
   "source": [
    "type1 = sns.barplot(x='type1', y='num', data=pkmn)\n",
    "for item in type1.get_xticklabels():\n",
    "    item.set_rotation(70)"
   ]
  },
  {
   "cell_type": "code",
   "execution_count": 83,
   "metadata": {
    "collapsed": false
   },
   "outputs": [
    {
     "data": {
      "image/png": "[encoded data removed]",
      "text/plain": [
       "<matplotlib.figure.Figure at 0x11b3a1898>"
      ]
     },
     "metadata": {},
     "output_type": "display_data"
    }
   ],
   "source": [
    "sns.boxplot(y='defense', data=pkmn);"
   ]
  },
  {
   "cell_type": "code",
   "execution_count": 84,
   "metadata": {
    "collapsed": false
   },
   "outputs": [
    {
     "data": {
      "image/png": "[encoded data removed]",
      "text/plain": [
       "<matplotlib.figure.Figure at 0x11a5aa908>"
      ]
     },
     "metadata": {},
     "output_type": "display_data"
    }
   ],
   "source": [
    "def_type2 = sns.boxplot(x='type2', y='defense', data=pkmn)\n",
    "for item in def_type2.get_xticklabels():\n",
    "    item.set_rotation(70)"
   ]
  },
  {
   "cell_type": "markdown",
   "metadata": {},
   "source": [
    "# EDA/Statistics"
   ]
  },
  {
   "cell_type": "code",
   "execution_count": 91,
   "metadata": {
    "collapsed": false
   },
   "outputs": [
    {
     "data": {
      "text/html": [
       "<div>\n",
       "<table border=\"1\" class=\"dataframe\">\n",
       "  <thead>\n",
       "    <tr style=\"text-align: right;\">\n",
       "      <th></th>\n",
       "      <th>total</th>\n",
       "    </tr>\n",
       "    <tr>\n",
       "      <th>type1</th>\n",
       "      <th></th>\n",
       "    </tr>\n",
       "  </thead>\n",
       "  <tbody>\n",
       "    <tr>\n",
       "      <th>Bug</th>\n",
       "      <td>378.927536</td>\n",
       "    </tr>\n",
       "    <tr>\n",
       "      <th>Dark</th>\n",
       "      <td>445.741935</td>\n",
       "    </tr>\n",
       "    <tr>\n",
       "      <th>Dragon</th>\n",
       "      <td>550.531250</td>\n",
       "    </tr>\n",
       "    <tr>\n",
       "      <th>Electric</th>\n",
       "      <td>443.409091</td>\n",
       "    </tr>\n",
       "    <tr>\n",
       "      <th>Fairy</th>\n",
       "      <td>413.176471</td>\n",
       "    </tr>\n",
       "    <tr>\n",
       "      <th>Fighting</th>\n",
       "      <td>416.444444</td>\n",
       "    </tr>\n",
       "    <tr>\n",
       "      <th>Fire</th>\n",
       "      <td>458.076923</td>\n",
       "    </tr>\n",
       "    <tr>\n",
       "      <th>Flying</th>\n",
       "      <td>485.000000</td>\n",
       "    </tr>\n",
       "    <tr>\n",
       "      <th>Ghost</th>\n",
       "      <td>439.562500</td>\n",
       "    </tr>\n",
       "    <tr>\n",
       "      <th>Grass</th>\n",
       "      <td>421.142857</td>\n",
       "    </tr>\n",
       "    <tr>\n",
       "      <th>Ground</th>\n",
       "      <td>437.500000</td>\n",
       "    </tr>\n",
       "    <tr>\n",
       "      <th>Ice</th>\n",
       "      <td>433.458333</td>\n",
       "    </tr>\n",
       "    <tr>\n",
       "      <th>Normal</th>\n",
       "      <td>401.683673</td>\n",
       "    </tr>\n",
       "    <tr>\n",
       "      <th>Poison</th>\n",
       "      <td>399.142857</td>\n",
       "    </tr>\n",
       "    <tr>\n",
       "      <th>Psychic</th>\n",
       "      <td>475.947368</td>\n",
       "    </tr>\n",
       "    <tr>\n",
       "      <th>Rock</th>\n",
       "      <td>453.750000</td>\n",
       "    </tr>\n",
       "    <tr>\n",
       "      <th>Steel</th>\n",
       "      <td>487.703704</td>\n",
       "    </tr>\n",
       "    <tr>\n",
       "      <th>Water</th>\n",
       "      <td>430.455357</td>\n",
       "    </tr>\n",
       "  </tbody>\n",
       "</table>\n",
       "</div>"
      ],
      "text/plain": [
       "               total\n",
       "type1               \n",
       "Bug       378.927536\n",
       "Dark      445.741935\n",
       "Dragon    550.531250\n",
       "Electric  443.409091\n",
       "Fairy     413.176471\n",
       "Fighting  416.444444\n",
       "Fire      458.076923\n",
       "Flying    485.000000\n",
       "Ghost     439.562500\n",
       "Grass     421.142857\n",
       "Ground    437.500000\n",
       "Ice       433.458333\n",
       "Normal    401.683673\n",
       "Poison    399.142857\n",
       "Psychic   475.947368\n",
       "Rock      453.750000\n",
       "Steel     487.703704\n",
       "Water     430.455357"
      ]
     },
     "execution_count": 91,
     "metadata": {},
     "output_type": "execute_result"
    }
   ],
   "source": [
    "total_mean = pd.DataFrame(pkmn.groupby('type1').mean())\n",
    "pd.DataFrame(total_mean['total'])"
   ]
  },
  {
   "cell_type": "code",
   "execution_count": 95,
   "metadata": {
    "collapsed": false
   },
   "outputs": [
    {
     "data": {
      "text/html": [
       "<div>\n",
       "<table border=\"1\" class=\"dataframe\">\n",
       "  <thead>\n",
       "    <tr style=\"text-align: right;\">\n",
       "      <th></th>\n",
       "      <th>total</th>\n",
       "    </tr>\n",
       "    <tr>\n",
       "      <th>type1</th>\n",
       "      <th></th>\n",
       "    </tr>\n",
       "  </thead>\n",
       "  <tbody>\n",
       "    <tr>\n",
       "      <th>Bug</th>\n",
       "      <td>117.875223</td>\n",
       "    </tr>\n",
       "    <tr>\n",
       "      <th>Dark</th>\n",
       "      <td>109.126217</td>\n",
       "    </tr>\n",
       "    <tr>\n",
       "      <th>Dragon</th>\n",
       "      <td>146.267538</td>\n",
       "    </tr>\n",
       "    <tr>\n",
       "      <th>Electric</th>\n",
       "      <td>105.721952</td>\n",
       "    </tr>\n",
       "    <tr>\n",
       "      <th>Fairy</th>\n",
       "      <td>123.781680</td>\n",
       "    </tr>\n",
       "    <tr>\n",
       "      <th>Fighting</th>\n",
       "      <td>102.464378</td>\n",
       "    </tr>\n",
       "    <tr>\n",
       "      <th>Fire</th>\n",
       "      <td>109.760496</td>\n",
       "    </tr>\n",
       "    <tr>\n",
       "      <th>Flying</th>\n",
       "      <td>161.400124</td>\n",
       "    </tr>\n",
       "    <tr>\n",
       "      <th>Ghost</th>\n",
       "      <td>110.072685</td>\n",
       "    </tr>\n",
       "    <tr>\n",
       "      <th>Grass</th>\n",
       "      <td>106.650626</td>\n",
       "    </tr>\n",
       "    <tr>\n",
       "      <th>Ground</th>\n",
       "      <td>123.913081</td>\n",
       "    </tr>\n",
       "    <tr>\n",
       "      <th>Ice</th>\n",
       "      <td>108.281027</td>\n",
       "    </tr>\n",
       "    <tr>\n",
       "      <th>Normal</th>\n",
       "      <td>115.733038</td>\n",
       "    </tr>\n",
       "    <tr>\n",
       "      <th>Poison</th>\n",
       "      <td>92.358687</td>\n",
       "    </tr>\n",
       "    <tr>\n",
       "      <th>Psychic</th>\n",
       "      <td>139.026645</td>\n",
       "    </tr>\n",
       "    <tr>\n",
       "      <th>Rock</th>\n",
       "      <td>108.059227</td>\n",
       "    </tr>\n",
       "    <tr>\n",
       "      <th>Steel</th>\n",
       "      <td>115.420907</td>\n",
       "    </tr>\n",
       "    <tr>\n",
       "      <th>Water</th>\n",
       "      <td>113.188266</td>\n",
       "    </tr>\n",
       "  </tbody>\n",
       "</table>\n",
       "</div>"
      ],
      "text/plain": [
       "               total\n",
       "type1               \n",
       "Bug       117.875223\n",
       "Dark      109.126217\n",
       "Dragon    146.267538\n",
       "Electric  105.721952\n",
       "Fairy     123.781680\n",
       "Fighting  102.464378\n",
       "Fire      109.760496\n",
       "Flying    161.400124\n",
       "Ghost     110.072685\n",
       "Grass     106.650626\n",
       "Ground    123.913081\n",
       "Ice       108.281027\n",
       "Normal    115.733038\n",
       "Poison     92.358687\n",
       "Psychic   139.026645\n",
       "Rock      108.059227\n",
       "Steel     115.420907\n",
       "Water     113.188266"
      ]
     },
     "execution_count": 95,
     "metadata": {},
     "output_type": "execute_result"
    }
   ],
   "source": [
    "total_std = pd.DataFrame(pkmn.groupby('type1').std())\n",
    "pd.DataFrame(total_std['total'])"
   ]
  },
  {
   "cell_type": "code",
   "execution_count": 93,
   "metadata": {
    "collapsed": false
   },
   "outputs": [
    {
     "data": {
      "text/html": [
       "<div>\n",
       "<table border=\"1\" class=\"dataframe\">\n",
       "  <thead>\n",
       "    <tr style=\"text-align: right;\">\n",
       "      <th></th>\n",
       "      <th>defense</th>\n",
       "    </tr>\n",
       "    <tr>\n",
       "      <th>type1</th>\n",
       "      <th></th>\n",
       "    </tr>\n",
       "  </thead>\n",
       "  <tbody>\n",
       "    <tr>\n",
       "      <th>Bug</th>\n",
       "      <td>70.724638</td>\n",
       "    </tr>\n",
       "    <tr>\n",
       "      <th>Dark</th>\n",
       "      <td>70.225806</td>\n",
       "    </tr>\n",
       "    <tr>\n",
       "      <th>Dragon</th>\n",
       "      <td>86.375000</td>\n",
       "    </tr>\n",
       "    <tr>\n",
       "      <th>Electric</th>\n",
       "      <td>66.295455</td>\n",
       "    </tr>\n",
       "    <tr>\n",
       "      <th>Fairy</th>\n",
       "      <td>65.705882</td>\n",
       "    </tr>\n",
       "    <tr>\n",
       "      <th>Fighting</th>\n",
       "      <td>65.925926</td>\n",
       "    </tr>\n",
       "    <tr>\n",
       "      <th>Fire</th>\n",
       "      <td>67.769231</td>\n",
       "    </tr>\n",
       "    <tr>\n",
       "      <th>Flying</th>\n",
       "      <td>66.250000</td>\n",
       "    </tr>\n",
       "    <tr>\n",
       "      <th>Ghost</th>\n",
       "      <td>81.187500</td>\n",
       "    </tr>\n",
       "    <tr>\n",
       "      <th>Grass</th>\n",
       "      <td>70.800000</td>\n",
       "    </tr>\n",
       "    <tr>\n",
       "      <th>Ground</th>\n",
       "      <td>84.843750</td>\n",
       "    </tr>\n",
       "    <tr>\n",
       "      <th>Ice</th>\n",
       "      <td>71.416667</td>\n",
       "    </tr>\n",
       "    <tr>\n",
       "      <th>Normal</th>\n",
       "      <td>59.846939</td>\n",
       "    </tr>\n",
       "    <tr>\n",
       "      <th>Poison</th>\n",
       "      <td>68.821429</td>\n",
       "    </tr>\n",
       "    <tr>\n",
       "      <th>Psychic</th>\n",
       "      <td>67.684211</td>\n",
       "    </tr>\n",
       "    <tr>\n",
       "      <th>Rock</th>\n",
       "      <td>100.795455</td>\n",
       "    </tr>\n",
       "    <tr>\n",
       "      <th>Steel</th>\n",
       "      <td>126.370370</td>\n",
       "    </tr>\n",
       "    <tr>\n",
       "      <th>Water</th>\n",
       "      <td>72.946429</td>\n",
       "    </tr>\n",
       "  </tbody>\n",
       "</table>\n",
       "</div>"
      ],
      "text/plain": [
       "             defense\n",
       "type1               \n",
       "Bug        70.724638\n",
       "Dark       70.225806\n",
       "Dragon     86.375000\n",
       "Electric   66.295455\n",
       "Fairy      65.705882\n",
       "Fighting   65.925926\n",
       "Fire       67.769231\n",
       "Flying     66.250000\n",
       "Ghost      81.187500\n",
       "Grass      70.800000\n",
       "Ground     84.843750\n",
       "Ice        71.416667\n",
       "Normal     59.846939\n",
       "Poison     68.821429\n",
       "Psychic    67.684211\n",
       "Rock      100.795455\n",
       "Steel     126.370370\n",
       "Water      72.946429"
      ]
     },
     "execution_count": 93,
     "metadata": {},
     "output_type": "execute_result"
    }
   ],
   "source": [
    "defense_mean = pd.DataFrame(pkmn.groupby('type1').mean())\n",
    "pd.DataFrame(defense_mean['defense'])"
   ]
  },
  {
   "cell_type": "code",
   "execution_count": 94,
   "metadata": {
    "collapsed": false
   },
   "outputs": [
    {
     "data": {
      "text/html": [
       "<div>\n",
       "<table border=\"1\" class=\"dataframe\">\n",
       "  <thead>\n",
       "    <tr style=\"text-align: right;\">\n",
       "      <th></th>\n",
       "      <th>defense</th>\n",
       "    </tr>\n",
       "    <tr>\n",
       "      <th>type1</th>\n",
       "      <th></th>\n",
       "    </tr>\n",
       "  </thead>\n",
       "  <tbody>\n",
       "    <tr>\n",
       "      <th>Bug</th>\n",
       "      <td>33.617609</td>\n",
       "    </tr>\n",
       "    <tr>\n",
       "      <th>Dark</th>\n",
       "      <td>25.121982</td>\n",
       "    </tr>\n",
       "    <tr>\n",
       "      <th>Dragon</th>\n",
       "      <td>24.102938</td>\n",
       "    </tr>\n",
       "    <tr>\n",
       "      <th>Electric</th>\n",
       "      <td>24.757033</td>\n",
       "    </tr>\n",
       "    <tr>\n",
       "      <th>Fairy</th>\n",
       "      <td>18.979478</td>\n",
       "    </tr>\n",
       "    <tr>\n",
       "      <th>Fighting</th>\n",
       "      <td>18.578163</td>\n",
       "    </tr>\n",
       "    <tr>\n",
       "      <th>Fire</th>\n",
       "      <td>23.658200</td>\n",
       "    </tr>\n",
       "    <tr>\n",
       "      <th>Flying</th>\n",
       "      <td>21.360009</td>\n",
       "    </tr>\n",
       "    <tr>\n",
       "      <th>Ghost</th>\n",
       "      <td>32.551138</td>\n",
       "    </tr>\n",
       "    <tr>\n",
       "      <th>Grass</th>\n",
       "      <td>24.485192</td>\n",
       "    </tr>\n",
       "    <tr>\n",
       "      <th>Ground</th>\n",
       "      <td>33.786912</td>\n",
       "    </tr>\n",
       "    <tr>\n",
       "      <th>Ice</th>\n",
       "      <td>34.387708</td>\n",
       "    </tr>\n",
       "    <tr>\n",
       "      <th>Normal</th>\n",
       "      <td>23.771833</td>\n",
       "    </tr>\n",
       "    <tr>\n",
       "      <th>Poison</th>\n",
       "      <td>21.066128</td>\n",
       "    </tr>\n",
       "    <tr>\n",
       "      <th>Psychic</th>\n",
       "      <td>28.359401</td>\n",
       "    </tr>\n",
       "    <tr>\n",
       "      <th>Rock</th>\n",
       "      <td>36.447209</td>\n",
       "    </tr>\n",
       "    <tr>\n",
       "      <th>Steel</th>\n",
       "      <td>44.806548</td>\n",
       "    </tr>\n",
       "    <tr>\n",
       "      <th>Water</th>\n",
       "      <td>27.773809</td>\n",
       "    </tr>\n",
       "  </tbody>\n",
       "</table>\n",
       "</div>"
      ],
      "text/plain": [
       "            defense\n",
       "type1              \n",
       "Bug       33.617609\n",
       "Dark      25.121982\n",
       "Dragon    24.102938\n",
       "Electric  24.757033\n",
       "Fairy     18.979478\n",
       "Fighting  18.578163\n",
       "Fire      23.658200\n",
       "Flying    21.360009\n",
       "Ghost     32.551138\n",
       "Grass     24.485192\n",
       "Ground    33.786912\n",
       "Ice       34.387708\n",
       "Normal    23.771833\n",
       "Poison    21.066128\n",
       "Psychic   28.359401\n",
       "Rock      36.447209\n",
       "Steel     44.806548\n",
       "Water     27.773809"
      ]
     },
     "execution_count": 94,
     "metadata": {},
     "output_type": "execute_result"
    }
   ],
   "source": [
    "defense_std = pd.DataFrame(pkmn.groupby('type1').std())\n",
    "pd.DataFrame(defense_std['defense'])"
   ]
  },
  {
   "cell_type": "markdown",
   "metadata": {},
   "source": [
    "+ **SQL**: \n",
    "    - Which Pokemon seems the most useful (largest `Total` value)?\n",
    "    - Come up with at least one other question that can be answered using SQL (and answer it).\n",
    "+ **EDA**: \n",
    "    - Calculate the percent of distinct Pokemon that are Legendary (distinct means unique Pokemon `#`).\n",
    "    - Make at least one barplot of a categorical variable\n",
    "    - Make at least one boxplot of continuous variables\n",
    "    - Make at least one boxplot of continuous variables grouped by a categorical variable\n",
    "+ **EDA/Statistics**: \n",
    "    - Calculate the mean and standard deviation of the `total` column for each Pokemon Type 1.\n",
    "    - Calculate the mean and standard deviation of at least one other continuous variable\n",
    "+ **Statistics/Random Sampling** - For the following questions, draw a sample of 100:\n",
    "    - Compare sample statistics & population statistics for Attack points.\n",
    "    - Make histograms of the Attack points sample & Attack points population.\n",
    "    - Compare sample statistics & population statistics for at least one other continuous variable.\n",
    "    - Make histograms of the Attack points sample & at least one other continuous variable in the population.\n",
    "+ **Probability**: Assume you are a Pokemaster and have caught every Pokemon. You pick 6 Pokemon at random to carry.\n",
    "     - What's the probability that they are all Water type? (probability of a Pokemon with Type 1 or Type 2 of `Water`)\n",
    "     - Come up with at least one more scenario for your set of six Pokemon and compute the probability of getting it."
   ]
  },
  {
   "cell_type": "markdown",
   "metadata": {},
   "source": [
    "# Statistics/Random Sampling"
   ]
  },
  {
   "cell_type": "code",
   "execution_count": 99,
   "metadata": {
    "collapsed": false
   },
   "outputs": [
    {
     "data": {
      "text/html": [
       "<div>\n",
       "<table border=\"1\" class=\"dataframe\">\n",
       "  <thead>\n",
       "    <tr style=\"text-align: right;\">\n",
       "      <th></th>\n",
       "      <th>num</th>\n",
       "      <th>name</th>\n",
       "      <th>type1</th>\n",
       "      <th>type2</th>\n",
       "      <th>total</th>\n",
       "      <th>hp</th>\n",
       "      <th>attack</th>\n",
       "      <th>defense</th>\n",
       "      <th>spatk</th>\n",
       "      <th>spdef</th>\n",
       "      <th>speed</th>\n",
       "      <th>generation</th>\n",
       "      <th>legendary</th>\n",
       "    </tr>\n",
       "  </thead>\n",
       "  <tbody>\n",
       "    <tr>\n",
       "      <th>338</th>\n",
       "      <td>310</td>\n",
       "      <td>Manectric</td>\n",
       "      <td>Electric</td>\n",
       "      <td>NaN</td>\n",
       "      <td>475</td>\n",
       "      <td>70</td>\n",
       "      <td>75</td>\n",
       "      <td>60</td>\n",
       "      <td>105</td>\n",
       "      <td>60</td>\n",
       "      <td>105</td>\n",
       "      <td>3</td>\n",
       "      <td>0</td>\n",
       "    </tr>\n",
       "    <tr>\n",
       "      <th>700</th>\n",
       "      <td>639</td>\n",
       "      <td>Terrakion</td>\n",
       "      <td>Rock</td>\n",
       "      <td>Fighting</td>\n",
       "      <td>580</td>\n",
       "      <td>91</td>\n",
       "      <td>129</td>\n",
       "      <td>90</td>\n",
       "      <td>72</td>\n",
       "      <td>90</td>\n",
       "      <td>108</td>\n",
       "      <td>5</td>\n",
       "      <td>1</td>\n",
       "    </tr>\n",
       "    <tr>\n",
       "      <th>401</th>\n",
       "      <td>366</td>\n",
       "      <td>Clamperl</td>\n",
       "      <td>Water</td>\n",
       "      <td>NaN</td>\n",
       "      <td>345</td>\n",
       "      <td>35</td>\n",
       "      <td>64</td>\n",
       "      <td>85</td>\n",
       "      <td>74</td>\n",
       "      <td>55</td>\n",
       "      <td>32</td>\n",
       "      <td>3</td>\n",
       "      <td>0</td>\n",
       "    </tr>\n",
       "    <tr>\n",
       "      <th>294</th>\n",
       "      <td>271</td>\n",
       "      <td>Lombre</td>\n",
       "      <td>Water</td>\n",
       "      <td>Grass</td>\n",
       "      <td>340</td>\n",
       "      <td>60</td>\n",
       "      <td>50</td>\n",
       "      <td>50</td>\n",
       "      <td>60</td>\n",
       "      <td>70</td>\n",
       "      <td>50</td>\n",
       "      <td>3</td>\n",
       "      <td>0</td>\n",
       "    </tr>\n",
       "    <tr>\n",
       "      <th>374</th>\n",
       "      <td>342</td>\n",
       "      <td>Crawdaunt</td>\n",
       "      <td>Water</td>\n",
       "      <td>Dark</td>\n",
       "      <td>468</td>\n",
       "      <td>63</td>\n",
       "      <td>120</td>\n",
       "      <td>85</td>\n",
       "      <td>90</td>\n",
       "      <td>55</td>\n",
       "      <td>55</td>\n",
       "      <td>3</td>\n",
       "      <td>0</td>\n",
       "    </tr>\n",
       "  </tbody>\n",
       "</table>\n",
       "</div>"
      ],
      "text/plain": [
       "     num       name     type1     type2  total  hp  attack  defense  spatk  \\\n",
       "338  310  Manectric  Electric       NaN    475  70      75       60    105   \n",
       "700  639  Terrakion      Rock  Fighting    580  91     129       90     72   \n",
       "401  366   Clamperl     Water       NaN    345  35      64       85     74   \n",
       "294  271     Lombre     Water     Grass    340  60      50       50     60   \n",
       "374  342  Crawdaunt     Water      Dark    468  63     120       85     90   \n",
       "\n",
       "     spdef  speed  generation  legendary  \n",
       "338     60    105           3          0  \n",
       "700     90    108           5          1  \n",
       "401     55     32           3          0  \n",
       "294     70     50           3          0  \n",
       "374     55     55           3          0  "
      ]
     },
     "execution_count": 99,
     "metadata": {},
     "output_type": "execute_result"
    }
   ],
   "source": [
    "pkmn_sample = pd.DataFrame(pkmn.sample(100))\n",
    "pkmn_sample.head()"
   ]
  },
  {
   "cell_type": "code",
   "execution_count": 126,
   "metadata": {
    "collapsed": false
   },
   "outputs": [],
   "source": [
    "µ_attack = pd.DataFrame(pkmn['attack'].describe()) \n",
    "xbar_attack = pd.DataFrame(pkmn_sample['attack'].describe())"
   ]
  },
  {
   "cell_type": "code",
   "execution_count": 127,
   "metadata": {
    "collapsed": false,
    "scrolled": true
   },
   "outputs": [
    {
     "data": {
      "text/html": [
       "<div>\n",
       "<table border=\"1\" class=\"dataframe\">\n",
       "  <thead>\n",
       "    <tr style=\"text-align: right;\">\n",
       "      <th></th>\n",
       "      <th>attack</th>\n",
       "    </tr>\n",
       "  </thead>\n",
       "  <tbody>\n",
       "    <tr>\n",
       "      <th>count</th>\n",
       "      <td>800.000000</td>\n",
       "    </tr>\n",
       "    <tr>\n",
       "      <th>mean</th>\n",
       "      <td>79.001250</td>\n",
       "    </tr>\n",
       "    <tr>\n",
       "      <th>std</th>\n",
       "      <td>32.457366</td>\n",
       "    </tr>\n",
       "    <tr>\n",
       "      <th>min</th>\n",
       "      <td>5.000000</td>\n",
       "    </tr>\n",
       "    <tr>\n",
       "      <th>25%</th>\n",
       "      <td>55.000000</td>\n",
       "    </tr>\n",
       "    <tr>\n",
       "      <th>50%</th>\n",
       "      <td>75.000000</td>\n",
       "    </tr>\n",
       "    <tr>\n",
       "      <th>75%</th>\n",
       "      <td>100.000000</td>\n",
       "    </tr>\n",
       "    <tr>\n",
       "      <th>max</th>\n",
       "      <td>190.000000</td>\n",
       "    </tr>\n",
       "  </tbody>\n",
       "</table>\n",
       "</div>"
      ],
      "text/plain": [
       "           attack\n",
       "count  800.000000\n",
       "mean    79.001250\n",
       "std     32.457366\n",
       "min      5.000000\n",
       "25%     55.000000\n",
       "50%     75.000000\n",
       "75%    100.000000\n",
       "max    190.000000"
      ]
     },
     "execution_count": 127,
     "metadata": {},
     "output_type": "execute_result"
    }
   ],
   "source": [
    "µ_attack"
   ]
  },
  {
   "cell_type": "code",
   "execution_count": 128,
   "metadata": {
    "collapsed": false
   },
   "outputs": [
    {
     "data": {
      "text/html": [
       "<div>\n",
       "<table border=\"1\" class=\"dataframe\">\n",
       "  <thead>\n",
       "    <tr style=\"text-align: right;\">\n",
       "      <th></th>\n",
       "      <th>attack</th>\n",
       "    </tr>\n",
       "  </thead>\n",
       "  <tbody>\n",
       "    <tr>\n",
       "      <th>count</th>\n",
       "      <td>100.000000</td>\n",
       "    </tr>\n",
       "    <tr>\n",
       "      <th>mean</th>\n",
       "      <td>78.990000</td>\n",
       "    </tr>\n",
       "    <tr>\n",
       "      <th>std</th>\n",
       "      <td>35.883227</td>\n",
       "    </tr>\n",
       "    <tr>\n",
       "      <th>min</th>\n",
       "      <td>5.000000</td>\n",
       "    </tr>\n",
       "    <tr>\n",
       "      <th>25%</th>\n",
       "      <td>54.750000</td>\n",
       "    </tr>\n",
       "    <tr>\n",
       "      <th>50%</th>\n",
       "      <td>76.000000</td>\n",
       "    </tr>\n",
       "    <tr>\n",
       "      <th>75%</th>\n",
       "      <td>100.000000</td>\n",
       "    </tr>\n",
       "    <tr>\n",
       "      <th>max</th>\n",
       "      <td>185.000000</td>\n",
       "    </tr>\n",
       "  </tbody>\n",
       "</table>\n",
       "</div>"
      ],
      "text/plain": [
       "           attack\n",
       "count  100.000000\n",
       "mean    78.990000\n",
       "std     35.883227\n",
       "min      5.000000\n",
       "25%     54.750000\n",
       "50%     76.000000\n",
       "75%    100.000000\n",
       "max    185.000000"
      ]
     },
     "execution_count": 128,
     "metadata": {},
     "output_type": "execute_result"
    }
   ],
   "source": [
    "xbar_attack"
   ]
  },
  {
   "cell_type": "code",
   "execution_count": 110,
   "metadata": {
    "collapsed": false
   },
   "outputs": [
    {
     "data": {
      "image/png": "[encoded data removed]",
      "text/plain": [
       "<matplotlib.figure.Figure at 0x11b821128>"
      ]
     },
     "metadata": {},
     "output_type": "display_data"
    }
   ],
   "source": [
    "µ = pkmn['attack']\n",
    "xbar = pkmn_sample['attack']\n",
    "sns.distplot(µ);"
   ]
  },
  {
   "cell_type": "code",
   "execution_count": 111,
   "metadata": {
    "collapsed": false
   },
   "outputs": [
    {
     "data": {
      "image/png": "[encoded data removed]",
      "text/plain": [
       "<matplotlib.figure.Figure at 0x11b5d7f28>"
      ]
     },
     "metadata": {},
     "output_type": "display_data"
    }
   ],
   "source": [
    "sns.distplot(xbar);"
   ]
  },
  {
   "cell_type": "code",
   "execution_count": 129,
   "metadata": {
    "collapsed": true
   },
   "outputs": [],
   "source": [
    "µ_defense = pd.DataFrame(pkmn['defense'].describe()) \n",
    "xbar_defense = pd.DataFrame(pkmn_sample['defense'].describe())"
   ]
  },
  {
   "cell_type": "code",
   "execution_count": 130,
   "metadata": {
    "collapsed": false
   },
   "outputs": [
    {
     "data": {
      "text/html": [
       "<div>\n",
       "<table border=\"1\" class=\"dataframe\">\n",
       "  <thead>\n",
       "    <tr style=\"text-align: right;\">\n",
       "      <th></th>\n",
       "      <th>defense</th>\n",
       "    </tr>\n",
       "  </thead>\n",
       "  <tbody>\n",
       "    <tr>\n",
       "      <th>count</th>\n",
       "      <td>800.000000</td>\n",
       "    </tr>\n",
       "    <tr>\n",
       "      <th>mean</th>\n",
       "      <td>73.842500</td>\n",
       "    </tr>\n",
       "    <tr>\n",
       "      <th>std</th>\n",
       "      <td>31.183501</td>\n",
       "    </tr>\n",
       "    <tr>\n",
       "      <th>min</th>\n",
       "      <td>5.000000</td>\n",
       "    </tr>\n",
       "    <tr>\n",
       "      <th>25%</th>\n",
       "      <td>50.000000</td>\n",
       "    </tr>\n",
       "    <tr>\n",
       "      <th>50%</th>\n",
       "      <td>70.000000</td>\n",
       "    </tr>\n",
       "    <tr>\n",
       "      <th>75%</th>\n",
       "      <td>90.000000</td>\n",
       "    </tr>\n",
       "    <tr>\n",
       "      <th>max</th>\n",
       "      <td>230.000000</td>\n",
       "    </tr>\n",
       "  </tbody>\n",
       "</table>\n",
       "</div>"
      ],
      "text/plain": [
       "          defense\n",
       "count  800.000000\n",
       "mean    73.842500\n",
       "std     31.183501\n",
       "min      5.000000\n",
       "25%     50.000000\n",
       "50%     70.000000\n",
       "75%     90.000000\n",
       "max    230.000000"
      ]
     },
     "execution_count": 130,
     "metadata": {},
     "output_type": "execute_result"
    }
   ],
   "source": [
    "µ_defense"
   ]
  },
  {
   "cell_type": "code",
   "execution_count": 131,
   "metadata": {
    "collapsed": false
   },
   "outputs": [
    {
     "data": {
      "text/html": [
       "<div>\n",
       "<table border=\"1\" class=\"dataframe\">\n",
       "  <thead>\n",
       "    <tr style=\"text-align: right;\">\n",
       "      <th></th>\n",
       "      <th>defense</th>\n",
       "    </tr>\n",
       "  </thead>\n",
       "  <tbody>\n",
       "    <tr>\n",
       "      <th>count</th>\n",
       "      <td>100.000000</td>\n",
       "    </tr>\n",
       "    <tr>\n",
       "      <th>mean</th>\n",
       "      <td>74.540000</td>\n",
       "    </tr>\n",
       "    <tr>\n",
       "      <th>std</th>\n",
       "      <td>36.699275</td>\n",
       "    </tr>\n",
       "    <tr>\n",
       "      <th>min</th>\n",
       "      <td>5.000000</td>\n",
       "    </tr>\n",
       "    <tr>\n",
       "      <th>25%</th>\n",
       "      <td>50.000000</td>\n",
       "    </tr>\n",
       "    <tr>\n",
       "      <th>50%</th>\n",
       "      <td>71.000000</td>\n",
       "    </tr>\n",
       "    <tr>\n",
       "      <th>75%</th>\n",
       "      <td>90.000000</td>\n",
       "    </tr>\n",
       "    <tr>\n",
       "      <th>max</th>\n",
       "      <td>230.000000</td>\n",
       "    </tr>\n",
       "  </tbody>\n",
       "</table>\n",
       "</div>"
      ],
      "text/plain": [
       "          defense\n",
       "count  100.000000\n",
       "mean    74.540000\n",
       "std     36.699275\n",
       "min      5.000000\n",
       "25%     50.000000\n",
       "50%     71.000000\n",
       "75%     90.000000\n",
       "max    230.000000"
      ]
     },
     "execution_count": 131,
     "metadata": {},
     "output_type": "execute_result"
    }
   ],
   "source": [
    "xbar_defense"
   ]
  },
  {
   "cell_type": "code",
   "execution_count": 121,
   "metadata": {
    "collapsed": false
   },
   "outputs": [
    {
     "data": {
      "image/png": "[encoded data removed]",
      "text/plain": [
       "<matplotlib.figure.Figure at 0x11b66c978>"
      ]
     },
     "metadata": {},
     "output_type": "display_data"
    }
   ],
   "source": [
    "mud = pkmn['defense']\n",
    "xbard = pkmn_sample['defense']\n",
    "sns.distplot(mud);"
   ]
  },
  {
   "cell_type": "code",
   "execution_count": 122,
   "metadata": {
    "collapsed": false
   },
   "outputs": [
    {
     "data": {
      "image/png": "[encoded data removed]",
      "text/plain": [
       "<matplotlib.figure.Figure at 0x11b90fcc0>"
      ]
     },
     "metadata": {},
     "output_type": "display_data"
    }
   ],
   "source": [
    "sns.distplot(xbard);"
   ]
  },
  {
   "cell_type": "markdown",
   "metadata": {},
   "source": [
    "# Probability"
   ]
  },
  {
   "cell_type": "markdown",
   "metadata": {},
   "source": [
    "+ **SQL**: \n",
    "    - Which Pokemon seems the most useful (largest `Total` value)?\n",
    "    - Come up with at least one other question that can be answered using SQL (and answer it).\n",
    "+ **EDA**: \n",
    "    - Calculate the percent of distinct Pokemon that are Legendary (distinct means unique Pokemon `#`).\n",
    "    - Make at least one barplot of a categorical variable\n",
    "    - Make at least one boxplot of continuous variables\n",
    "    - Make at least one boxplot of continuous variables grouped by a categorical variable\n",
    "+ **EDA/Statistics**: \n",
    "    - Calculate the mean and standard deviation of the `total` column for each Pokemon Type 1.\n",
    "    - Calculate the mean and standard deviation of at least one other continuous variable\n",
    "+ **Statistics/Random Sampling** - For the following questions, draw a sample of 100:\n",
    "    - Compare sample statistics & population statistics for Attack points.\n",
    "    - Make histograms of the Attack points sample & Attack points population.\n",
    "    - Compare sample statistics & population statistics for at least one other continuous variable.\n",
    "    - Make histograms of the Attack points sample & at least one other continuous variable in the population.\n",
    "+ **Probability**: Assume you are a Pokemaster and have caught every Pokemon. You pick 6 Pokemon at random to carry.\n",
    "     - What's the probability that they are all Water type? (probability of a Pokemon with Type 1 or Type 2 of `Water`)\n",
    "     - Come up with at least one more scenario for your set of six Pokemon and compute the probability of getting it."
   ]
  },
  {
   "cell_type": "code",
   "execution_count": 148,
   "metadata": {
    "collapsed": false
   },
   "outputs": [
    {
     "name": "stdout",
     "output_type": "stream",
     "text": [
      "Done.\n"
     ]
    },
    {
     "data": {
      "text/html": [
       "<table>\n",
       "    <tr>\n",
       "        <th>type1</th>\n",
       "        <th>type2</th>\n",
       "    </tr>\n",
       "    <tr>\n",
       "        <td>126</td>\n",
       "        <td>126</td>\n",
       "    </tr>\n",
       "</table>"
      ],
      "text/plain": [
       "[(126, 126)]"
      ]
     },
     "execution_count": 148,
     "metadata": {},
     "output_type": "execute_result"
    }
   ],
   "source": [
    "%%sql\n",
    "SELECT COUNT(*) type1, COUNT(*) type2 FROM pokemon WHERE type1 = 'Water' OR type2 = 'Water'"
   ]
  },
  {
   "cell_type": "code",
   "execution_count": 149,
   "metadata": {
    "collapsed": false
   },
   "outputs": [
    {
     "data": {
      "text/plain": [
       "0    Grass\n",
       "1    Grass\n",
       "2    Grass\n",
       "3    Grass\n",
       "4     Fire\n",
       "dtype: object"
      ]
     },
     "execution_count": 149,
     "metadata": {},
     "output_type": "execute_result"
    }
   ],
   "source": [
    "typed_pkmn = pd.Series(pd.concat([pkmn['type1'].dropna(), pkmn['type2'].dropna()]))\n",
    "typed_pkmn.head()"
   ]
  },
  {
   "cell_type": "code",
   "execution_count": 154,
   "metadata": {
    "collapsed": false
   },
   "outputs": [
    {
     "data": {
      "text/plain": [
       "126"
      ]
     },
     "execution_count": 154,
     "metadata": {},
     "output_type": "execute_result"
    }
   ],
   "source": [
    "sum(typed_pkmn.str.contains(\"Water\"))\n"
   ]
  },
  {
   "cell_type": "code",
   "execution_count": 160,
   "metadata": {
    "collapsed": false
   },
   "outputs": [
    {
     "data": {
      "text/plain": [
       "1.378e-05"
      ]
     },
     "execution_count": 160,
     "metadata": {},
     "output_type": "execute_result"
    }
   ],
   "source": [
    "P_six_water_type = (126/800)*(125/799)*(124/798)*(123/797)*(122/796)*(121/795)\n",
    "round(P_six_water_type, 8)"
   ]
  },
  {
   "cell_type": "markdown",
   "metadata": {},
   "source": [
    "Probability of choosing 6 Water type in a row is 0.001378%. Work show in cell above.\n",
    "\n",
    "For self-directed probability scenario, I want to know the probability of choosing a pokemon with 'total' of 500 or more and that it's a water type, P(T>500 intersect Water). Work shown below."
   ]
  },
  {
   "cell_type": "code",
   "execution_count": 168,
   "metadata": {
    "collapsed": false
   },
   "outputs": [
    {
     "name": "stdout",
     "output_type": "stream",
     "text": [
      "Done.\n"
     ]
    },
    {
     "data": {
      "text/html": [
       "<table>\n",
       "    <tr>\n",
       "        <th>percent</th>\n",
       "    </tr>\n",
       "    <tr>\n",
       "        <td>30.875</td>\n",
       "    </tr>\n",
       "</table>"
      ],
      "text/plain": [
       "[(30.875,)]"
      ]
     },
     "execution_count": 168,
     "metadata": {},
     "output_type": "execute_result"
    }
   ],
   "source": [
    "%%sql\n",
    "SELECT (SELECT COUNT(*) total FROM pokemon WHERE total >= 500) * 100. / (SELECT COUNT(*) total FROM pokemon) AS percent;"
   ]
  },
  {
   "cell_type": "code",
   "execution_count": 172,
   "metadata": {
    "collapsed": false
   },
   "outputs": [
    {
     "data": {
      "text/plain": [
       "0.1575"
      ]
     },
     "execution_count": 172,
     "metadata": {},
     "output_type": "execute_result"
    }
   ],
   "source": [
    "pTover_five = .30875\n",
    "water_type = sum(typed_pkmn.str.contains(\"Water\"))/len(pkmn)\n",
    "water_type"
   ]
  },
  {
   "cell_type": "code",
   "execution_count": 173,
   "metadata": {
    "collapsed": false
   },
   "outputs": [
    {
     "data": {
      "text/plain": [
       "0.048628125000000001"
      ]
     },
     "execution_count": 173,
     "metadata": {},
     "output_type": "execute_result"
    }
   ],
   "source": [
    "P_T_intersect_water = pTover_five * water_type\n",
    "P_T_intersect_water"
   ]
  },
  {
   "cell_type": "code",
   "execution_count": null,
   "metadata": {
    "collapsed": true
   },
   "outputs": [],
   "source": []
  }
 ],
 "metadata": {
  "anaconda-cloud": {},
  "kernelspec": {
   "display_name": "Python 3",
   "language": "python",
   "name": "python3"
  },
  "language_info": {
   "codemirror_mode": {
    "name": "ipython",
    "version": 3
   },
   "file_extension": ".py",
   "mimetype": "text/x-python",
   "name": "python",
   "nbconvert_exporter": "python",
   "pygments_lexer": "ipython3",
   "version": "3.5.2"
  }
 },
 "nbformat": 4,
 "nbformat_minor": 1
}
