{
 "cells": [
  {
   "cell_type": "markdown",
   "metadata": {},
   "source": [
    "# Lab 3.4: Jointly Distributed Random Variables\n",
    "\n",
    "## Outline\n",
    "- Covariance\n",
    "- Correlation \n",
    "- Independence\n",
    "- Joint probability distribution\n",
    "- Marginal probability distribution\n",
    "- Conditional probability distribution"
   ]
  },
  {
   "cell_type": "markdown",
   "metadata": {},
   "source": [
    "## Covariance\n",
    "\n",
    "Covariance measures how much 2 random variables change together:\n",
    "- **Covariance is positive when **\n",
    "  - `random variable 1` has a high value when `random variable 2` has a high value\n",
    "  - `random variable 1` has a low value when `random variable 2` has a low value\n",
    "\n",
    "<br>\n",
    "\n",
    "- **Covariance is negative when **\n",
    "  - `random variable 1` has a low value when `random variable 2` has a high value, and vice versa\n",
    "\n",
    "<br>\n",
    "\n",
    "- **Covariance is 0 when **\n",
    "  - `random variable 1` and `random variable 2` do not have any linear relationship\n"
   ]
  },
  {
   "cell_type": "markdown",
   "metadata": {},
   "source": [
    "- Here is the case when covariance is positive"
   ]
  },
  {
   "cell_type": "code",
   "execution_count": 1,
   "metadata": {
    "collapsed": false
   },
   "outputs": [
    {
     "name": "stdout",
     "output_type": "stream",
     "text": [
      "Populating the interactive namespace from numpy and matplotlib\n"
     ]
    }
   ],
   "source": [
    "%pylab inline"
   ]
  },
  {
   "cell_type": "code",
   "execution_count": 2,
   "metadata": {
    "collapsed": false
   },
   "outputs": [
    {
     "data": {
      "text/plain": [
       "array([[ 666.66666667,   79.        ],\n",
       "       [  79.        ,   30.33583333]])"
      ]
     },
     "execution_count": 2,
     "metadata": {},
     "output_type": "execute_result"
    }
   ],
   "source": [
    "x1 = array([10, -10, 30, 50])\n",
    "x2 = array([2.5, -3.4, 10, 2])\n",
    "\n",
    "cov(x1, x2)"
   ]
  },
  {
   "cell_type": "markdown",
   "metadata": {},
   "source": [
    "By default, `numpy` returns a covariance matrix, and it has the following form\n",
    "\n",
    "\\begin{bmatrix}\n",
    "    var(x1) & cov(x1, x2) \\\\\n",
    "    cov(x1, x2) & var(x2)\n",
    "\\end{bmatrix}\n",
    "\n",
    "So the covariance between `x1` and `x2` is 79"
   ]
  },
  {
   "cell_type": "markdown",
   "metadata": {},
   "source": [
    "- Here is the case when covariance is negative"
   ]
  },
  {
   "cell_type": "code",
   "execution_count": 3,
   "metadata": {
    "collapsed": false
   },
   "outputs": [
    {
     "data": {
      "text/plain": [
       "array([[ 666.66666667,  -79.        ],\n",
       "       [ -79.        ,   30.33583333]])"
      ]
     },
     "execution_count": 3,
     "metadata": {},
     "output_type": "execute_result"
    }
   ],
   "source": [
    "x1 = array([10, -10, 30, 50])\n",
    "x2 = array([-2.5, 3.4, -10, -2])\n",
    "\n",
    "# Calculate the covariance between x1 and x2\n",
    "# Your code here\n",
    "cov(x1,x2)"
   ]
  },
  {
   "cell_type": "markdown",
   "metadata": {},
   "source": [
    "- Here is the case when covariance is 0"
   ]
  },
  {
   "cell_type": "code",
   "execution_count": 4,
   "metadata": {
    "collapsed": false
   },
   "outputs": [
    {
     "data": {
      "text/plain": [
       "array([[  4.66666667,   0.        ],\n",
       "       [  0.        ,  14.        ]])"
      ]
     },
     "execution_count": 4,
     "metadata": {},
     "output_type": "execute_result"
    }
   ],
   "source": [
    "x1 = array([-3, -2, -1, 0, 1, 2, 3])\n",
    "x2 = array([9, 4, 1, 0, 1, 4, 9])\n",
    "\n",
    "# Calculate the covariance between x1 and x2\n",
    "# Your code here\n",
    "cov(x1,x2)"
   ]
  },
  {
   "cell_type": "markdown",
   "metadata": {},
   "source": [
    "## Correlation\n",
    "\n",
    "Correlation is convariance normalized by the standard deviations of the variables.\n",
    "\n",
    "Therefore, the same rules of covariance apply to correlation, except correlation is bounded between -1 and 1.\n",
    "\n",
    "Correlation provides a scaled measure of covariance so we can compare correlation across different datasets."
   ]
  },
  {
   "cell_type": "markdown",
   "metadata": {},
   "source": [
    "- Here is the case when correlation is positive"
   ]
  },
  {
   "cell_type": "code",
   "execution_count": 5,
   "metadata": {
    "collapsed": false
   },
   "outputs": [
    {
     "data": {
      "text/plain": [
       "array([[ 1.        ,  0.55551368],\n",
       "       [ 0.55551368,  1.        ]])"
      ]
     },
     "execution_count": 5,
     "metadata": {},
     "output_type": "execute_result"
    }
   ],
   "source": [
    "x1 = array([10, -10, 30, 50])\n",
    "x2 = array([2.5, -3.4, 10, 2])\n",
    "\n",
    "corrcoef(x1, x2)"
   ]
  },
  {
   "cell_type": "markdown",
   "metadata": {},
   "source": [
    "Again `numpy` returns a correlation matrix, and it has the following form:\n",
    "\n",
    "\\begin{bmatrix}\n",
    "    corr(x1, x1) & corr(x1, x2) \\\\\n",
    "    corr(x2, x1) & corr(x2, x2)\n",
    "\\end{bmatrix}\n",
    "\n",
    "The correlation of a variable with itself, i.e. $corr(x1, x1)$, is always 1."
   ]
  },
  {
   "cell_type": "markdown",
   "metadata": {},
   "source": [
    "- Here is the case when correlation is negative"
   ]
  },
  {
   "cell_type": "code",
   "execution_count": 5,
   "metadata": {
    "collapsed": false
   },
   "outputs": [
    {
     "data": {
      "text/plain": [
       "array([[ 1.        , -0.55551368],\n",
       "       [-0.55551368,  1.        ]])"
      ]
     },
     "execution_count": 5,
     "metadata": {},
     "output_type": "execute_result"
    }
   ],
   "source": [
    "x1 = array([10, -10, 30, 50])\n",
    "x2 = array([-2.5, 3.4, -10, -2])\n",
    "\n",
    "# Calculate the correlation between x1 and x2\n",
    "# Your code here\n",
    "corrcoef(x1,x2)"
   ]
  },
  {
   "cell_type": "markdown",
   "metadata": {},
   "source": [
    "- Here is the case when correlation is zero / undefined"
   ]
  },
  {
   "cell_type": "code",
   "execution_count": 6,
   "metadata": {
    "collapsed": false
   },
   "outputs": [
    {
     "data": {
      "text/plain": [
       "array([[ 1.,  0.],\n",
       "       [ 0.,  1.]])"
      ]
     },
     "execution_count": 6,
     "metadata": {},
     "output_type": "execute_result"
    }
   ],
   "source": [
    "x1 = array([-3, -2, -1, 0, 1, 2, 3])\n",
    "x2 = array([9, 4, 1, 0, 1, 4, 9])\n",
    "\n",
    "# Calculate the correlation between x1 and x2\n",
    "# Your code here\n",
    "corrcoef(x1,x2)"
   ]
  },
  {
   "cell_type": "markdown",
   "metadata": {},
   "source": [
    "## Independence\n",
    "\n",
    "\n",
    "### Continuous Random Variables\n",
    "\n",
    "If two random variables are correlated, then they are dependent.\n",
    "\n",
    "**However if two random variables are not correlated, it does not mean they are independent.**\n",
    "\n",
    "**Correlation describes linear dependencies between random variables, dependency can be described by other types of relationships**\n",
    "\n",
    "- The example below demonstrates the idea"
   ]
  },
  {
   "cell_type": "code",
   "execution_count": 7,
   "metadata": {
    "collapsed": false
   },
   "outputs": [
    {
     "name": "stdout",
     "output_type": "stream",
     "text": [
      "corr(x1, x2): 0.0\n"
     ]
    },
    {
     "data": {
      "image/png": "[encoded data removed]",
      "text/plain": [
       "<matplotlib.figure.Figure at 0x10c3ca710>"
      ]
     },
     "metadata": {},
     "output_type": "display_data"
    }
   ],
   "source": [
    "x1 = array([-3, -2, -1, 0, 1, 2, 3])\n",
    "x2 = array([9, 4, 1, 0, 1, 4, 9])\n",
    "\n",
    "print('corr(x1, x2):', corrcoef(x1, x2)[0,1])\n",
    "\n",
    "plot(x1, x2)\n",
    "xlabel('x1')\n",
    "ylabel('x2');"
   ]
  },
  {
   "cell_type": "markdown",
   "metadata": {},
   "source": [
    "$x_1$ and $x_2$ are clearly dependent, but since the relationship is perfectly quadratic, the correlation is 0."
   ]
  },
  {
   "cell_type": "markdown",
   "metadata": {},
   "source": [
    "### Discrete Random Variables\n",
    "\n",
    "\n",
    "**Independence can be estalished by:**\n",
    "\n",
    "$$p(x, y) = p(x) \\times p(y)$$\n",
    "\n",
    "Say we want to find out if being in Class A or Class B affects one chances of going to college and the data is given below.\n",
    "\n",
    "|   | Success | Fail |\n",
    "|---|---------|------|\n",
    "| A | 20      | 34   |\n",
    "| B | 15      | 12   |"
   ]
  },
  {
   "cell_type": "code",
   "execution_count": 9,
   "metadata": {
    "collapsed": false
   },
   "outputs": [
    {
     "name": "stdout",
     "output_type": "stream",
     "text": [
      "p(a) * p(success): 0.28806584362139914\n",
      "p(a and success): 0.24691358024691357\n"
     ]
    }
   ],
   "source": [
    "total = ((20 + 34) + (15 + 12))\n",
    "p_a = (20 + 34) / total\n",
    "p_success = (20 + 15) / total\n",
    "p_a_and_success = 20 / total\n",
    "print('p(a) * p(success):', p_a * p_success)\n",
    "print('p(a and success):', p_a_and_success)"
   ]
  },
  {
   "cell_type": "markdown",
   "metadata": {},
   "source": [
    "**Question**: Is getting into college independent of the two classes?"
   ]
  },
  {
   "cell_type": "markdown",
   "metadata": {},
   "source": [
    "## Joint / marginal / conditional probability distribution"
   ]
  },
  {
   "cell_type": "markdown",
   "metadata": {},
   "source": [
    "Joint / marginal / conditional distributions are useful for comparing **trends across different groups** in a dataset. \n",
    "\n",
    "Here we illustate how to use these techniques to conduct a **market segmentation analysis**."
   ]
  },
  {
   "cell_type": "markdown",
   "metadata": {},
   "source": [
    "- First we read in the data"
   ]
  },
  {
   "cell_type": "code",
   "execution_count": 3,
   "metadata": {
    "collapsed": false
   },
   "outputs": [
    {
     "data": {
      "text/html": [
       "<div>\n",
       "<table border=\"1\" class=\"dataframe\">\n",
       "  <thead>\n",
       "    <tr style=\"text-align: right;\">\n",
       "      <th></th>\n",
       "      <th>Product 1</th>\n",
       "      <th>Product 2</th>\n",
       "      <th>Product 3</th>\n",
       "      <th>Product 4</th>\n",
       "    </tr>\n",
       "  </thead>\n",
       "  <tbody>\n",
       "    <tr>\n",
       "      <th>Male</th>\n",
       "      <td>321</td>\n",
       "      <td>857</td>\n",
       "      <td>404</td>\n",
       "      <td>766</td>\n",
       "    </tr>\n",
       "    <tr>\n",
       "      <th>Female</th>\n",
       "      <td>65</td>\n",
       "      <td>471</td>\n",
       "      <td>443</td>\n",
       "      <td>192</td>\n",
       "    </tr>\n",
       "  </tbody>\n",
       "</table>\n",
       "</div>"
      ],
      "text/plain": [
       "        Product 1  Product 2  Product 3  Product 4\n",
       "Male          321        857        404        766\n",
       "Female         65        471        443        192"
      ]
     },
     "execution_count": 3,
     "metadata": {},
     "output_type": "execute_result"
    }
   ],
   "source": [
    "import pandas as pd\n",
    "\n",
    "pd.set_option('display.precision', 3)\n",
    "\n",
    "sales_data = pd.read_csv('https://s3-us-west-2.amazonaws.com/dsci/6002/data/gender_product_segmentation.csv', \n",
    "                         index_col=0)\n",
    "sales_data"
   ]
  },
  {
   "cell_type": "markdown",
   "metadata": {},
   "source": [
    "-  We get the sum of the rows and sum of the columns"
   ]
  },
  {
   "cell_type": "code",
   "execution_count": 9,
   "metadata": {
    "collapsed": false
   },
   "outputs": [
    {
     "name": "stdout",
     "output_type": "stream",
     "text": [
      "----- Row sums ----\n",
      "Male      2348\n",
      "Female    1171\n",
      "dtype: int64\n",
      "\n",
      "----- Col sums -----\n",
      "Product 1     386\n",
      "Product 2    1328\n",
      "Product 3     847\n",
      "Product 4     958\n",
      "dtype: int64\n",
      "\n",
      "----- Total sum ----\n",
      "3519\n"
     ]
    }
   ],
   "source": [
    "col_sum = sales_data.sum(axis=0)\n",
    "row_sum = sales_data.sum(axis=1)\n",
    "total_sum = sum(row_sum)\n",
    "# Write one line of code to compute the row sums here\n",
    "\n",
    "\n",
    "print('----- Row sums ----')\n",
    "print(row_sum)\n",
    "print() \n",
    "print('----- Col sums -----')\n",
    "print(col_sum)\n",
    "print() \n",
    "print('----- Total sum ----')\n",
    "print(total_sum)"
   ]
  },
  {
   "cell_type": "markdown",
   "metadata": {},
   "source": [
    "## Joint probabilities\n",
    "\n",
    "- To compute the joint probability, we divide each cell by the `total_sum`"
   ]
  },
  {
   "cell_type": "code",
   "execution_count": 10,
   "metadata": {
    "collapsed": false
   },
   "outputs": [
    {
     "data": {
      "text/html": [
       "<div>\n",
       "<table border=\"1\" class=\"dataframe\">\n",
       "  <thead>\n",
       "    <tr style=\"text-align: right;\">\n",
       "      <th></th>\n",
       "      <th>Product 1</th>\n",
       "      <th>Product 2</th>\n",
       "      <th>Product 3</th>\n",
       "      <th>Product 4</th>\n",
       "    </tr>\n",
       "  </thead>\n",
       "  <tbody>\n",
       "    <tr>\n",
       "      <th>Male</th>\n",
       "      <td>0.091</td>\n",
       "      <td>0.244</td>\n",
       "      <td>0.115</td>\n",
       "      <td>0.218</td>\n",
       "    </tr>\n",
       "    <tr>\n",
       "      <th>Female</th>\n",
       "      <td>0.018</td>\n",
       "      <td>0.134</td>\n",
       "      <td>0.126</td>\n",
       "      <td>0.055</td>\n",
       "    </tr>\n",
       "  </tbody>\n",
       "</table>\n",
       "</div>"
      ],
      "text/plain": [
       "        Product 1  Product 2  Product 3  Product 4\n",
       "Male        0.091      0.244      0.115      0.218\n",
       "Female      0.018      0.134      0.126      0.055"
      ]
     },
     "execution_count": 10,
     "metadata": {},
     "output_type": "execute_result"
    }
   ],
   "source": [
    "# Compute the joint probability and name is 'sales_joint'\n",
    "# sales_joint should have the same dimension as the original data table\n",
    "\n",
    "sales_joint = sales_data.apply(lambda x: (x/total_sum))\n",
    "\n",
    "sales_joint"
   ]
  },
  {
   "cell_type": "markdown",
   "metadata": {},
   "source": [
    "- To be explicit, the joint probabilities are:\n",
    "\n",
    "$$P(\\text{Product 1} \\cap \\text{Male}) = 0.09$$\n",
    "$$P(\\text{Product 2} \\cap \\text{Male}) = 0.24$$\n",
    "$$P(\\text{Product 3} \\cap \\text{Male}) = 0.11$$\n",
    "$$P(\\text{Product 4} \\cap \\text{Male}) = 0.22$$\n",
    "\n",
    "\n",
    "$$P(\\text{Product 1} \\cap \\text{Female}) = 0.02$$\n",
    "$$P(\\text{Product 2} \\cap \\text{Female}) = 0.13$$\n",
    "$$P(\\text{Product 3} \\cap \\text{Female}) = 0.13$$\n",
    "$$P(\\text{Product 4} \\cap \\text{Female}) = 0.05$$"
   ]
  },
  {
   "cell_type": "markdown",
   "metadata": {},
   "source": [
    "- Now let's visualize the joint probability distribution"
   ]
  },
  {
   "cell_type": "code",
   "execution_count": 13,
   "metadata": {
    "collapsed": false
   },
   "outputs": [
    {
     "data": {
      "image/png": "[encoded data removed]",
      "text/plain": [
       "<matplotlib.figure.Figure at 0x1157b0978>"
      ]
     },
     "metadata": {},
     "output_type": "display_data"
    }
   ],
   "source": [
    "sales_joint.plot(kind='bar', edgecolor='None', figsize=(10, 5))\n",
    "ylabel('$p(Gender \\cap Product)$', fontsize=20);"
   ]
  },
  {
   "cell_type": "markdown",
   "metadata": {},
   "source": [
    "Just by looking at the joint probability alone, it is tempting to conclude:\n",
    "- Male buyers prefer **Product 2, 4**\n",
    "- Female buyers prefer **Product 2, 3**\n",
    "\n",
    "Let's also look at the marginal probabilities as well."
   ]
  },
  {
   "cell_type": "markdown",
   "metadata": {},
   "source": [
    "##Marginal Probabilities\n",
    "\n",
    "A marginal probability is the sum of joint probabilities over the category of interest.\n",
    "\n",
    "Say we are interested in gender, the marginal probabilities here would be (`row sum / total sum`)"
   ]
  },
  {
   "cell_type": "code",
   "execution_count": 11,
   "metadata": {
    "collapsed": false
   },
   "outputs": [
    {
     "name": "stdout",
     "output_type": "stream",
     "text": [
      "Male    0.667\n",
      "dtype: float64\n",
      "Female    0.333\n",
      "dtype: float64\n"
     ]
    }
   ],
   "source": [
    "# Compute and print the marginal probabilities for gender\n",
    "\n",
    "male_row_sum = sales_joint[sales_joint.index=='Male'].sum(axis=1)\n",
    "female_row_sum = sales_joint[sales_joint.index=='Female'].sum(axis=1)\n",
    "\n",
    "print(male_row_sum)\n",
    "print(female_row_sum)"
   ]
  },
  {
   "cell_type": "markdown",
   "metadata": {},
   "source": [
    "There are twice as much male buyers compared to female buyers\n",
    "\n",
    "Since we are dividing each cell with the total count when we are calculating joint probabilities, we are not taking into account the skewed distribution of buyers of different genders\n",
    "\n",
    "**We need to take into account the fact that there are more male buyers**, and we turn to conditional probabilities for that."
   ]
  },
  {
   "cell_type": "markdown",
   "metadata": {},
   "source": [
    "## Conditional Probabilities"
   ]
  },
  {
   "cell_type": "markdown",
   "metadata": {},
   "source": [
    "Conditional probability is computed by considering each group of interest individually.\n",
    "\n",
    "We could look at female buyers as if there are no male buyers and only examine the female buyers' behavior. \n",
    "\n",
    "And the same applies to male buyers.\n",
    "\n",
    "To compute a conditional probability, we divide the row by the row sum of that corresponding row."
   ]
  },
  {
   "cell_type": "code",
   "execution_count": 12,
   "metadata": {
    "collapsed": false
   },
   "outputs": [
    {
     "data": {
      "text/html": [
       "<div>\n",
       "<table border=\"1\" class=\"dataframe\">\n",
       "  <thead>\n",
       "    <tr style=\"text-align: right;\">\n",
       "      <th></th>\n",
       "      <th>Product 1</th>\n",
       "      <th>Product 2</th>\n",
       "      <th>Product 3</th>\n",
       "      <th>Product 4</th>\n",
       "    </tr>\n",
       "  </thead>\n",
       "  <tbody>\n",
       "    <tr>\n",
       "      <th>Male</th>\n",
       "      <td>0.137</td>\n",
       "      <td>0.365</td>\n",
       "      <td>0.172</td>\n",
       "      <td>0.326</td>\n",
       "    </tr>\n",
       "    <tr>\n",
       "      <th>Female</th>\n",
       "      <td>0.056</td>\n",
       "      <td>0.402</td>\n",
       "      <td>0.378</td>\n",
       "      <td>0.164</td>\n",
       "    </tr>\n",
       "  </tbody>\n",
       "</table>\n",
       "</div>"
      ],
      "text/plain": [
       "        Product 1  Product 2  Product 3  Product 4\n",
       "Male        0.137      0.365      0.172      0.326\n",
       "Female      0.056      0.402      0.378      0.164"
      ]
     },
     "execution_count": 12,
     "metadata": {},
     "output_type": "execute_result"
    }
   ],
   "source": [
    "male_sum = row_sum[0]\n",
    "female_sum = row_sum[1]\n",
    "\n",
    "sales_data_conditional = sales_data.copy()\n",
    "sales_data_conditional.ix['Male'] = sales_data.ix['Male'] / male_sum\n",
    "# Compute the conditional distribution of buyers' behavior for female buyers\n",
    "sales_data_conditional.ix['Female'] = sales_data.ix['Female'] / female_sum\n",
    "\n",
    "sales_data_conditional"
   ]
  },
  {
   "cell_type": "markdown",
   "metadata": {},
   "source": [
    "- Now let's visualize the conditional probability distribution"
   ]
  },
  {
   "cell_type": "code",
   "execution_count": 13,
   "metadata": {
    "collapsed": false
   },
   "outputs": [
    {
     "data": {
      "image/png": "[encoded data removed]",
      "text/plain": [
       "<matplotlib.figure.Figure at 0x1172081d0>"
      ]
     },
     "metadata": {},
     "output_type": "display_data"
    }
   ],
   "source": [
    "sales_data_conditional.plot(kind='bar', edgecolor='None', figsize=(10, 5))\n",
    "ylabel('$p(Product | Gender)$', fontsize=20);"
   ]
  },
  {
   "cell_type": "markdown",
   "metadata": {},
   "source": [
    "Now we are treating female and male buyers equally regardless of the number of buyer for each gender\n",
    "\n",
    "We can conclude:\n",
    "- Male buyers prefer **Product 2,4**\n",
    "- Female buyers prefer **Product 2,3**"
   ]
  },
  {
   "cell_type": "markdown",
   "metadata": {},
   "source": [
    "## Exercises\n",
    "\n",
    "**Question 1**\n",
    "- Read in the file https://s3-us-west-2.amazonaws.com/dsci/6002/data/admissions.csv and complete the following tasks:\n",
    "   - Implement a function to calculate covariance (does not need to be in matrix form)\n",
    "   - Implement a function to calcualte correlation (does not need to be in matrix form)\n",
    "   - Identify the variable that is the most correlated with `gpa`"
   ]
  },
  {
   "cell_type": "code",
   "execution_count": 4,
   "metadata": {
    "collapsed": false
   },
   "outputs": [],
   "source": [
    "admissions = pd.read_csv('https://s3-us-west-2.amazonaws.com/dsci/6002/data/admissions.csv', \n",
    "                         index_col=0).reset_index()"
   ]
  },
  {
   "cell_type": "code",
   "execution_count": 5,
   "metadata": {
    "collapsed": false
   },
   "outputs": [
    {
     "data": {
      "text/plain": [
       "family_income     31402.00\n",
       "gpa                   3.18\n",
       "parent_avg_age       32.00\n",
       "Name: 0, dtype: float64"
      ]
     },
     "execution_count": 5,
     "metadata": {},
     "output_type": "execute_result"
    }
   ],
   "source": [
    "admissions.loc[0]"
   ]
  },
  {
   "cell_type": "code",
   "execution_count": 15,
   "metadata": {
    "collapsed": false,
    "scrolled": true
   },
   "outputs": [
    {
     "data": {
      "text/html": [
       "<div>\n",
       "<table border=\"1\" class=\"dataframe\">\n",
       "  <thead>\n",
       "    <tr style=\"text-align: right;\">\n",
       "      <th></th>\n",
       "      <th>family_income</th>\n",
       "      <th>gpa</th>\n",
       "      <th>parent_avg_age</th>\n",
       "    </tr>\n",
       "  </thead>\n",
       "  <tbody>\n",
       "    <tr>\n",
       "      <th>0</th>\n",
       "      <td>31402.0</td>\n",
       "      <td>3.18</td>\n",
       "      <td>32</td>\n",
       "    </tr>\n",
       "    <tr>\n",
       "      <th>1</th>\n",
       "      <td>32247.0</td>\n",
       "      <td>2.98</td>\n",
       "      <td>48</td>\n",
       "    </tr>\n",
       "    <tr>\n",
       "      <th>2</th>\n",
       "      <td>34732.0</td>\n",
       "      <td>2.85</td>\n",
       "      <td>61</td>\n",
       "    </tr>\n",
       "    <tr>\n",
       "      <th>3</th>\n",
       "      <td>53759.0</td>\n",
       "      <td>3.39</td>\n",
       "      <td>62</td>\n",
       "    </tr>\n",
       "    <tr>\n",
       "      <th>4</th>\n",
       "      <td>50952.0</td>\n",
       "      <td>3.10</td>\n",
       "      <td>45</td>\n",
       "    </tr>\n",
       "  </tbody>\n",
       "</table>\n",
       "</div>"
      ],
      "text/plain": [
       "   family_income   gpa  parent_avg_age\n",
       "0        31402.0  3.18              32\n",
       "1        32247.0  2.98              48\n",
       "2        34732.0  2.85              61\n",
       "3        53759.0  3.39              62\n",
       "4        50952.0  3.10              45"
      ]
     },
     "execution_count": 15,
     "metadata": {},
     "output_type": "execute_result"
    }
   ],
   "source": [
    "admissions.head()"
   ]
  },
  {
   "cell_type": "code",
   "execution_count": 16,
   "metadata": {
    "collapsed": true
   },
   "outputs": [],
   "source": [
    "def covariance(data,x,y):\n",
    "    return cov(data[x], data[y])"
   ]
  },
  {
   "cell_type": "code",
   "execution_count": 17,
   "metadata": {
    "collapsed": false
   },
   "outputs": [
    {
     "name": "stdout",
     "output_type": "stream",
     "text": [
      "('family_income', 'gpa')\n",
      "[[  3.32941046e+08   4.01529909e+03]\n",
      " [  4.01529909e+03   8.78911925e-02]] \n",
      "\n",
      "\n",
      "\n",
      "('family_income', 'parent_avg_age')\n",
      "[[  3.32941046e+08  -1.22632628e+03]\n",
      " [ -1.22632628e+03   1.12977442e+02]] \n",
      "\n",
      "\n",
      "\n",
      "('gpa', 'parent_avg_age')\n",
      "[[  8.78911925e-02  -2.87852599e-02]\n",
      " [ -2.87852599e-02   1.12977442e+02]] \n",
      "\n",
      "\n",
      "\n"
     ]
    },
    {
     "data": {
      "text/plain": [
       "'Covariance seems to be strongest between family_income and gpa.'"
      ]
     },
     "execution_count": 17,
     "metadata": {},
     "output_type": "execute_result"
    }
   ],
   "source": [
    "\"\"\"Iterate through each combination of admission's column vectors to examine the covariance of each pair of variables.\"\"\"\n",
    "import itertools\n",
    "\n",
    "admissions_columns = list(admissions.columns)\n",
    "column_combos = list(itertools.combinations(admissions_columns,2)) #Use itertools to generate a list of tuples containing\n",
    "                                                                    #all combinations of variables in the data set.\n",
    "for combo in column_combos:\n",
    "    print(combo)\n",
    "    print(covariance(admissions,combo[0],combo[1]),\"\\n\\n\\n\")\n",
    "    \n",
    "\"\"\"Covariance seems to be strongest between family_income and gpa.\"\"\""
   ]
  },
  {
   "cell_type": "code",
   "execution_count": 18,
   "metadata": {
    "collapsed": true
   },
   "outputs": [],
   "source": [
    "\"\"\"Define correlation function that takes a Pandas DataFrame and two column indices: x and y, as input. Returns\n",
    "correlation matrix.\"\"\"\n",
    "\n",
    "def correlation(data,x,y):\n",
    "    return corrcoef(data[x], data[y])"
   ]
  },
  {
   "cell_type": "code",
   "execution_count": 19,
   "metadata": {
    "collapsed": false
   },
   "outputs": [
    {
     "name": "stdout",
     "output_type": "stream",
     "text": [
      "('family_income', 'gpa')\n",
      "[[ 1.          0.74226939]\n",
      " [ 0.74226939  1.        ]] \n",
      "\n",
      "\n",
      "\n",
      "('family_income', 'parent_avg_age')\n",
      "[[ 1.         -0.00632305]\n",
      " [-0.00632305  1.        ]] \n",
      "\n",
      "\n",
      "\n",
      "('gpa', 'parent_avg_age')\n",
      "[[ 1.         -0.00913485]\n",
      " [-0.00913485  1.        ]] \n",
      "\n",
      "\n",
      "\n"
     ]
    },
    {
     "data": {
      "text/plain": [
       "'Family income has the strongest degree of correlation with GPA with a correlation value of 0.74\\nIn other words, there is a strong positive relationship between family income and GPA.'"
      ]
     },
     "execution_count": 19,
     "metadata": {},
     "output_type": "execute_result"
    }
   ],
   "source": [
    "\"\"\"Like the iteration above, print a correlation matrix for each combination of variables in the dataset.\"\"\"\n",
    "\n",
    "for combo in column_combos:\n",
    "    print(combo)\n",
    "    print(correlation(admissions,combo[0],combo[1]),\"\\n\\n\\n\")\n",
    "    \n",
    "\"\"\"Family income has the strongest degree of correlation with GPA with a correlation value of 0.74\n",
    "In other words, there is a strong positive relationship between family income and GPA.\"\"\""
   ]
  },
  {
   "cell_type": "markdown",
   "metadata": {},
   "source": [
    "**Question 2**\n",
    "- Is `gpa` independent of the `family_income`? Why or why not?"
   ]
  },
  {
   "cell_type": "code",
   "execution_count": 20,
   "metadata": {
    "collapsed": false
   },
   "outputs": [
    {
     "ename": "AssertionError",
     "evalue": "",
     "output_type": "error",
     "traceback": [
      "\u001b[0;31m---------------------------------------------------------------------------\u001b[0m",
      "\u001b[0;31mAssertionError\u001b[0m                            Traceback (most recent call last)",
      "\u001b[0;32m<ipython-input-20-b7047b54aee8>\u001b[0m in \u001b[0;36m<module>\u001b[0;34m()\u001b[0m\n\u001b[1;32m      2\u001b[0m \u001b[0;34m\"\"\"By definition, two variables are independent of one another if they have a covariance of zero. \"\"\"\u001b[0m\u001b[0;34m\u001b[0m\u001b[0m\n\u001b[1;32m      3\u001b[0m \u001b[0;34m\u001b[0m\u001b[0m\n\u001b[0;32m----> 4\u001b[0;31m \u001b[0;32massert\u001b[0m \u001b[0mcovariance\u001b[0m\u001b[0;34m(\u001b[0m\u001b[0madmissions\u001b[0m\u001b[0;34m,\u001b[0m \u001b[0;34m'gpa'\u001b[0m\u001b[0;34m,\u001b[0m \u001b[0;34m'family_income'\u001b[0m\u001b[0;34m)\u001b[0m\u001b[0;34m[\u001b[0m\u001b[0;36m0\u001b[0m\u001b[0;34m]\u001b[0m\u001b[0;34m[\u001b[0m\u001b[0;36m1\u001b[0m\u001b[0;34m]\u001b[0m \u001b[0;34m==\u001b[0m \u001b[0;36m0\u001b[0m\u001b[0;34m\u001b[0m\u001b[0m\n\u001b[0m",
      "\u001b[0;31mAssertionError\u001b[0m: "
     ]
    }
   ],
   "source": [
    "\n",
    "\"\"\"By definition, two variables are independent of one another if they have a covariance of zero. \"\"\"\n",
    "\n",
    "assert covariance(admissions, 'gpa', 'family_income')[0][1] == 0"
   ]
  },
  {
   "cell_type": "markdown",
   "metadata": {},
   "source": [
    "**Question 3**\n",
    "- By categorizing the `gpa` into low/medium/high and `family_income` into `low/medium/high` (choose cut-off values that make sense to you), compute the conditional probability distributions and conduct analysis about how `family_income` affects `gpa`."
   ]
  },
  {
   "cell_type": "code",
   "execution_count": 21,
   "metadata": {
    "collapsed": false,
    "scrolled": true
   },
   "outputs": [
    {
     "name": "stdout",
     "output_type": "stream",
     "text": [
      "GPA: \n",
      " count    10992.000\n",
      "mean         2.998\n",
      "std          0.296\n",
      "min          2.010\n",
      "25%          2.800\n",
      "50%          2.990\n",
      "75%          3.200\n",
      "max          3.970\n",
      "Name: gpa, dtype: float64 \n",
      "\n",
      "Family Income: \n",
      " count     10992.000\n",
      "mean      40191.637\n",
      "std       18246.672\n",
      "min         168.000\n",
      "25%       26832.750\n",
      "50%       37510.000\n",
      "75%       51112.250\n",
      "max      125508.000\n",
      "Name: family_income, dtype: float64\n"
     ]
    }
   ],
   "source": [
    "\n",
    "\"\"\"View summary statistics of each variable to inform our choice of cut-off values. Anthony had a \n",
    "little talk with Brian about 'binning' continuous variables into categories. He strongly advised \n",
    "against 'binning' continuous data into categories because you lower the fidelity of your \n",
    "information.\n",
    "\n",
    "Both of us had some doubts about 'cooking our data' in such an unexact manner. Rather than \n",
    "assigning a label to a sample point by eyeballing the distribution (which we do below), \n",
    "a better method might be to use k-nearest-neighbors to produce more 'natural' cateogries/segments. \n",
    "We look forward to learning more about classification methods in the near future!\n",
    "\"\"\"\n",
    "\n",
    "print(\"GPA: \\n\", admissions.gpa.describe(),\"\\n\\nFamily Income: \\n\", admissions.family_income.describe())"
   ]
  },
  {
   "cell_type": "code",
   "execution_count": 22,
   "metadata": {
    "collapsed": false
   },
   "outputs": [
    {
     "data": {
      "text/plain": [
       "'Credit to this Stack Overflow answer, which helped up use the pd.DataFram.apply method to apply\\nfunctions to all rows in a DataFrame.'"
      ]
     },
     "execution_count": 22,
     "metadata": {},
     "output_type": "execute_result"
    }
   ],
   "source": [
    "\"\"\"Credit to this Stack Overflow answer, which helped up use the pd.DataFram.apply method to apply\n",
    "functions to all rows in a DataFrame.\"\"\"\n",
    "\n",
    "#http://stackoverflow.com/questions/27041724/using-conditional-to-generate-new-column-in-pandas-dataframe"
   ]
  },
  {
   "cell_type": "code",
   "execution_count": 23,
   "metadata": {
    "collapsed": true
   },
   "outputs": [],
   "source": [
    "\"\"\"Logic for deciding whether a student is low, middle, or high income. \n",
    "\n",
    "Student is low-income if family_income is less than the 25th percentile.\n",
    "Student is medium-income if family_income is between the 25th and 75th percentiles.\n",
    "Student is high-income if family_income is above the 75th percentile.\"\"\"\n",
    "\n",
    "def income_bracket(data):\n",
    "    if data['family_income'] <= admissions.family_income.describe()[4]:\n",
    "        return 'low income'\n",
    "    elif data['family_income'] > admissions.family_income.describe()[4] and data['family_income'] <= admissions.family_income.describe()[6]:\n",
    "        return 'medium income'\n",
    "    else:\n",
    "        return 'high income'"
   ]
  },
  {
   "cell_type": "code",
   "execution_count": 24,
   "metadata": {
    "collapsed": true
   },
   "outputs": [],
   "source": [
    "\"\"\"Logic for deciding whether a student is low, middle, or high GPA. \n",
    "\n",
    "Student is low-gpa if gpa is less than the 25th percentile.\n",
    "Student is medium-gpa if gpa is between the 25th and 75th percentiles.\n",
    "Student is high-gpa if gpa is above the 75th percentile.\"\"\"\n",
    "\n",
    "def gpa_bracket(data):\n",
    "    if data['gpa'] <= admissions.gpa.describe()[4]:\n",
    "        return 'low gpa'\n",
    "    elif data['gpa'] > admissions.gpa.describe()[4] and data['gpa'] <= admissions.gpa.describe()[5]:\n",
    "        return 'medium gpa'\n",
    "    else:\n",
    "        return 'high gpa'"
   ]
  },
  {
   "cell_type": "code",
   "execution_count": 27,
   "metadata": {
    "collapsed": true
   },
   "outputs": [],
   "source": [
    "\"\"\"Applies the gpa_bracket and income_bracket functions to each row in the dataset, effectively assigning low, medium,\n",
    "or high to our new columns. This function is slow and takes a while, so please be patient.\"\"\"\n",
    "admissions['gpa_bracket'] = admissions.apply(gpa_bracket, axis=1)\n",
    "admissions['income_bracket'] = admissions.apply(income_bracket,axis=1)"
   ]
  },
  {
   "cell_type": "code",
   "execution_count": 28,
   "metadata": {
    "collapsed": false
   },
   "outputs": [
    {
     "data": {
      "text/html": [
       "<div>\n",
       "<table border=\"1\" class=\"dataframe\">\n",
       "  <thead>\n",
       "    <tr style=\"text-align: right;\">\n",
       "      <th></th>\n",
       "      <th>family_income</th>\n",
       "      <th>gpa</th>\n",
       "      <th>parent_avg_age</th>\n",
       "      <th>gpa_bracket</th>\n",
       "      <th>income_bracket</th>\n",
       "    </tr>\n",
       "  </thead>\n",
       "  <tbody>\n",
       "    <tr>\n",
       "      <th>0</th>\n",
       "      <td>31402.0</td>\n",
       "      <td>3.18</td>\n",
       "      <td>32</td>\n",
       "      <td>high gpa</td>\n",
       "      <td>medium income</td>\n",
       "    </tr>\n",
       "    <tr>\n",
       "      <th>1</th>\n",
       "      <td>32247.0</td>\n",
       "      <td>2.98</td>\n",
       "      <td>48</td>\n",
       "      <td>medium gpa</td>\n",
       "      <td>medium income</td>\n",
       "    </tr>\n",
       "    <tr>\n",
       "      <th>2</th>\n",
       "      <td>34732.0</td>\n",
       "      <td>2.85</td>\n",
       "      <td>61</td>\n",
       "      <td>medium gpa</td>\n",
       "      <td>medium income</td>\n",
       "    </tr>\n",
       "    <tr>\n",
       "      <th>3</th>\n",
       "      <td>53759.0</td>\n",
       "      <td>3.39</td>\n",
       "      <td>62</td>\n",
       "      <td>high gpa</td>\n",
       "      <td>high income</td>\n",
       "    </tr>\n",
       "    <tr>\n",
       "      <th>4</th>\n",
       "      <td>50952.0</td>\n",
       "      <td>3.10</td>\n",
       "      <td>45</td>\n",
       "      <td>high gpa</td>\n",
       "      <td>medium income</td>\n",
       "    </tr>\n",
       "  </tbody>\n",
       "</table>\n",
       "</div>"
      ],
      "text/plain": [
       "   family_income   gpa  parent_avg_age gpa_bracket income_bracket\n",
       "0        31402.0  3.18              32    high gpa  medium income\n",
       "1        32247.0  2.98              48  medium gpa  medium income\n",
       "2        34732.0  2.85              61  medium gpa  medium income\n",
       "3        53759.0  3.39              62    high gpa    high income\n",
       "4        50952.0  3.10              45    high gpa  medium income"
      ]
     },
     "execution_count": 28,
     "metadata": {},
     "output_type": "execute_result"
    }
   ],
   "source": [
    "\"\"\"Checkt to see that apply worked... success!\"\"\"\n",
    "admissions.head()"
   ]
  },
  {
   "cell_type": "code",
   "execution_count": 29,
   "metadata": {
    "collapsed": false
   },
   "outputs": [
    {
     "name": "stdout",
     "output_type": "stream",
     "text": [
      "Joint Probabilities\n"
     ]
    },
    {
     "data": {
      "text/html": [
       "<div>\n",
       "<table border=\"1\" class=\"dataframe\">\n",
       "  <thead>\n",
       "    <tr style=\"text-align: right;\">\n",
       "      <th>gpa_bracket</th>\n",
       "      <th>high gpa</th>\n",
       "      <th>low gpa</th>\n",
       "      <th>medium gpa</th>\n",
       "    </tr>\n",
       "    <tr>\n",
       "      <th>income_bracket</th>\n",
       "      <th></th>\n",
       "      <th></th>\n",
       "      <th></th>\n",
       "    </tr>\n",
       "  </thead>\n",
       "  <tbody>\n",
       "    <tr>\n",
       "      <th>high income</th>\n",
       "      <td>0.230</td>\n",
       "      <td>0.000</td>\n",
       "      <td>0.020</td>\n",
       "    </tr>\n",
       "    <tr>\n",
       "      <th>low income</th>\n",
       "      <td>0.027</td>\n",
       "      <td>0.163</td>\n",
       "      <td>0.060</td>\n",
       "    </tr>\n",
       "    <tr>\n",
       "      <th>medium income</th>\n",
       "      <td>0.240</td>\n",
       "      <td>0.095</td>\n",
       "      <td>0.165</td>\n",
       "    </tr>\n",
       "  </tbody>\n",
       "</table>\n",
       "</div>"
      ],
      "text/plain": [
       "gpa_bracket     high gpa  low gpa  medium gpa\n",
       "income_bracket                               \n",
       "high income        0.230    0.000       0.020\n",
       "low income         0.027    0.163       0.060\n",
       "medium income      0.240    0.095       0.165"
      ]
     },
     "execution_count": 29,
     "metadata": {},
     "output_type": "execute_result"
    }
   ],
   "source": [
    "\n",
    "\"\"\"Use pd.crosstab to create a joint probability table of income and gpa brackets.\"\"\"\n",
    "n = len(admissions)\n",
    "\n",
    "#Divides the count of each intersection by the total number of observations in the dataset.\n",
    "admissions_crstb = pd.crosstab(admissions.income_bracket,admissions.gpa_bracket).apply(lambda x: x/n, axis=1)\n",
    "\n",
    "print(\"Joint Probabilities\")\n",
    "admissions_crstb"
   ]
  },
  {
   "cell_type": "code",
   "execution_count": 30,
   "metadata": {
    "collapsed": false
   },
   "outputs": [
    {
     "data": {
      "image/png": "[encoded data removed]",
      "text/plain": [
       "<matplotlib.figure.Figure at 0x11b524748>"
      ]
     },
     "metadata": {},
     "output_type": "display_data"
    }
   ],
   "source": [
    "\"\"\"Plot the joint probabilities.\"\"\"\n",
    "\n",
    "admissions_crstb.plot(kind='bar', edgecolor='None', figsize=(10, 5))\n",
    "ylabel('$p(GPA \\cap Income)$', fontsize=20);"
   ]
  },
  {
   "cell_type": "markdown",
   "metadata": {},
   "source": [
    "\n",
    "The table above seems to support the notion that family income is a driver of student gpa. If you compare each diagonal element of this matrix versus its adjacent cells, you will notice sizeable discrepancies. In other words, students from high income families are most likely to have high gpas while having relatively low probabilities of earning medium or low gpas.\n",
    "I was struck by the variance in the diagonal elements: high income - high gpa has a higher joint probability (0.23) than low income - low gpa (0.163) and medium income - medium gpa (0.165).\n",
    "The bar plot above shows that students from medium-income families are just as likely as students from high-income families to get high gpas, whereas students from low-income families have a very low probability of earning a high gpa. Family income seems to be a gate-keeper for achieving a high gpa at the threshold between low and medium family income. In other words, if a student's family income is beyond the low-income bracket, than their family's income is less of a limiting factor on their potential gpa.\n",
    "\n",
    "We still need to account for the variance in sample size between each income bracket.\n",
    "Therefore, we need to calculate the conditional probabilities of each intersection by dividing the the student count at each intersection by the row-sum of each income bracket."
   ]
  },
  {
   "cell_type": "code",
   "execution_count": 31,
   "metadata": {
    "collapsed": true
   },
   "outputs": [],
   "source": [
    "\"\"\"Calculate row-sums.\"\"\"\n",
    "\n",
    "admissions_counts = pd.crosstab(admissions.income_bracket,admissions.gpa_bracket).apply(lambda x: x, axis=1)\n",
    "\n",
    "high_income_row_sum = float(admissions_counts[admissions_counts.index=='high income'].sum(axis=1))\n",
    "medium_income_row_sum = float(admissions_counts[admissions_counts.index=='medium income'].sum(axis=1))\n",
    "low_income_row_sum = float(admissions_counts[admissions_counts.index=='low income'].sum(axis=1))\n"
   ]
  },
  {
   "cell_type": "code",
   "execution_count": 32,
   "metadata": {
    "collapsed": false
   },
   "outputs": [
    {
     "name": "stdout",
     "output_type": "stream",
     "text": [
      "Conditional Probabilities\n"
     ]
    },
    {
     "data": {
      "text/html": [
       "<div>\n",
       "<table border=\"1\" class=\"dataframe\">\n",
       "  <thead>\n",
       "    <tr style=\"text-align: right;\">\n",
       "      <th>gpa_bracket</th>\n",
       "      <th>high gpa</th>\n",
       "      <th>low gpa</th>\n",
       "      <th>medium gpa</th>\n",
       "    </tr>\n",
       "    <tr>\n",
       "      <th>income_bracket</th>\n",
       "      <th></th>\n",
       "      <th></th>\n",
       "      <th></th>\n",
       "    </tr>\n",
       "  </thead>\n",
       "  <tbody>\n",
       "    <tr>\n",
       "      <th>high income</th>\n",
       "      <td>0.920</td>\n",
       "      <td>0.000</td>\n",
       "      <td>0.080</td>\n",
       "    </tr>\n",
       "    <tr>\n",
       "      <th>low income</th>\n",
       "      <td>0.108</td>\n",
       "      <td>0.653</td>\n",
       "      <td>0.238</td>\n",
       "    </tr>\n",
       "    <tr>\n",
       "      <th>medium income</th>\n",
       "      <td>0.481</td>\n",
       "      <td>0.190</td>\n",
       "      <td>0.329</td>\n",
       "    </tr>\n",
       "  </tbody>\n",
       "</table>\n",
       "</div>"
      ],
      "text/plain": [
       "gpa_bracket     high gpa  low gpa  medium gpa\n",
       "income_bracket                               \n",
       "high income        0.920    0.000       0.080\n",
       "low income         0.108    0.653       0.238\n",
       "medium income      0.481    0.190       0.329"
      ]
     },
     "execution_count": 32,
     "metadata": {},
     "output_type": "execute_result"
    }
   ],
   "source": [
    "\"\"\"Create conditional probability dataframe by dividing intersection count by the row-sum's \n",
    "calculated above.\"\"\"\n",
    "\n",
    "admissions_conditional = admissions_counts.copy()\n",
    "\n",
    "admissions_conditional.ix['high income'] = admissions_conditional.ix['high income'] / high_income_row_sum\n",
    "admissions_conditional.ix['medium income'] = admissions_conditional.ix['medium income'] / medium_income_row_sum\n",
    "admissions_conditional.ix['low income'] = admissions_conditional.ix['low income'] / low_income_row_sum\n",
    "\n",
    "print(\"Conditional Probabilities\")\n",
    "admissions_conditional"
   ]
  },
  {
   "cell_type": "code",
   "execution_count": 33,
   "metadata": {
    "collapsed": false
   },
   "outputs": [
    {
     "data": {
      "image/png": "[encoded data removed]",
      "text/plain": [
       "<matplotlib.figure.Figure at 0x11722c668>"
      ]
     },
     "metadata": {},
     "output_type": "display_data"
    }
   ],
   "source": [
    "\"\"\"Plot the conditional probabilities.\"\"\"\n",
    "\n",
    "admissions_conditional.plot(kind='bar', edgecolor='None', figsize=(10, 5))\n",
    "ylabel('$p(GPA | Income)$', fontsize=20);"
   ]
  },
  {
   "cell_type": "markdown",
   "metadata": {},
   "source": [
    "After treating each family income bracket equally regardless of the number of observations within each bracket we can conclude:\n",
    "*Given that a student comes from a high income family, there is a very high probability (0.92) that the student will have a high GPA, while there is a very low probability of the student having a non-high GPA (0.08).\n",
    "*Given that a student comes from a low-income family, there is also a high probability (0.65) that they will have a low-GPA. Students from low-income families have the lowest likelihood of attaining high GPAs (0.10).\n",
    "*Students from medium income families are less constrained by income in their likelihood for achieving higher GPAs. However, they do not have the same level of assurance that a student from a high-income family has for attaining a high GPA."
   ]
  },
  {
   "cell_type": "code",
   "execution_count": null,
   "metadata": {
    "collapsed": true
   },
   "outputs": [],
   "source": []
  }
 ],
 "metadata": {
  "anaconda-cloud": {},
  "kernelspec": {
   "display_name": "Python 3",
   "language": "python",
   "name": "python3"
  },
  "language_info": {
   "codemirror_mode": {
    "name": "ipython",
    "version": 3
   },
   "file_extension": ".py",
   "mimetype": "text/x-python",
   "name": "python",
   "nbconvert_exporter": "python",
   "pygments_lexer": "ipython3",
   "version": "3.5.2"
  }
 },
 "nbformat": 4,
 "nbformat_minor": 0
}
