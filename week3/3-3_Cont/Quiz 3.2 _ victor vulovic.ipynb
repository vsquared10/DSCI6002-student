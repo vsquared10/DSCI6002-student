{
 "cells": [
  {
   "cell_type": "markdown",
   "metadata": {},
   "source": [
    "Question 1:\n",
    "\n",
    "This is a Binomial Distribution where $n = 5, p = .3, and\\ q = 1-p = .7$\n",
    "\n",
    "$P(X = 2) = \\binom{n}{x}p^x(1-p)^n-x\\\\ P(X = 2) = \\binom{5}{2}(.3)^{2} * (.7)^{3}\\\\ P(X = 2) = .3087 $"
   ]
  },
  {
   "cell_type": "markdown",
   "metadata": {},
   "source": [
    "Question 2:\n",
    "\n",
    "The most appropriate application is a Poisson distribution where $\\mu = \\lambda = 2$\n",
    "P(X=0) = failure = no houses sold\n",
    "P(X=1) = success = average of 3 houses sold\n",
    "\n",
    "For Poisson distribution:\n",
    "\n",
    "$\\mu = 2 = p\\\\ P(X = 0) = \\frac{2^3}{3!} * e^{-2} = .1804 $"
   ]
  },
  {
   "cell_type": "markdown",
   "metadata": {},
   "source": [
    "Question 3:\n",
    "\n",
    "This would best be answered with a Geometric Distribution where $p = .7, and\\ \\mu = \\frac{1}{p}$\n",
    "\n",
    "$\\mu = \\frac{1}{p}\\\\ \\mu = \\frac{1}{.7} \\ = 1.42$\n",
    "\n",
    "Incomplete...didn't have time to finish"
   ]
  },
  {
   "cell_type": "code",
   "execution_count": null,
   "metadata": {
    "collapsed": true
   },
   "outputs": [],
   "source": []
  }
 ],
 "metadata": {
  "kernelspec": {
   "display_name": "Python 3",
   "language": "python",
   "name": "python3"
  },
  "language_info": {
   "codemirror_mode": {
    "name": "ipython",
    "version": 3
   },
   "file_extension": ".py",
   "mimetype": "text/x-python",
   "name": "python",
   "nbconvert_exporter": "python",
   "pygments_lexer": "ipython3",
   "version": "3.5.2"
  }
 },
 "nbformat": 4,
 "nbformat_minor": 0
}
