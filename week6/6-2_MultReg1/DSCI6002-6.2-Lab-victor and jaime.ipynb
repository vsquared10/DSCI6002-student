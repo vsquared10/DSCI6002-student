{
 "cells": [
  {
   "cell_type": "markdown",
   "metadata": {
    "deletable": true,
    "editable": true
   },
   "source": [
    "# Lab 6.2: Linear Regression"
   ]
  },
  {
   "cell_type": "code",
   "execution_count": 2,
   "metadata": {
    "collapsed": false,
    "deletable": true,
    "editable": true
   },
   "outputs": [
    {
     "name": "stdout",
     "output_type": "stream",
     "text": [
      "Populating the interactive namespace from numpy and matplotlib\n"
     ]
    }
   ],
   "source": [
    "%pylab inline\n",
    "\n",
    "import pandas as pd\n",
    "import statsmodels.api as sm\n",
    "import yaml\n",
    "\n",
    "from seaborn import pairplot\n",
    "from sqlalchemy import create_engine\n",
    "\n",
    "pg_creds = yaml.load(open('../../pg_creds.yaml'))['student']\n",
    "\n",
    "engine = create_engine('postgresql://{user}:{password}@{host}:{port}/{dbname}'.format(**pg_creds))\n",
    "\n",
    "cars = pd.read_sql(\"SELECT * FROM cars WHERE horsepower IS NOT NULL;\", engine, index_col='index')"
   ]
  },
  {
   "cell_type": "markdown",
   "metadata": {
    "deletable": true,
    "editable": true
   },
   "source": [
    "**Question 1**  \n",
    "\n",
    "Using the cars data,\n",
    "\n",
    "1) Fit a simple linear regression to predict `mpg` using `weight`.  "
   ]
  },
  {
   "cell_type": "code",
   "execution_count": 2,
   "metadata": {
    "collapsed": false,
    "deletable": true,
    "editable": true,
    "scrolled": true
   },
   "outputs": [
    {
     "data": {
      "image/png": "[encoded data removed]",
      "text/plain": [
       "<matplotlib.figure.Figure at 0x106085860>"
      ]
     },
     "metadata": {},
     "output_type": "display_data"
    }
   ],
   "source": [
    "cars.plot('weight', 'mpg', kind='scatter');"
   ]
  },
  {
   "cell_type": "code",
   "execution_count": 3,
   "metadata": {
    "collapsed": false,
    "deletable": true,
    "editable": true,
    "scrolled": true
   },
   "outputs": [
    {
     "data": {
      "text/html": [
       "<table class=\"simpletable\">\n",
       "<caption>OLS Regression Results</caption>\n",
       "<tr>\n",
       "  <th>Dep. Variable:</th>           <td>mpg</td>       <th>  R-squared:         </th> <td>   0.693</td> \n",
       "</tr>\n",
       "<tr>\n",
       "  <th>Model:</th>                   <td>OLS</td>       <th>  Adj. R-squared:    </th> <td>   0.692</td> \n",
       "</tr>\n",
       "<tr>\n",
       "  <th>Method:</th>             <td>Least Squares</td>  <th>  F-statistic:       </th> <td>   878.8</td> \n",
       "</tr>\n",
       "<tr>\n",
       "  <th>Date:</th>             <td>Wed, 05 Oct 2016</td> <th>  Prob (F-statistic):</th> <td>6.02e-102</td>\n",
       "</tr>\n",
       "<tr>\n",
       "  <th>Time:</th>                 <td>12:25:47</td>     <th>  Log-Likelihood:    </th> <td> -1130.0</td> \n",
       "</tr>\n",
       "<tr>\n",
       "  <th>No. Observations:</th>      <td>   392</td>      <th>  AIC:               </th> <td>   2264.</td> \n",
       "</tr>\n",
       "<tr>\n",
       "  <th>Df Residuals:</th>          <td>   390</td>      <th>  BIC:               </th> <td>   2272.</td> \n",
       "</tr>\n",
       "<tr>\n",
       "  <th>Df Model:</th>              <td>     1</td>      <th>                     </th>     <td> </td>    \n",
       "</tr>\n",
       "<tr>\n",
       "  <th>Covariance Type:</th>      <td>nonrobust</td>    <th>                     </th>     <td> </td>    \n",
       "</tr>\n",
       "</table>\n",
       "<table class=\"simpletable\">\n",
       "<tr>\n",
       "     <td></td>       <th>coef</th>     <th>std err</th>      <th>t</th>      <th>P>|t|</th> <th>[95.0% Conf. Int.]</th> \n",
       "</tr>\n",
       "<tr>\n",
       "  <th>const</th>  <td>   46.2165</td> <td>    0.799</td> <td>   57.867</td> <td> 0.000</td> <td>   44.646    47.787</td>\n",
       "</tr>\n",
       "<tr>\n",
       "  <th>weight</th> <td>   -0.0076</td> <td>    0.000</td> <td>  -29.645</td> <td> 0.000</td> <td>   -0.008    -0.007</td>\n",
       "</tr>\n",
       "</table>\n",
       "<table class=\"simpletable\">\n",
       "<tr>\n",
       "  <th>Omnibus:</th>       <td>41.682</td> <th>  Durbin-Watson:     </th> <td>   0.808</td>\n",
       "</tr>\n",
       "<tr>\n",
       "  <th>Prob(Omnibus):</th> <td> 0.000</td> <th>  Jarque-Bera (JB):  </th> <td>  60.039</td>\n",
       "</tr>\n",
       "<tr>\n",
       "  <th>Skew:</th>          <td> 0.727</td> <th>  Prob(JB):          </th> <td>9.18e-14</td>\n",
       "</tr>\n",
       "<tr>\n",
       "  <th>Kurtosis:</th>      <td> 4.251</td> <th>  Cond. No.          </th> <td>1.13e+04</td>\n",
       "</tr>\n",
       "</table>"
      ],
      "text/plain": [
       "<class 'statsmodels.iolib.summary.Summary'>\n",
       "\"\"\"\n",
       "                            OLS Regression Results                            \n",
       "==============================================================================\n",
       "Dep. Variable:                    mpg   R-squared:                       0.693\n",
       "Model:                            OLS   Adj. R-squared:                  0.692\n",
       "Method:                 Least Squares   F-statistic:                     878.8\n",
       "Date:                Wed, 05 Oct 2016   Prob (F-statistic):          6.02e-102\n",
       "Time:                        12:25:47   Log-Likelihood:                -1130.0\n",
       "No. Observations:                 392   AIC:                             2264.\n",
       "Df Residuals:                     390   BIC:                             2272.\n",
       "Df Model:                           1                                         \n",
       "Covariance Type:            nonrobust                                         \n",
       "==============================================================================\n",
       "                 coef    std err          t      P>|t|      [95.0% Conf. Int.]\n",
       "------------------------------------------------------------------------------\n",
       "const         46.2165      0.799     57.867      0.000        44.646    47.787\n",
       "weight        -0.0076      0.000    -29.645      0.000        -0.008    -0.007\n",
       "==============================================================================\n",
       "Omnibus:                       41.682   Durbin-Watson:                   0.808\n",
       "Prob(Omnibus):                  0.000   Jarque-Bera (JB):               60.039\n",
       "Skew:                           0.727   Prob(JB):                     9.18e-14\n",
       "Kurtosis:                       4.251   Cond. No.                     1.13e+04\n",
       "==============================================================================\n",
       "\n",
       "Warnings:\n",
       "[1] Standard Errors assume that the covariance matrix of the errors is correctly specified.\n",
       "[2] The condition number is large, 1.13e+04. This might indicate that there are\n",
       "strong multicollinearity or other numerical problems.\n",
       "\"\"\""
      ]
     },
     "execution_count": 3,
     "metadata": {},
     "output_type": "execute_result"
    }
   ],
   "source": [
    "X = cars.weight\n",
    "X = sm.add_constant(X)\n",
    "y = cars.mpg\n",
    "\n",
    "model = sm.OLS(y,X)\n",
    "results = model.fit()\n",
    "results.summary()"
   ]
  },
  {
   "cell_type": "markdown",
   "metadata": {
    "deletable": true,
    "editable": true
   },
   "source": [
    "### Model\n",
    "\n",
    "$y = 46.22 - .0076x$"
   ]
  },
  {
   "cell_type": "markdown",
   "metadata": {
    "deletable": true,
    "editable": true
   },
   "source": [
    "2) Comment on the model fit.  "
   ]
  },
  {
   "cell_type": "markdown",
   "metadata": {
    "deletable": true,
    "editable": true
   },
   "source": [
    "#### Answer 1.2\n",
    "\n",
    "Our model only explains roughly 69% of the variance, judging by our R^2 statistic. Also, the p-value of our weight coefficient seems to be a decent predictor of mpg. If we add in more explanatory variables, we could potentially increase our R^2"
   ]
  },
  {
   "cell_type": "markdown",
   "metadata": {
    "deletable": true,
    "editable": true
   },
   "source": [
    "3) Interpret the model. "
   ]
  },
  {
   "cell_type": "markdown",
   "metadata": {
    "deletable": true,
    "editable": true
   },
   "source": [
    "#### Answer 1.3\n",
    "\n",
    "For every one unit increase in weight, mpg will decrease by .0076 mpg."
   ]
  },
  {
   "cell_type": "markdown",
   "metadata": {
    "deletable": true,
    "editable": true
   },
   "source": [
    "4) Is `weight` useful for predicting `mpg`? Carry out a formal hypothesis test to show it.  "
   ]
  },
  {
   "cell_type": "markdown",
   "metadata": {
    "deletable": true,
    "editable": true
   },
   "source": [
    "#### Answer 1.4\n",
    "\n",
    "$$ H_0: \\beta_1 = 0$$  \n",
    "$$ H_a: \\beta_1 \\neq 0$$ \n",
    "\n",
    "$\\text{Our model summary tells us that the p-value for} \\ \\beta_1 \\ \\text{is almost zero, so we can reject the null that it weight doesn't have an effect on mpg}$"
   ]
  },
  {
   "cell_type": "markdown",
   "metadata": {
    "deletable": true,
    "editable": true
   },
   "source": [
    "5) Make a prediction for the average `mpg` of all cars that have a weight of 2000.  "
   ]
  },
  {
   "cell_type": "code",
   "execution_count": 4,
   "metadata": {
    "collapsed": false,
    "deletable": true,
    "editable": true
   },
   "outputs": [
    {
     "data": {
      "text/plain": [
       "array([ 30.26741098,  31.57626797])"
      ]
     },
     "execution_count": 4,
     "metadata": {},
     "output_type": "execute_result"
    }
   ],
   "source": [
    "x = cars.weight\n",
    "se = sqrt(results.mse_resid)\n",
    "b0, b1 = results.params\n",
    "\n",
    "x_new = 2000\n",
    "\n",
    "def confidence_se(s_e, x, x_new):\n",
    "    mean_x = x.mean()\n",
    "    var_x = x.var()\n",
    "    n = len(x)\n",
    "    return s_e * (1/n + (x_new - mean_x)**2 / ((n - 1) * var_x))**0.5\n",
    "\n",
    "sign = array([-1., 1.])\n",
    "b0 + b1 * x_new + sign * 1.96 * confidence_se(se, x, x_new) # this is our 95% CI for the average mpg of cars with weight of 2000"
   ]
  },
  {
   "cell_type": "code",
   "execution_count": 5,
   "metadata": {
    "collapsed": false,
    "deletable": true,
    "editable": true
   },
   "outputs": [
    {
     "name": "stdout",
     "output_type": "stream",
     "text": [
      "prediction of average mpg for cars with weight 2000 is [ 30.92]\n"
     ]
    }
   ],
   "source": [
    "print(\"prediction of average mpg for cars with weight 2000 is\", np.round(results.predict([1, 2000]),2))"
   ]
  },
  {
   "cell_type": "markdown",
   "metadata": {
    "deletable": true,
    "editable": true
   },
   "source": [
    "6) Make a prediction for a particular car that has a weight of 2000.  "
   ]
  },
  {
   "cell_type": "code",
   "execution_count": 6,
   "metadata": {
    "collapsed": false,
    "deletable": true,
    "editable": true
   },
   "outputs": [
    {
     "data": {
      "text/plain": [
       "array([ 22.40454496,  39.439134  ])"
      ]
     },
     "execution_count": 6,
     "metadata": {},
     "output_type": "execute_result"
    }
   ],
   "source": [
    "def prediction_se(s_e, x, x_new):\n",
    "    mean_x = x.mean()\n",
    "    var_x = x.var()\n",
    "    n = len(x)\n",
    "    return s_e * (1 + 1/n + (x_new - mean_x)**2 / ((n - 1) * var_x))**0.5\n",
    "\n",
    "b0 + b1 * x_new + sign * 1.96 * prediction_se(se, x, x_new) # this is our 95% CI for the mpg of a particular car with weight of 2000"
   ]
  },
  {
   "cell_type": "code",
   "execution_count": 7,
   "metadata": {
    "collapsed": false,
    "deletable": true,
    "editable": true
   },
   "outputs": [
    {
     "name": "stdout",
     "output_type": "stream",
     "text": [
      "prediction of mpg for a particular car with weight 2000 is [ 30.92]\n"
     ]
    }
   ],
   "source": [
    "print(\"prediction of mpg for a particular car with weight 2000 is\", np.round(results.predict([1, 2000]),2))"
   ]
  },
  {
   "cell_type": "markdown",
   "metadata": {
    "deletable": true,
    "editable": true
   },
   "source": [
    "7) Write a Python function to calculate the confidence interval for your prediction in part 5).  "
   ]
  },
  {
   "cell_type": "code",
   "execution_count": 8,
   "metadata": {
    "collapsed": false,
    "deletable": true,
    "editable": true
   },
   "outputs": [
    {
     "data": {
      "text/plain": [
       "array([ 30.26741098,  31.57626797])"
      ]
     },
     "execution_count": 8,
     "metadata": {},
     "output_type": "execute_result"
    }
   ],
   "source": [
    "def CI_average(b0, b1, x_new, sign, se):\n",
    "    return b0 + b1 * x_new + sign * 1.96 * confidence_se(se, x, x_new)\n",
    "\n",
    "CI_average(b0, b1, x_new, sign, se)"
   ]
  },
  {
   "cell_type": "markdown",
   "metadata": {
    "deletable": true,
    "editable": true
   },
   "source": [
    "8) Write a Python function to calculate the prediction interval for your prediction in part 6).  "
   ]
  },
  {
   "cell_type": "code",
   "execution_count": 9,
   "metadata": {
    "collapsed": false,
    "deletable": true,
    "editable": true
   },
   "outputs": [
    {
     "data": {
      "text/plain": [
       "array([ 22.40454496,  39.439134  ])"
      ]
     },
     "execution_count": 9,
     "metadata": {},
     "output_type": "execute_result"
    }
   ],
   "source": [
    "def CI_particular(b0, b1, x_new, sign, se):\n",
    "    return b0 + b1 * x_new + sign * 1.96 * prediction_se(se, x, x_new)\n",
    "\n",
    "CI_particular(b0, b1, x_new, sign, se)"
   ]
  },
  {
   "cell_type": "markdown",
   "metadata": {
    "deletable": true,
    "editable": true
   },
   "source": [
    "9) What are the differences between the intervals you found in parts 7) and 8)?"
   ]
  },
  {
   "cell_type": "markdown",
   "metadata": {
    "deletable": true,
    "editable": true
   },
   "source": [
    "#### commentary\n",
    "\n",
    "The CI for the average is more accurate than the CI for the particular by about +/- 8 mpg."
   ]
  },
  {
   "cell_type": "markdown",
   "metadata": {
    "deletable": true,
    "editable": true
   },
   "source": [
    "**Question 2**  \n",
    "\n",
    "You are shopping for a laptop computer at Best Buy. To help you with your decision, you decide to construct a regression model to predict the selling price of the laptop. The table `laptops` provides the following data for a random sample of laptops on Best Buy’s Web site:  \n",
    "\n",
    "* Selling price\n",
    "* Brand\n",
    "* Screen size (in.)\n",
    "* Hard drive size (GB)\n",
    "* Amount of RAM memory (GB)\n",
    "* Number of USB ports\n",
    "* Weight (oz.) \n",
    "\n",
    "a) Using multiple regression, model selling price using the variables screen size, hard drive size, amount of ram, number of usb ports and weight.  "
   ]
  },
  {
   "cell_type": "code",
   "execution_count": 7,
   "metadata": {
    "collapsed": false,
    "deletable": true,
    "editable": true
   },
   "outputs": [
    {
     "data": {
      "text/html": [
       "<div>\n",
       "<table border=\"1\" class=\"dataframe\">\n",
       "  <thead>\n",
       "    <tr style=\"text-align: right;\">\n",
       "      <th></th>\n",
       "      <th>Price ($)</th>\n",
       "      <th>Screen Size (in.)</th>\n",
       "      <th>RAM Memory (GB)</th>\n",
       "      <th>Hard drive (GB)</th>\n",
       "      <th>USB Ports</th>\n",
       "      <th>Brand</th>\n",
       "      <th>Weight (oz.)</th>\n",
       "    </tr>\n",
       "  </thead>\n",
       "  <tbody>\n",
       "    <tr>\n",
       "      <th>0</th>\n",
       "      <td>830</td>\n",
       "      <td>13.3</td>\n",
       "      <td>4</td>\n",
       "      <td>500</td>\n",
       "      <td>3</td>\n",
       "      <td>Toshiba</td>\n",
       "      <td>4.9</td>\n",
       "    </tr>\n",
       "    <tr>\n",
       "      <th>1</th>\n",
       "      <td>750</td>\n",
       "      <td>13.3</td>\n",
       "      <td>4</td>\n",
       "      <td>640</td>\n",
       "      <td>3</td>\n",
       "      <td>Toshiba</td>\n",
       "      <td>3.2</td>\n",
       "    </tr>\n",
       "    <tr>\n",
       "      <th>2</th>\n",
       "      <td>1200</td>\n",
       "      <td>11.6</td>\n",
       "      <td>2</td>\n",
       "      <td>128</td>\n",
       "      <td>2</td>\n",
       "      <td>Apple</td>\n",
       "      <td>2.3</td>\n",
       "    </tr>\n",
       "    <tr>\n",
       "      <th>3</th>\n",
       "      <td>1600</td>\n",
       "      <td>18.4</td>\n",
       "      <td>6</td>\n",
       "      <td>640</td>\n",
       "      <td>4</td>\n",
       "      <td>Toshiba</td>\n",
       "      <td>9.7</td>\n",
       "    </tr>\n",
       "    <tr>\n",
       "      <th>4</th>\n",
       "      <td>1900</td>\n",
       "      <td>18.4</td>\n",
       "      <td>8</td>\n",
       "      <td>500</td>\n",
       "      <td>4</td>\n",
       "      <td>Toshiba</td>\n",
       "      <td>9.7</td>\n",
       "    </tr>\n",
       "  </tbody>\n",
       "</table>\n",
       "</div>"
      ],
      "text/plain": [
       "   Price ($)  Screen Size (in.)  RAM Memory (GB)  Hard drive (GB)  USB Ports  \\\n",
       "0        830               13.3                4              500          3   \n",
       "1        750               13.3                4              640          3   \n",
       "2       1200               11.6                2              128          2   \n",
       "3       1600               18.4                6              640          4   \n",
       "4       1900               18.4                8              500          4   \n",
       "\n",
       "     Brand  Weight (oz.)  \n",
       "0  Toshiba           4.9  \n",
       "1  Toshiba           3.2  \n",
       "2    Apple           2.3  \n",
       "3  Toshiba           9.7  \n",
       "4  Toshiba           9.7  "
      ]
     },
     "execution_count": 7,
     "metadata": {},
     "output_type": "execute_result"
    }
   ],
   "source": [
    "laptops = pd.read_sql(\"SELECT * FROM laptops;\", engine)\n",
    "laptops.head()"
   ]
  },
  {
   "cell_type": "code",
   "execution_count": 8,
   "metadata": {
    "collapsed": false,
    "deletable": true,
    "editable": true
   },
   "outputs": [
    {
     "data": {
      "image/png": "[encoded data removed]",
      "text/plain": [
       "<matplotlib.figure.Figure at 0x1065189e8>"
      ]
     },
     "metadata": {},
     "output_type": "display_data"
    }
   ],
   "source": [
    "X3 = laptops[['Screen Size (in.)', 'Hard drive (GB)', 'RAM Memory (GB)', 'USB Ports', 'Weight (oz.)']]\n",
    "pairplot(X3);"
   ]
  },
  {
   "cell_type": "code",
   "execution_count": 9,
   "metadata": {
    "collapsed": false,
    "deletable": true,
    "editable": true
   },
   "outputs": [
    {
     "data": {
      "text/html": [
       "<div>\n",
       "<table border=\"1\" class=\"dataframe\">\n",
       "  <thead>\n",
       "    <tr style=\"text-align: right;\">\n",
       "      <th></th>\n",
       "      <th>price</th>\n",
       "      <th>Screen Size (in.)</th>\n",
       "      <th>RAM Memory (GB)</th>\n",
       "      <th>Hard drive (GB)</th>\n",
       "      <th>USB Ports</th>\n",
       "      <th>Brand</th>\n",
       "      <th>Weight (oz.)</th>\n",
       "    </tr>\n",
       "  </thead>\n",
       "  <tbody>\n",
       "    <tr>\n",
       "      <th>0</th>\n",
       "      <td>830</td>\n",
       "      <td>13.3</td>\n",
       "      <td>4</td>\n",
       "      <td>500</td>\n",
       "      <td>3</td>\n",
       "      <td>Toshiba</td>\n",
       "      <td>4.9</td>\n",
       "    </tr>\n",
       "    <tr>\n",
       "      <th>1</th>\n",
       "      <td>750</td>\n",
       "      <td>13.3</td>\n",
       "      <td>4</td>\n",
       "      <td>640</td>\n",
       "      <td>3</td>\n",
       "      <td>Toshiba</td>\n",
       "      <td>3.2</td>\n",
       "    </tr>\n",
       "    <tr>\n",
       "      <th>2</th>\n",
       "      <td>1200</td>\n",
       "      <td>11.6</td>\n",
       "      <td>2</td>\n",
       "      <td>128</td>\n",
       "      <td>2</td>\n",
       "      <td>Apple</td>\n",
       "      <td>2.3</td>\n",
       "    </tr>\n",
       "    <tr>\n",
       "      <th>3</th>\n",
       "      <td>1600</td>\n",
       "      <td>18.4</td>\n",
       "      <td>6</td>\n",
       "      <td>640</td>\n",
       "      <td>4</td>\n",
       "      <td>Toshiba</td>\n",
       "      <td>9.7</td>\n",
       "    </tr>\n",
       "    <tr>\n",
       "      <th>4</th>\n",
       "      <td>1900</td>\n",
       "      <td>18.4</td>\n",
       "      <td>8</td>\n",
       "      <td>500</td>\n",
       "      <td>4</td>\n",
       "      <td>Toshiba</td>\n",
       "      <td>9.7</td>\n",
       "    </tr>\n",
       "  </tbody>\n",
       "</table>\n",
       "</div>"
      ],
      "text/plain": [
       "   price  Screen Size (in.)  RAM Memory (GB)  Hard drive (GB)  USB Ports  \\\n",
       "0    830               13.3                4              500          3   \n",
       "1    750               13.3                4              640          3   \n",
       "2   1200               11.6                2              128          2   \n",
       "3   1600               18.4                6              640          4   \n",
       "4   1900               18.4                8              500          4   \n",
       "\n",
       "     Brand  Weight (oz.)  \n",
       "0  Toshiba           4.9  \n",
       "1  Toshiba           3.2  \n",
       "2    Apple           2.3  \n",
       "3  Toshiba           9.7  \n",
       "4  Toshiba           9.7  "
      ]
     },
     "execution_count": 9,
     "metadata": {},
     "output_type": "execute_result"
    }
   ],
   "source": [
    "laptops = laptops.rename(columns = {'Price ($)':'price'})\n",
    "laptops.head()"
   ]
  },
  {
   "cell_type": "code",
   "execution_count": 10,
   "metadata": {
    "collapsed": false,
    "deletable": true,
    "editable": true
   },
   "outputs": [
    {
     "data": {
      "text/html": [
       "<table class=\"simpletable\">\n",
       "<caption>OLS Regression Results</caption>\n",
       "<tr>\n",
       "  <th>Dep. Variable:</th>          <td>price</td>      <th>  R-squared:         </th> <td>   0.117</td>\n",
       "</tr>\n",
       "<tr>\n",
       "  <th>Model:</th>                   <td>OLS</td>       <th>  Adj. R-squared:    </th> <td>   0.040</td>\n",
       "</tr>\n",
       "<tr>\n",
       "  <th>Method:</th>             <td>Least Squares</td>  <th>  F-statistic:       </th> <td>   1.514</td>\n",
       "</tr>\n",
       "<tr>\n",
       "  <th>Date:</th>             <td>Wed, 05 Oct 2016</td> <th>  Prob (F-statistic):</th>  <td> 0.200</td> \n",
       "</tr>\n",
       "<tr>\n",
       "  <th>Time:</th>                 <td>15:47:14</td>     <th>  Log-Likelihood:    </th> <td> -477.99</td>\n",
       "</tr>\n",
       "<tr>\n",
       "  <th>No. Observations:</th>      <td>    63</td>      <th>  AIC:               </th> <td>   968.0</td>\n",
       "</tr>\n",
       "<tr>\n",
       "  <th>Df Residuals:</th>          <td>    57</td>      <th>  BIC:               </th> <td>   980.8</td>\n",
       "</tr>\n",
       "<tr>\n",
       "  <th>Df Model:</th>              <td>     5</td>      <th>                     </th>     <td> </td>   \n",
       "</tr>\n",
       "<tr>\n",
       "  <th>Covariance Type:</th>      <td>nonrobust</td>    <th>                     </th>     <td> </td>   \n",
       "</tr>\n",
       "</table>\n",
       "<table class=\"simpletable\">\n",
       "<tr>\n",
       "          <td></td>             <th>coef</th>     <th>std err</th>      <th>t</th>      <th>P>|t|</th> <th>[95.0% Conf. Int.]</th> \n",
       "</tr>\n",
       "<tr>\n",
       "  <th>const</th>             <td>  761.4987</td> <td>  946.954</td> <td>    0.804</td> <td> 0.425</td> <td>-1134.744  2657.741</td>\n",
       "</tr>\n",
       "<tr>\n",
       "  <th>Screen Size (in.)</th> <td>    4.1113</td> <td>   96.206</td> <td>    0.043</td> <td> 0.966</td> <td> -188.539   196.761</td>\n",
       "</tr>\n",
       "<tr>\n",
       "  <th>Hard drive (GB)</th>   <td>    0.6561</td> <td>    0.459</td> <td>    1.429</td> <td> 0.159</td> <td>   -0.263     1.576</td>\n",
       "</tr>\n",
       "<tr>\n",
       "  <th>RAM Memory (GB)</th>   <td>   12.8642</td> <td>   74.411</td> <td>    0.173</td> <td> 0.863</td> <td> -136.141   161.870</td>\n",
       "</tr>\n",
       "<tr>\n",
       "  <th>USB Ports</th>         <td> -206.5346</td> <td>  123.563</td> <td>   -1.671</td> <td> 0.100</td> <td> -453.965    40.896</td>\n",
       "</tr>\n",
       "<tr>\n",
       "  <th>Weight (oz.)</th>      <td>   51.6251</td> <td>   99.210</td> <td>    0.520</td> <td> 0.605</td> <td> -147.040   250.290</td>\n",
       "</tr>\n",
       "</table>\n",
       "<table class=\"simpletable\">\n",
       "<tr>\n",
       "  <th>Omnibus:</th>       <td> 9.835</td> <th>  Durbin-Watson:     </th> <td>   1.792</td>\n",
       "</tr>\n",
       "<tr>\n",
       "  <th>Prob(Omnibus):</th> <td> 0.007</td> <th>  Jarque-Bera (JB):  </th> <td>  10.384</td>\n",
       "</tr>\n",
       "<tr>\n",
       "  <th>Skew:</th>          <td> 0.993</td> <th>  Prob(JB):          </th> <td> 0.00556</td>\n",
       "</tr>\n",
       "<tr>\n",
       "  <th>Kurtosis:</th>      <td> 3.102</td> <th>  Cond. No.          </th> <td>8.40e+03</td>\n",
       "</tr>\n",
       "</table>"
      ],
      "text/plain": [
       "<class 'statsmodels.iolib.summary.Summary'>\n",
       "\"\"\"\n",
       "                            OLS Regression Results                            \n",
       "==============================================================================\n",
       "Dep. Variable:                  price   R-squared:                       0.117\n",
       "Model:                            OLS   Adj. R-squared:                  0.040\n",
       "Method:                 Least Squares   F-statistic:                     1.514\n",
       "Date:                Wed, 05 Oct 2016   Prob (F-statistic):              0.200\n",
       "Time:                        15:47:14   Log-Likelihood:                -477.99\n",
       "No. Observations:                  63   AIC:                             968.0\n",
       "Df Residuals:                      57   BIC:                             980.8\n",
       "Df Model:                           5                                         \n",
       "Covariance Type:            nonrobust                                         \n",
       "=====================================================================================\n",
       "                        coef    std err          t      P>|t|      [95.0% Conf. Int.]\n",
       "-------------------------------------------------------------------------------------\n",
       "const               761.4987    946.954      0.804      0.425     -1134.744  2657.741\n",
       "Screen Size (in.)     4.1113     96.206      0.043      0.966      -188.539   196.761\n",
       "Hard drive (GB)       0.6561      0.459      1.429      0.159        -0.263     1.576\n",
       "RAM Memory (GB)      12.8642     74.411      0.173      0.863      -136.141   161.870\n",
       "USB Ports          -206.5346    123.563     -1.671      0.100      -453.965    40.896\n",
       "Weight (oz.)         51.6251     99.210      0.520      0.605      -147.040   250.290\n",
       "==============================================================================\n",
       "Omnibus:                        9.835   Durbin-Watson:                   1.792\n",
       "Prob(Omnibus):                  0.007   Jarque-Bera (JB):               10.384\n",
       "Skew:                           0.993   Prob(JB):                      0.00556\n",
       "Kurtosis:                       3.102   Cond. No.                     8.40e+03\n",
       "==============================================================================\n",
       "\n",
       "Warnings:\n",
       "[1] Standard Errors assume that the covariance matrix of the errors is correctly specified.\n",
       "[2] The condition number is large, 8.4e+03. This might indicate that there are\n",
       "strong multicollinearity or other numerical problems.\n",
       "\"\"\""
      ]
     },
     "execution_count": 10,
     "metadata": {},
     "output_type": "execute_result"
    }
   ],
   "source": [
    "X3 = sm.add_constant(X3)\n",
    "y3 = laptops.price\n",
    "\n",
    "model3 = sm.OLS(y3, X3)\n",
    "results3 = model3.fit()\n",
    "results3.summary()"
   ]
  },
  {
   "cell_type": "markdown",
   "metadata": {
    "deletable": true,
    "editable": true
   },
   "source": [
    "b) Perform and interpret the overall F test.  "
   ]
  },
  {
   "cell_type": "markdown",
   "metadata": {
    "deletable": true,
    "editable": true
   },
   "source": [
    "Our p-value for the F-test is less than .05, so we have to fail to reject the null hypothesis that our Beta coefficients are equal to each other. Technically, our model is good, but its seem that way when we look at our r^2."
   ]
  },
  {
   "cell_type": "markdown",
   "metadata": {
    "deletable": true,
    "editable": true
   },
   "source": [
    "c) Using p-values, which variables appear to be needed in the model? Justify your answer.   "
   ]
  },
  {
   "cell_type": "markdown",
   "metadata": {
    "deletable": true,
    "editable": true
   },
   "source": [
    "It seems that Hard drive and USB ports are the most necessary and influential indicators of price based on their p-values."
   ]
  },
  {
   "cell_type": "markdown",
   "metadata": {
    "deletable": true,
    "editable": true
   },
   "source": [
    "d) Now create a new predictor that contains random numbers drawn from your favorite distribution, and include this predictor in your multiple regression model. Comment on the model fit. How does the new $R^2$ compare to the one in part a)?  "
   ]
  },
  {
   "cell_type": "code",
   "execution_count": 11,
   "metadata": {
    "collapsed": false,
    "deletable": true,
    "editable": true
   },
   "outputs": [],
   "source": [
    "laptops.insert(7, \"CPU speed (GHz.)\", (3 * np.random.random_sample((len(laptops), 1)) + 1))"
   ]
  },
  {
   "cell_type": "code",
   "execution_count": 12,
   "metadata": {
    "collapsed": false,
    "deletable": true,
    "editable": true,
    "scrolled": true
   },
   "outputs": [
    {
     "data": {
      "text/html": [
       "<div>\n",
       "<table border=\"1\" class=\"dataframe\">\n",
       "  <thead>\n",
       "    <tr style=\"text-align: right;\">\n",
       "      <th></th>\n",
       "      <th>price</th>\n",
       "      <th>Screen Size (in.)</th>\n",
       "      <th>RAM Memory (GB)</th>\n",
       "      <th>Hard drive (GB)</th>\n",
       "      <th>USB Ports</th>\n",
       "      <th>Brand</th>\n",
       "      <th>Weight (oz.)</th>\n",
       "      <th>CPU speed (GHz.)</th>\n",
       "    </tr>\n",
       "  </thead>\n",
       "  <tbody>\n",
       "    <tr>\n",
       "      <th>0</th>\n",
       "      <td>830</td>\n",
       "      <td>13.3</td>\n",
       "      <td>4</td>\n",
       "      <td>500</td>\n",
       "      <td>3</td>\n",
       "      <td>Toshiba</td>\n",
       "      <td>4.9</td>\n",
       "      <td>3.191868</td>\n",
       "    </tr>\n",
       "    <tr>\n",
       "      <th>1</th>\n",
       "      <td>750</td>\n",
       "      <td>13.3</td>\n",
       "      <td>4</td>\n",
       "      <td>640</td>\n",
       "      <td>3</td>\n",
       "      <td>Toshiba</td>\n",
       "      <td>3.2</td>\n",
       "      <td>3.518970</td>\n",
       "    </tr>\n",
       "    <tr>\n",
       "      <th>2</th>\n",
       "      <td>1200</td>\n",
       "      <td>11.6</td>\n",
       "      <td>2</td>\n",
       "      <td>128</td>\n",
       "      <td>2</td>\n",
       "      <td>Apple</td>\n",
       "      <td>2.3</td>\n",
       "      <td>1.629558</td>\n",
       "    </tr>\n",
       "    <tr>\n",
       "      <th>3</th>\n",
       "      <td>1600</td>\n",
       "      <td>18.4</td>\n",
       "      <td>6</td>\n",
       "      <td>640</td>\n",
       "      <td>4</td>\n",
       "      <td>Toshiba</td>\n",
       "      <td>9.7</td>\n",
       "      <td>1.036959</td>\n",
       "    </tr>\n",
       "    <tr>\n",
       "      <th>4</th>\n",
       "      <td>1900</td>\n",
       "      <td>18.4</td>\n",
       "      <td>8</td>\n",
       "      <td>500</td>\n",
       "      <td>4</td>\n",
       "      <td>Toshiba</td>\n",
       "      <td>9.7</td>\n",
       "      <td>2.507531</td>\n",
       "    </tr>\n",
       "  </tbody>\n",
       "</table>\n",
       "</div>"
      ],
      "text/plain": [
       "   price  Screen Size (in.)  RAM Memory (GB)  Hard drive (GB)  USB Ports  \\\n",
       "0    830               13.3                4              500          3   \n",
       "1    750               13.3                4              640          3   \n",
       "2   1200               11.6                2              128          2   \n",
       "3   1600               18.4                6              640          4   \n",
       "4   1900               18.4                8              500          4   \n",
       "\n",
       "     Brand  Weight (oz.)  CPU speed (GHz.)  \n",
       "0  Toshiba           4.9          3.191868  \n",
       "1  Toshiba           3.2          3.518970  \n",
       "2    Apple           2.3          1.629558  \n",
       "3  Toshiba           9.7          1.036959  \n",
       "4  Toshiba           9.7          2.507531  "
      ]
     },
     "execution_count": 12,
     "metadata": {},
     "output_type": "execute_result"
    }
   ],
   "source": [
    "laptops.head()"
   ]
  },
  {
   "cell_type": "code",
   "execution_count": 13,
   "metadata": {
    "collapsed": false,
    "deletable": true,
    "editable": true
   },
   "outputs": [
    {
     "data": {
      "text/html": [
       "<table class=\"simpletable\">\n",
       "<caption>OLS Regression Results</caption>\n",
       "<tr>\n",
       "  <th>Dep. Variable:</th>          <td>price</td>      <th>  R-squared:         </th> <td>   0.211</td>\n",
       "</tr>\n",
       "<tr>\n",
       "  <th>Model:</th>                   <td>OLS</td>       <th>  Adj. R-squared:    </th> <td>   0.126</td>\n",
       "</tr>\n",
       "<tr>\n",
       "  <th>Method:</th>             <td>Least Squares</td>  <th>  F-statistic:       </th> <td>   2.494</td>\n",
       "</tr>\n",
       "<tr>\n",
       "  <th>Date:</th>             <td>Wed, 05 Oct 2016</td> <th>  Prob (F-statistic):</th>  <td>0.0329</td> \n",
       "</tr>\n",
       "<tr>\n",
       "  <th>Time:</th>                 <td>15:47:53</td>     <th>  Log-Likelihood:    </th> <td> -474.46</td>\n",
       "</tr>\n",
       "<tr>\n",
       "  <th>No. Observations:</th>      <td>    63</td>      <th>  AIC:               </th> <td>   962.9</td>\n",
       "</tr>\n",
       "<tr>\n",
       "  <th>Df Residuals:</th>          <td>    56</td>      <th>  BIC:               </th> <td>   977.9</td>\n",
       "</tr>\n",
       "<tr>\n",
       "  <th>Df Model:</th>              <td>     6</td>      <th>                     </th>     <td> </td>   \n",
       "</tr>\n",
       "<tr>\n",
       "  <th>Covariance Type:</th>      <td>nonrobust</td>    <th>                     </th>     <td> </td>   \n",
       "</tr>\n",
       "</table>\n",
       "<table class=\"simpletable\">\n",
       "<tr>\n",
       "          <td></td>             <th>coef</th>     <th>std err</th>      <th>t</th>      <th>P>|t|</th> <th>[95.0% Conf. Int.]</th> \n",
       "</tr>\n",
       "<tr>\n",
       "  <th>const</th>             <td> 1379.1351</td> <td>  934.537</td> <td>    1.476</td> <td> 0.146</td> <td> -492.967  3251.237</td>\n",
       "</tr>\n",
       "<tr>\n",
       "  <th>Screen Size (in.)</th> <td>   11.3905</td> <td>   91.814</td> <td>    0.124</td> <td> 0.902</td> <td> -172.535   195.316</td>\n",
       "</tr>\n",
       "<tr>\n",
       "  <th>Hard drive (GB)</th>   <td>    0.5069</td> <td>    0.442</td> <td>    1.147</td> <td> 0.256</td> <td>   -0.378     1.392</td>\n",
       "</tr>\n",
       "<tr>\n",
       "  <th>USB Ports</th>         <td> -216.7563</td> <td>  117.933</td> <td>   -1.838</td> <td> 0.071</td> <td> -453.003    19.491</td>\n",
       "</tr>\n",
       "<tr>\n",
       "  <th>RAM Memory (GB)</th>   <td>   15.3421</td> <td>   70.987</td> <td>    0.216</td> <td> 0.830</td> <td> -126.861   157.545</td>\n",
       "</tr>\n",
       "<tr>\n",
       "  <th>Weight (oz.)</th>      <td>   33.8813</td> <td>   94.886</td> <td>    0.357</td> <td> 0.722</td> <td> -156.198   223.961</td>\n",
       "</tr>\n",
       "<tr>\n",
       "  <th>CPU speed (GHz.)</th>  <td> -199.4643</td> <td>   77.387</td> <td>   -2.577</td> <td> 0.013</td> <td> -354.489   -44.439</td>\n",
       "</tr>\n",
       "</table>\n",
       "<table class=\"simpletable\">\n",
       "<tr>\n",
       "  <th>Omnibus:</th>       <td>15.777</td> <th>  Durbin-Watson:     </th> <td>   1.931</td>\n",
       "</tr>\n",
       "<tr>\n",
       "  <th>Prob(Omnibus):</th> <td> 0.000</td> <th>  Jarque-Bera (JB):  </th> <td>  18.133</td>\n",
       "</tr>\n",
       "<tr>\n",
       "  <th>Skew:</th>          <td> 1.136</td> <th>  Prob(JB):          </th> <td>0.000115</td>\n",
       "</tr>\n",
       "<tr>\n",
       "  <th>Kurtosis:</th>      <td> 4.322</td> <th>  Cond. No.          </th> <td>8.68e+03</td>\n",
       "</tr>\n",
       "</table>"
      ],
      "text/plain": [
       "<class 'statsmodels.iolib.summary.Summary'>\n",
       "\"\"\"\n",
       "                            OLS Regression Results                            \n",
       "==============================================================================\n",
       "Dep. Variable:                  price   R-squared:                       0.211\n",
       "Model:                            OLS   Adj. R-squared:                  0.126\n",
       "Method:                 Least Squares   F-statistic:                     2.494\n",
       "Date:                Wed, 05 Oct 2016   Prob (F-statistic):             0.0329\n",
       "Time:                        15:47:53   Log-Likelihood:                -474.46\n",
       "No. Observations:                  63   AIC:                             962.9\n",
       "Df Residuals:                      56   BIC:                             977.9\n",
       "Df Model:                           6                                         \n",
       "Covariance Type:            nonrobust                                         \n",
       "=====================================================================================\n",
       "                        coef    std err          t      P>|t|      [95.0% Conf. Int.]\n",
       "-------------------------------------------------------------------------------------\n",
       "const              1379.1351    934.537      1.476      0.146      -492.967  3251.237\n",
       "Screen Size (in.)    11.3905     91.814      0.124      0.902      -172.535   195.316\n",
       "Hard drive (GB)       0.5069      0.442      1.147      0.256        -0.378     1.392\n",
       "USB Ports          -216.7563    117.933     -1.838      0.071      -453.003    19.491\n",
       "RAM Memory (GB)      15.3421     70.987      0.216      0.830      -126.861   157.545\n",
       "Weight (oz.)         33.8813     94.886      0.357      0.722      -156.198   223.961\n",
       "CPU speed (GHz.)   -199.4643     77.387     -2.577      0.013      -354.489   -44.439\n",
       "==============================================================================\n",
       "Omnibus:                       15.777   Durbin-Watson:                   1.931\n",
       "Prob(Omnibus):                  0.000   Jarque-Bera (JB):               18.133\n",
       "Skew:                           1.136   Prob(JB):                     0.000115\n",
       "Kurtosis:                       4.322   Cond. No.                     8.68e+03\n",
       "==============================================================================\n",
       "\n",
       "Warnings:\n",
       "[1] Standard Errors assume that the covariance matrix of the errors is correctly specified.\n",
       "[2] The condition number is large, 8.68e+03. This might indicate that there are\n",
       "strong multicollinearity or other numerical problems.\n",
       "\"\"\""
      ]
     },
     "execution_count": 13,
     "metadata": {},
     "output_type": "execute_result"
    }
   ],
   "source": [
    "X4 = laptops[['Screen Size (in.)', 'Hard drive (GB)', 'USB Ports', \n",
    "              'RAM Memory (GB)', 'Weight (oz.)', 'CPU speed (GHz.)']]\n",
    "\n",
    "X4 = sm.add_constant(X4)\n",
    "y3 = laptops.price\n",
    "\n",
    "model3 = sm.OLS(y3, X4)\n",
    "results3 = model3.fit()\n",
    "results3.summary()\n"
   ]
  },
  {
   "cell_type": "markdown",
   "metadata": {
    "deletable": true,
    "editable": true
   },
   "source": [
    "#### Commentary on model fit\n",
    "Surprisingly, our R^2 is better when we add in random #'s (between 1 and 4) for CPU speed, however our f-stat is lower, so it doesn't necessarily mean our model is better. Also, the randomly generated CPU beta has a better beta than Screen Size, which is surpising to see. This still doesn't seem like a very good model for predicting price. It would be interesting to see how we migth be able to quantify brand and take that variable into account, as brand value definitely carries weight on pricing."
   ]
  },
  {
   "cell_type": "markdown",
   "metadata": {
    "deletable": true,
    "editable": true
   },
   "source": [
    "e) Generate another new predictor - you can draw another list of random numbers from the same distribution as above, or you can draw from a different distribution. Add this predictor to the model in part d). What happends to the $R^2$? Does this mean that the new predictor is useful for predicting laptop prices?"
   ]
  },
  {
   "cell_type": "code",
   "execution_count": 17,
   "metadata": {
    "collapsed": false,
    "deletable": true,
    "editable": true,
    "scrolled": true
   },
   "outputs": [
    {
     "data": {
      "text/html": [
       "<div>\n",
       "<table border=\"1\" class=\"dataframe\">\n",
       "  <thead>\n",
       "    <tr style=\"text-align: right;\">\n",
       "      <th></th>\n",
       "      <th>price</th>\n",
       "      <th>Screen Size (in.)</th>\n",
       "      <th>RAM Memory (GB)</th>\n",
       "      <th>Hard drive (GB)</th>\n",
       "      <th>USB Ports</th>\n",
       "      <th>Brand</th>\n",
       "      <th>Weight (oz.)</th>\n",
       "      <th>CPU speed (GHz.)</th>\n",
       "      <th>Has camera</th>\n",
       "    </tr>\n",
       "  </thead>\n",
       "  <tbody>\n",
       "    <tr>\n",
       "      <th>0</th>\n",
       "      <td>830</td>\n",
       "      <td>13.3</td>\n",
       "      <td>4</td>\n",
       "      <td>500</td>\n",
       "      <td>3</td>\n",
       "      <td>Toshiba</td>\n",
       "      <td>4.9</td>\n",
       "      <td>3.191868</td>\n",
       "      <td>1</td>\n",
       "    </tr>\n",
       "    <tr>\n",
       "      <th>1</th>\n",
       "      <td>750</td>\n",
       "      <td>13.3</td>\n",
       "      <td>4</td>\n",
       "      <td>640</td>\n",
       "      <td>3</td>\n",
       "      <td>Toshiba</td>\n",
       "      <td>3.2</td>\n",
       "      <td>3.518970</td>\n",
       "      <td>1</td>\n",
       "    </tr>\n",
       "    <tr>\n",
       "      <th>2</th>\n",
       "      <td>1200</td>\n",
       "      <td>11.6</td>\n",
       "      <td>2</td>\n",
       "      <td>128</td>\n",
       "      <td>2</td>\n",
       "      <td>Apple</td>\n",
       "      <td>2.3</td>\n",
       "      <td>1.629558</td>\n",
       "      <td>0</td>\n",
       "    </tr>\n",
       "    <tr>\n",
       "      <th>3</th>\n",
       "      <td>1600</td>\n",
       "      <td>18.4</td>\n",
       "      <td>6</td>\n",
       "      <td>640</td>\n",
       "      <td>4</td>\n",
       "      <td>Toshiba</td>\n",
       "      <td>9.7</td>\n",
       "      <td>1.036959</td>\n",
       "      <td>0</td>\n",
       "    </tr>\n",
       "    <tr>\n",
       "      <th>4</th>\n",
       "      <td>1900</td>\n",
       "      <td>18.4</td>\n",
       "      <td>8</td>\n",
       "      <td>500</td>\n",
       "      <td>4</td>\n",
       "      <td>Toshiba</td>\n",
       "      <td>9.7</td>\n",
       "      <td>2.507531</td>\n",
       "      <td>0</td>\n",
       "    </tr>\n",
       "  </tbody>\n",
       "</table>\n",
       "</div>"
      ],
      "text/plain": [
       "   price  Screen Size (in.)  RAM Memory (GB)  Hard drive (GB)  USB Ports  \\\n",
       "0    830               13.3                4              500          3   \n",
       "1    750               13.3                4              640          3   \n",
       "2   1200               11.6                2              128          2   \n",
       "3   1600               18.4                6              640          4   \n",
       "4   1900               18.4                8              500          4   \n",
       "\n",
       "     Brand  Weight (oz.)  CPU speed (GHz.)  Has camera  \n",
       "0  Toshiba           4.9          3.191868           1  \n",
       "1  Toshiba           3.2          3.518970           1  \n",
       "2    Apple           2.3          1.629558           0  \n",
       "3  Toshiba           9.7          1.036959           0  \n",
       "4  Toshiba           9.7          2.507531           0  "
      ]
     },
     "execution_count": 17,
     "metadata": {},
     "output_type": "execute_result"
    }
   ],
   "source": [
    "laptops.insert(8, \"Has camera\", (np.random.binomial(1, .5, len(laptops))))\n",
    "laptops.head()"
   ]
  },
  {
   "cell_type": "code",
   "execution_count": 19,
   "metadata": {
    "collapsed": false,
    "deletable": true,
    "editable": true
   },
   "outputs": [
    {
     "data": {
      "text/html": [
       "<table class=\"simpletable\">\n",
       "<caption>OLS Regression Results</caption>\n",
       "<tr>\n",
       "  <th>Dep. Variable:</th>          <td>price</td>      <th>  R-squared:         </th> <td>   0.222</td>\n",
       "</tr>\n",
       "<tr>\n",
       "  <th>Model:</th>                   <td>OLS</td>       <th>  Adj. R-squared:    </th> <td>   0.123</td>\n",
       "</tr>\n",
       "<tr>\n",
       "  <th>Method:</th>             <td>Least Squares</td>  <th>  F-statistic:       </th> <td>   2.244</td>\n",
       "</tr>\n",
       "<tr>\n",
       "  <th>Date:</th>             <td>Wed, 05 Oct 2016</td> <th>  Prob (F-statistic):</th>  <td>0.0441</td> \n",
       "</tr>\n",
       "<tr>\n",
       "  <th>Time:</th>                 <td>17:05:53</td>     <th>  Log-Likelihood:    </th> <td> -474.01</td>\n",
       "</tr>\n",
       "<tr>\n",
       "  <th>No. Observations:</th>      <td>    63</td>      <th>  AIC:               </th> <td>   964.0</td>\n",
       "</tr>\n",
       "<tr>\n",
       "  <th>Df Residuals:</th>          <td>    55</td>      <th>  BIC:               </th> <td>   981.2</td>\n",
       "</tr>\n",
       "<tr>\n",
       "  <th>Df Model:</th>              <td>     7</td>      <th>                     </th>     <td> </td>   \n",
       "</tr>\n",
       "<tr>\n",
       "  <th>Covariance Type:</th>      <td>nonrobust</td>    <th>                     </th>     <td> </td>   \n",
       "</tr>\n",
       "</table>\n",
       "<table class=\"simpletable\">\n",
       "<tr>\n",
       "          <td></td>             <th>coef</th>     <th>std err</th>      <th>t</th>      <th>P>|t|</th> <th>[95.0% Conf. Int.]</th> \n",
       "</tr>\n",
       "<tr>\n",
       "  <th>const</th>             <td> 1359.4070</td> <td>  936.473</td> <td>    1.452</td> <td> 0.152</td> <td> -517.327  3236.141</td>\n",
       "</tr>\n",
       "<tr>\n",
       "  <th>Screen Size (in.)</th> <td>   19.1756</td> <td>   92.390</td> <td>    0.208</td> <td> 0.836</td> <td> -165.978   204.329</td>\n",
       "</tr>\n",
       "<tr>\n",
       "  <th>Hard drive (GB)</th>   <td>    0.5460</td> <td>    0.445</td> <td>    1.228</td> <td> 0.225</td> <td>   -0.345     1.437</td>\n",
       "</tr>\n",
       "<tr>\n",
       "  <th>USB Ports</th>         <td> -209.4744</td> <td>  118.424</td> <td>   -1.769</td> <td> 0.082</td> <td> -446.802    27.853</td>\n",
       "</tr>\n",
       "<tr>\n",
       "  <th>RAM Memory (GB)</th>   <td>    3.3885</td> <td>   72.359</td> <td>    0.047</td> <td> 0.963</td> <td> -141.623   148.400</td>\n",
       "</tr>\n",
       "<tr>\n",
       "  <th>Weight (oz.)</th>      <td>   28.1714</td> <td>   95.270</td> <td>    0.296</td> <td> 0.769</td> <td> -162.755   219.097</td>\n",
       "</tr>\n",
       "<tr>\n",
       "  <th>CPU speed (GHz.)</th>  <td> -198.4743</td> <td>   77.534</td> <td>   -2.560</td> <td> 0.013</td> <td> -353.856   -43.093</td>\n",
       "</tr>\n",
       "<tr>\n",
       "  <th>Has camera</th>        <td> -110.7168</td> <td>  123.812</td> <td>   -0.894</td> <td> 0.375</td> <td> -358.841   137.407</td>\n",
       "</tr>\n",
       "</table>\n",
       "<table class=\"simpletable\">\n",
       "<tr>\n",
       "  <th>Omnibus:</th>       <td>16.081</td> <th>  Durbin-Watson:     </th> <td>   1.963</td>\n",
       "</tr>\n",
       "<tr>\n",
       "  <th>Prob(Omnibus):</th> <td> 0.000</td> <th>  Jarque-Bera (JB):  </th> <td>  18.820</td>\n",
       "</tr>\n",
       "<tr>\n",
       "  <th>Skew:</th>          <td> 1.131</td> <th>  Prob(JB):          </th> <td>8.19e-05</td>\n",
       "</tr>\n",
       "<tr>\n",
       "  <th>Kurtosis:</th>      <td> 4.434</td> <th>  Cond. No.          </th> <td>8.68e+03</td>\n",
       "</tr>\n",
       "</table>"
      ],
      "text/plain": [
       "<class 'statsmodels.iolib.summary.Summary'>\n",
       "\"\"\"\n",
       "                            OLS Regression Results                            \n",
       "==============================================================================\n",
       "Dep. Variable:                  price   R-squared:                       0.222\n",
       "Model:                            OLS   Adj. R-squared:                  0.123\n",
       "Method:                 Least Squares   F-statistic:                     2.244\n",
       "Date:                Wed, 05 Oct 2016   Prob (F-statistic):             0.0441\n",
       "Time:                        17:05:53   Log-Likelihood:                -474.01\n",
       "No. Observations:                  63   AIC:                             964.0\n",
       "Df Residuals:                      55   BIC:                             981.2\n",
       "Df Model:                           7                                         \n",
       "Covariance Type:            nonrobust                                         \n",
       "=====================================================================================\n",
       "                        coef    std err          t      P>|t|      [95.0% Conf. Int.]\n",
       "-------------------------------------------------------------------------------------\n",
       "const              1359.4070    936.473      1.452      0.152      -517.327  3236.141\n",
       "Screen Size (in.)    19.1756     92.390      0.208      0.836      -165.978   204.329\n",
       "Hard drive (GB)       0.5460      0.445      1.228      0.225        -0.345     1.437\n",
       "USB Ports          -209.4744    118.424     -1.769      0.082      -446.802    27.853\n",
       "RAM Memory (GB)       3.3885     72.359      0.047      0.963      -141.623   148.400\n",
       "Weight (oz.)         28.1714     95.270      0.296      0.769      -162.755   219.097\n",
       "CPU speed (GHz.)   -198.4743     77.534     -2.560      0.013      -353.856   -43.093\n",
       "Has camera         -110.7168    123.812     -0.894      0.375      -358.841   137.407\n",
       "==============================================================================\n",
       "Omnibus:                       16.081   Durbin-Watson:                   1.963\n",
       "Prob(Omnibus):                  0.000   Jarque-Bera (JB):               18.820\n",
       "Skew:                           1.131   Prob(JB):                     8.19e-05\n",
       "Kurtosis:                       4.434   Cond. No.                     8.68e+03\n",
       "==============================================================================\n",
       "\n",
       "Warnings:\n",
       "[1] Standard Errors assume that the covariance matrix of the errors is correctly specified.\n",
       "[2] The condition number is large, 8.68e+03. This might indicate that there are\n",
       "strong multicollinearity or other numerical problems.\n",
       "\"\"\""
      ]
     },
     "execution_count": 19,
     "metadata": {},
     "output_type": "execute_result"
    }
   ],
   "source": [
    "X5 = laptops[['Screen Size (in.)', 'Hard drive (GB)', 'USB Ports', \n",
    "              'RAM Memory (GB)', 'Weight (oz.)', 'CPU speed (GHz.)', 'Has camera']]\n",
    "\n",
    "X5 = sm.add_constant(X5)\n",
    "y3 = laptops.price\n",
    "\n",
    "model3 = sm.OLS(y3, X5)\n",
    "results3 = model3.fit()\n",
    "results3.summary()"
   ]
  },
  {
   "cell_type": "markdown",
   "metadata": {
    "deletable": true,
    "editable": true
   },
   "source": [
    "#### Question 2e commentary:\n",
    "\n",
    "Adding in this additional variable increases our R^2, but that doesn't necessarily mean that it's helpful or useful. In fact, we would say that it's not very useful to the model b/c it's p value is 37.5%, which doesn't seem to really be beneficial for predicting price."
   ]
  },
  {
   "cell_type": "markdown",
   "metadata": {
    "deletable": true,
    "editable": true
   },
   "source": [
    "**Question 3**  \n",
    "\n",
    "Squirt Squad is a cleaning service that sends crews to residential homes on either a once-a-month or twice-a-month schedule, depending on the customer’s preference. The owner would like to predict the amount of time required to clean a house based on the square footage of the house, the total number of rooms in the house, the number of bathrooms it has, the size of the cleaning crew, the frequency of the cleaning schedule, and whether or not the household has children. Data can be found in the tables **`squad`** (containing `squad_id`, `home_id`, `crew` and `freq` (0: once-a-month, 1: twice-a-month); **`squad_homes`** (containing `home_id`, `footage`, `rooms`, `baths` and `children` (Squirt Squad assumes the number of children in a house will never change. BONUS: how would you change the schema to account for the possibility that it will?)); and **`squad_times`** (containing `squad_id` and `dt`, `time` and `crew` (redundant with `squad` but included in case the squad size changes)). You will need to construct a three-way join using `home_id` and `squad_id`."
   ]
  },
  {
   "cell_type": "code",
   "execution_count": 46,
   "metadata": {
    "collapsed": false,
    "deletable": true,
    "editable": true,
    "scrolled": true
   },
   "outputs": [
    {
     "data": {
      "text/html": [
       "<div>\n",
       "<table border=\"1\" class=\"dataframe\">\n",
       "  <thead>\n",
       "    <tr style=\"text-align: right;\">\n",
       "      <th></th>\n",
       "      <th>home_id</th>\n",
       "      <th>crew</th>\n",
       "      <th>freq</th>\n",
       "      <th>squad_id</th>\n",
       "      <th>footage</th>\n",
       "      <th>rooms</th>\n",
       "      <th>baths</th>\n",
       "      <th>children</th>\n",
       "      <th>dt</th>\n",
       "      <th>time</th>\n",
       "    </tr>\n",
       "  </thead>\n",
       "  <tbody>\n",
       "    <tr>\n",
       "      <th>0</th>\n",
       "      <td>0</td>\n",
       "      <td>3</td>\n",
       "      <td>1</td>\n",
       "      <td>1</td>\n",
       "      <td>1548</td>\n",
       "      <td>8</td>\n",
       "      <td>2.0</td>\n",
       "      <td>0</td>\n",
       "      <td>2016-09-17</td>\n",
       "      <td>132</td>\n",
       "    </tr>\n",
       "    <tr>\n",
       "      <th>1</th>\n",
       "      <td>1</td>\n",
       "      <td>2</td>\n",
       "      <td>1</td>\n",
       "      <td>2</td>\n",
       "      <td>1599</td>\n",
       "      <td>7</td>\n",
       "      <td>1.5</td>\n",
       "      <td>0</td>\n",
       "      <td>2016-09-09</td>\n",
       "      <td>146</td>\n",
       "    </tr>\n",
       "    <tr>\n",
       "      <th>2</th>\n",
       "      <td>2</td>\n",
       "      <td>3</td>\n",
       "      <td>1</td>\n",
       "      <td>3</td>\n",
       "      <td>1630</td>\n",
       "      <td>8</td>\n",
       "      <td>2.0</td>\n",
       "      <td>0</td>\n",
       "      <td>2016-09-12</td>\n",
       "      <td>131</td>\n",
       "    </tr>\n",
       "    <tr>\n",
       "      <th>3</th>\n",
       "      <td>3</td>\n",
       "      <td>3</td>\n",
       "      <td>1</td>\n",
       "      <td>4</td>\n",
       "      <td>1640</td>\n",
       "      <td>7</td>\n",
       "      <td>1.5</td>\n",
       "      <td>0</td>\n",
       "      <td>2016-09-11</td>\n",
       "      <td>141</td>\n",
       "    </tr>\n",
       "    <tr>\n",
       "      <th>4</th>\n",
       "      <td>4</td>\n",
       "      <td>3</td>\n",
       "      <td>0</td>\n",
       "      <td>5</td>\n",
       "      <td>1711</td>\n",
       "      <td>8</td>\n",
       "      <td>2.5</td>\n",
       "      <td>1</td>\n",
       "      <td>2016-09-27</td>\n",
       "      <td>144</td>\n",
       "    </tr>\n",
       "  </tbody>\n",
       "</table>\n",
       "</div>"
      ],
      "text/plain": [
       "   home_id  crew  freq  squad_id  footage  rooms  baths  children         dt  \\\n",
       "0        0     3     1         1     1548      8    2.0         0 2016-09-17   \n",
       "1        1     2     1         2     1599      7    1.5         0 2016-09-09   \n",
       "2        2     3     1         3     1630      8    2.0         0 2016-09-12   \n",
       "3        3     3     1         4     1640      7    1.5         0 2016-09-11   \n",
       "4        4     3     0         5     1711      8    2.5         1 2016-09-27   \n",
       "\n",
       "   time  \n",
       "0   132  \n",
       "1   146  \n",
       "2   131  \n",
       "3   141  \n",
       "4   144  "
      ]
     },
     "execution_count": 46,
     "metadata": {},
     "output_type": "execute_result"
    }
   ],
   "source": [
    "squad_shomes_stimes = pd.read_sql(\"SELECT s.home_id, s.crew, s.freq, s.squad_id, h.footage, h.rooms, h.baths, h.children, t.dt, t.time FROM squad AS s JOIN squad_homes AS h ON s.home_id=h.home_id JOIN squad_times AS t ON s.squad_id=t.squad_id;\", engine)\n",
    "\n",
    "squad_shomes_stimes.head()"
   ]
  },
  {
   "cell_type": "markdown",
   "metadata": {
    "deletable": true,
    "editable": true
   },
   "source": [
    "a) Construct a regression model using all of the independent variables.  "
   ]
  },
  {
   "cell_type": "code",
   "execution_count": 47,
   "metadata": {
    "collapsed": false,
    "deletable": true,
    "editable": true
   },
   "outputs": [
    {
     "data": {
      "text/html": [
       "<table class=\"simpletable\">\n",
       "<caption>OLS Regression Results</caption>\n",
       "<tr>\n",
       "  <th>Dep. Variable:</th>          <td>time</td>       <th>  R-squared:         </th> <td>   0.496</td>\n",
       "</tr>\n",
       "<tr>\n",
       "  <th>Model:</th>                   <td>OLS</td>       <th>  Adj. R-squared:    </th> <td>   0.485</td>\n",
       "</tr>\n",
       "<tr>\n",
       "  <th>Method:</th>             <td>Least Squares</td>  <th>  F-statistic:       </th> <td>   44.51</td>\n",
       "</tr>\n",
       "<tr>\n",
       "  <th>Date:</th>             <td>Wed, 05 Oct 2016</td> <th>  Prob (F-statistic):</th> <td>1.02e-37</td>\n",
       "</tr>\n",
       "<tr>\n",
       "  <th>Time:</th>                 <td>18:16:13</td>     <th>  Log-Likelihood:    </th> <td> -1222.2</td>\n",
       "</tr>\n",
       "<tr>\n",
       "  <th>No. Observations:</th>      <td>   278</td>      <th>  AIC:               </th> <td>   2458.</td>\n",
       "</tr>\n",
       "<tr>\n",
       "  <th>Df Residuals:</th>          <td>   271</td>      <th>  BIC:               </th> <td>   2484.</td>\n",
       "</tr>\n",
       "<tr>\n",
       "  <th>Df Model:</th>              <td>     6</td>      <th>                     </th>     <td> </td>   \n",
       "</tr>\n",
       "<tr>\n",
       "  <th>Covariance Type:</th>      <td>nonrobust</td>    <th>                     </th>     <td> </td>   \n",
       "</tr>\n",
       "</table>\n",
       "<table class=\"simpletable\">\n",
       "<tr>\n",
       "      <td></td>        <th>coef</th>     <th>std err</th>      <th>t</th>      <th>P>|t|</th> <th>[95.0% Conf. Int.]</th> \n",
       "</tr>\n",
       "<tr>\n",
       "  <th>const</th>    <td>  143.5146</td> <td>   10.950</td> <td>   13.106</td> <td> 0.000</td> <td>  121.956   165.073</td>\n",
       "</tr>\n",
       "<tr>\n",
       "  <th>crew</th>     <td>  -15.4141</td> <td>    2.026</td> <td>   -7.609</td> <td> 0.000</td> <td>  -19.402   -11.426</td>\n",
       "</tr>\n",
       "<tr>\n",
       "  <th>freq</th>     <td>   -4.0902</td> <td>    2.621</td> <td>   -1.561</td> <td> 0.120</td> <td>   -9.250     1.070</td>\n",
       "</tr>\n",
       "<tr>\n",
       "  <th>footage</th>  <td>   -0.0048</td> <td>    0.006</td> <td>   -0.772</td> <td> 0.441</td> <td>   -0.017     0.007</td>\n",
       "</tr>\n",
       "<tr>\n",
       "  <th>rooms</th>    <td>    6.7580</td> <td>    1.238</td> <td>    5.457</td> <td> 0.000</td> <td>    4.320     9.196</td>\n",
       "</tr>\n",
       "<tr>\n",
       "  <th>baths</th>    <td>   -5.6072</td> <td>    3.247</td> <td>   -1.727</td> <td> 0.085</td> <td>  -12.000     0.786</td>\n",
       "</tr>\n",
       "<tr>\n",
       "  <th>children</th> <td>   22.8734</td> <td>    2.618</td> <td>    8.738</td> <td> 0.000</td> <td>   17.720    28.027</td>\n",
       "</tr>\n",
       "</table>\n",
       "<table class=\"simpletable\">\n",
       "<tr>\n",
       "  <th>Omnibus:</th>       <td> 3.347</td> <th>  Durbin-Watson:     </th> <td>   1.965</td>\n",
       "</tr>\n",
       "<tr>\n",
       "  <th>Prob(Omnibus):</th> <td> 0.188</td> <th>  Jarque-Bera (JB):  </th> <td>   3.313</td>\n",
       "</tr>\n",
       "<tr>\n",
       "  <th>Skew:</th>          <td>-0.148</td> <th>  Prob(JB):          </th> <td>   0.191</td>\n",
       "</tr>\n",
       "<tr>\n",
       "  <th>Kurtosis:</th>      <td> 3.446</td> <th>  Cond. No.          </th> <td>2.27e+04</td>\n",
       "</tr>\n",
       "</table>"
      ],
      "text/plain": [
       "<class 'statsmodels.iolib.summary.Summary'>\n",
       "\"\"\"\n",
       "                            OLS Regression Results                            \n",
       "==============================================================================\n",
       "Dep. Variable:                   time   R-squared:                       0.496\n",
       "Model:                            OLS   Adj. R-squared:                  0.485\n",
       "Method:                 Least Squares   F-statistic:                     44.51\n",
       "Date:                Wed, 05 Oct 2016   Prob (F-statistic):           1.02e-37\n",
       "Time:                        18:16:13   Log-Likelihood:                -1222.2\n",
       "No. Observations:                 278   AIC:                             2458.\n",
       "Df Residuals:                     271   BIC:                             2484.\n",
       "Df Model:                           6                                         \n",
       "Covariance Type:            nonrobust                                         \n",
       "==============================================================================\n",
       "                 coef    std err          t      P>|t|      [95.0% Conf. Int.]\n",
       "------------------------------------------------------------------------------\n",
       "const        143.5146     10.950     13.106      0.000       121.956   165.073\n",
       "crew         -15.4141      2.026     -7.609      0.000       -19.402   -11.426\n",
       "freq          -4.0902      2.621     -1.561      0.120        -9.250     1.070\n",
       "footage       -0.0048      0.006     -0.772      0.441        -0.017     0.007\n",
       "rooms          6.7580      1.238      5.457      0.000         4.320     9.196\n",
       "baths         -5.6072      3.247     -1.727      0.085       -12.000     0.786\n",
       "children      22.8734      2.618      8.738      0.000        17.720    28.027\n",
       "==============================================================================\n",
       "Omnibus:                        3.347   Durbin-Watson:                   1.965\n",
       "Prob(Omnibus):                  0.188   Jarque-Bera (JB):                3.313\n",
       "Skew:                          -0.148   Prob(JB):                        0.191\n",
       "Kurtosis:                       3.446   Cond. No.                     2.27e+04\n",
       "==============================================================================\n",
       "\n",
       "Warnings:\n",
       "[1] Standard Errors assume that the covariance matrix of the errors is correctly specified.\n",
       "[2] The condition number is large, 2.27e+04. This might indicate that there are\n",
       "strong multicollinearity or other numerical problems.\n",
       "\"\"\""
      ]
     },
     "execution_count": 47,
     "metadata": {},
     "output_type": "execute_result"
    }
   ],
   "source": [
    "Q3 = squad_shomes_stimes[['crew', 'freq', 'footage', 'rooms', 'baths', 'children']]\n",
    "Q3 = sm.add_constant(Q3)\n",
    "y3 = squad_shomes_stimes.time\n",
    "\n",
    "model3 = sm.OLS(y3, Q3)\n",
    "results3 = model3.fit()\n",
    "results3.summary()"
   ]
  },
  {
   "cell_type": "code",
   "execution_count": 48,
   "metadata": {
    "collapsed": false,
    "deletable": true,
    "editable": true
   },
   "outputs": [
    {
     "data": {
      "text/plain": [
       "const       143.514610\n",
       "crew        -15.414096\n",
       "freq         -4.090189\n",
       "footage      -0.004781\n",
       "rooms         6.758014\n",
       "baths        -5.607185\n",
       "children     22.873391\n",
       "dtype: float64"
      ]
     },
     "execution_count": 48,
     "metadata": {},
     "output_type": "execute_result"
    }
   ],
   "source": [
    "results3.params"
   ]
  },
  {
   "cell_type": "markdown",
   "metadata": {
    "deletable": true,
    "editable": true
   },
   "source": [
    "**$y = 143.51 - 15.41x1 - 4.09x2 -0.0047x3 +6.76x4 - 5.6x5 + 22.87x6$**"
   ]
  },
  {
   "cell_type": "markdown",
   "metadata": {
    "deletable": true,
    "editable": true
   },
   "source": [
    "b) Test and interpret the significance of the overall regression model (what is the result of the overall F test)?  "
   ]
  },
  {
   "cell_type": "code",
   "execution_count": 49,
   "metadata": {
    "collapsed": false,
    "deletable": true,
    "editable": true
   },
   "outputs": [
    {
     "name": "stdout",
     "output_type": "stream",
     "text": [
      "1.02397916452e-37\n"
     ]
    }
   ],
   "source": [
    "print(results3.f_pvalue)"
   ]
  },
  {
   "cell_type": "markdown",
   "metadata": {
    "deletable": true,
    "editable": true
   },
   "source": [
    "The F statistic is really small, at least one of the variables in the model is useful for predicting cleaning time."
   ]
  },
  {
   "cell_type": "markdown",
   "metadata": {
    "deletable": true,
    "editable": true
   },
   "source": [
    "c) Interpret the meaning of the regression coefficient for the Rooms, Crew, Children, and Frequency variables.  "
   ]
  },
  {
   "cell_type": "code",
   "execution_count": 50,
   "metadata": {
    "collapsed": false,
    "deletable": true,
    "editable": true
   },
   "outputs": [
    {
     "data": {
      "text/plain": [
       "const       143.514610\n",
       "crew        -15.414096\n",
       "freq         -4.090189\n",
       "footage      -0.004781\n",
       "rooms         6.758014\n",
       "baths        -5.607185\n",
       "children     22.873391\n",
       "dtype: float64"
      ]
     },
     "execution_count": 50,
     "metadata": {},
     "output_type": "execute_result"
    }
   ],
   "source": [
    "results3.params"
   ]
  },
  {
   "cell_type": "markdown",
   "metadata": {
    "deletable": true,
    "editable": true
   },
   "source": [
    "For an increase of one unit on  number of rooms, the mean change in time is 6.75 minutes while holding other predictors in the model constant.           \n",
    "For Crew, the mean change is  -15.41 minutes.           \n",
    "For Children it is 22.87 minutes.           \n",
    "For frequency, it is -4.09 minutes.          "
   ]
  },
  {
   "cell_type": "markdown",
   "metadata": {
    "deletable": true,
    "editable": true
   },
   "source": [
    "d) Using the p-values, identify which independent variables are significant (needed).  "
   ]
  },
  {
   "cell_type": "code",
   "execution_count": 51,
   "metadata": {
    "collapsed": false,
    "deletable": true,
    "editable": true
   },
   "outputs": [
    {
     "data": {
      "text/plain": [
       "const       9.977907e-31\n",
       "crew        4.566216e-13\n",
       "freq        1.197947e-01\n",
       "footage     4.408538e-01\n",
       "rooms       1.093120e-07\n",
       "baths       8.535571e-02\n",
       "children    2.522773e-16\n",
       "dtype: float64"
      ]
     },
     "execution_count": 51,
     "metadata": {},
     "output_type": "execute_result"
    }
   ],
   "source": [
    "results3.pvalues"
   ]
  },
  {
   "cell_type": "code",
   "execution_count": 52,
   "metadata": {
    "collapsed": false,
    "deletable": true,
    "editable": true
   },
   "outputs": [
    {
     "data": {
      "text/plain": [
       "const        True\n",
       "crew         True\n",
       "freq        False\n",
       "footage     False\n",
       "rooms        True\n",
       "baths       False\n",
       "children     True\n",
       "dtype: bool"
      ]
     },
     "execution_count": 52,
     "metadata": {},
     "output_type": "execute_result"
    }
   ],
   "source": [
    "results3.pvalues <= 0.05"
   ]
  },
  {
   "cell_type": "markdown",
   "metadata": {
    "deletable": true,
    "editable": true
   },
   "source": [
    "freq, footage and baths are greater than the common alpha level of 0.05 which mean they are not statistically significant. The second model is to use the variables **crew, rooms and children**."
   ]
  },
  {
   "cell_type": "markdown",
   "metadata": {
    "deletable": true,
    "editable": true
   },
   "source": [
    "e) Construct a regression model using only the significant variables found in part "
   ]
  },
  {
   "cell_type": "code",
   "execution_count": 54,
   "metadata": {
    "collapsed": false,
    "deletable": true,
    "editable": true
   },
   "outputs": [
    {
     "data": {
      "text/html": [
       "<table class=\"simpletable\">\n",
       "<caption>OLS Regression Results</caption>\n",
       "<tr>\n",
       "  <th>Dep. Variable:</th>          <td>time</td>       <th>  R-squared:         </th> <td>   0.479</td>\n",
       "</tr>\n",
       "<tr>\n",
       "  <th>Model:</th>                   <td>OLS</td>       <th>  Adj. R-squared:    </th> <td>   0.473</td>\n",
       "</tr>\n",
       "<tr>\n",
       "  <th>Method:</th>             <td>Least Squares</td>  <th>  F-statistic:       </th> <td>   83.83</td>\n",
       "</tr>\n",
       "<tr>\n",
       "  <th>Date:</th>             <td>Wed, 05 Oct 2016</td> <th>  Prob (F-statistic):</th> <td>1.66e-38</td>\n",
       "</tr>\n",
       "<tr>\n",
       "  <th>Time:</th>                 <td>18:16:38</td>     <th>  Log-Likelihood:    </th> <td> -1227.0</td>\n",
       "</tr>\n",
       "<tr>\n",
       "  <th>No. Observations:</th>      <td>   278</td>      <th>  AIC:               </th> <td>   2462.</td>\n",
       "</tr>\n",
       "<tr>\n",
       "  <th>Df Residuals:</th>          <td>   274</td>      <th>  BIC:               </th> <td>   2476.</td>\n",
       "</tr>\n",
       "<tr>\n",
       "  <th>Df Model:</th>              <td>     3</td>      <th>                     </th>     <td> </td>   \n",
       "</tr>\n",
       "<tr>\n",
       "  <th>Covariance Type:</th>      <td>nonrobust</td>    <th>                     </th>     <td> </td>   \n",
       "</tr>\n",
       "</table>\n",
       "<table class=\"simpletable\">\n",
       "<tr>\n",
       "      <td></td>        <th>coef</th>     <th>std err</th>      <th>t</th>      <th>P>|t|</th> <th>[95.0% Conf. Int.]</th> \n",
       "</tr>\n",
       "<tr>\n",
       "  <th>const</th>    <td>  143.6367</td> <td>    9.301</td> <td>   15.443</td> <td> 0.000</td> <td>  125.326   161.948</td>\n",
       "</tr>\n",
       "<tr>\n",
       "  <th>crew</th>     <td>  -15.9710</td> <td>    2.013</td> <td>   -7.932</td> <td> 0.000</td> <td>  -19.935   -12.007</td>\n",
       "</tr>\n",
       "<tr>\n",
       "  <th>rooms</th>    <td>    3.9412</td> <td>    0.553</td> <td>    7.131</td> <td> 0.000</td> <td>    2.853     5.029</td>\n",
       "</tr>\n",
       "<tr>\n",
       "  <th>children</th> <td>   23.4329</td> <td>    2.476</td> <td>    9.463</td> <td> 0.000</td> <td>   18.558    28.308</td>\n",
       "</tr>\n",
       "</table>\n",
       "<table class=\"simpletable\">\n",
       "<tr>\n",
       "  <th>Omnibus:</th>       <td> 3.224</td> <th>  Durbin-Watson:     </th> <td>   1.976</td>\n",
       "</tr>\n",
       "<tr>\n",
       "  <th>Prob(Omnibus):</th> <td> 0.200</td> <th>  Jarque-Bera (JB):  </th> <td>   3.434</td>\n",
       "</tr>\n",
       "<tr>\n",
       "  <th>Skew:</th>          <td>-0.094</td> <th>  Prob(JB):          </th> <td>   0.180</td>\n",
       "</tr>\n",
       "<tr>\n",
       "  <th>Kurtosis:</th>      <td> 3.511</td> <th>  Cond. No.          </th> <td>    90.3</td>\n",
       "</tr>\n",
       "</table>"
      ],
      "text/plain": [
       "<class 'statsmodels.iolib.summary.Summary'>\n",
       "\"\"\"\n",
       "                            OLS Regression Results                            \n",
       "==============================================================================\n",
       "Dep. Variable:                   time   R-squared:                       0.479\n",
       "Model:                            OLS   Adj. R-squared:                  0.473\n",
       "Method:                 Least Squares   F-statistic:                     83.83\n",
       "Date:                Wed, 05 Oct 2016   Prob (F-statistic):           1.66e-38\n",
       "Time:                        18:16:38   Log-Likelihood:                -1227.0\n",
       "No. Observations:                 278   AIC:                             2462.\n",
       "Df Residuals:                     274   BIC:                             2476.\n",
       "Df Model:                           3                                         \n",
       "Covariance Type:            nonrobust                                         \n",
       "==============================================================================\n",
       "                 coef    std err          t      P>|t|      [95.0% Conf. Int.]\n",
       "------------------------------------------------------------------------------\n",
       "const        143.6367      9.301     15.443      0.000       125.326   161.948\n",
       "crew         -15.9710      2.013     -7.932      0.000       -19.935   -12.007\n",
       "rooms          3.9412      0.553      7.131      0.000         2.853     5.029\n",
       "children      23.4329      2.476      9.463      0.000        18.558    28.308\n",
       "==============================================================================\n",
       "Omnibus:                        3.224   Durbin-Watson:                   1.976\n",
       "Prob(Omnibus):                  0.200   Jarque-Bera (JB):                3.434\n",
       "Skew:                          -0.094   Prob(JB):                        0.180\n",
       "Kurtosis:                       3.511   Cond. No.                         90.3\n",
       "==============================================================================\n",
       "\n",
       "Warnings:\n",
       "[1] Standard Errors assume that the covariance matrix of the errors is correctly specified.\n",
       "\"\"\""
      ]
     },
     "execution_count": 54,
     "metadata": {},
     "output_type": "execute_result"
    }
   ],
   "source": [
    "Q3e = squad_shomes_stimes[['crew', 'rooms', 'children']]\n",
    "Q3e = sm.add_constant(Q3e)\n",
    "y3e = squad_shomes_stimes.time\n",
    "\n",
    "model3e = sm.OLS(y3e, Q3e)\n",
    "results3e = model3e.fit()\n",
    "results3e.summary()"
   ]
  },
  {
   "cell_type": "markdown",
   "metadata": {
    "deletable": true,
    "editable": true
   },
   "source": [
    "d) and predict the average time to clean a house that has 2,250 square feet, 11 total rooms, 3.5 bathrooms, and no children. This house is cleaned once a month with a crew of four employees.  "
   ]
  },
  {
   "cell_type": "code",
   "execution_count": 55,
   "metadata": {
    "collapsed": false,
    "deletable": true,
    "editable": true
   },
   "outputs": [
    {
     "name": "stdout",
     "output_type": "stream",
     "text": [
      "It would take the squad ['123.11'] minutes to complete the job.\n"
     ]
    }
   ],
   "source": [
    "# With second model\n",
    "#Q3e = squad_shomes_stimes[['crew', 'rooms', 'children']]\n",
    "print(\"It would take the squad {} minutes to complete the job.\".format((np.round(results3e.predict([1, 4, 11, 0]), 2).astype(str))))\n"
   ]
  },
  {
   "cell_type": "markdown",
   "metadata": {
    "deletable": true,
    "editable": true
   },
   "source": [
    "f) Compare the two models you fitted, which one is a better model? Why?"
   ]
  },
  {
   "cell_type": "markdown",
   "metadata": {
    "deletable": true,
    "editable": true
   },
   "source": [
    "Model 1 has an adjusted R-squared value greater than the second model. More of the variation is explained by the first model.      \n",
    "While the pvalues for F-statistic are both significant."
   ]
  },
  {
   "cell_type": "code",
   "execution_count": 56,
   "metadata": {
    "collapsed": true,
    "deletable": true,
    "editable": true
   },
   "outputs": [],
   "source": [
    "#model 1\n",
    "#Q3 = squad_shomes_stimes[['crew', 'freq', 'footage', 'rooms', 'baths', 'children']]\n",
    "\n",
    "#model 2\n",
    "#Q3e = squad_shomes_stimes[['crew', 'rooms', 'children']]\n"
   ]
  },
  {
   "cell_type": "markdown",
   "metadata": {
    "deletable": true,
    "editable": true
   },
   "source": [
    "#### BONUS\n",
    "To account for possibility that number of children in a household could change, we could add an \"child count uncertainty\" column to create CI around each house's children count. If you really wanted to get fancy, you could create a separate model that would adjust the CI column based on population trends for birth rates for the specific demographics identified in each home. That might be a worthwhile investment for a multi-national cleaning company who is trying to minimize waste at scale, but impractical for a mom & pop cleaning service-- likely out of scope for squirt squad."
   ]
  },
  {
   "cell_type": "code",
   "execution_count": null,
   "metadata": {
    "collapsed": true,
    "deletable": true,
    "editable": true
   },
   "outputs": [],
   "source": []
  }
 ],
 "metadata": {
  "anaconda-cloud": {},
  "kernelspec": {
   "display_name": "Python 3",
   "language": "python",
   "name": "python3"
  },
  "language_info": {
   "codemirror_mode": {
    "name": "ipython",
    "version": 3
   },
   "file_extension": ".py",
   "mimetype": "text/x-python",
   "name": "python",
   "nbconvert_exporter": "python",
   "pygments_lexer": "ipython3",
   "version": "3.6.0"
  }
 },
 "nbformat": 4,
 "nbformat_minor": 0
}
