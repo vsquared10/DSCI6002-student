{
 "cells": [
  {
   "cell_type": "markdown",
   "metadata": {},
   "source": [
    "# Lab 6.4: Regression Diagnostics"
   ]
  },
  {
   "cell_type": "code",
   "execution_count": 3,
   "metadata": {
    "collapsed": true
   },
   "outputs": [],
   "source": [
    "import yaml\n",
    "\n",
    "from sqlalchemy import create_engine\n",
    "\n",
    "pg_creds = yaml.load(open('../../pg_creds.yaml'))['student']\n",
    "\n",
    "engine = create_engine('postgresql://{user}:{password}@{host}:{port}/{dbname}'.format(**pg_creds))\n"
   ]
  },
  {
   "cell_type": "code",
   "execution_count": 4,
   "metadata": {
    "collapsed": false
   },
   "outputs": [
    {
     "name": "stdout",
     "output_type": "stream",
     "text": [
      "Populating the interactive namespace from numpy and matplotlib\n"
     ]
    }
   ],
   "source": [
    "%pylab inline\n",
    "import pandas as pd\n",
    "import statsmodels.api as sm\n",
    "import seaborn as sns\n",
    "import matplotlib.pyplot as plt\n",
    "from seaborn import lmplot"
   ]
  },
  {
   "cell_type": "code",
   "execution_count": 5,
   "metadata": {
    "collapsed": false
   },
   "outputs": [],
   "source": [
    "homer = pd.read_csv('https://s3-us-west-2.amazonaws.com/dsci/6002/data/homer.csv')"
   ]
  },
  {
   "cell_type": "code",
   "execution_count": 6,
   "metadata": {
    "collapsed": false,
    "scrolled": true
   },
   "outputs": [
    {
     "data": {
      "text/html": [
       "<div>\n",
       "<table border=\"1\" class=\"dataframe\">\n",
       "  <thead>\n",
       "    <tr style=\"text-align: right;\">\n",
       "      <th></th>\n",
       "      <th>y</th>\n",
       "      <th>x1</th>\n",
       "      <th>x2</th>\n",
       "      <th>x3</th>\n",
       "      <th>x4</th>\n",
       "      <th>x5</th>\n",
       "      <th>x6</th>\n",
       "    </tr>\n",
       "  </thead>\n",
       "  <tbody>\n",
       "    <tr>\n",
       "      <th>0</th>\n",
       "      <td>-2.17360</td>\n",
       "      <td>-0.023816</td>\n",
       "      <td>-0.012885</td>\n",
       "      <td>0.045936</td>\n",
       "      <td>-0.182890</td>\n",
       "      <td>0.028694</td>\n",
       "      <td>-0.81119</td>\n",
       "    </tr>\n",
       "    <tr>\n",
       "      <th>1</th>\n",
       "      <td>-1.29570</td>\n",
       "      <td>0.018453</td>\n",
       "      <td>0.058999</td>\n",
       "      <td>-0.072399</td>\n",
       "      <td>0.008679</td>\n",
       "      <td>-0.084344</td>\n",
       "      <td>-0.24208</td>\n",
       "    </tr>\n",
       "    <tr>\n",
       "      <th>2</th>\n",
       "      <td>0.14539</td>\n",
       "      <td>0.054999</td>\n",
       "      <td>0.131770</td>\n",
       "      <td>-0.067223</td>\n",
       "      <td>0.202430</td>\n",
       "      <td>0.127060</td>\n",
       "      <td>0.63388</td>\n",
       "    </tr>\n",
       "    <tr>\n",
       "      <th>3</th>\n",
       "      <td>0.92959</td>\n",
       "      <td>-0.018933</td>\n",
       "      <td>-0.010875</td>\n",
       "      <td>-0.028255</td>\n",
       "      <td>0.017912</td>\n",
       "      <td>0.084330</td>\n",
       "      <td>0.66062</td>\n",
       "    </tr>\n",
       "    <tr>\n",
       "      <th>4</th>\n",
       "      <td>0.90259</td>\n",
       "      <td>-0.000877</td>\n",
       "      <td>0.066941</td>\n",
       "      <td>-0.048190</td>\n",
       "      <td>0.064742</td>\n",
       "      <td>0.147880</td>\n",
       "      <td>0.26643</td>\n",
       "    </tr>\n",
       "  </tbody>\n",
       "</table>\n",
       "</div>"
      ],
      "text/plain": [
       "         y        x1        x2        x3        x4        x5       x6\n",
       "0 -2.17360 -0.023816 -0.012885  0.045936 -0.182890  0.028694 -0.81119\n",
       "1 -1.29570  0.018453  0.058999 -0.072399  0.008679 -0.084344 -0.24208\n",
       "2  0.14539  0.054999  0.131770 -0.067223  0.202430  0.127060  0.63388\n",
       "3  0.92959 -0.018933 -0.010875 -0.028255  0.017912  0.084330  0.66062\n",
       "4  0.90259 -0.000877  0.066941 -0.048190  0.064742  0.147880  0.26643"
      ]
     },
     "execution_count": 6,
     "metadata": {},
     "output_type": "execute_result"
    }
   ],
   "source": [
    "homer.head()"
   ]
  },
  {
   "cell_type": "markdown",
   "metadata": {},
   "source": [
    "**Question 1**\n",
    "\n",
    "Using the data in https://s3-us-west-2.amazonaws.com/dsci/6002/data/homer.csv :\n",
    "\n",
    "1) Run a multiple regression model of $y$ against all the $x$ variables and then produce the residuals and fitted values. Create the residual diagnostic plot of residuals on the Y axis against the fitted values on the X axis. \n",
    "\n",
    "2) Is the linearity assumption met?  \n",
    "\n",
    "3) Test for non-Normality.  \n",
    "\n",
    "4) Test for heteroskedasticity. "
   ]
  },
  {
   "cell_type": "code",
   "execution_count": 7,
   "metadata": {
    "collapsed": false,
    "scrolled": false
   },
   "outputs": [
    {
     "data": {
      "text/html": [
       "<table class=\"simpletable\">\n",
       "<caption>OLS Regression Results</caption>\n",
       "<tr>\n",
       "  <th>Dep. Variable:</th>            <td>y</td>        <th>  R-squared:         </th> <td>   0.310</td> \n",
       "</tr>\n",
       "<tr>\n",
       "  <th>Model:</th>                   <td>OLS</td>       <th>  Adj. R-squared:    </th> <td>   0.309</td> \n",
       "</tr>\n",
       "<tr>\n",
       "  <th>Method:</th>             <td>Least Squares</td>  <th>  F-statistic:       </th> <td>   452.1</td> \n",
       "</tr>\n",
       "<tr>\n",
       "  <th>Date:</th>             <td>Mon, 10 Oct 2016</td> <th>  Prob (F-statistic):</th>  <td>  0.00</td>  \n",
       "</tr>\n",
       "<tr>\n",
       "  <th>Time:</th>                 <td>13:49:53</td>     <th>  Log-Likelihood:    </th> <td> -8583.7</td> \n",
       "</tr>\n",
       "<tr>\n",
       "  <th>No. Observations:</th>      <td>  6054</td>      <th>  AIC:               </th> <td>1.718e+04</td>\n",
       "</tr>\n",
       "<tr>\n",
       "  <th>Df Residuals:</th>          <td>  6047</td>      <th>  BIC:               </th> <td>1.723e+04</td>\n",
       "</tr>\n",
       "<tr>\n",
       "  <th>Df Model:</th>              <td>     6</td>      <th>                     </th>     <td> </td>    \n",
       "</tr>\n",
       "<tr>\n",
       "  <th>Covariance Type:</th>      <td>nonrobust</td>    <th>                     </th>     <td> </td>    \n",
       "</tr>\n",
       "</table>\n",
       "<table class=\"simpletable\">\n",
       "<tr>\n",
       "    <td></td>       <th>coef</th>     <th>std err</th>      <th>t</th>      <th>P>|t|</th> <th>[95.0% Conf. Int.]</th> \n",
       "</tr>\n",
       "<tr>\n",
       "  <th>const</th> <td>   -0.0069</td> <td>    0.013</td> <td>   -0.534</td> <td> 0.593</td> <td>   -0.032     0.018</td>\n",
       "</tr>\n",
       "<tr>\n",
       "  <th>x1</th>    <td>    4.0686</td> <td>    0.508</td> <td>    8.015</td> <td> 0.000</td> <td>    3.073     5.064</td>\n",
       "</tr>\n",
       "<tr>\n",
       "  <th>x2</th>    <td>    1.1412</td> <td>    0.257</td> <td>    4.442</td> <td> 0.000</td> <td>    0.638     1.645</td>\n",
       "</tr>\n",
       "<tr>\n",
       "  <th>x3</th>    <td>    4.0318</td> <td>    0.358</td> <td>   11.249</td> <td> 0.000</td> <td>    3.329     4.734</td>\n",
       "</tr>\n",
       "<tr>\n",
       "  <th>x4</th>    <td>    0.9373</td> <td>    0.127</td> <td>    7.362</td> <td> 0.000</td> <td>    0.688     1.187</td>\n",
       "</tr>\n",
       "<tr>\n",
       "  <th>x5</th>    <td>    3.9840</td> <td>    0.171</td> <td>   23.316</td> <td> 0.000</td> <td>    3.649     4.319</td>\n",
       "</tr>\n",
       "<tr>\n",
       "  <th>x6</th>    <td>    0.9967</td> <td>    0.022</td> <td>   44.744</td> <td> 0.000</td> <td>    0.953     1.040</td>\n",
       "</tr>\n",
       "</table>\n",
       "<table class=\"simpletable\">\n",
       "<tr>\n",
       "  <th>Omnibus:</th>       <td>635.831</td> <th>  Durbin-Watson:     </th> <td>   1.999</td>\n",
       "</tr>\n",
       "<tr>\n",
       "  <th>Prob(Omnibus):</th> <td> 0.000</td>  <th>  Jarque-Bera (JB):  </th> <td> 184.770</td>\n",
       "</tr>\n",
       "<tr>\n",
       "  <th>Skew:</th>          <td> 0.070</td>  <th>  Prob(JB):          </th> <td>7.54e-41</td>\n",
       "</tr>\n",
       "<tr>\n",
       "  <th>Kurtosis:</th>      <td> 2.156</td>  <th>  Cond. No.          </th> <td>    41.2</td>\n",
       "</tr>\n",
       "</table>"
      ],
      "text/plain": [
       "<class 'statsmodels.iolib.summary.Summary'>\n",
       "\"\"\"\n",
       "                            OLS Regression Results                            \n",
       "==============================================================================\n",
       "Dep. Variable:                      y   R-squared:                       0.310\n",
       "Model:                            OLS   Adj. R-squared:                  0.309\n",
       "Method:                 Least Squares   F-statistic:                     452.1\n",
       "Date:                Mon, 10 Oct 2016   Prob (F-statistic):               0.00\n",
       "Time:                        13:49:53   Log-Likelihood:                -8583.7\n",
       "No. Observations:                6054   AIC:                         1.718e+04\n",
       "Df Residuals:                    6047   BIC:                         1.723e+04\n",
       "Df Model:                           6                                         \n",
       "Covariance Type:            nonrobust                                         \n",
       "==============================================================================\n",
       "                 coef    std err          t      P>|t|      [95.0% Conf. Int.]\n",
       "------------------------------------------------------------------------------\n",
       "const         -0.0069      0.013     -0.534      0.593        -0.032     0.018\n",
       "x1             4.0686      0.508      8.015      0.000         3.073     5.064\n",
       "x2             1.1412      0.257      4.442      0.000         0.638     1.645\n",
       "x3             4.0318      0.358     11.249      0.000         3.329     4.734\n",
       "x4             0.9373      0.127      7.362      0.000         0.688     1.187\n",
       "x5             3.9840      0.171     23.316      0.000         3.649     4.319\n",
       "x6             0.9967      0.022     44.744      0.000         0.953     1.040\n",
       "==============================================================================\n",
       "Omnibus:                      635.831   Durbin-Watson:                   1.999\n",
       "Prob(Omnibus):                  0.000   Jarque-Bera (JB):              184.770\n",
       "Skew:                           0.070   Prob(JB):                     7.54e-41\n",
       "Kurtosis:                       2.156   Cond. No.                         41.2\n",
       "==============================================================================\n",
       "\n",
       "Warnings:\n",
       "[1] Standard Errors assume that the covariance matrix of the errors is correctly specified.\n",
       "\"\"\""
      ]
     },
     "execution_count": 7,
     "metadata": {},
     "output_type": "execute_result"
    }
   ],
   "source": [
    "homer.dropna(axis=0, inplace=True)\n",
    "X = homer[['x1', 'x2', 'x3', 'x4', 'x5', 'x6']]\n",
    "Y = homer.y\n",
    "X = sm.add_constant(X)  # <- add in constant term\n",
    "\n",
    "model = sm.OLS(Y, X)\n",
    "results = model.fit()\n",
    "results.summary()"
   ]
  },
  {
   "cell_type": "markdown",
   "metadata": {},
   "source": [
    "$$ y = (-0.00686) + (4.069)x_1 + (1.14)x_2 + (4.032)x_3 + (0.937)x_4 + (3.98)x_5 + (0.997)x_6 + e$$\n",
    "\n"
   ]
  },
  {
   "cell_type": "code",
   "execution_count": 8,
   "metadata": {
    "collapsed": false
   },
   "outputs": [
    {
     "data": {
      "image/png": "[encoded data removed]",
      "text/plain": [
       "<matplotlib.figure.Figure at 0x115c65940>"
      ]
     },
     "metadata": {},
     "output_type": "display_data"
    }
   ],
   "source": [
    "f, ((ax1, ax2, ax3), (ax4, ax5, ax6)) = plt.subplots(2, 3, sharex=True, sharey=True)\n",
    "ax1 = sns.residplot(Y,homer['x1'], ax=ax1)\n",
    "ax2 = sns.residplot(Y,homer['x2'], ax=ax2)\n",
    "ax3 = sns.residplot(Y,homer['x3'], ax=ax3)\n",
    "ax4 = sns.residplot(Y,homer['x4'], ax=ax4)\n",
    "ax5 = sns.residplot(Y,homer['x5'], ax=ax5)\n",
    "ax6 = sns.residplot(Y,homer['x6'], ax=ax6)\n",
    "ax1.set_title('X1 Residuals')\n",
    "ax2.set_title('X2 Residuals')\n",
    "ax3.set_title('X3 Residuals')\n",
    "ax4.set_title('X4 Residuals')\n",
    "ax5.set_title('X5 Residuals')\n",
    "ax6.set_title('X6 Residuals');"
   ]
  },
  {
   "cell_type": "markdown",
   "metadata": {},
   "source": [
    "#### Question 1.2\n",
    "\n",
    "The linear assumption is met for all variables. Their residual diagnostic scatter plots don't show any other patterns to indicate non-linearity."
   ]
  },
  {
   "cell_type": "markdown",
   "metadata": {},
   "source": [
    "#### Question 1.3 test for normality\n",
    "\n",
    "based on the JB p-value and the histogram and qqplot of our residuals, we can reject the null that the data is normally distributed."
   ]
  },
  {
   "cell_type": "code",
   "execution_count": 9,
   "metadata": {
    "collapsed": false
   },
   "outputs": [
    {
     "data": {
      "image/png": "[encoded data removed]",
      "text/plain": [
       "<matplotlib.figure.Figure at 0x117438208>"
      ]
     },
     "metadata": {},
     "output_type": "display_data"
    }
   ],
   "source": [
    "res = results.resid\n",
    "hist(res, bins=100);"
   ]
  },
  {
   "cell_type": "code",
   "execution_count": 10,
   "metadata": {
    "collapsed": false,
    "scrolled": false
   },
   "outputs": [
    {
     "data": {
      "image/png": "[encoded data removed]",
      "text/plain": [
       "<matplotlib.figure.Figure at 0x10dd81a20>"
      ]
     },
     "metadata": {},
     "output_type": "display_data"
    }
   ],
   "source": [
    "from statsmodels.graphics.gofplots import qqplot\n",
    "qqplot(results.resid)\n",
    "q = linspace(-4,4)\n",
    "plot(q, q, color='r')\n",
    "show()"
   ]
  },
  {
   "cell_type": "markdown",
   "metadata": {},
   "source": [
    "#### Question 1.4 heteroskedasticity"
   ]
  },
  {
   "cell_type": "code",
   "execution_count": 11,
   "metadata": {
    "collapsed": false
   },
   "outputs": [
    {
     "data": {
      "text/plain": [
       "1.0785837820695295e-09"
      ]
     },
     "execution_count": 11,
     "metadata": {},
     "output_type": "execute_result"
    }
   ],
   "source": [
    "from statsmodels.stats.diagnostic import het_breushpagan\n",
    "\n",
    "het_breushpagan(results.resid, results.model.exog)[1]"
   ]
  },
  {
   "cell_type": "markdown",
   "metadata": {},
   "source": [
    "^^^^\n",
    "\n",
    "#### Our p-value is significant, so we can reject the null that variance is constant"
   ]
  },
  {
   "cell_type": "code",
   "execution_count": 12,
   "metadata": {
    "collapsed": false
   },
   "outputs": [],
   "source": [
    "hills = pd.read_sql(\"SELECT * FROM hills;\", engine)"
   ]
  },
  {
   "cell_type": "code",
   "execution_count": 13,
   "metadata": {
    "collapsed": false
   },
   "outputs": [
    {
     "data": {
      "text/html": [
       "<div>\n",
       "<table border=\"1\" class=\"dataframe\">\n",
       "  <thead>\n",
       "    <tr style=\"text-align: right;\">\n",
       "      <th></th>\n",
       "      <th>Race</th>\n",
       "      <th>Distance</th>\n",
       "      <th>Climb</th>\n",
       "      <th>Time</th>\n",
       "    </tr>\n",
       "  </thead>\n",
       "  <tbody>\n",
       "    <tr>\n",
       "      <th>0</th>\n",
       "      <td>Greenmantle</td>\n",
       "      <td>2.5</td>\n",
       "      <td>650</td>\n",
       "      <td>16.083</td>\n",
       "    </tr>\n",
       "    <tr>\n",
       "      <th>1</th>\n",
       "      <td>Carnethy</td>\n",
       "      <td>6.0</td>\n",
       "      <td>2500</td>\n",
       "      <td>48.350</td>\n",
       "    </tr>\n",
       "    <tr>\n",
       "      <th>2</th>\n",
       "      <td>CraigDunain</td>\n",
       "      <td>6.0</td>\n",
       "      <td>900</td>\n",
       "      <td>33.650</td>\n",
       "    </tr>\n",
       "    <tr>\n",
       "      <th>3</th>\n",
       "      <td>BenRha</td>\n",
       "      <td>7.5</td>\n",
       "      <td>800</td>\n",
       "      <td>45.600</td>\n",
       "    </tr>\n",
       "    <tr>\n",
       "      <th>4</th>\n",
       "      <td>BenLomond</td>\n",
       "      <td>8.0</td>\n",
       "      <td>3070</td>\n",
       "      <td>62.267</td>\n",
       "    </tr>\n",
       "  </tbody>\n",
       "</table>\n",
       "</div>"
      ],
      "text/plain": [
       "          Race  Distance  Climb    Time\n",
       "0  Greenmantle       2.5    650  16.083\n",
       "1     Carnethy       6.0   2500  48.350\n",
       "2  CraigDunain       6.0    900  33.650\n",
       "3       BenRha       7.5    800  45.600\n",
       "4    BenLomond       8.0   3070  62.267"
      ]
     },
     "execution_count": 13,
     "metadata": {},
     "output_type": "execute_result"
    }
   ],
   "source": [
    "hills.head()"
   ]
  },
  {
   "cell_type": "markdown",
   "metadata": {},
   "source": [
    "**Question 2**\n",
    "\n",
    "You are given data about the Scottish Hill Climb races in the table `hills` which consists of 4 columns:\n",
    "\n",
    "```\n",
    "Race:     The name of the race (PK)\n",
    "Distance: The distance of the race in miles\n",
    "Climb:    Elevation climbed during race in feet\n",
    "Time:     Record time for race in minutes\n",
    "```"
   ]
  },
  {
   "cell_type": "markdown",
   "metadata": {},
   "source": [
    "1) Explore the data with a scatter matrix and a correlation plot (`statsmodels.graphics.plot_corr`).  \n",
    "\n",
    "   Build a multiple regression model to predict `Time` based on `Distance` and `Time`.\n",
    "   "
   ]
  },
  {
   "cell_type": "code",
   "execution_count": 14,
   "metadata": {
    "collapsed": false
   },
   "outputs": [
    {
     "data": {
      "image/png": "[encoded data removed]",
      "text/plain": [
       "<matplotlib.figure.Figure at 0x11e897518>"
      ]
     },
     "metadata": {},
     "output_type": "display_data"
    }
   ],
   "source": [
    "from pandas.tools.plotting import scatter_matrix\n",
    "scatter_matrix(hills, alpha=1, figsize=(10, 10), diagonal='kde');"
   ]
  },
  {
   "cell_type": "code",
   "execution_count": 15,
   "metadata": {
    "collapsed": false,
    "scrolled": false
   },
   "outputs": [
    {
     "data": {
      "image/png": "[encoded data removed]",
      "text/plain": [
       "<matplotlib.figure.Figure at 0x11e67c588>"
      ]
     },
     "metadata": {},
     "output_type": "display_data"
    }
   ],
   "source": [
    "hills_corrs = hills.drop('Race', axis=1)\n",
    "corr_matrix = np.corrcoef(hills_corrs.T)\n",
    "sm.graphics.plot_corr(corr_matrix, xnames=list(hills.columns.values[1:]))\n",
    "plt.show();"
   ]
  },
  {
   "cell_type": "code",
   "execution_count": 16,
   "metadata": {
    "collapsed": false,
    "scrolled": false
   },
   "outputs": [
    {
     "data": {
      "text/html": [
       "<table class=\"simpletable\">\n",
       "<caption>OLS Regression Results</caption>\n",
       "<tr>\n",
       "  <th>Dep. Variable:</th>          <td>Time</td>       <th>  R-squared:         </th> <td>   0.919</td>\n",
       "</tr>\n",
       "<tr>\n",
       "  <th>Model:</th>                   <td>OLS</td>       <th>  Adj. R-squared:    </th> <td>   0.914</td>\n",
       "</tr>\n",
       "<tr>\n",
       "  <th>Method:</th>             <td>Least Squares</td>  <th>  F-statistic:       </th> <td>   181.7</td>\n",
       "</tr>\n",
       "<tr>\n",
       "  <th>Date:</th>             <td>Mon, 10 Oct 2016</td> <th>  Prob (F-statistic):</th> <td>3.40e-18</td>\n",
       "</tr>\n",
       "<tr>\n",
       "  <th>Time:</th>                 <td>13:49:58</td>     <th>  Log-Likelihood:    </th> <td> -142.11</td>\n",
       "</tr>\n",
       "<tr>\n",
       "  <th>No. Observations:</th>      <td>    35</td>      <th>  AIC:               </th> <td>   290.2</td>\n",
       "</tr>\n",
       "<tr>\n",
       "  <th>Df Residuals:</th>          <td>    32</td>      <th>  BIC:               </th> <td>   294.9</td>\n",
       "</tr>\n",
       "<tr>\n",
       "  <th>Df Model:</th>              <td>     2</td>      <th>                     </th>     <td> </td>   \n",
       "</tr>\n",
       "<tr>\n",
       "  <th>Covariance Type:</th>      <td>nonrobust</td>    <th>                     </th>     <td> </td>   \n",
       "</tr>\n",
       "</table>\n",
       "<table class=\"simpletable\">\n",
       "<tr>\n",
       "      <td></td>        <th>coef</th>     <th>std err</th>      <th>t</th>      <th>P>|t|</th> <th>[95.0% Conf. Int.]</th> \n",
       "</tr>\n",
       "<tr>\n",
       "  <th>const</th>    <td>   -8.9920</td> <td>    4.303</td> <td>   -2.090</td> <td> 0.045</td> <td>  -17.756    -0.228</td>\n",
       "</tr>\n",
       "<tr>\n",
       "  <th>Distance</th> <td>    6.2180</td> <td>    0.601</td> <td>   10.343</td> <td> 0.000</td> <td>    4.993     7.442</td>\n",
       "</tr>\n",
       "<tr>\n",
       "  <th>Climb</th>    <td>    0.0110</td> <td>    0.002</td> <td>    5.387</td> <td> 0.000</td> <td>    0.007     0.015</td>\n",
       "</tr>\n",
       "</table>\n",
       "<table class=\"simpletable\">\n",
       "<tr>\n",
       "  <th>Omnibus:</th>       <td>47.910</td> <th>  Durbin-Watson:     </th> <td>   2.249</td>\n",
       "</tr>\n",
       "<tr>\n",
       "  <th>Prob(Omnibus):</th> <td> 0.000</td> <th>  Jarque-Bera (JB):  </th> <td> 233.976</td>\n",
       "</tr>\n",
       "<tr>\n",
       "  <th>Skew:</th>          <td> 3.026</td> <th>  Prob(JB):          </th> <td>1.56e-51</td>\n",
       "</tr>\n",
       "<tr>\n",
       "  <th>Kurtosis:</th>      <td>14.127</td> <th>  Cond. No.          </th> <td>4.20e+03</td>\n",
       "</tr>\n",
       "</table>"
      ],
      "text/plain": [
       "<class 'statsmodels.iolib.summary.Summary'>\n",
       "\"\"\"\n",
       "                            OLS Regression Results                            \n",
       "==============================================================================\n",
       "Dep. Variable:                   Time   R-squared:                       0.919\n",
       "Model:                            OLS   Adj. R-squared:                  0.914\n",
       "Method:                 Least Squares   F-statistic:                     181.7\n",
       "Date:                Mon, 10 Oct 2016   Prob (F-statistic):           3.40e-18\n",
       "Time:                        13:49:58   Log-Likelihood:                -142.11\n",
       "No. Observations:                  35   AIC:                             290.2\n",
       "Df Residuals:                      32   BIC:                             294.9\n",
       "Df Model:                           2                                         \n",
       "Covariance Type:            nonrobust                                         \n",
       "==============================================================================\n",
       "                 coef    std err          t      P>|t|      [95.0% Conf. Int.]\n",
       "------------------------------------------------------------------------------\n",
       "const         -8.9920      4.303     -2.090      0.045       -17.756    -0.228\n",
       "Distance       6.2180      0.601     10.343      0.000         4.993     7.442\n",
       "Climb          0.0110      0.002      5.387      0.000         0.007     0.015\n",
       "==============================================================================\n",
       "Omnibus:                       47.910   Durbin-Watson:                   2.249\n",
       "Prob(Omnibus):                  0.000   Jarque-Bera (JB):              233.976\n",
       "Skew:                           3.026   Prob(JB):                     1.56e-51\n",
       "Kurtosis:                      14.127   Cond. No.                     4.20e+03\n",
       "==============================================================================\n",
       "\n",
       "Warnings:\n",
       "[1] Standard Errors assume that the covariance matrix of the errors is correctly specified.\n",
       "[2] The condition number is large, 4.2e+03. This might indicate that there are\n",
       "strong multicollinearity or other numerical problems.\n",
       "\"\"\""
      ]
     },
     "execution_count": 16,
     "metadata": {},
     "output_type": "execute_result"
    }
   ],
   "source": [
    "X2 = hills[['Distance', 'Climb']]\n",
    "Y2 = hills.Time\n",
    "X2 = sm.add_constant(X2)  # <- add in constant term\n",
    "\n",
    "model2 = sm.OLS(Y2, X2)\n",
    "results2 = model2.fit()\n",
    "results2.summary()"
   ]
  },
  {
   "cell_type": "markdown",
   "metadata": {},
   "source": [
    "2) Interpret the coefficients of your model.  \n",
    "\n"
   ]
  },
  {
   "cell_type": "markdown",
   "metadata": {},
   "source": [
    "$$ y = b + (\\beta_1)x_1 + (\\beta_2)x_2 + \\varepsilon $$\n",
    "\n",
    "$$ time = (-8.9920) + (6.2180)(Distance) + (0.0110)(Climb) + \\varepsilon $$\n",
    "\n",
    "#### As distance increases by one, time increases by 6.22. As Climb increases by one, time increases by 0.011."
   ]
  },
  {
   "cell_type": "markdown",
   "metadata": {},
   "source": [
    "3) Plot the fitted values of the response (`Time`) against the standardized residuals of the model.\n",
    "\n",
    "   **Hint:**\n",
    "   - Use `model.fittedvalues` to get fitted values and `model.resid_pearson` to get the standardized residuals\n",
    " \n",
    "   Does the residual plot appear to fulfill the following assumptions:\n",
    "   - Linearity\n",
    "   - Normality\n",
    "   - Homoscedasticity \n",
    "   \n",
    "   What are the consequences if those assumptions are not met ? \n"
   ]
  },
  {
   "cell_type": "code",
   "execution_count": 17,
   "metadata": {
    "collapsed": false,
    "scrolled": false
   },
   "outputs": [
    {
     "data": {
      "image/png": "[encoded data removed]",
      "text/plain": [
       "<matplotlib.figure.Figure at 0x11eb704a8>"
      ]
     },
     "metadata": {},
     "output_type": "display_data"
    }
   ],
   "source": [
    "fitted_vals = results2.fittedvalues\n",
    "std_resids = results2.resid_pearson\n",
    "sns.residplot(fitted_vals, std_resids);"
   ]
  },
  {
   "cell_type": "code",
   "execution_count": 18,
   "metadata": {
    "collapsed": false,
    "scrolled": true
   },
   "outputs": [
    {
     "data": {
      "image/png": "[encoded data removed]",
      "text/plain": [
       "<matplotlib.figure.Figure at 0x11e897b38>"
      ]
     },
     "metadata": {},
     "output_type": "display_data"
    }
   ],
   "source": [
    "hist(std_resids, bins=50);"
   ]
  },
  {
   "cell_type": "code",
   "execution_count": 19,
   "metadata": {
    "collapsed": false
   },
   "outputs": [
    {
     "data": {
      "image/png": "[encoded data removed]",
      "text/plain": [
       "<matplotlib.figure.Figure at 0x11fb01908>"
      ]
     },
     "metadata": {},
     "output_type": "display_data"
    }
   ],
   "source": [
    "qqplot(std_resids)\n",
    "q = linspace(-2,5)\n",
    "plot(q, q, color='r')\n",
    "show()"
   ]
  },
  {
   "cell_type": "markdown",
   "metadata": {},
   "source": [
    "#### Question 3 & 4 commentary\n",
    "\n",
    "+ The model seems to be non-linear as its residuals are somewhat spread out and non-random.\n",
    "+ The histogram of its residuals also shows a non-normal distribution.\n",
    "+ Its JB p-value is significant as well, so we can reject the null that the data is normally distributed.\n",
    "+ the qq-plot also shows that our model is skewed by the extreme values and therefore doesn't accurately model the majority of our data. It's clear to see that we potentially have a non-linear relationship or we have two very out-of-the-ordinary outliers that we can ignore."
   ]
  },
  {
   "cell_type": "markdown",
   "metadata": {},
   "source": [
    "4) An additional test for Normality of the residuals is the Q-Q plot. If the quantiles of the residuals match that of a Normal distribution, then the residuals are normally distribution. \n",
    "\n",
    "   Import the qq-plot function from statsmodels `from statsmodels.graphics.gofplots import qqplot`.\n",
    "   \n",
    "   Draw a straight line where the quantiles of the residuals are the same as those of a standard Normal distribution.\n",
    "   \n",
    "   The plot you produce should look similar to the one below:\n",
    "   \n",
    "   ![](images/qq.png)\n",
    "   \n",
    "   Do the residuals appear to be Normal ?\n",
    "  \n",
    "   "
   ]
  },
  {
   "cell_type": "markdown",
   "metadata": {},
   "source": [
    "5) (Extra Credit) To identify outliers, one can also look at the leverage-residual plot. \n",
    "\n",
    "   Explain what leverage means and how is leverage computed. Is a data point influential if the residual is large but the leverage is low? What about if the residual and leverage are both high?\n",
    "   \n",
    "   Import the leverage-residual plot from statsmodels by `from statsmodels.graphics.regressionplots import plot_leverage_resid2`. You can call it by just feeding in the fitted model.\n",
    "   \n",
    "   ```python\n",
    "   plot_leverage_resid2(model)\n",
    "   ```\n",
    "   \n",
    "   Identify the races where the leverage and residual are high. Comment on the commonalities between those races.\n",
    "   \n",
    "   "
   ]
  },
  {
   "cell_type": "markdown",
   "metadata": {},
   "source": [
    "#### Question 2.5 attempt:\n",
    "\n",
    "Leverage measures how far variable values are from other observations, or how influential outliers might be on other data points. It's calculated by taking the derivative of y_hat with respect to y. If residual is large and leverage is low, then it's not as influential. If it's got a high residual and leverage then it's more influential.\n",
    "\n",
    "$\\text{leverage} = h_{ii} = \\frac {\\delta \\hat{y_i}}{\\delta y_i}$"
   ]
  },
  {
   "cell_type": "code",
   "execution_count": 20,
   "metadata": {
    "collapsed": false,
    "scrolled": true
   },
   "outputs": [
    {
     "data": {
      "image/png": "[encoded data removed]",
      "text/plain": [
       "<matplotlib.figure.Figure at 0x11fb11438>"
      ]
     },
     "metadata": {},
     "output_type": "display_data"
    }
   ],
   "source": [
    "from statsmodels.graphics.regressionplots import plot_leverage_resid2\n",
    "plot_leverage_resid2(results2);"
   ]
  },
  {
   "cell_type": "markdown",
   "metadata": {},
   "source": [
    "#### It looks like races 10, 6, and 17 are the most influential"
   ]
  },
  {
   "cell_type": "markdown",
   "metadata": {},
   "source": [
    "6) (Extra Credit) What are the precautions you need to bare in mind if you were to remove the outliers you have identified in `5.` ?\n",
    "   \n",
    "   Remove the outliers in the dataset and re-run the model. \n",
    "   \n",
    "   Plot the residual plot and Q-Q plot as you have done previously. Comment on the plots.\n",
    "   \n",
    "   Also comment on the fit of the model to the data relative to the first model."
   ]
  },
  {
   "cell_type": "markdown",
   "metadata": {},
   "source": [
    "#### Question 2.6 attempt:\n",
    "\n",
    "+ Precautions: it's possible that our data is actually not linear and that those values are modeling something that our sample didn't adequately capture."
   ]
  },
  {
   "cell_type": "code",
   "execution_count": 21,
   "metadata": {
    "collapsed": false,
    "scrolled": false
   },
   "outputs": [
    {
     "data": {
      "text/html": [
       "<table class=\"simpletable\">\n",
       "<caption>OLS Regression Results</caption>\n",
       "<tr>\n",
       "  <th>Dep. Variable:</th>          <td>Time</td>       <th>  R-squared:         </th> <td>   0.974</td>\n",
       "</tr>\n",
       "<tr>\n",
       "  <th>Model:</th>                   <td>OLS</td>       <th>  Adj. R-squared:    </th> <td>   0.972</td>\n",
       "</tr>\n",
       "<tr>\n",
       "  <th>Method:</th>             <td>Least Squares</td>  <th>  F-statistic:       </th> <td>   544.1</td>\n",
       "</tr>\n",
       "<tr>\n",
       "  <th>Date:</th>             <td>Mon, 10 Oct 2016</td> <th>  Prob (F-statistic):</th> <td>1.02e-23</td>\n",
       "</tr>\n",
       "<tr>\n",
       "  <th>Time:</th>                 <td>13:49:59</td>     <th>  Log-Likelihood:    </th> <td> -101.92</td>\n",
       "</tr>\n",
       "<tr>\n",
       "  <th>No. Observations:</th>      <td>    32</td>      <th>  AIC:               </th> <td>   209.8</td>\n",
       "</tr>\n",
       "<tr>\n",
       "  <th>Df Residuals:</th>          <td>    29</td>      <th>  BIC:               </th> <td>   214.2</td>\n",
       "</tr>\n",
       "<tr>\n",
       "  <th>Df Model:</th>              <td>     2</td>      <th>                     </th>     <td> </td>   \n",
       "</tr>\n",
       "<tr>\n",
       "  <th>Covariance Type:</th>      <td>nonrobust</td>    <th>                     </th>     <td> </td>   \n",
       "</tr>\n",
       "</table>\n",
       "<table class=\"simpletable\">\n",
       "<tr>\n",
       "      <td></td>        <th>coef</th>     <th>std err</th>      <th>t</th>      <th>P>|t|</th> <th>[95.0% Conf. Int.]</th> \n",
       "</tr>\n",
       "<tr>\n",
       "  <th>const</th>    <td>  -10.7171</td> <td>    2.147</td> <td>   -4.992</td> <td> 0.000</td> <td>  -15.108    -6.326</td>\n",
       "</tr>\n",
       "<tr>\n",
       "  <th>Distance</th> <td>    6.8377</td> <td>    0.467</td> <td>   14.647</td> <td> 0.000</td> <td>    5.883     7.792</td>\n",
       "</tr>\n",
       "<tr>\n",
       "  <th>Climb</th>    <td>    0.0077</td> <td>    0.001</td> <td>    5.374</td> <td> 0.000</td> <td>    0.005     0.011</td>\n",
       "</tr>\n",
       "</table>\n",
       "<table class=\"simpletable\">\n",
       "<tr>\n",
       "  <th>Omnibus:</th>       <td> 5.917</td> <th>  Durbin-Watson:     </th> <td>   1.969</td>\n",
       "</tr>\n",
       "<tr>\n",
       "  <th>Prob(Omnibus):</th> <td> 0.052</td> <th>  Jarque-Bera (JB):  </th> <td>   4.255</td>\n",
       "</tr>\n",
       "<tr>\n",
       "  <th>Skew:</th>          <td> 0.778</td> <th>  Prob(JB):          </th> <td>   0.119</td>\n",
       "</tr>\n",
       "<tr>\n",
       "  <th>Kurtosis:</th>      <td> 3.879</td> <th>  Cond. No.          </th> <td>4.22e+03</td>\n",
       "</tr>\n",
       "</table>"
      ],
      "text/plain": [
       "<class 'statsmodels.iolib.summary.Summary'>\n",
       "\"\"\"\n",
       "                            OLS Regression Results                            \n",
       "==============================================================================\n",
       "Dep. Variable:                   Time   R-squared:                       0.974\n",
       "Model:                            OLS   Adj. R-squared:                  0.972\n",
       "Method:                 Least Squares   F-statistic:                     544.1\n",
       "Date:                Mon, 10 Oct 2016   Prob (F-statistic):           1.02e-23\n",
       "Time:                        13:49:59   Log-Likelihood:                -101.92\n",
       "No. Observations:                  32   AIC:                             209.8\n",
       "Df Residuals:                      29   BIC:                             214.2\n",
       "Df Model:                           2                                         \n",
       "Covariance Type:            nonrobust                                         \n",
       "==============================================================================\n",
       "                 coef    std err          t      P>|t|      [95.0% Conf. Int.]\n",
       "------------------------------------------------------------------------------\n",
       "const        -10.7171      2.147     -4.992      0.000       -15.108    -6.326\n",
       "Distance       6.8377      0.467     14.647      0.000         5.883     7.792\n",
       "Climb          0.0077      0.001      5.374      0.000         0.005     0.011\n",
       "==============================================================================\n",
       "Omnibus:                        5.917   Durbin-Watson:                   1.969\n",
       "Prob(Omnibus):                  0.052   Jarque-Bera (JB):                4.255\n",
       "Skew:                           0.778   Prob(JB):                        0.119\n",
       "Kurtosis:                       3.879   Cond. No.                     4.22e+03\n",
       "==============================================================================\n",
       "\n",
       "Warnings:\n",
       "[1] Standard Errors assume that the covariance matrix of the errors is correctly specified.\n",
       "[2] The condition number is large, 4.22e+03. This might indicate that there are\n",
       "strong multicollinearity or other numerical problems.\n",
       "\"\"\""
      ]
     },
     "execution_count": 21,
     "metadata": {},
     "output_type": "execute_result"
    }
   ],
   "source": [
    "X3 = hills.drop(hills.index[[6,10,17]]).drop('Race', axis=1).drop('Time', axis=1)\n",
    "Y3 = hills.drop(hills.index[[6,10,17]]).Time\n",
    "X3 = sm.add_constant(X3)  # <- add in constant term\n",
    "\n",
    "model3 = sm.OLS(Y3, X3)\n",
    "results3 = model3.fit()\n",
    "results3.summary()"
   ]
  },
  {
   "cell_type": "code",
   "execution_count": 22,
   "metadata": {
    "collapsed": false,
    "scrolled": true
   },
   "outputs": [
    {
     "data": {
      "image/png": "[encoded data removed]",
      "text/plain": [
       "<matplotlib.figure.Figure at 0x11fbf7b70>"
      ]
     },
     "metadata": {},
     "output_type": "display_data"
    }
   ],
   "source": [
    "new_fitted_vals = results3.fittedvalues\n",
    "new_std_resids = results3.resid_pearson\n",
    "sns.residplot(new_fitted_vals, new_std_resids);"
   ]
  },
  {
   "cell_type": "code",
   "execution_count": 23,
   "metadata": {
    "collapsed": false,
    "scrolled": true
   },
   "outputs": [
    {
     "data": {
      "image/png": "[encoded data removed]",
      "text/plain": [
       "<matplotlib.figure.Figure at 0x11fb73550>"
      ]
     },
     "metadata": {},
     "output_type": "display_data"
    }
   ],
   "source": [
    "hist(new_std_resids, bins=50);"
   ]
  },
  {
   "cell_type": "code",
   "execution_count": 24,
   "metadata": {
    "collapsed": false,
    "scrolled": true
   },
   "outputs": [
    {
     "data": {
      "image/png": "[encoded data removed]",
      "text/plain": [
       "<matplotlib.figure.Figure at 0x11e6be390>"
      ]
     },
     "metadata": {},
     "output_type": "display_data"
    }
   ],
   "source": [
    "qqplot(new_std_resids)\n",
    "q = linspace(-2,5)\n",
    "plot(q, q, color='r')\n",
    "show()"
   ]
  },
  {
   "cell_type": "markdown",
   "metadata": {},
   "source": [
    "#### Question 2.6 commentary\n",
    "\n",
    "+ The R^2 in our second model explains 6% more of the data, which is definitely a better fit, and our F-stat is bigger with a smaller p-value.\n",
    "+ The residual plot is slightly better, more linear than the first, and the distribution appears to be more normal.\n",
    "+ the qqplot does a much better job of modeling most of the data. There seems to be one more outlier, but it seems to not carry much leverage as the line of our model very well fits the bulk of the data."
   ]
  },
  {
   "cell_type": "markdown",
   "metadata": {},
   "source": [
    "**Question 3**\n",
    "\n",
    "You are given the price and features of some used cars in the tables `car_price` and `car_type`. Car company X want you to build a model to predict car price based on some given features about the car.\n",
    "\n",
    "1) Explore the dataset with a correlation matrix. You should select only numeric columns when you are constructing the correlation matrix.  \n",
    "   ```python\n",
    "   numerics_only = car_price.select_dtypes(['int64', 'float64'])\n",
    "   sm.graphics.plot_corr(numerics_only.corr(), xnames=numerics_only.columns.tolist())\n",
    "   ```\n",
    "\n",
    "   Which 2 variables are strongly multicollinear with each other based on your observation of the correlation matrix ?\n",
    "   \n",
    "   Which one would you choose to put in the model and why (subjective answer)."
   ]
  },
  {
   "cell_type": "code",
   "execution_count": 25,
   "metadata": {
    "collapsed": false
   },
   "outputs": [],
   "source": [
    "car_price = pd.read_sql('SELECT * FROM car_price', engine)\n",
    "car_type = pd.read_sql('SELECT * FROM car_type', engine)"
   ]
  },
  {
   "cell_type": "code",
   "execution_count": 26,
   "metadata": {
    "collapsed": false,
    "scrolled": true
   },
   "outputs": [
    {
     "data": {
      "text/html": [
       "<div>\n",
       "<table border=\"1\" class=\"dataframe\">\n",
       "  <thead>\n",
       "    <tr style=\"text-align: right;\">\n",
       "      <th></th>\n",
       "      <th>car_id</th>\n",
       "      <th>price</th>\n",
       "      <th>mileage</th>\n",
       "      <th>make</th>\n",
       "      <th>model</th>\n",
       "      <th>trim</th>\n",
       "      <th>cruise</th>\n",
       "      <th>sound</th>\n",
       "      <th>leather</th>\n",
       "    </tr>\n",
       "  </thead>\n",
       "  <tbody>\n",
       "    <tr>\n",
       "      <th>0</th>\n",
       "      <td>0</td>\n",
       "      <td>17314.103129</td>\n",
       "      <td>8221</td>\n",
       "      <td>Buick</td>\n",
       "      <td>Century</td>\n",
       "      <td>Sedan 4D</td>\n",
       "      <td>1</td>\n",
       "      <td>1</td>\n",
       "      <td>1</td>\n",
       "    </tr>\n",
       "    <tr>\n",
       "      <th>1</th>\n",
       "      <td>1</td>\n",
       "      <td>17542.036083</td>\n",
       "      <td>9135</td>\n",
       "      <td>Buick</td>\n",
       "      <td>Century</td>\n",
       "      <td>Sedan 4D</td>\n",
       "      <td>1</td>\n",
       "      <td>1</td>\n",
       "      <td>0</td>\n",
       "    </tr>\n",
       "    <tr>\n",
       "      <th>2</th>\n",
       "      <td>2</td>\n",
       "      <td>16218.847862</td>\n",
       "      <td>13196</td>\n",
       "      <td>Buick</td>\n",
       "      <td>Century</td>\n",
       "      <td>Sedan 4D</td>\n",
       "      <td>1</td>\n",
       "      <td>1</td>\n",
       "      <td>0</td>\n",
       "    </tr>\n",
       "    <tr>\n",
       "      <th>3</th>\n",
       "      <td>3</td>\n",
       "      <td>16336.913140</td>\n",
       "      <td>16342</td>\n",
       "      <td>Buick</td>\n",
       "      <td>Century</td>\n",
       "      <td>Sedan 4D</td>\n",
       "      <td>1</td>\n",
       "      <td>0</td>\n",
       "      <td>0</td>\n",
       "    </tr>\n",
       "    <tr>\n",
       "      <th>4</th>\n",
       "      <td>4</td>\n",
       "      <td>16339.170324</td>\n",
       "      <td>19832</td>\n",
       "      <td>Buick</td>\n",
       "      <td>Century</td>\n",
       "      <td>Sedan 4D</td>\n",
       "      <td>1</td>\n",
       "      <td>0</td>\n",
       "      <td>1</td>\n",
       "    </tr>\n",
       "  </tbody>\n",
       "</table>\n",
       "</div>"
      ],
      "text/plain": [
       "   car_id         price  mileage   make    model      trim  cruise  sound  \\\n",
       "0       0  17314.103129     8221  Buick  Century  Sedan 4D       1      1   \n",
       "1       1  17542.036083     9135  Buick  Century  Sedan 4D       1      1   \n",
       "2       2  16218.847862    13196  Buick  Century  Sedan 4D       1      1   \n",
       "3       3  16336.913140    16342  Buick  Century  Sedan 4D       1      0   \n",
       "4       4  16339.170324    19832  Buick  Century  Sedan 4D       1      0   \n",
       "\n",
       "   leather  \n",
       "0        1  \n",
       "1        0  \n",
       "2        0  \n",
       "3        0  \n",
       "4        1  "
      ]
     },
     "execution_count": 26,
     "metadata": {},
     "output_type": "execute_result"
    }
   ],
   "source": [
    "car_price.head()"
   ]
  },
  {
   "cell_type": "code",
   "execution_count": 27,
   "metadata": {
    "collapsed": false,
    "scrolled": true
   },
   "outputs": [
    {
     "data": {
      "text/html": [
       "<div>\n",
       "<table border=\"1\" class=\"dataframe\">\n",
       "  <thead>\n",
       "    <tr style=\"text-align: right;\">\n",
       "      <th></th>\n",
       "      <th>make</th>\n",
       "      <th>model</th>\n",
       "      <th>trim</th>\n",
       "      <th>type</th>\n",
       "      <th>cylinder</th>\n",
       "      <th>liter</th>\n",
       "      <th>doors</th>\n",
       "    </tr>\n",
       "  </thead>\n",
       "  <tbody>\n",
       "    <tr>\n",
       "      <th>0</th>\n",
       "      <td>Buick</td>\n",
       "      <td>Century</td>\n",
       "      <td>Sedan 4D</td>\n",
       "      <td>Sedan</td>\n",
       "      <td>6</td>\n",
       "      <td>3.1</td>\n",
       "      <td>4</td>\n",
       "    </tr>\n",
       "    <tr>\n",
       "      <th>1</th>\n",
       "      <td>Buick</td>\n",
       "      <td>Lacrosse</td>\n",
       "      <td>CX Sedan 4D</td>\n",
       "      <td>Sedan</td>\n",
       "      <td>6</td>\n",
       "      <td>3.6</td>\n",
       "      <td>4</td>\n",
       "    </tr>\n",
       "    <tr>\n",
       "      <th>2</th>\n",
       "      <td>Buick</td>\n",
       "      <td>Lacrosse</td>\n",
       "      <td>CXL Sedan 4D</td>\n",
       "      <td>Sedan</td>\n",
       "      <td>6</td>\n",
       "      <td>3.6</td>\n",
       "      <td>4</td>\n",
       "    </tr>\n",
       "    <tr>\n",
       "      <th>3</th>\n",
       "      <td>Buick</td>\n",
       "      <td>Lacrosse</td>\n",
       "      <td>CXS Sedan 4D</td>\n",
       "      <td>Sedan</td>\n",
       "      <td>6</td>\n",
       "      <td>3.8</td>\n",
       "      <td>4</td>\n",
       "    </tr>\n",
       "    <tr>\n",
       "      <th>4</th>\n",
       "      <td>Buick</td>\n",
       "      <td>Lesabre</td>\n",
       "      <td>Custom Sedan 4D</td>\n",
       "      <td>Sedan</td>\n",
       "      <td>6</td>\n",
       "      <td>3.8</td>\n",
       "      <td>4</td>\n",
       "    </tr>\n",
       "  </tbody>\n",
       "</table>\n",
       "</div>"
      ],
      "text/plain": [
       "    make     model             trim   type  cylinder  liter  doors\n",
       "0  Buick   Century         Sedan 4D  Sedan         6    3.1      4\n",
       "1  Buick  Lacrosse      CX Sedan 4D  Sedan         6    3.6      4\n",
       "2  Buick  Lacrosse     CXL Sedan 4D  Sedan         6    3.6      4\n",
       "3  Buick  Lacrosse     CXS Sedan 4D  Sedan         6    3.8      4\n",
       "4  Buick   Lesabre  Custom Sedan 4D  Sedan         6    3.8      4"
      ]
     },
     "execution_count": 27,
     "metadata": {},
     "output_type": "execute_result"
    }
   ],
   "source": [
    "car_type.head()"
   ]
  },
  {
   "cell_type": "code",
   "execution_count": 28,
   "metadata": {
    "collapsed": false
   },
   "outputs": [
    {
     "data": {
      "text/html": [
       "<div>\n",
       "<table border=\"1\" class=\"dataframe\">\n",
       "  <thead>\n",
       "    <tr style=\"text-align: right;\">\n",
       "      <th></th>\n",
       "      <th>price</th>\n",
       "      <th>mileage</th>\n",
       "      <th>cruise</th>\n",
       "      <th>sound</th>\n",
       "      <th>leather</th>\n",
       "    </tr>\n",
       "  </thead>\n",
       "  <tbody>\n",
       "    <tr>\n",
       "      <th>0</th>\n",
       "      <td>17314.103129</td>\n",
       "      <td>8221</td>\n",
       "      <td>1</td>\n",
       "      <td>1</td>\n",
       "      <td>1</td>\n",
       "    </tr>\n",
       "    <tr>\n",
       "      <th>1</th>\n",
       "      <td>17542.036083</td>\n",
       "      <td>9135</td>\n",
       "      <td>1</td>\n",
       "      <td>1</td>\n",
       "      <td>0</td>\n",
       "    </tr>\n",
       "    <tr>\n",
       "      <th>2</th>\n",
       "      <td>16218.847862</td>\n",
       "      <td>13196</td>\n",
       "      <td>1</td>\n",
       "      <td>1</td>\n",
       "      <td>0</td>\n",
       "    </tr>\n",
       "    <tr>\n",
       "      <th>3</th>\n",
       "      <td>16336.913140</td>\n",
       "      <td>16342</td>\n",
       "      <td>1</td>\n",
       "      <td>0</td>\n",
       "      <td>0</td>\n",
       "    </tr>\n",
       "    <tr>\n",
       "      <th>4</th>\n",
       "      <td>16339.170324</td>\n",
       "      <td>19832</td>\n",
       "      <td>1</td>\n",
       "      <td>0</td>\n",
       "      <td>1</td>\n",
       "    </tr>\n",
       "  </tbody>\n",
       "</table>\n",
       "</div>"
      ],
      "text/plain": [
       "          price  mileage  cruise  sound  leather\n",
       "0  17314.103129     8221       1      1        1\n",
       "1  17542.036083     9135       1      1        0\n",
       "2  16218.847862    13196       1      1        0\n",
       "3  16336.913140    16342       1      0        0\n",
       "4  16339.170324    19832       1      0        1"
      ]
     },
     "execution_count": 28,
     "metadata": {},
     "output_type": "execute_result"
    }
   ],
   "source": [
    "types_prices = pd.concat([car_price, car_type], axis=1).drop(['car_id','make', 'model', 'trim', 'type', 'cylinder', 'liter', 'doors'], axis=1)\n",
    "types_prices.head()"
   ]
  },
  {
   "cell_type": "code",
   "execution_count": 29,
   "metadata": {
    "collapsed": false,
    "scrolled": true
   },
   "outputs": [
    {
     "data": {
      "image/png": "[encoded data removed]",
      "text/plain": [
       "<matplotlib.figure.Figure at 0x11e5de978>"
      ]
     },
     "metadata": {},
     "output_type": "display_data"
    }
   ],
   "source": [
    "corr_matrix = np.corrcoef(types_prices.T)\n",
    "sm.graphics.plot_corr(corr_matrix, xnames=list(types_prices.columns.values));"
   ]
  },
  {
   "cell_type": "markdown",
   "metadata": {},
   "source": [
    "#### COMMENTARY:\n",
    "\n",
    "based on the correlation matrix, price and cruise are multicollinear. We would keep price because it is more detailed information, while cruise seems to be either 1's or 0's. We would get better predictability with price."
   ]
  },
  {
   "cell_type": "markdown",
   "metadata": {},
   "source": [
    "2) Fit a multiple regression model with all the available features to predict price. Check all the assumptions made about the model as you have done previously. Comment on the Q-Q plot and the residual plot.\n",
    "\n",
    "   "
   ]
  },
  {
   "cell_type": "code",
   "execution_count": 30,
   "metadata": {
    "collapsed": false
   },
   "outputs": [
    {
     "data": {
      "text/html": [
       "<div>\n",
       "<table border=\"1\" class=\"dataframe\">\n",
       "  <thead>\n",
       "    <tr style=\"text-align: right;\">\n",
       "      <th></th>\n",
       "      <th>car_id</th>\n",
       "      <th>price</th>\n",
       "      <th>mileage</th>\n",
       "      <th>make</th>\n",
       "      <th>model</th>\n",
       "      <th>trim</th>\n",
       "      <th>cruise</th>\n",
       "      <th>sound</th>\n",
       "      <th>leather</th>\n",
       "      <th>cylinder</th>\n",
       "      <th>liter</th>\n",
       "      <th>doors</th>\n",
       "    </tr>\n",
       "  </thead>\n",
       "  <tbody>\n",
       "    <tr>\n",
       "      <th>0</th>\n",
       "      <td>0</td>\n",
       "      <td>17314.103129</td>\n",
       "      <td>8221</td>\n",
       "      <td>Buick</td>\n",
       "      <td>Century</td>\n",
       "      <td>Sedan 4D</td>\n",
       "      <td>1</td>\n",
       "      <td>1</td>\n",
       "      <td>1</td>\n",
       "      <td>6</td>\n",
       "      <td>3.1</td>\n",
       "      <td>4</td>\n",
       "    </tr>\n",
       "    <tr>\n",
       "      <th>1</th>\n",
       "      <td>1</td>\n",
       "      <td>17542.036083</td>\n",
       "      <td>9135</td>\n",
       "      <td>Buick</td>\n",
       "      <td>Century</td>\n",
       "      <td>Sedan 4D</td>\n",
       "      <td>1</td>\n",
       "      <td>1</td>\n",
       "      <td>0</td>\n",
       "      <td>6</td>\n",
       "      <td>3.1</td>\n",
       "      <td>4</td>\n",
       "    </tr>\n",
       "    <tr>\n",
       "      <th>2</th>\n",
       "      <td>2</td>\n",
       "      <td>16218.847862</td>\n",
       "      <td>13196</td>\n",
       "      <td>Buick</td>\n",
       "      <td>Century</td>\n",
       "      <td>Sedan 4D</td>\n",
       "      <td>1</td>\n",
       "      <td>1</td>\n",
       "      <td>0</td>\n",
       "      <td>6</td>\n",
       "      <td>3.1</td>\n",
       "      <td>4</td>\n",
       "    </tr>\n",
       "    <tr>\n",
       "      <th>3</th>\n",
       "      <td>3</td>\n",
       "      <td>16336.913140</td>\n",
       "      <td>16342</td>\n",
       "      <td>Buick</td>\n",
       "      <td>Century</td>\n",
       "      <td>Sedan 4D</td>\n",
       "      <td>1</td>\n",
       "      <td>0</td>\n",
       "      <td>0</td>\n",
       "      <td>6</td>\n",
       "      <td>3.1</td>\n",
       "      <td>4</td>\n",
       "    </tr>\n",
       "    <tr>\n",
       "      <th>4</th>\n",
       "      <td>4</td>\n",
       "      <td>16339.170324</td>\n",
       "      <td>19832</td>\n",
       "      <td>Buick</td>\n",
       "      <td>Century</td>\n",
       "      <td>Sedan 4D</td>\n",
       "      <td>1</td>\n",
       "      <td>0</td>\n",
       "      <td>1</td>\n",
       "      <td>6</td>\n",
       "      <td>3.1</td>\n",
       "      <td>4</td>\n",
       "    </tr>\n",
       "  </tbody>\n",
       "</table>\n",
       "</div>"
      ],
      "text/plain": [
       "   car_id         price  mileage   make    model      trim  cruise  sound  \\\n",
       "0       0  17314.103129     8221  Buick  Century  Sedan 4D       1      1   \n",
       "1       1  17542.036083     9135  Buick  Century  Sedan 4D       1      1   \n",
       "2       2  16218.847862    13196  Buick  Century  Sedan 4D       1      1   \n",
       "3       3  16336.913140    16342  Buick  Century  Sedan 4D       1      0   \n",
       "4       4  16339.170324    19832  Buick  Century  Sedan 4D       1      0   \n",
       "\n",
       "   leather  cylinder  liter  doors  \n",
       "0        1         6    3.1      4  \n",
       "1        0         6    3.1      4  \n",
       "2        0         6    3.1      4  \n",
       "3        0         6    3.1      4  \n",
       "4        1         6    3.1      4  "
      ]
     },
     "execution_count": 30,
     "metadata": {},
     "output_type": "execute_result"
    }
   ],
   "source": [
    "full_car = pd.read_sql(\"SELECT p.*, t.cylinder, t.liter, t.doors FROM car_price p LEFT OUTER JOIN car_type t ON p.make=t.make AND p.model=t.model AND p.trim=t.trim\", engine)\n",
    "full_car.head()"
   ]
  },
  {
   "cell_type": "code",
   "execution_count": 31,
   "metadata": {
    "collapsed": true
   },
   "outputs": [],
   "source": [
    "import statsmodels.formula.api as smf\n",
    "import patsy"
   ]
  },
  {
   "cell_type": "code",
   "execution_count": 32,
   "metadata": {
    "collapsed": false
   },
   "outputs": [
    {
     "data": {
      "text/html": [
       "<table class=\"simpletable\">\n",
       "<caption>OLS Regression Results</caption>\n",
       "<tr>\n",
       "  <th>Dep. Variable:</th>          <td>price</td>      <th>  R-squared:         </th> <td>   0.992</td> \n",
       "</tr>\n",
       "<tr>\n",
       "  <th>Model:</th>                   <td>OLS</td>       <th>  Adj. R-squared:    </th> <td>   0.992</td> \n",
       "</tr>\n",
       "<tr>\n",
       "  <th>Method:</th>             <td>Least Squares</td>  <th>  F-statistic:       </th> <td>   1307.</td> \n",
       "</tr>\n",
       "<tr>\n",
       "  <th>Date:</th>             <td>Mon, 10 Oct 2016</td> <th>  Prob (F-statistic):</th>  <td>  0.00</td>  \n",
       "</tr>\n",
       "<tr>\n",
       "  <th>Time:</th>                 <td>13:50:02</td>     <th>  Log-Likelihood:    </th> <td> -6574.1</td> \n",
       "</tr>\n",
       "<tr>\n",
       "  <th>No. Observations:</th>      <td>   804</td>      <th>  AIC:               </th> <td>1.330e+04</td>\n",
       "</tr>\n",
       "<tr>\n",
       "  <th>Df Residuals:</th>          <td>   730</td>      <th>  BIC:               </th> <td>1.364e+04</td>\n",
       "</tr>\n",
       "<tr>\n",
       "  <th>Df Model:</th>              <td>    73</td>      <th>                     </th>     <td> </td>    \n",
       "</tr>\n",
       "<tr>\n",
       "  <th>Covariance Type:</th>      <td>nonrobust</td>    <th>                     </th>     <td> </td>    \n",
       "</tr>\n",
       "</table>\n",
       "<table class=\"simpletable\">\n",
       "<tr>\n",
       "               <td></td>                  <th>coef</th>     <th>std err</th>      <th>t</th>      <th>P>|t|</th> <th>[95.0% Conf. Int.]</th> \n",
       "</tr>\n",
       "<tr>\n",
       "  <th>Intercept</th>                   <td> 5542.4854</td> <td>  221.014</td> <td>   25.078</td> <td> 0.000</td> <td> 5108.587  5976.384</td>\n",
       "</tr>\n",
       "<tr>\n",
       "  <th>make[T.Cadillac]</th>            <td> 1.073e+04</td> <td>  125.388</td> <td>   85.596</td> <td> 0.000</td> <td> 1.05e+04   1.1e+04</td>\n",
       "</tr>\n",
       "<tr>\n",
       "  <th>make[T.Chevrolet]</th>           <td>-1706.0156</td> <td>  108.874</td> <td>  -15.670</td> <td> 0.000</td> <td>-1919.759 -1492.272</td>\n",
       "</tr>\n",
       "<tr>\n",
       "  <th>make[T.Pontiac]</th>             <td>-2280.7785</td> <td>  117.116</td> <td>  -19.475</td> <td> 0.000</td> <td>-2510.703 -2050.854</td>\n",
       "</tr>\n",
       "<tr>\n",
       "  <th>make[T.SAAB]</th>                <td> 8751.4068</td> <td>  396.090</td> <td>   22.094</td> <td> 0.000</td> <td> 7973.796  9529.018</td>\n",
       "</tr>\n",
       "<tr>\n",
       "  <th>make[T.Saturn]</th>              <td>-1313.8876</td> <td>   93.500</td> <td>  -14.052</td> <td> 0.000</td> <td>-1497.448 -1130.327</td>\n",
       "</tr>\n",
       "<tr>\n",
       "  <th>model[T.9_3]</th>                <td> 3555.5749</td> <td>  310.744</td> <td>   11.442</td> <td> 0.000</td> <td> 2945.515  4165.634</td>\n",
       "</tr>\n",
       "<tr>\n",
       "  <th>model[T.9_3 HO]</th>             <td> 4918.0832</td> <td>  608.883</td> <td>    8.077</td> <td> 0.000</td> <td> 3722.713  6113.453</td>\n",
       "</tr>\n",
       "<tr>\n",
       "  <th>model[T.9_5]</th>                <td> 5690.1367</td> <td>  514.242</td> <td>   11.065</td> <td> 0.000</td> <td> 4680.566  6699.707</td>\n",
       "</tr>\n",
       "<tr>\n",
       "  <th>model[T.9_5 HO]</th>             <td> 6244.6803</td> <td>  758.727</td> <td>    8.230</td> <td> 0.000</td> <td> 4755.132  7734.228</td>\n",
       "</tr>\n",
       "<tr>\n",
       "  <th>model[T.AVEO]</th>               <td> -177.4172</td> <td>  221.160</td> <td>   -0.802</td> <td> 0.423</td> <td> -611.602   256.768</td>\n",
       "</tr>\n",
       "<tr>\n",
       "  <th>model[T.Bonneville]</th>         <td>-3885.5443</td> <td>  193.548</td> <td>  -20.075</td> <td> 0.000</td> <td>-4265.522 -3505.567</td>\n",
       "</tr>\n",
       "<tr>\n",
       "  <th>model[T.CST-V]</th>              <td> 2310.6673</td> <td>  265.995</td> <td>    8.687</td> <td> 0.000</td> <td> 1788.460  2832.874</td>\n",
       "</tr>\n",
       "<tr>\n",
       "  <th>model[T.CTS]</th>                <td>-1044.0901</td> <td>  256.907</td> <td>   -4.064</td> <td> 0.000</td> <td>-1548.455  -539.725</td>\n",
       "</tr>\n",
       "<tr>\n",
       "  <th>model[T.Cavalier]</th>           <td>  490.4066</td> <td>  154.077</td> <td>    3.183</td> <td> 0.002</td> <td>  187.920   792.893</td>\n",
       "</tr>\n",
       "<tr>\n",
       "  <th>model[T.Century]</th>            <td>-4858.1677</td> <td>  252.742</td> <td>  -19.222</td> <td> 0.000</td> <td>-5354.355 -4361.981</td>\n",
       "</tr>\n",
       "<tr>\n",
       "  <th>model[T.Classic]</th>            <td> 2019.1504</td> <td>  286.738</td> <td>    7.042</td> <td> 0.000</td> <td> 1456.222  2582.079</td>\n",
       "</tr>\n",
       "<tr>\n",
       "  <th>model[T.Cobalt]</th>             <td> 1444.4619</td> <td>  142.487</td> <td>   10.137</td> <td> 0.000</td> <td> 1164.728  1724.196</td>\n",
       "</tr>\n",
       "<tr>\n",
       "  <th>model[T.Corvette]</th>           <td> 5385.6399</td> <td>  278.285</td> <td>   19.353</td> <td> 0.000</td> <td> 4839.306  5931.974</td>\n",
       "</tr>\n",
       "<tr>\n",
       "  <th>model[T.Deville]</th>            <td>-7260.4932</td> <td>  253.870</td> <td>  -28.599</td> <td> 0.000</td> <td>-7758.895 -6762.092</td>\n",
       "</tr>\n",
       "<tr>\n",
       "  <th>model[T.G6]</th>                 <td>   61.2471</td> <td>  238.456</td> <td>    0.257</td> <td> 0.797</td> <td> -406.894   529.389</td>\n",
       "</tr>\n",
       "<tr>\n",
       "  <th>model[T.GTO]</th>                <td> -465.9656</td> <td>  276.271</td> <td>   -1.687</td> <td> 0.092</td> <td>-1008.346    76.415</td>\n",
       "</tr>\n",
       "<tr>\n",
       "  <th>model[T.Grand Am]</th>           <td> -868.4237</td> <td>  249.522</td> <td>   -3.480</td> <td> 0.001</td> <td>-1358.291  -378.557</td>\n",
       "</tr>\n",
       "<tr>\n",
       "  <th>model[T.Grand Prix]</th>         <td>-3131.4772</td> <td>  246.616</td> <td>  -12.698</td> <td> 0.000</td> <td>-3615.638 -2647.317</td>\n",
       "</tr>\n",
       "<tr>\n",
       "  <th>model[T.Impala]</th>             <td>-2911.3944</td> <td>  211.278</td> <td>  -13.780</td> <td> 0.000</td> <td>-3326.180 -2496.608</td>\n",
       "</tr>\n",
       "<tr>\n",
       "  <th>model[T.Ion]</th>                <td> 1167.5443</td> <td>  133.572</td> <td>    8.741</td> <td> 0.000</td> <td>  905.314  1429.775</td>\n",
       "</tr>\n",
       "<tr>\n",
       "  <th>model[T.L Series]</th>           <td>-2481.4319</td> <td>  123.849</td> <td>  -20.036</td> <td> 0.000</td> <td>-2724.574 -2238.290</td>\n",
       "</tr>\n",
       "<tr>\n",
       "  <th>model[T.Lacrosse]</th>           <td>-1830.6207</td> <td>  135.592</td> <td>  -13.501</td> <td> 0.000</td> <td>-2096.818 -1564.423</td>\n",
       "</tr>\n",
       "<tr>\n",
       "  <th>model[T.Lesabre]</th>            <td>-2757.6140</td> <td>  145.755</td> <td>  -18.920</td> <td> 0.000</td> <td>-3043.762 -2471.466</td>\n",
       "</tr>\n",
       "<tr>\n",
       "  <th>model[T.Malibu]</th>             <td>-3949.8069</td> <td>  177.719</td> <td>  -22.225</td> <td> 0.000</td> <td>-4298.708 -3600.905</td>\n",
       "</tr>\n",
       "<tr>\n",
       "  <th>model[T.Monte Carlo]</th>        <td>-4007.0559</td> <td>  331.633</td> <td>  -12.083</td> <td> 0.000</td> <td>-4658.124 -3355.988</td>\n",
       "</tr>\n",
       "<tr>\n",
       "  <th>model[T.Park Avenue]</th>        <td>  805.4252</td> <td>  269.828</td> <td>    2.985</td> <td> 0.003</td> <td>  275.693  1335.157</td>\n",
       "</tr>\n",
       "<tr>\n",
       "  <th>model[T.STS-V6]</th>             <td> 4571.4967</td> <td>  257.963</td> <td>   17.721</td> <td> 0.000</td> <td> 4065.058  5077.935</td>\n",
       "</tr>\n",
       "<tr>\n",
       "  <th>model[T.STS-V8]</th>             <td> 2537.5566</td> <td>  257.214</td> <td>    9.866</td> <td> 0.000</td> <td> 2032.589  3042.524</td>\n",
       "</tr>\n",
       "<tr>\n",
       "  <th>model[T.Sunfire]</th>            <td> 1478.9716</td> <td>  310.891</td> <td>    4.757</td> <td> 0.000</td> <td>  868.625  2089.318</td>\n",
       "</tr>\n",
       "<tr>\n",
       "  <th>model[T.Vibe]</th>               <td> 4530.4138</td> <td>  250.340</td> <td>   18.097</td> <td> 0.000</td> <td> 4038.941  5021.886</td>\n",
       "</tr>\n",
       "<tr>\n",
       "  <th>model[T.XLR-V8]</th>             <td> 9617.6002</td> <td>  155.446</td> <td>   61.871</td> <td> 0.000</td> <td> 9312.426  9922.774</td>\n",
       "</tr>\n",
       "<tr>\n",
       "  <th>trim[T.Aero Conv 2D]</th>        <td> 2412.2555</td> <td>  344.968</td> <td>    6.993</td> <td> 0.000</td> <td> 1735.007  3089.504</td>\n",
       "</tr>\n",
       "<tr>\n",
       "  <th>trim[T.Aero Sedan 4D]</th>       <td>-2728.2700</td> <td>  317.043</td> <td>   -8.605</td> <td> 0.000</td> <td>-3350.695 -2105.844</td>\n",
       "</tr>\n",
       "<tr>\n",
       "  <th>trim[T.Aero Wagon 4D]</th>       <td>-1179.5692</td> <td>  470.632</td> <td>   -2.506</td> <td> 0.012</td> <td>-2103.523  -255.615</td>\n",
       "</tr>\n",
       "<tr>\n",
       "  <th>trim[T.Arc Conv 2D]</th>         <td> 5948.0796</td> <td>  345.245</td> <td>   17.229</td> <td> 0.000</td> <td> 5270.287  6625.872</td>\n",
       "</tr>\n",
       "<tr>\n",
       "  <th>trim[T.Arc Sedan 4D]</th>        <td>  157.3484</td> <td>  236.787</td> <td>    0.665</td> <td> 0.507</td> <td> -307.517   622.214</td>\n",
       "</tr>\n",
       "<tr>\n",
       "  <th>trim[T.Arc Wagon 4D]</th>        <td>  666.5454</td> <td>  361.743</td> <td>    1.843</td> <td> 0.066</td> <td>  -43.635  1376.726</td>\n",
       "</tr>\n",
       "<tr>\n",
       "  <th>trim[T.CX Sedan 4D]</th>         <td>-1821.5045</td> <td>  237.729</td> <td>   -7.662</td> <td> 0.000</td> <td>-2288.219 -1354.790</td>\n",
       "</tr>\n",
       "<tr>\n",
       "  <th>trim[T.CXL Sedan 4D]</th>        <td> -476.5056</td> <td>  237.638</td> <td>   -2.005</td> <td> 0.045</td> <td> -943.041    -9.970</td>\n",
       "</tr>\n",
       "<tr>\n",
       "  <th>trim[T.CXS Sedan 4D]</th>        <td>  467.3894</td> <td>  239.278</td> <td>    1.953</td> <td> 0.051</td> <td>   -2.366   937.144</td>\n",
       "</tr>\n",
       "<tr>\n",
       "  <th>trim[T.Conv 2D]</th>             <td> 1886.9969</td> <td>  425.583</td> <td>    4.434</td> <td> 0.000</td> <td> 1051.485  2722.509</td>\n",
       "</tr>\n",
       "<tr>\n",
       "  <th>trim[T.Coupe 2D]</th>            <td>-3077.0101</td> <td>  206.874</td> <td>  -14.874</td> <td> 0.000</td> <td>-3483.148 -2670.872</td>\n",
       "</tr>\n",
       "<tr>\n",
       "  <th>trim[T.Custom Sedan 4D]</th>     <td>-2810.3339</td> <td>  214.630</td> <td>  -13.094</td> <td> 0.000</td> <td>-3231.700 -2388.967</td>\n",
       "</tr>\n",
       "<tr>\n",
       "  <th>trim[T.DHS Sedan 4D]</th>        <td> 2778.5168</td> <td>  395.900</td> <td>    7.018</td> <td> 0.000</td> <td> 2001.278  3555.756</td>\n",
       "</tr>\n",
       "<tr>\n",
       "  <th>trim[T.DTS Sedan 4D]</th>        <td> 3426.7102</td> <td>  395.649</td> <td>    8.661</td> <td> 0.000</td> <td> 2649.965  4203.456</td>\n",
       "</tr>\n",
       "<tr>\n",
       "  <th>trim[T.GT Coupe 2D]</th>         <td>-6381.2736</td> <td>  320.547</td> <td>  -19.907</td> <td> 0.000</td> <td>-7010.578 -5751.969</td>\n",
       "</tr>\n",
       "<tr>\n",
       "  <th>trim[T.GT Sedan 4D]</th>         <td>-1178.6477</td> <td>  290.785</td> <td>   -4.053</td> <td> 0.000</td> <td>-1749.523  -607.773</td>\n",
       "</tr>\n",
       "<tr>\n",
       "  <th>trim[T.GT Sportwagon]</th>       <td> -345.3336</td> <td>  405.236</td> <td>   -0.852</td> <td> 0.394</td> <td>-1140.901   450.233</td>\n",
       "</tr>\n",
       "<tr>\n",
       "  <th>trim[T.GTP Sedan 4D]</th>        <td> 1686.4805</td> <td>  375.641</td> <td>    4.490</td> <td> 0.000</td> <td>  949.015  2423.946</td>\n",
       "</tr>\n",
       "<tr>\n",
       "  <th>trim[T.GXP Sedan 4D]</th>        <td>-2192.4286</td> <td>  299.208</td> <td>   -7.327</td> <td> 0.000</td> <td>-2779.840 -1605.017</td>\n",
       "</tr>\n",
       "<tr>\n",
       "  <th>trim[T.Hardtop Conv 2D]</th>     <td> 9617.6002</td> <td>  155.446</td> <td>   61.871</td> <td> 0.000</td> <td> 9312.426  9922.774</td>\n",
       "</tr>\n",
       "<tr>\n",
       "  <th>trim[T.L300 Sedan 4D]</th>       <td>-2481.4319</td> <td>  123.849</td> <td>  -20.036</td> <td> 0.000</td> <td>-2724.574 -2238.290</td>\n",
       "</tr>\n",
       "<tr>\n",
       "  <th>trim[T.LS Coupe 2D]</th>         <td>-2497.1429</td> <td>  192.345</td> <td>  -12.983</td> <td> 0.000</td> <td>-2874.758 -2119.528</td>\n",
       "</tr>\n",
       "<tr>\n",
       "  <th>trim[T.LS Hatchback 4D]</th>     <td> -529.9459</td> <td>  345.703</td> <td>   -1.533</td> <td> 0.126</td> <td>-1208.636   148.744</td>\n",
       "</tr>\n",
       "<tr>\n",
       "  <th>trim[T.LS MAXX Hback 4D]</th>    <td> -751.5868</td> <td>  321.903</td> <td>   -2.335</td> <td> 0.020</td> <td>-1383.553  -119.621</td>\n",
       "</tr>\n",
       "<tr>\n",
       "  <th>trim[T.LS Sedan 4D]</th>         <td> -818.9944</td> <td>  152.734</td> <td>   -5.362</td> <td> 0.000</td> <td>-1118.844  -519.144</td>\n",
       "</tr>\n",
       "<tr>\n",
       "  <th>trim[T.LS Sport Coupe 2D]</th>   <td>-2692.2990</td> <td>  306.299</td> <td>   -8.790</td> <td> 0.000</td> <td>-3293.632 -2090.966</td>\n",
       "</tr>\n",
       "<tr>\n",
       "  <th>trim[T.LS Sport Sedan 4D]</th>   <td> -737.5601</td> <td>  324.411</td> <td>   -2.274</td> <td> 0.023</td> <td>-1374.450  -100.670</td>\n",
       "</tr>\n",
       "<tr>\n",
       "  <th>trim[T.LT Coupe 2D]</th>         <td>  864.9947</td> <td>  400.688</td> <td>    2.159</td> <td> 0.031</td> <td>   78.356  1651.634</td>\n",
       "</tr>\n",
       "<tr>\n",
       "  <th>trim[T.LT Hatchback 4D]</th>     <td> -281.9927</td> <td>  348.726</td> <td>   -0.809</td> <td> 0.419</td> <td> -966.619   402.634</td>\n",
       "</tr>\n",
       "<tr>\n",
       "  <th>trim[T.LT MAXX Hback 4D]</th>    <td> -339.9475</td> <td>  321.318</td> <td>   -1.058</td> <td> 0.290</td> <td> -970.765   290.870</td>\n",
       "</tr>\n",
       "<tr>\n",
       "  <th>trim[T.LT Sedan 4D]</th>         <td> -692.5518</td> <td>  191.464</td> <td>   -3.617</td> <td> 0.000</td> <td>-1068.438  -316.665</td>\n",
       "</tr>\n",
       "<tr>\n",
       "  <th>trim[T.Limited Sedan 4D]</th>    <td>   52.7198</td> <td>  215.094</td> <td>    0.245</td> <td> 0.806</td> <td> -369.557   474.996</td>\n",
       "</tr>\n",
       "<tr>\n",
       "  <th>trim[T.Linear Conv 2D]</th>      <td> 4672.1973</td> <td>  251.762</td> <td>   18.558</td> <td> 0.000</td> <td> 4177.933  5166.462</td>\n",
       "</tr>\n",
       "<tr>\n",
       "  <th>trim[T.Linear Sedan 4D]</th>     <td>-1116.6225</td> <td>  257.715</td> <td>   -4.333</td> <td> 0.000</td> <td>-1622.574  -610.671</td>\n",
       "</tr>\n",
       "<tr>\n",
       "  <th>trim[T.Linear Wagon 4D]</th>     <td>  -80.5578</td> <td>  327.261</td> <td>   -0.246</td> <td> 0.806</td> <td> -723.042   561.926</td>\n",
       "</tr>\n",
       "<tr>\n",
       "  <th>trim[T.MAXX Hback 4D]</th>       <td>-1091.7703</td> <td>  323.332</td> <td>   -3.377</td> <td> 0.001</td> <td>-1726.543  -456.998</td>\n",
       "</tr>\n",
       "<tr>\n",
       "  <th>trim[T.Quad Coupe 2D]</th>       <td>-1601.9551</td> <td>  283.943</td> <td>   -5.642</td> <td> 0.000</td> <td>-2159.398 -1044.512</td>\n",
       "</tr>\n",
       "<tr>\n",
       "  <th>trim[T.SE Sedan 4D]</th>         <td> 1215.0499</td> <td>  203.249</td> <td>    5.978</td> <td> 0.000</td> <td>  816.027  1614.072</td>\n",
       "</tr>\n",
       "<tr>\n",
       "  <th>trim[T.SLE Sedan 4D]</th>        <td> 2604.6843</td> <td>  290.916</td> <td>    8.953</td> <td> 0.000</td> <td> 2033.552  3175.816</td>\n",
       "</tr>\n",
       "<tr>\n",
       "  <th>trim[T.SS Coupe 2D]</th>         <td> 2264.6316</td> <td>  402.306</td> <td>    5.629</td> <td> 0.000</td> <td> 1474.817  3054.447</td>\n",
       "</tr>\n",
       "<tr>\n",
       "  <th>trim[T.SS Sedan 4D]</th>         <td> 4363.2573</td> <td>  348.378</td> <td>   12.524</td> <td> 0.000</td> <td> 3679.315  5047.199</td>\n",
       "</tr>\n",
       "<tr>\n",
       "  <th>trim[T.SVM Hatchback 4D]</th>    <td>-2614.5952</td> <td>  345.136</td> <td>   -7.576</td> <td> 0.000</td> <td>-3292.172 -1937.018</td>\n",
       "</tr>\n",
       "<tr>\n",
       "  <th>trim[T.SVM Sedan 4D]</th>        <td>-1819.7542</td> <td>  344.945</td> <td>   -5.275</td> <td> 0.000</td> <td>-2496.957 -1142.551</td>\n",
       "</tr>\n",
       "<tr>\n",
       "  <th>trim[T.Sedan 4D]</th>            <td>-1912.3787</td> <td>  126.443</td> <td>  -15.124</td> <td> 0.000</td> <td>-2160.614 -1664.144</td>\n",
       "</tr>\n",
       "<tr>\n",
       "  <th>trim[T.Special Ed Ultra 4D]</th> <td> -166.7563</td> <td>  403.318</td> <td>   -0.413</td> <td> 0.679</td> <td> -958.558   625.046</td>\n",
       "</tr>\n",
       "<tr>\n",
       "  <th>trim[T.Sportwagon 4D]</th>       <td>-1411.0701</td> <td>  405.981</td> <td>   -3.476</td> <td> 0.001</td> <td>-2208.099  -614.041</td>\n",
       "</tr>\n",
       "<tr>\n",
       "  <th>mileage</th>                     <td>   -0.1854</td> <td>    0.004</td> <td>  -45.754</td> <td> 0.000</td> <td>   -0.193    -0.177</td>\n",
       "</tr>\n",
       "<tr>\n",
       "  <th>cruise</th>                      <td>   69.4021</td> <td>  101.524</td> <td>    0.684</td> <td> 0.494</td> <td> -129.912   268.716</td>\n",
       "</tr>\n",
       "<tr>\n",
       "  <th>sound</th>                       <td>  211.2642</td> <td>   79.765</td> <td>    2.649</td> <td> 0.008</td> <td>   54.669   367.859</td>\n",
       "</tr>\n",
       "<tr>\n",
       "  <th>leather</th>                     <td>  295.3578</td> <td>   92.867</td> <td>    3.180</td> <td> 0.002</td> <td>  113.039   477.677</td>\n",
       "</tr>\n",
       "<tr>\n",
       "  <th>cylinder</th>                    <td> 2684.4895</td> <td>  129.860</td> <td>   20.672</td> <td> 0.000</td> <td> 2429.545  2939.434</td>\n",
       "</tr>\n",
       "<tr>\n",
       "  <th>liter</th>                       <td> 2218.3601</td> <td>  171.438</td> <td>   12.940</td> <td> 0.000</td> <td> 1881.790  2554.930</td>\n",
       "</tr>\n",
       "<tr>\n",
       "  <th>doors</th>                       <td> -664.2086</td> <td>   62.576</td> <td>  -10.614</td> <td> 0.000</td> <td> -787.059  -541.358</td>\n",
       "</tr>\n",
       "</table>\n",
       "<table class=\"simpletable\">\n",
       "<tr>\n",
       "  <th>Omnibus:</th>       <td>146.716</td> <th>  Durbin-Watson:     </th> <td>   1.268</td>\n",
       "</tr>\n",
       "<tr>\n",
       "  <th>Prob(Omnibus):</th> <td> 0.000</td>  <th>  Jarque-Bera (JB):  </th> <td>1692.659</td>\n",
       "</tr>\n",
       "<tr>\n",
       "  <th>Skew:</th>          <td>-0.436</td>  <th>  Prob(JB):          </th> <td>    0.00</td>\n",
       "</tr>\n",
       "<tr>\n",
       "  <th>Kurtosis:</th>      <td>10.055</td>  <th>  Cond. No.          </th> <td>1.35e+19</td>\n",
       "</tr>\n",
       "</table>"
      ],
      "text/plain": [
       "<class 'statsmodels.iolib.summary.Summary'>\n",
       "\"\"\"\n",
       "                            OLS Regression Results                            \n",
       "==============================================================================\n",
       "Dep. Variable:                  price   R-squared:                       0.992\n",
       "Model:                            OLS   Adj. R-squared:                  0.992\n",
       "Method:                 Least Squares   F-statistic:                     1307.\n",
       "Date:                Mon, 10 Oct 2016   Prob (F-statistic):               0.00\n",
       "Time:                        13:50:02   Log-Likelihood:                -6574.1\n",
       "No. Observations:                 804   AIC:                         1.330e+04\n",
       "Df Residuals:                     730   BIC:                         1.364e+04\n",
       "Df Model:                          73                                         \n",
       "Covariance Type:            nonrobust                                         \n",
       "===============================================================================================\n",
       "                                  coef    std err          t      P>|t|      [95.0% Conf. Int.]\n",
       "-----------------------------------------------------------------------------------------------\n",
       "Intercept                    5542.4854    221.014     25.078      0.000      5108.587  5976.384\n",
       "make[T.Cadillac]             1.073e+04    125.388     85.596      0.000      1.05e+04   1.1e+04\n",
       "make[T.Chevrolet]           -1706.0156    108.874    -15.670      0.000     -1919.759 -1492.272\n",
       "make[T.Pontiac]             -2280.7785    117.116    -19.475      0.000     -2510.703 -2050.854\n",
       "make[T.SAAB]                 8751.4068    396.090     22.094      0.000      7973.796  9529.018\n",
       "make[T.Saturn]              -1313.8876     93.500    -14.052      0.000     -1497.448 -1130.327\n",
       "model[T.9_3]                 3555.5749    310.744     11.442      0.000      2945.515  4165.634\n",
       "model[T.9_3 HO]              4918.0832    608.883      8.077      0.000      3722.713  6113.453\n",
       "model[T.9_5]                 5690.1367    514.242     11.065      0.000      4680.566  6699.707\n",
       "model[T.9_5 HO]              6244.6803    758.727      8.230      0.000      4755.132  7734.228\n",
       "model[T.AVEO]                -177.4172    221.160     -0.802      0.423      -611.602   256.768\n",
       "model[T.Bonneville]         -3885.5443    193.548    -20.075      0.000     -4265.522 -3505.567\n",
       "model[T.CST-V]               2310.6673    265.995      8.687      0.000      1788.460  2832.874\n",
       "model[T.CTS]                -1044.0901    256.907     -4.064      0.000     -1548.455  -539.725\n",
       "model[T.Cavalier]             490.4066    154.077      3.183      0.002       187.920   792.893\n",
       "model[T.Century]            -4858.1677    252.742    -19.222      0.000     -5354.355 -4361.981\n",
       "model[T.Classic]             2019.1504    286.738      7.042      0.000      1456.222  2582.079\n",
       "model[T.Cobalt]              1444.4619    142.487     10.137      0.000      1164.728  1724.196\n",
       "model[T.Corvette]            5385.6399    278.285     19.353      0.000      4839.306  5931.974\n",
       "model[T.Deville]            -7260.4932    253.870    -28.599      0.000     -7758.895 -6762.092\n",
       "model[T.G6]                    61.2471    238.456      0.257      0.797      -406.894   529.389\n",
       "model[T.GTO]                 -465.9656    276.271     -1.687      0.092     -1008.346    76.415\n",
       "model[T.Grand Am]            -868.4237    249.522     -3.480      0.001     -1358.291  -378.557\n",
       "model[T.Grand Prix]         -3131.4772    246.616    -12.698      0.000     -3615.638 -2647.317\n",
       "model[T.Impala]             -2911.3944    211.278    -13.780      0.000     -3326.180 -2496.608\n",
       "model[T.Ion]                 1167.5443    133.572      8.741      0.000       905.314  1429.775\n",
       "model[T.L Series]           -2481.4319    123.849    -20.036      0.000     -2724.574 -2238.290\n",
       "model[T.Lacrosse]           -1830.6207    135.592    -13.501      0.000     -2096.818 -1564.423\n",
       "model[T.Lesabre]            -2757.6140    145.755    -18.920      0.000     -3043.762 -2471.466\n",
       "model[T.Malibu]             -3949.8069    177.719    -22.225      0.000     -4298.708 -3600.905\n",
       "model[T.Monte Carlo]        -4007.0559    331.633    -12.083      0.000     -4658.124 -3355.988\n",
       "model[T.Park Avenue]          805.4252    269.828      2.985      0.003       275.693  1335.157\n",
       "model[T.STS-V6]              4571.4967    257.963     17.721      0.000      4065.058  5077.935\n",
       "model[T.STS-V8]              2537.5566    257.214      9.866      0.000      2032.589  3042.524\n",
       "model[T.Sunfire]             1478.9716    310.891      4.757      0.000       868.625  2089.318\n",
       "model[T.Vibe]                4530.4138    250.340     18.097      0.000      4038.941  5021.886\n",
       "model[T.XLR-V8]              9617.6002    155.446     61.871      0.000      9312.426  9922.774\n",
       "trim[T.Aero Conv 2D]         2412.2555    344.968      6.993      0.000      1735.007  3089.504\n",
       "trim[T.Aero Sedan 4D]       -2728.2700    317.043     -8.605      0.000     -3350.695 -2105.844\n",
       "trim[T.Aero Wagon 4D]       -1179.5692    470.632     -2.506      0.012     -2103.523  -255.615\n",
       "trim[T.Arc Conv 2D]          5948.0796    345.245     17.229      0.000      5270.287  6625.872\n",
       "trim[T.Arc Sedan 4D]          157.3484    236.787      0.665      0.507      -307.517   622.214\n",
       "trim[T.Arc Wagon 4D]          666.5454    361.743      1.843      0.066       -43.635  1376.726\n",
       "trim[T.CX Sedan 4D]         -1821.5045    237.729     -7.662      0.000     -2288.219 -1354.790\n",
       "trim[T.CXL Sedan 4D]         -476.5056    237.638     -2.005      0.045      -943.041    -9.970\n",
       "trim[T.CXS Sedan 4D]          467.3894    239.278      1.953      0.051        -2.366   937.144\n",
       "trim[T.Conv 2D]              1886.9969    425.583      4.434      0.000      1051.485  2722.509\n",
       "trim[T.Coupe 2D]            -3077.0101    206.874    -14.874      0.000     -3483.148 -2670.872\n",
       "trim[T.Custom Sedan 4D]     -2810.3339    214.630    -13.094      0.000     -3231.700 -2388.967\n",
       "trim[T.DHS Sedan 4D]         2778.5168    395.900      7.018      0.000      2001.278  3555.756\n",
       "trim[T.DTS Sedan 4D]         3426.7102    395.649      8.661      0.000      2649.965  4203.456\n",
       "trim[T.GT Coupe 2D]         -6381.2736    320.547    -19.907      0.000     -7010.578 -5751.969\n",
       "trim[T.GT Sedan 4D]         -1178.6477    290.785     -4.053      0.000     -1749.523  -607.773\n",
       "trim[T.GT Sportwagon]        -345.3336    405.236     -0.852      0.394     -1140.901   450.233\n",
       "trim[T.GTP Sedan 4D]         1686.4805    375.641      4.490      0.000       949.015  2423.946\n",
       "trim[T.GXP Sedan 4D]        -2192.4286    299.208     -7.327      0.000     -2779.840 -1605.017\n",
       "trim[T.Hardtop Conv 2D]      9617.6002    155.446     61.871      0.000      9312.426  9922.774\n",
       "trim[T.L300 Sedan 4D]       -2481.4319    123.849    -20.036      0.000     -2724.574 -2238.290\n",
       "trim[T.LS Coupe 2D]         -2497.1429    192.345    -12.983      0.000     -2874.758 -2119.528\n",
       "trim[T.LS Hatchback 4D]      -529.9459    345.703     -1.533      0.126     -1208.636   148.744\n",
       "trim[T.LS MAXX Hback 4D]     -751.5868    321.903     -2.335      0.020     -1383.553  -119.621\n",
       "trim[T.LS Sedan 4D]          -818.9944    152.734     -5.362      0.000     -1118.844  -519.144\n",
       "trim[T.LS Sport Coupe 2D]   -2692.2990    306.299     -8.790      0.000     -3293.632 -2090.966\n",
       "trim[T.LS Sport Sedan 4D]    -737.5601    324.411     -2.274      0.023     -1374.450  -100.670\n",
       "trim[T.LT Coupe 2D]           864.9947    400.688      2.159      0.031        78.356  1651.634\n",
       "trim[T.LT Hatchback 4D]      -281.9927    348.726     -0.809      0.419      -966.619   402.634\n",
       "trim[T.LT MAXX Hback 4D]     -339.9475    321.318     -1.058      0.290      -970.765   290.870\n",
       "trim[T.LT Sedan 4D]          -692.5518    191.464     -3.617      0.000     -1068.438  -316.665\n",
       "trim[T.Limited Sedan 4D]       52.7198    215.094      0.245      0.806      -369.557   474.996\n",
       "trim[T.Linear Conv 2D]       4672.1973    251.762     18.558      0.000      4177.933  5166.462\n",
       "trim[T.Linear Sedan 4D]     -1116.6225    257.715     -4.333      0.000     -1622.574  -610.671\n",
       "trim[T.Linear Wagon 4D]       -80.5578    327.261     -0.246      0.806      -723.042   561.926\n",
       "trim[T.MAXX Hback 4D]       -1091.7703    323.332     -3.377      0.001     -1726.543  -456.998\n",
       "trim[T.Quad Coupe 2D]       -1601.9551    283.943     -5.642      0.000     -2159.398 -1044.512\n",
       "trim[T.SE Sedan 4D]          1215.0499    203.249      5.978      0.000       816.027  1614.072\n",
       "trim[T.SLE Sedan 4D]         2604.6843    290.916      8.953      0.000      2033.552  3175.816\n",
       "trim[T.SS Coupe 2D]          2264.6316    402.306      5.629      0.000      1474.817  3054.447\n",
       "trim[T.SS Sedan 4D]          4363.2573    348.378     12.524      0.000      3679.315  5047.199\n",
       "trim[T.SVM Hatchback 4D]    -2614.5952    345.136     -7.576      0.000     -3292.172 -1937.018\n",
       "trim[T.SVM Sedan 4D]        -1819.7542    344.945     -5.275      0.000     -2496.957 -1142.551\n",
       "trim[T.Sedan 4D]            -1912.3787    126.443    -15.124      0.000     -2160.614 -1664.144\n",
       "trim[T.Special Ed Ultra 4D]  -166.7563    403.318     -0.413      0.679      -958.558   625.046\n",
       "trim[T.Sportwagon 4D]       -1411.0701    405.981     -3.476      0.001     -2208.099  -614.041\n",
       "mileage                        -0.1854      0.004    -45.754      0.000        -0.193    -0.177\n",
       "cruise                         69.4021    101.524      0.684      0.494      -129.912   268.716\n",
       "sound                         211.2642     79.765      2.649      0.008        54.669   367.859\n",
       "leather                       295.3578     92.867      3.180      0.002       113.039   477.677\n",
       "cylinder                     2684.4895    129.860     20.672      0.000      2429.545  2939.434\n",
       "liter                        2218.3601    171.438     12.940      0.000      1881.790  2554.930\n",
       "doors                        -664.2086     62.576    -10.614      0.000      -787.059  -541.358\n",
       "==============================================================================\n",
       "Omnibus:                      146.716   Durbin-Watson:                   1.268\n",
       "Prob(Omnibus):                  0.000   Jarque-Bera (JB):             1692.659\n",
       "Skew:                          -0.436   Prob(JB):                         0.00\n",
       "Kurtosis:                      10.055   Cond. No.                     1.35e+19\n",
       "==============================================================================\n",
       "\n",
       "Warnings:\n",
       "[1] Standard Errors assume that the covariance matrix of the errors is correctly specified.\n",
       "[2] The smallest eigenvalue is 2.03e-27. This might indicate that there are\n",
       "strong multicollinearity problems or that the design matrix is singular.\n",
       "\"\"\""
      ]
     },
     "execution_count": 32,
     "metadata": {},
     "output_type": "execute_result"
    }
   ],
   "source": [
    "model4 = smf.ols(formula='price ~ mileage + make + model + trim + cruise + sound + leather + cylinder + liter + doors', data=full_car)\n",
    "results4 = model4.fit()\n",
    "results4.summary()"
   ]
  },
  {
   "cell_type": "code",
   "execution_count": 33,
   "metadata": {
    "collapsed": false,
    "scrolled": true
   },
   "outputs": [
    {
     "data": {
      "image/png": "[encoded data removed]",
      "text/plain": [
       "<matplotlib.figure.Figure at 0x11e89feb8>"
      ]
     },
     "metadata": {},
     "output_type": "display_data"
    }
   ],
   "source": [
    "car_fitted_vals = results4.fittedvalues\n",
    "car_std_resids = results4.resid_pearson\n",
    "sns.residplot(car_fitted_vals, car_std_resids);"
   ]
  },
  {
   "cell_type": "markdown",
   "metadata": {},
   "source": [
    "#### Residual scatter commentary\n",
    "\n",
    "It seems like there are some outliers in our data, and that there could be a non-linear relationship."
   ]
  },
  {
   "cell_type": "code",
   "execution_count": 34,
   "metadata": {
    "collapsed": false,
    "scrolled": true
   },
   "outputs": [
    {
     "data": {
      "image/png": "[encoded data removed]",
      "text/plain": [
       "<matplotlib.figure.Figure at 0x11e6bfb00>"
      ]
     },
     "metadata": {},
     "output_type": "display_data"
    }
   ],
   "source": [
    "hist(car_std_resids, bins=200);"
   ]
  },
  {
   "cell_type": "markdown",
   "metadata": {},
   "source": [
    "#### histogram commentary\n",
    "\n",
    "Our residuals look to have a very normal distribution with some outliers in both directions, favoring a left-skew. However, our JB p-value is essentially zero, so we can reject the null that the distribution is normal."
   ]
  },
  {
   "cell_type": "code",
   "execution_count": 35,
   "metadata": {
    "collapsed": false
   },
   "outputs": [
    {
     "data": {
      "image/png": "[encoded data removed]",
      "text/plain": [
       "<matplotlib.figure.Figure at 0x11e6ace10>"
      ]
     },
     "metadata": {},
     "output_type": "display_data"
    }
   ],
   "source": [
    "qqplot(car_std_resids)\n",
    "q = linspace(-4,5)\n",
    "plot(q, q, color='r')\n",
    "show()"
   ]
  },
  {
   "cell_type": "markdown",
   "metadata": {},
   "source": [
    "#### qqplot commentary\n",
    "\n",
    "save for some extreme values on the low and high ends of the distribution, our model seems to do a pretty good job of describing the relationships between our indepenedent and dependent variables. However, we could get a better fit."
   ]
  },
  {
   "cell_type": "markdown",
   "metadata": {},
   "source": [
    "3) One of the remedies to heteroskedastic residuals is to take the log of the response. Log the response and re-run the model and check the assumptions again.\n",
    "\n",
    "   "
   ]
  },
  {
   "cell_type": "code",
   "execution_count": 37,
   "metadata": {
    "collapsed": false
   },
   "outputs": [
    {
     "ename": "PatsyError",
     "evalue": "model is missing required outcome variables",
     "output_type": "error",
     "traceback": [
      "\u001b[0;31m---------------------------------------------------------------------------\u001b[0m",
      "\u001b[0;31mPatsyError\u001b[0m                                Traceback (most recent call last)",
      "\u001b[0;32m<ipython-input-37-68b400d3c045>\u001b[0m in \u001b[0;36m<module>\u001b[0;34m()\u001b[0m\n\u001b[0;32m----> 1\u001b[0;31m \u001b[0mtest_f\u001b[0m\u001b[0;34m,\u001b[0m \u001b[0mtest_X\u001b[0m \u001b[0;34m=\u001b[0m \u001b[0mpatsy\u001b[0m\u001b[0;34m.\u001b[0m\u001b[0mdmatrices\u001b[0m\u001b[0;34m(\u001b[0m\u001b[0mf\u001b[0m\u001b[0;34m,\u001b[0m \u001b[0mfull_car\u001b[0m\u001b[0;34m,\u001b[0m \u001b[0mreturn_type\u001b[0m\u001b[0;34m=\u001b[0m\u001b[0;34m'dataframe'\u001b[0m\u001b[0;34m)\u001b[0m\u001b[0;34m\u001b[0m\u001b[0m\n\u001b[0m\u001b[1;32m      2\u001b[0m \u001b[0mlog_f\u001b[0m \u001b[0;34m=\u001b[0m \u001b[0mnp\u001b[0m\u001b[0;34m.\u001b[0m\u001b[0mlog\u001b[0m\u001b[0;34m(\u001b[0m\u001b[0mtest_f\u001b[0m\u001b[0;34m)\u001b[0m\u001b[0;34m\u001b[0m\u001b[0m\n\u001b[1;32m      3\u001b[0m \u001b[0mf\u001b[0m \u001b[0;34m=\u001b[0m \u001b[0;34m'price ~ mileage + make + model + trim + cruise + sound + leather + cylinder + liter + doors'\u001b[0m\u001b[0;34m\u001b[0m\u001b[0m\n",
      "\u001b[0;32m/Users/victorvulovic/anaconda/lib/python3.5/site-packages/patsy/highlevel.py\u001b[0m in \u001b[0;36mdmatrices\u001b[0;34m(formula_like, data, eval_env, NA_action, return_type)\u001b[0m\n\u001b[1;32m    297\u001b[0m                                       NA_action, return_type)\n\u001b[1;32m    298\u001b[0m     \u001b[0;32mif\u001b[0m \u001b[0mlhs\u001b[0m\u001b[0;34m.\u001b[0m\u001b[0mshape\u001b[0m\u001b[0;34m[\u001b[0m\u001b[0;36m1\u001b[0m\u001b[0;34m]\u001b[0m \u001b[0;34m==\u001b[0m \u001b[0;36m0\u001b[0m\u001b[0;34m:\u001b[0m\u001b[0;34m\u001b[0m\u001b[0m\n\u001b[0;32m--> 299\u001b[0;31m         \u001b[0;32mraise\u001b[0m \u001b[0mPatsyError\u001b[0m\u001b[0;34m(\u001b[0m\u001b[0;34m\"model is missing required outcome variables\"\u001b[0m\u001b[0;34m)\u001b[0m\u001b[0;34m\u001b[0m\u001b[0m\n\u001b[0m\u001b[1;32m    300\u001b[0m     \u001b[0;32mreturn\u001b[0m \u001b[0;34m(\u001b[0m\u001b[0mlhs\u001b[0m\u001b[0;34m,\u001b[0m \u001b[0mrhs\u001b[0m\u001b[0;34m)\u001b[0m\u001b[0;34m\u001b[0m\u001b[0m\n",
      "\u001b[0;31mPatsyError\u001b[0m: model is missing required outcome variables"
     ]
    }
   ],
   "source": [
    "test_f, test_X = patsy.dmatrices(f, full_car, return_type='dataframe')\n",
    "log_f = np.log(test_f)\n",
    "f = 'price ~ mileage + make + model + trim + cruise + sound + leather + cylinder + liter + doors'"
   ]
  },
  {
   "cell_type": "code",
   "execution_count": null,
   "metadata": {
    "collapsed": false
   },
   "outputs": [],
   "source": [
    "model8 = smf.OLS(log_f, test_X)\n",
    "results8 = model8.fit()\n",
    "results8.summary()"
   ]
  },
  {
   "cell_type": "code",
   "execution_count": null,
   "metadata": {
    "collapsed": false,
    "scrolled": false
   },
   "outputs": [],
   "source": [
    "car_fitted_vals_2 = results8.fittedvalues\n",
    "car_std_resids_2 = results8.resid_pearson\n",
    "sns.residplot(car_fitted_vals_2, car_std_resids_2);"
   ]
  },
  {
   "cell_type": "markdown",
   "metadata": {},
   "source": [
    "#### Commentary on residuals\n",
    "\n",
    "We have an improvement from last time as our residuals show less non-linearity"
   ]
  },
  {
   "cell_type": "code",
   "execution_count": null,
   "metadata": {
    "collapsed": false,
    "scrolled": true
   },
   "outputs": [],
   "source": [
    "hist(car_std_resids_2, bins=300);"
   ]
  },
  {
   "cell_type": "markdown",
   "metadata": {},
   "source": [
    "#### commentary on histogram and JB:\n",
    "\n",
    "we have an improvement here as well as our distribution appears more normal and our JB stat has lowered and our JB p-value has increased, although it is still significant, so we have to reject the null that the distribution is normal."
   ]
  },
  {
   "cell_type": "code",
   "execution_count": null,
   "metadata": {
    "collapsed": false
   },
   "outputs": [],
   "source": [
    "qqplot(car_std_resids_2)\n",
    "q = linspace(-4,5)\n",
    "plot(q, q, color='r')\n",
    "show()"
   ]
  },
  {
   "cell_type": "markdown",
   "metadata": {},
   "source": [
    "#### qqplot commentary:\n",
    "\n",
    "also, this has improved but there is still some data that lies outside the model, so we still have non-linearity and heteroscetasticity."
   ]
  },
  {
   "cell_type": "markdown",
   "metadata": {},
   "source": [
    "4) As a rule of thumb, the fewer variables there are in a model, the easier it is to interpret the model. Use your judgement and remove features which you think are of little practical importance and have coefficients that are statistically insignificant.\n",
    "\n",
    "   "
   ]
  },
  {
   "cell_type": "code",
   "execution_count": null,
   "metadata": {
    "collapsed": false
   },
   "outputs": [],
   "source": [
    "test_X2 = test_X.drop('trim[T.Arc Wagon 4D]', axis=1)\n",
    "model9 = smf.OLS(log_f, test_X2)\n",
    "results9 = model9.fit()\n",
    "results9.summary()"
   ]
  },
  {
   "cell_type": "code",
   "execution_count": null,
   "metadata": {
    "collapsed": false,
    "scrolled": true
   },
   "outputs": [],
   "source": [
    "test_X3 = test_X2.drop('trim[T.CXL Sedan 4D]', axis=1)\n",
    "model10 = smf.OLS(log_f, test_X3)\n",
    "results10 = model10.fit()\n",
    "results10.summary()"
   ]
  },
  {
   "cell_type": "code",
   "execution_count": null,
   "metadata": {
    "collapsed": false
   },
   "outputs": [],
   "source": [
    "test_X4 = test_X3.drop('trim[T.GT Sportwagon]', axis=1)\n",
    "model11 = smf.OLS(log_f, test_X4)\n",
    "results11 = model11.fit()\n",
    "results11.summary()"
   ]
  },
  {
   "cell_type": "markdown",
   "metadata": {},
   "source": [
    "#### commentary on removing explanatory variables\n",
    "\n",
    "This last stepwise regression seems to do an adequate job of removing varaibles with significant p-values. This still has an enormous amount of variables, but our r^2 and adjusted r^2 are nearly perfect, as is our f-stat/p-value."
   ]
  },
  {
   "cell_type": "markdown",
   "metadata": {},
   "source": [
    "5) (Extra Credit) Run outlier diagnostics in order to identify and explain outliers of the model."
   ]
  },
  {
   "cell_type": "markdown",
   "metadata": {},
   "source": [
    "## Outlier analysis attempt"
   ]
  },
  {
   "cell_type": "code",
   "execution_count": null,
   "metadata": {
    "collapsed": false
   },
   "outputs": [],
   "source": [
    "plot_leverage_resid2(results11);"
   ]
  },
  {
   "cell_type": "markdown",
   "metadata": {},
   "source": [
    "#### it appears that values 740, 743, 742, and 741 are outliers with high leverage. We will examine them and see how removing them may affect our results."
   ]
  },
  {
   "cell_type": "code",
   "execution_count": null,
   "metadata": {
    "collapsed": false
   },
   "outputs": [],
   "source": [
    "# test_X4.drop(test_X4['Intercept'], inplace=True, axis=0)\n",
    "test_X4.head()"
   ]
  },
  {
   "cell_type": "code",
   "execution_count": null,
   "metadata": {
    "collapsed": false
   },
   "outputs": [],
   "source": [
    "X_out = test_X4.drop(test_X4.index[[740,741,742,742]])\n",
    "Y_out = log_f.drop(log_f.index[[740,741,742,742]])\n",
    "\n",
    "model12 = sm.OLS(Y_out, X_out)\n",
    "results12 = model12.fit()\n",
    "results12.summary()"
   ]
  },
  {
   "cell_type": "code",
   "execution_count": null,
   "metadata": {
    "collapsed": false
   },
   "outputs": [],
   "source": [
    "out_fitted_vals = results12.fittedvalues\n",
    "out_std_resids = results12.resid_pearson\n",
    "sns.residplot(out_fitted_vals, out_std_resids);"
   ]
  },
  {
   "cell_type": "code",
   "execution_count": null,
   "metadata": {
    "collapsed": false
   },
   "outputs": [],
   "source": [
    "hist(out_std_resids, bins=200);"
   ]
  },
  {
   "cell_type": "code",
   "execution_count": null,
   "metadata": {
    "collapsed": false
   },
   "outputs": [],
   "source": [
    "qqplot(out_std_resids)\n",
    "q = linspace(-4,4)\n",
    "plot(q, q, color='r')\n",
    "show()"
   ]
  },
  {
   "cell_type": "markdown",
   "metadata": {},
   "source": [
    "#### commentary on outlier removal\n",
    "\n",
    "It doesn't seem that removing the outliers did much in this case. Our physical representations of the data have not changed much and our satistical analysis has not improved by a large margin. The biggest effect was that our beta p-values all got closer to zero."
   ]
  },
  {
   "cell_type": "code",
   "execution_count": null,
   "metadata": {
    "collapsed": true
   },
   "outputs": [],
   "source": []
  }
 ],
 "metadata": {
  "anaconda-cloud": {},
  "kernelspec": {
   "display_name": "Python 3",
   "language": "python",
   "name": "python3"
  },
  "language_info": {
   "codemirror_mode": {
    "name": "ipython",
    "version": 3
   },
   "file_extension": ".py",
   "mimetype": "text/x-python",
   "name": "python",
   "nbconvert_exporter": "python",
   "pygments_lexer": "ipython3",
   "version": "3.5.2"
  }
 },
 "nbformat": 4,
 "nbformat_minor": 0
}
