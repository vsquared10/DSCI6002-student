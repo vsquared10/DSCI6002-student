{
 "cells": [
  {
   "cell_type": "markdown",
   "metadata": {},
   "source": [
    "## Outline\n",
    "\n",
    "- Null / Alternative Hypothesis\n",
    "- One sample t-test / z-test\n",
    "- p-value and Significance Level\n",
    "- Python for One sample t-test / z-test"
   ]
  },
  {
   "cell_type": "markdown",
   "metadata": {},
   "source": [
    "**Question 1**\n",
    "\n",
    "State the null hypothesis and the alternative hypothesis for the following scenarios:\n",
    "\n",
    "1. A burger place claims the fat content of their bugers is no more than 20%. You have collected a sample of burgers to verify the claim.\n",
    "\n",
    "   <br>\n",
    "   \n",
    "2. With a month to go in the election, the opinion poll shows that the Democrate candidate is leading with 55% support. You want to know if the true percentage is different from 55%.\n",
    "\n",
    "   <br>\n",
    "   \n",
    "3. Apple Inc. is interested to find out if the battery life of a Macbook Pro that has been used for a month is more than 48 hours."
   ]
  },
  {
   "cell_type": "markdown",
   "metadata": {},
   "source": [
    "#### 1.1\n",
    "$H_o: µ \\leq 20\\% \\\\ H_a: µ > 20\\%$\n",
    "\n",
    "#### 1.2\n",
    "\n",
    "$H_o: µ = .55 \\\\ H_a: µ \\neq .55$\n",
    "\n",
    "#### 1.3\n",
    "\n",
    "$H_o: µ \\leq 48 \\\\ H_a: µ > 48$\n"
   ]
  },
  {
   "cell_type": "markdown",
   "metadata": {},
   "source": [
    "**Question 2**\n",
    "\n",
    "For each of the scenarios in **Question 1**, decide if you would use a one-sample t-test or a z-test to test your null hypothesis."
   ]
  },
  {
   "cell_type": "markdown",
   "metadata": {},
   "source": [
    "#### 1.1\n",
    "\n",
    "one sample, one tail t-test\n",
    "\n",
    "#### 1.2\n",
    "\n",
    "two tailed z-test\n",
    "\n",
    "#### 1.3\n",
    "\n",
    "one sample, one tail t-test"
   ]
  },
  {
   "cell_type": "markdown",
   "metadata": {},
   "source": [
    "**Question 3**\n",
    "\n",
    "Given a set of real data, you can conduct a **t-test** and **z-test** in Python:\n",
    "\n",
    "- **t-test** (documentation [here](http://docs.scipy.org/doc/scipy-0.14.0/reference/generated/scipy.stats.ttest_1samp.html))\n",
    "  ```python\n",
    "  from scipy.stats import ttest_1samp\n",
    "  t_statistic, two_tailed_p_value = ttest_1samp(sample, null_mean)\n",
    "  ```\n",
    "\n",
    "- **z-test** (documentation [here](http://statsmodels.sourceforge.net/devel/generated/statsmodels.stats.proportion.proportions_ztest.html#statsmodels.stats.proportion.proportions_ztest))\n",
    "  ```python\n",
    "  from statsmodels.stats.proportion import proportions_ztest\n",
    "  z_statistic, two_tailed_p_value = proportions_ztest(count_of_success_in_sample, num_of trials, \n",
    "                                                       null_proportion)\n",
    "  ```\n",
    "\n",
    "\n",
    "Compute the p-values and draw conclusions about hypothesis tests for the scenarios listed in **Question 1**. You are provided the data for each of the scenarios below.\n",
    "\n",
    "1. https://s3-us-west-2.amazonaws.com/dsci/6002/data/fat_content.csv\n",
    "2. https://s3-us-west-2.amazonaws.com/dsci/6002/data/election.csv\n",
    "3. https://s3-us-west-2.amazonaws.com/dsci/6002/data/battery_life.csv"
   ]
  },
  {
   "cell_type": "code",
   "execution_count": 1,
   "metadata": {
    "collapsed": true
   },
   "outputs": [],
   "source": [
    "from scipy.stats import ttest_1samp\n",
    "from statsmodels.stats.proportion import proportions_ztest\n",
    "import pandas as pd"
   ]
  },
  {
   "cell_type": "code",
   "execution_count": 7,
   "metadata": {
    "collapsed": false
   },
   "outputs": [],
   "source": [
    "import scipy as sp"
   ]
  },
  {
   "cell_type": "code",
   "execution_count": 12,
   "metadata": {
    "collapsed": false,
    "scrolled": true
   },
   "outputs": [
    {
     "name": "stdout",
     "output_type": "stream",
     "text": [
      "t-stat [ 0.81883086]\n",
      "mean: 20.4177173378\n",
      "two-tailed p-value [ 0.41785849]\n",
      "one-tailed p-value [ 0.20892925]\n"
     ]
    }
   ],
   "source": [
    "#1. A burger place claims the fat content of their bugers is no more than 20%. \n",
    "# You have collected a sample of burgers to verify the claim.\n",
    "fat = pd.read_csv('https://s3-us-west-2.amazonaws.com/dsci/6002/data/fat_content.csv')\n",
    "fat_t_stat, fat_two_tailed_p_value = ttest_1samp(fat, 20)\n",
    "print(\"t-stat\", fat_t_stat)\n",
    "print(\"mean:\", fat.mean()[0])\n",
    "print(\"two-tailed p-value\", fat_two_tailed_p_value)\n",
    "print(\"one-tailed p-value\", fat_two_tailed_p_value/2)"
   ]
  },
  {
   "cell_type": "code",
   "execution_count": 8,
   "metadata": {
    "collapsed": false
   },
   "outputs": [
    {
     "data": {
      "text/plain": [
       "array([ 0.20892925])"
      ]
     },
     "execution_count": 8,
     "metadata": {},
     "output_type": "execute_result"
    }
   ],
   "source": [
    "# conceptual check for one-tail\n",
    "sp.stats.t(39).sf(fat_t_stat)"
   ]
  },
  {
   "cell_type": "markdown",
   "metadata": {},
   "source": [
    "### 3.1 Commentary\n",
    "\n",
    "We are testing if we can reject the burger place's claim that the fat content of their burgers is no more than 20%. We run our t-test to find the t-stat of our sample mean at 20.42, and we get 0.81, with two-tailed p-value of 0.42.  Therefore, since our original two-tailed test tells us the combined p-values on both ends of the distribution, we divide by two to find the p-value of a burger having fat content higher than the sample mean.\n",
    "\n",
    "Since the $\\text{p-value} = P(t > 0.82) = 0.21 \\Rightarrow \\text{ fail to reject } H_0$\n",
    "\n",
    "In other words, there is roughly a 20% of getting a result more extreme than our sample mean. Therefore, we can't reject the null.\n",
    "\n",
    "We are assuming a 5% significance level."
   ]
  },
  {
   "cell_type": "code",
   "execution_count": 36,
   "metadata": {
    "collapsed": false
   },
   "outputs": [
    {
     "name": "stdout",
     "output_type": "stream",
     "text": [
      "z-stat -6.74967868609\n",
      "mean: 0.402\n",
      "two-tailed p-value 1.48172925761e-11\n"
     ]
    }
   ],
   "source": [
    "#With a month to go in the election, the opinion poll shows that the Democratic candidate is\n",
    "#leading with 55% support. You want to know if the true percentage is different from 55%.\n",
    "elect = pd.read_csv('https://s3-us-west-2.amazonaws.com/dsci/6002/data/election.csv')\n",
    "elect_t_stat, elect_two_tailed_p_value = ttest_1samp(elect, .55)\n",
    "elect.mean()\n",
    "np.count_nonzero(elect)\n",
    "# print(\"t-stat\", elect_t_stat)\n",
    "# print(\"mean:\", elect.mean()[0])\n",
    "# print(\"two-tailed p-value\", elect_two_tailed_p_value)\n",
    "elect_z_statistic, elect_two_tailed_p_value = proportions_ztest(np.count_nonzero(elect), len(elect), .55)\n",
    "print(\"z-stat\", elect_z_statistic)\n",
    "print(\"mean:\", elect.mean()[0])\n",
    "print(\"two-tailed p-value\", elect_two_tailed_p_value)"
   ]
  },
  {
   "cell_type": "markdown",
   "metadata": {},
   "source": [
    "### 3.2 Commentary\n",
    "\n",
    "We are testing if Democratic candidate truly has 55% or not. We run our z-test to find the z-stat of our sample mean at 44%, and we get -6.749, with two-tailed p-value of 1.48 x e^-11, an almost zero answer.  \n",
    "\n",
    "Since the $\\text{p-value} = P(t \\neq 0.82) = 1.48 x e^-11 \\Rightarrow \\text{ reject } H_0$\n",
    "\n",
    "In other words, there is an almost zero chance of getting a result more extreme than our sample mean. Therefore, we can reject the null: The Democratic candidate does not have close to 55% support.\n",
    "\n",
    "We are assuming a 5% significance level."
   ]
  },
  {
   "cell_type": "code",
   "execution_count": 43,
   "metadata": {
    "collapsed": false
   },
   "outputs": [
    {
     "name": "stdout",
     "output_type": "stream",
     "text": [
      "t-stat [ 7.34153004]\n",
      "mean: 50.1723590003\n",
      "two-tailed p-value [  5.99666418e-11]\n"
     ]
    }
   ],
   "source": [
    "#3. Apple Inc. is interested to find out if the battery life of a \n",
    "# Macbook Pro that has been used for a month is more than 48 hours.\n",
    "batt_life = pd.read_csv('https://s3-us-west-2.amazonaws.com/dsci/6002/data/battery_life.csv')\n",
    "batt_life.mean()\n",
    "# print(\"t-stat\", elect_t_stat)\n",
    "# print(\"mean:\", elect.mean()[0])\n",
    "# print(\"two-tailed p-value\", elect_two_tailed_p_value)\n",
    "batt_life_t_stat, batt_life_two_tailed_p_value = ttest_1samp(batt_life, 48)\n",
    "print(\"t-stat\", batt_life_t_stat)\n",
    "print(\"mean:\", batt_life.mean()[0])\n",
    "print(\"two-tailed p-value\", batt_life_two_tailed_p_value)"
   ]
  },
  {
   "cell_type": "markdown",
   "metadata": {},
   "source": [
    "### 3.3 Commentary\n",
    "\n",
    "We are testing if to see if battery life for a used Macbook Pro is more than 48 hrs. We run our t-test to find the t-stat of our sample mean at 50.17, and we get 7.34, with two-tailed p-value of 5.99 x e^-11.  Therefore, since our original two-tailed test tells us the combined p-values on both ends of the distribution, we divide by two to find the p-value of a burger having fat content higher than the sample mean. \n",
    "\n",
    "Since the $\\text{p-value} = P(t > 48) = 5.99 x e^-11 \\Rightarrow \\text{ reject } H_0$\n",
    "\n",
    "In other words, there is an almost zero chance of getting a result more extreme than our sample mean. Therefore, we can reject the null: The battery life of a used Macbook Pro does not operate more than 48 hrs.\n",
    "\n",
    "We are assuming a 5% significance level."
   ]
  },
  {
   "cell_type": "markdown",
   "metadata": {},
   "source": [
    "**Question 4**\n",
    "\n",
    "A diet doctor claims that the average American is more than 10 pounds overweight. To test his claim, a random sample of 50 Americans was weighed, and the difference between their actual weight and their ideal weight was calculated. He found that $\\bar{x} = 11.5$ and $s = 2.2$ pounds. \n",
    "\n",
    "1) Can we conclude that the doctor’s claim is true?  \n",
    "\n",
    "2) What are the Type I and Type II errors?  \n",
    "\n",
    "3) Suppose that the average American is about 13 pounds overweight, what is the power of the above test?"
   ]
  },
  {
   "cell_type": "markdown",
   "metadata": {},
   "source": [
    "### Question 4.1\n",
    "\n",
    "$H_o: µ \\leq 10 \\\\ H_a: µ > 10$"
   ]
  },
  {
   "cell_type": "code",
   "execution_count": 57,
   "metadata": {
    "collapsed": false
   },
   "outputs": [
    {
     "data": {
      "text/plain": [
       "7.1217429013529294e-06"
      ]
     },
     "execution_count": 57,
     "metadata": {},
     "output_type": "execute_result"
    }
   ],
   "source": [
    "pounds_t_stat = (11.5 - 10)/(2.2/np.sqrt(50))\n",
    "sp.stats.t(49).sf(pounds_t_stat)"
   ]
  },
  {
   "cell_type": "code",
   "execution_count": 50,
   "metadata": {
    "collapsed": false
   },
   "outputs": [
    {
     "data": {
      "text/plain": [
       "4.8211825989991874"
      ]
     },
     "execution_count": 50,
     "metadata": {},
     "output_type": "execute_result"
    }
   ],
   "source": [
    "pounds_t_stat\n"
   ]
  },
  {
   "cell_type": "markdown",
   "metadata": {},
   "source": [
    "Yes, we would conclude that the doctor's claim is true because we would reject the null hypothesis. Our p-value is significant. "
   ]
  },
  {
   "cell_type": "markdown",
   "metadata": {},
   "source": [
    "### Question 4.2 \n",
    "\n",
    "Type I: We falsely reject the null and accept the doctor's claim. Average americans are not more than 10 lbs overweight, but we falsely concluded they were.\n",
    "\n",
    "Type II: We falsely accept the null and reject the alternative. Average americans are, in fact, more than 10 lbs overweight, but we falsely concluded that they were healthy.\n",
    "\n",
    "### Question 4.3\n",
    "\n",
    "$$\\beta = \\text{p-value of 13 lbs t-stat} = 7.1217429013529294e^{-06} $$\n",
    "\n",
    "$$ \\beta = P(\\text{Type II error}) = P(\\text{fail to reject } H_0 | H_1 \\text{ is true}) \\\\ power = P(\\text{reject } H_0 | H_1 \\text{ is true}) = 1 - \\beta $$\n",
    "\n"
   ]
  },
  {
   "cell_type": "code",
   "execution_count": 53,
   "metadata": {
    "collapsed": false
   },
   "outputs": [
    {
     "data": {
      "text/plain": [
       "7.1217429013529294e-06"
      ]
     },
     "execution_count": 53,
     "metadata": {},
     "output_type": "execute_result"
    }
   ],
   "source": [
    "moar_pounds_t_stat = (11.5 - 13)/(2.2/np.sqrt(50))\n",
    "Beta = sp.stats.t(49).cdf(moar_pounds_t_stat)\n",
    "Beta"
   ]
  },
  {
   "cell_type": "code",
   "execution_count": 54,
   "metadata": {
    "collapsed": false
   },
   "outputs": [
    {
     "data": {
      "text/plain": [
       "0.99999287825709859"
      ]
     },
     "execution_count": 54,
     "metadata": {},
     "output_type": "execute_result"
    }
   ],
   "source": [
    "power = 1 - Beta\n",
    "power"
   ]
  },
  {
   "cell_type": "markdown",
   "metadata": {},
   "source": [
    "**Question 5**\n",
    "\n",
    "A company that claims the average time a customer waits on hold is less than 5 minutes. A sample of 35 customers has an average wait time of 4.78 minutes with a standard deviation for wait time is 1.8 minutes. Test the company's claim."
   ]
  },
  {
   "cell_type": "markdown",
   "metadata": {},
   "source": [
    "### Question 5\n",
    "\n",
    "$H_o: µ < 5 \\\\ H_a: µ \\geq 5 \\\\ n = 35, \\ \\bar{x} = 4.78, \\ s = 1.8$"
   ]
  },
  {
   "cell_type": "code",
   "execution_count": 58,
   "metadata": {
    "collapsed": false
   },
   "outputs": [
    {
     "data": {
      "text/plain": [
       "0.23728906420569901"
      ]
     },
     "execution_count": 58,
     "metadata": {},
     "output_type": "execute_result"
    }
   ],
   "source": [
    "wait_t_stat = (4.78 - 5)/(1.8/np.sqrt(35))\n",
    "sp.stats.t(34).cdf(wait_t_stat)"
   ]
  },
  {
   "cell_type": "markdown",
   "metadata": {},
   "source": [
    "#### Commentary:\n",
    "\n",
    "Since the $\\text{p-value} = P(t < 4.78) = 0.237 \\Rightarrow \\text{ fail to reject } H_0$\n",
    "\n",
    "The company's claim that their wait time is less than 5 mins still holds ground. We can't reject the null that wait time is less than 5 mins. "
   ]
  },
  {
   "cell_type": "markdown",
   "metadata": {},
   "source": [
    "**Question 6**\n",
    "\n",
    "The manufacturer of the Bic Extended Lighter claims that it lights on the first time 75% of the time. Test this claim.  \n",
    "Suppose we make 300 attempts and the lighter lights on the first try 214 times."
   ]
  },
  {
   "cell_type": "markdown",
   "metadata": {},
   "source": [
    "### Question 6\n",
    "\n",
    "$H_o: µ = .75 \\\\ H_a: µ \\neq .75 \\\\ n = 300, \\ \\bar{x} = .7133$\n",
    "\n",
    "$$ z_o = \\frac{\\hat{p} - p_o} {\\sqrt{\\frac{{p}_o(1 - {p}_o)}{n}}} $$  "
   ]
  },
  {
   "cell_type": "code",
   "execution_count": 68,
   "metadata": {
    "collapsed": false
   },
   "outputs": [
    {
     "data": {
      "text/plain": [
       "0.7133333333333334"
      ]
     },
     "execution_count": 68,
     "metadata": {},
     "output_type": "execute_result"
    }
   ],
   "source": [
    "light_n = 300\n",
    "firsts = 214\n",
    "light_p_hat = firsts/light_n\n",
    "light_p_hat"
   ]
  },
  {
   "cell_type": "code",
   "execution_count": 69,
   "metadata": {
    "collapsed": false
   },
   "outputs": [
    {
     "name": "stdout",
     "output_type": "stream",
     "text": [
      "z stat -1.40442062963\n",
      "p value 0.160193631336\n"
     ]
    }
   ],
   "source": [
    "light_z_statistic, light_two_tailed_p_value = proportions_ztest(firsts, light_n, .75)\n",
    "print(\"z stat\", light_z_statistic)\n",
    "print(\"p value\", light_two_tailed_p_value)"
   ]
  },
  {
   "cell_type": "markdown",
   "metadata": {},
   "source": [
    "#### Commentary\n",
    "the p value is not significant (p > 0.05), so we can't reject the claim that the lighters ignite 75% of the time."
   ]
  },
  {
   "cell_type": "markdown",
   "metadata": {},
   "source": [
    "**Question 7**  \n",
    "\n",
    "A government bureau claims that more than 50% of U.S. tax returns were filed electronically last year.  \n",
    "A random sample of 150 tax returns for last year contained 86 that were filed electronically. \n",
    "\n",
    "Test the government's claim and state the Type I and Type II errors of the test."
   ]
  },
  {
   "cell_type": "markdown",
   "metadata": {},
   "source": [
    "### Question 7\n",
    "\n",
    "$H_o: µ > 5 \\\\ H_a: µ \\leq .50 \\\\ n = 150, \\ \\bar{x} = .7133$"
   ]
  },
  {
   "cell_type": "code",
   "execution_count": 72,
   "metadata": {
    "collapsed": false
   },
   "outputs": [
    {
     "data": {
      "text/plain": [
       "0.5733333333333334"
      ]
     },
     "execution_count": 72,
     "metadata": {},
     "output_type": "execute_result"
    }
   ],
   "source": [
    "ret_n = 150\n",
    "filed = 86\n",
    "ret_p_hat = filed/ret_n\n",
    "ret_p_hat"
   ]
  },
  {
   "cell_type": "code",
   "execution_count": 73,
   "metadata": {
    "collapsed": false
   },
   "outputs": [
    {
     "name": "stdout",
     "output_type": "stream",
     "text": [
      "z stat 1.8159299943\n",
      "p value 0.069381111549\n"
     ]
    }
   ],
   "source": [
    "ret_z_statistic, ret_two_tailed_p_value = proportions_ztest(filed, ret_n, .5)\n",
    "print(\"z stat\", ret_z_statistic)\n",
    "print(\"p value\", ret_two_tailed_p_value)"
   ]
  },
  {
   "cell_type": "markdown",
   "metadata": {},
   "source": [
    "#### Commentary\n",
    "\n",
    "the p value is insignificant (p > 0.05), so we can't reject the claim that 50% of US tax returns were filed electronically last year."
   ]
  },
  {
   "cell_type": "code",
   "execution_count": null,
   "metadata": {
    "collapsed": true
   },
   "outputs": [],
   "source": []
  }
 ],
 "metadata": {
  "anaconda-cloud": {},
  "kernelspec": {
   "display_name": "Python 3",
   "language": "python",
   "name": "python3"
  },
  "language_info": {
   "codemirror_mode": {
    "name": "ipython",
    "version": 3
   },
   "file_extension": ".py",
   "mimetype": "text/x-python",
   "name": "python",
   "nbconvert_exporter": "python",
   "pygments_lexer": "ipython3",
   "version": "3.5.2"
  }
 },
 "nbformat": 4,
 "nbformat_minor": 0
}
