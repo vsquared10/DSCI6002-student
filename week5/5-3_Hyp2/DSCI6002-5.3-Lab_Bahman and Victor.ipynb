{
 "cells": [
  {
   "cell_type": "markdown",
   "metadata": {},
   "source": [
    "# Lab 5.3: Two Sample Hypothesis Testing"
   ]
  },
  {
   "cell_type": "markdown",
   "metadata": {},
   "source": [
    "**Question 1**\n",
    "\n",
    " Many doctors believe that early prenatal care is very important to the health of a baby and its mother. Efforts have recently been focused on teen mothers. A random sample of 52 teenagers who gave birth revealed that 32 of them began prenatal care in the first trimester of their pregnancy. A random sample of 209 women in their twenties who gave birth revealed that 163 of them began prenatal care in the first trimester of their pregnancy.  \n",
    " \n",
    "1) Construct a 95% confidence interval for the difference between the proportion of teen mothers who get early prenatal care and the proportion of mothers in their twenties who get early prenatal care.  \n",
    "\n",
    "\n",
    "2) Briefly interpret the confidence interval. "
   ]
  },
  {
   "cell_type": "markdown",
   "metadata": {},
   "source": [
    "$$ (\\hat{p}_1 - \\hat{p}_2) \\pm 1.96 \\sqrt{\\frac{\\hat{p}_1(1 - \\hat{p}_1)}{n_1} + \\frac{\\hat{p}_2(1 - \\hat{p}_2)}{n_2}} $$"
   ]
  },
  {
   "cell_type": "code",
   "execution_count": 1,
   "metadata": {
    "collapsed": false
   },
   "outputs": [
    {
     "name": "stdout",
     "output_type": "stream",
     "text": [
      "95% confidence interval: ( 0.0208506166025 , 0.308188765068 )\n"
     ]
    }
   ],
   "source": [
    "import numpy as np\n",
    "n_teen = 52\n",
    "p_teen = 32/52\n",
    "n_twenties = 209\n",
    "p_twenties = 163/209\n",
    "s_total = np.sqrt((p_teen*(1-p_teen)/n_teen)+(p_twenties*(1-p_twenties)/n_twenties))\n",
    "print('95% confidence interval:', '(',np.abs(p_teen - p_twenties)- 1.96*s_total,',',np.abs(p_teen - p_twenties) + 1.96*s_total,')')"
   ]
  },
  {
   "cell_type": "markdown",
   "metadata": {},
   "source": [
    "#### Answer 2.1\n",
    "\n",
    "This 95% CI tells us that there is quite a big difference between the proportion of teen women who receive pre-natal care and 20 year old women who receive pre-natal care. For a randomly selected sample, 95% of the results will range between 2% and 30% difference between the two age groups. If we were running a hypothesis test to see if teens and 20 year olds received the same amount of care, we would likely reject that claim based on this CI."
   ]
  },
  {
   "cell_type": "markdown",
   "metadata": {},
   "source": [
    "** the difference in percentage of mothers giving birth being in twenties or being teenager falls in 2% to 31% at a 95% confidence interval. In other words 95 out of 100 times a mother in twenties with prenatal care will give birth with 2% upto 30% chance more or less than the same mother in teen age. **"
   ]
  },
  {
   "cell_type": "markdown",
   "metadata": {},
   "source": [
    "**Question 2**  \n",
    "\n",
    "A math instructor wrote two versions of the same test that he believed to be of equal difficulty. He gave the first version (A) to 36 students and the second version (B) to 41 students. We will consider the two groups to be random samples from the population of all community college statistics students. The 36 students who took version A had a mean score of 79.3 with a standard deviation of 11.26. The 41 students who took version B had a mean score of 84.1 with a standard deviation of 9.40.  \n",
    "\n",
    "1) Construct a 95% confidence interval for the difference between the mean score of version A and the mean score of version B.  \n",
    "\n",
    "\n",
    "2) Interpret the confidence interval in context. "
   ]
  },
  {
   "cell_type": "markdown",
   "metadata": {},
   "source": [
    "$$ \\bar{X} - \\bar{Y} \\pm 1.96 \\sqrt{\\frac{s_X^2}{n_1} + \\frac{s_Y^2}{n_2}} $$  "
   ]
  },
  {
   "cell_type": "code",
   "execution_count": 21,
   "metadata": {
    "collapsed": true
   },
   "outputs": [],
   "source": [
    "import scipy.stats as stats"
   ]
  },
  {
   "cell_type": "code",
   "execution_count": 22,
   "metadata": {
    "collapsed": false
   },
   "outputs": [
    {
     "data": {
      "text/plain": [
       "(-0.032229108991819189, 9.6322291089918135)"
      ]
     },
     "execution_count": 22,
     "metadata": {},
     "output_type": "execute_result"
    }
   ],
   "source": [
    "stats.t.interval(.95, df=36, loc=84.1 - 79.3, scale=np.sqrt(9.4**2/41 + 11.26**2/36))"
   ]
  },
  {
   "cell_type": "markdown",
   "metadata": {},
   "source": [
    "** 95 out of 100 times, the mean difference between students scores in version B test and version A test is between -0.03 and 9.6 . Based on these results, we would likely conclude that results of the two tests are significantly different from eachother. **"
   ]
  },
  {
   "cell_type": "markdown",
   "metadata": {},
   "source": [
    "**Question 3**  \n",
    "\n",
    "A group of 18 concertgoers was selected at random. Before the concert they were given a hearing test, and then were given another one after the concert. (The volume varied during the test, and the person also had to state which ear the sound was in.) The number of correctly identified sounds out of 10, both before and after the concert, can be found in the `before` and `after` tables in RDS (hint: join `USING (goer_id);`).  \n",
    "\n",
    "1) Construct a 95% confidence interval for the mean of the differences between the scores before the concert and the scores after the concert.  \n",
    "\n",
    "\n",
    "2) At the 0.05 level of significance, test whether a person’s hearing is adversely affected by the noise of a concert. "
   ]
  },
  {
   "cell_type": "code",
   "execution_count": 4,
   "metadata": {
    "collapsed": true
   },
   "outputs": [],
   "source": [
    "import yaml\n",
    "from sqlalchemy import create_engine\n",
    "\n",
    "pg_creds = yaml.load(open('../../pg_creds.yaml'))['student']\n",
    "engine = create_engine('postgresql://{user}:{password}@{host}:{port}/{dbname}'.format(**pg_creds))"
   ]
  },
  {
   "cell_type": "code",
   "execution_count": 5,
   "metadata": {
    "collapsed": true
   },
   "outputs": [],
   "source": [
    "import pandas as pd"
   ]
  },
  {
   "cell_type": "code",
   "execution_count": 6,
   "metadata": {
    "collapsed": false
   },
   "outputs": [],
   "source": [
    "diff=pd.read_sql(\"SELECT before.hearing AS before_hearing ,after.hearing AS after_hearing FROM before JOIN after USING (goer_id)\",engine)"
   ]
  },
  {
   "cell_type": "code",
   "execution_count": 7,
   "metadata": {
    "collapsed": false
   },
   "outputs": [
    {
     "name": "stdout",
     "output_type": "stream",
     "text": [
      "95% confidence interval:\n",
      "( 0.498006371524 , 1.94643807292 )\n"
     ]
    }
   ],
   "source": [
    "bf_mean = diff['before_hearing'].mean()\n",
    "bf_std = diff['before_hearing'].std()\n",
    "aft_mean = diff['after_hearing'].mean()\n",
    "aft_std = diff['after_hearing'].std()\n",
    "s_diff = np.sqrt(bf_std**2/18 + aft_std**2/18)\n",
    "print('95% confidence interval:')\n",
    "print('(',np.abs(bf_mean - aft_mean)-1.96*s_diff,',',np.abs(bf_mean - aft_mean) + 1.96*s_diff,')')"
   ]
  },
  {
   "cell_type": "markdown",
   "metadata": {},
   "source": [
    "** $H_o$: mean of score before concert = mean of score after concert **\n",
    "\n",
    "** $H_a$: mean of score before concert $\\neq$ mean of score after concert **"
   ]
  },
  {
   "cell_type": "code",
   "execution_count": 21,
   "metadata": {
    "collapsed": false
   },
   "outputs": [
    {
     "data": {
      "text/plain": [
       "0.000470172749014439"
      ]
     },
     "execution_count": 21,
     "metadata": {},
     "output_type": "execute_result"
    }
   ],
   "source": [
    "t_statistics = (bf_mean - aft_mean)/s_diff\n",
    "stats.norm(0,1).cdf(-np.abs(t_statistics))"
   ]
  },
  {
   "cell_type": "markdown",
   "metadata": {},
   "source": [
    "** Since the p-value is smaller than 0.05 significance level we reject the null hypothesis. In other word there is sufficient evidence showing that attending concerts likely has an adverse effect on hearing. **"
   ]
  },
  {
   "cell_type": "markdown",
   "metadata": {},
   "source": [
    "**Question 4**\n",
    "\n",
    "Are male high school graduates equally likely to attend college the following fall as female high school graduates? A random sample of 1354 males who graduated high school in 2007 found that 860 of them were enrolled in college in October 2007. A sample of 1415 females who graduated high school in 2007 found that 995 of them were enrolled in college in October 2007. At the 0.05 level of significance, test the null hypothesis that the proportion of male graduates that go on to college is the same as the proportion of female graduates that go on to college against the two sided alternative. Clearly state your conclusion. "
   ]
  },
  {
   "cell_type": "code",
   "execution_count": 8,
   "metadata": {
    "collapsed": false
   },
   "outputs": [
    {
     "name": "stdout",
     "output_type": "stream",
     "text": [
      "3.80516300883\n"
     ]
    }
   ],
   "source": [
    "p_m = 860/1354\n",
    "p_f = 995/1415\n",
    "n_m = 1354\n",
    "n_f = 1415\n",
    "p = (p_m*n_m + p_f*n_f)/(n_m + n_f)\n",
    "s = np.sqrt(p*(1-p)*(1/n_m+1/n_f))\n",
    "t_statistic = np.abs(p_m - p_f)/s\n",
    "print(t_statistic)"
   ]
  },
  {
   "cell_type": "code",
   "execution_count": 15,
   "metadata": {
    "collapsed": false
   },
   "outputs": [
    {
     "data": {
      "text/plain": [
       "0.00014171083233362821"
      ]
     },
     "execution_count": 15,
     "metadata": {},
     "output_type": "execute_result"
    }
   ],
   "source": [
    "# p-value\n",
    "2*stats.norm(0,1).cdf(-t_statistic)"
   ]
  },
  {
   "cell_type": "markdown",
   "metadata": {},
   "source": [
    "** since the p-value is less than 0.05 significance level we reject the null hypothesis. In other words there is not sufficient evidence that the proportion of male graduates who go on to college is the same as the female graduates (at a 95% confidence level). ** "
   ]
  },
  {
   "cell_type": "markdown",
   "metadata": {},
   "source": [
    "**Question 5**\n",
    "\n",
    "Here we will use hypothesis testing to analyze **Click Through Rate (CTR)** on the New York Times website.\n",
    "Click-through rate (CTR) is the number of users that click on a specific link out of the total users that view a page, email, or advertisement.\n",
    "We are going to determine if there is statistically significant difference between the mean CTR for\n",
    "the following groups:\n",
    "```\n",
    "1. Signed in users v.s. Not signed in users\n",
    "2. Male v.s. Female\n",
    "```\n",
    "\n",
    "\n",
    "1) Load the `nyt` table from RDS into a pandas dataframe.\n",
    "\n",
    "   Use `data.info()` to make sure the datatypes are valid and there are no null values.\n",
    "   This data has been cleaned for you, but generally it is good practice to check for those.\n",
    "   "
   ]
  },
  {
   "cell_type": "code",
   "execution_count": 10,
   "metadata": {
    "collapsed": false
   },
   "outputs": [],
   "source": [
    "data=pd.read_sql(\"SELECT * FROM nyt\",engine)"
   ]
  },
  {
   "cell_type": "code",
   "execution_count": 11,
   "metadata": {
    "collapsed": false
   },
   "outputs": [
    {
     "name": "stdout",
     "output_type": "stream",
     "text": [
      "<class 'pandas.core.frame.DataFrame'>\n",
      "RangeIndex: 458441 entries, 0 to 458440\n",
      "Data columns (total 6 columns):\n",
      "user_id        458441 non-null int64\n",
      "age            458441 non-null int64\n",
      "gender         458441 non-null int64\n",
      "impressions    458441 non-null int64\n",
      "clicks         458441 non-null int64\n",
      "signed_in      458441 non-null int64\n",
      "dtypes: int64(6)\n",
      "memory usage: 21.0 MB\n"
     ]
    }
   ],
   "source": [
    "data.info()"
   ]
  },
  {
   "cell_type": "markdown",
   "metadata": {},
   "source": [
    "2) Make a new column `CTR` using the `Impressions` and the `Clicks` columns. (`CTR` = `Clicks` / `Impressions`)  \n",
    "   Remember to remove the rows with `0` impressions.\n",
    "   "
   ]
  },
  {
   "cell_type": "code",
   "execution_count": 12,
   "metadata": {
    "collapsed": false
   },
   "outputs": [],
   "source": [
    "data_nonzero = data[data.impressions != 0 ]"
   ]
  },
  {
   "cell_type": "code",
   "execution_count": 13,
   "metadata": {
    "collapsed": false
   },
   "outputs": [
    {
     "name": "stderr",
     "output_type": "stream",
     "text": [
      "/Users/victorvulovic/anaconda/lib/python3.5/site-packages/ipykernel/__main__.py:1: SettingWithCopyWarning: \n",
      "A value is trying to be set on a copy of a slice from a DataFrame.\n",
      "Try using .loc[row_indexer,col_indexer] = value instead\n",
      "\n",
      "See the caveats in the documentation: http://pandas.pydata.org/pandas-docs/stable/indexing.html#indexing-view-versus-copy\n",
      "  if __name__ == '__main__':\n"
     ]
    }
   ],
   "source": [
    "data_nonzero['CTR'] = data_nonzero['clicks']/data_nonzero['impressions']"
   ]
  },
  {
   "cell_type": "code",
   "execution_count": 14,
   "metadata": {
    "collapsed": false
   },
   "outputs": [
    {
     "data": {
      "text/plain": [
       "count    455375.000000\n",
       "mean          0.018471\n",
       "std           0.069034\n",
       "min           0.000000\n",
       "25%           0.000000\n",
       "50%           0.000000\n",
       "75%           0.000000\n",
       "max           1.000000\n",
       "Name: CTR, dtype: float64"
      ]
     },
     "execution_count": 14,
     "metadata": {},
     "output_type": "execute_result"
    }
   ],
   "source": [
    "data_nonzero['CTR'].describe()"
   ]
  },
  {
   "cell_type": "markdown",
   "metadata": {},
   "source": [
    "3) Plot the distribution of each column in the dataframe. You can do this using `pandas.DataFrame.hist()`.\n",
    "   Check out the arguments you can use with the function\n",
    "   [here](http://pandas.pydata.org/pandas-docs/stable/generated/pandas.DataFrame.hist.html).\n",
    "   Set the `figsize=(12,5)` to make sure the graph is readable.\n",
    "   "
   ]
  },
  {
   "cell_type": "code",
   "execution_count": 15,
   "metadata": {
    "collapsed": false
   },
   "outputs": [
    {
     "name": "stdout",
     "output_type": "stream",
     "text": [
      "Populating the interactive namespace from numpy and matplotlib\n"
     ]
    },
    {
     "name": "stderr",
     "output_type": "stream",
     "text": [
      "WARNING: pylab import has clobbered these variables: ['diff']\n",
      "`%matplotlib` prevents importing * from pylab and numpy\n"
     ]
    }
   ],
   "source": [
    "%pylab inline\n",
    "import matplotlib.pyplot as plt"
   ]
  },
  {
   "cell_type": "code",
   "execution_count": 16,
   "metadata": {
    "collapsed": false
   },
   "outputs": [
    {
     "data": {
      "image/png": "[encoded data removed]",
      "text/plain": [
       "<matplotlib.figure.Figure at 0x12395ff28>"
      ]
     },
     "metadata": {},
     "output_type": "display_data"
    }
   ],
   "source": [
    "pd.DataFrame.hist(data_nonzero,figsize=(12,10),\\\n",
    "                  column=['CTR','age','clicks','gender','impressions','signed_in']);"
   ]
  },
  {
   "cell_type": "markdown",
   "metadata": {},
   "source": [
    "4) Make 2 dataframes separating the rows where the users who are signed in and users who are\n",
    "   not signed in.\n",
    "   Plot the distributions of the columns in each of the dataframes. By visually inspecting\n",
    "   the two sets of distributions, describe the differences between users who are signed in and not signed in?"
   ]
  },
  {
   "cell_type": "code",
   "execution_count": 17,
   "metadata": {
    "collapsed": false
   },
   "outputs": [],
   "source": [
    "data_signed = data_nonzero[(data_nonzero['signed_in']==1)]\n",
    "data_not_signed = data_nonzero[(data_nonzero['signed_in']==0)]"
   ]
  },
  {
   "cell_type": "code",
   "execution_count": 18,
   "metadata": {
    "collapsed": false
   },
   "outputs": [
    {
     "name": "stdout",
     "output_type": "stream",
     "text": [
      "Signed In:\n"
     ]
    },
    {
     "data": {
      "image/png": "[encoded data removed]",
      "text/plain": [
       "<matplotlib.figure.Figure at 0x125275e80>"
      ]
     },
     "metadata": {},
     "output_type": "display_data"
    }
   ],
   "source": [
    "print('Signed In:')\n",
    "pd.DataFrame.hist(data_signed,figsize=(12,10),\\\n",
    "                  column=['CTR','age','clicks','gender','impressions']);"
   ]
  },
  {
   "cell_type": "code",
   "execution_count": 19,
   "metadata": {
    "collapsed": false
   },
   "outputs": [
    {
     "name": "stdout",
     "output_type": "stream",
     "text": [
      "Not Singed In:\n"
     ]
    },
    {
     "data": {
      "image/png": "[encoded data removed]",
      "text/plain": [
       "<matplotlib.figure.Figure at 0x12998af28>"
      ]
     },
     "metadata": {},
     "output_type": "display_data"
    }
   ],
   "source": [
    "print('Not Singed In:')\n",
    "pd.DataFrame.hist(data_not_signed,figsize=(12,10),\\\n",
    "                  column=['CTR','clicks','impressions']);"
   ]
  },
  {
   "cell_type": "markdown",
   "metadata": {},
   "source": [
    "** CTR for signed in users is much higher than not signed in users. Also their impressions is much higher (the peak and the average). **"
   ]
  },
  {
   "cell_type": "markdown",
   "metadata": {},
   "source": [
    "5) Use a Welch's t-test to determine if the mean CTR between the signed-in users\n",
    "   and the non-signed-in users is statistically different. Explain how you\n",
    "   arrive at your conclusion.\n",
    "\n",
    "   The Welch's t-test assumes the two populations in which the samples are drawn from\n",
    "   have different variances.\n",
    "\n",
    "   ```python\n",
    "   scipy.stats.ttest_ind(a, b, equal_var=False)\n",
    "   ```"
   ]
  },
  {
   "cell_type": "code",
   "execution_count": 23,
   "metadata": {
    "collapsed": false,
    "scrolled": true
   },
   "outputs": [
    {
     "data": {
      "text/plain": [
       "Ttest_indResult(statistic=55.376117934260868, pvalue=0.0)"
      ]
     },
     "execution_count": 23,
     "metadata": {},
     "output_type": "execute_result"
    }
   ],
   "source": [
    "stats.ttest_ind(data_not_signed.CTR,data_signed.CTR, equal_var=False)"
   ]
  },
  {
   "cell_type": "markdown",
   "metadata": {},
   "source": [
    "#### Answer 5 Commentary\n",
    "\n",
    "The test statistic is enormous, which shirnks the p-value to nearly 0. Assuming our null hypothesis is that CTR is the same for signed in and not-signed in users, we would most certainly reject the null. P<.05, so our result is significant to show that CTR's between the two groups are not the same at all."
   ]
  },
  {
   "cell_type": "markdown",
   "metadata": {},
   "source": [
    "\n",
    "6) Determine if the mean CTR between male users and female users is\n",
    "   statistically different. `Male: 1, Female: 0`\n"
   ]
  },
  {
   "cell_type": "markdown",
   "metadata": {},
   "source": [
    "** $H_o$: mean CTR for females = mean CTR for males **\n",
    "\n",
    "** $H_a$: mean CTR for females $\\neq$ mean CTR for males **"
   ]
  },
  {
   "cell_type": "code",
   "execution_count": 24,
   "metadata": {
    "collapsed": false
   },
   "outputs": [
    {
     "name": "stdout",
     "output_type": "stream",
     "text": [
      "p-value= 0.00100274271465\n"
     ]
    }
   ],
   "source": [
    "male_mean = data_signed[data_signed['gender'] == 1]['CTR'].mean()\n",
    "female_mean = data_signed[data_signed['gender'] == 0]['CTR'].mean()\n",
    "male_std = data_signed[data_signed['gender'] == 1]['CTR'].std()\n",
    "female_std = data_signed[data_signed['gender'] == 0]['CTR'].std()\n",
    "n_male = len(data_signed[data_signed['gender'] == 1]['CTR'])\n",
    "n_female = len(data_signed[data_signed['gender'] == 0]['CTR'])\n",
    "diff = np.abs(male_mean - female_mean)\n",
    "std = np.sqrt(male_std**2/n_male + female_std**2/n_female)\n",
    "t_statistic = diff/std\n",
    "print('p-value=',2*stats.norm(0,1).cdf(-t_statistic))"
   ]
  },
  {
   "cell_type": "markdown",
   "metadata": {},
   "source": [
    "** At 95% confidence level the data demonstrates that mean CTR for males is not the same for female CTR. The null hypothesis is rejected. **"
   ]
  },
  {
   "cell_type": "markdown",
   "metadata": {},
   "source": [
    "#### Hint\n",
    "\n",
    "Some functions that may be useful to you:\n",
    "\n",
    "- From the `numpy` package:\n",
    "    - `sqrt`\n",
    "    - `array`\n",
    "- From the `yaml` package:\n",
    "    - `load` - to load Postgres credentials\n",
    "- From the `sqlalchemy` package:\n",
    "    - `create_engine` - to connect to Postgres\n",
    "- From the `pandas` package:\n",
    "    - `read_sql`\n",
    "    - `read_sql_table`\n",
    "- From the `scipy` package:\n",
    "    - `stats.norm.cdf`\n",
    "    - `stats.sem`\n",
    "    - `stats.t.interval`\n",
    "    - `stats.ttest_1samp`\n",
    "    - `stats.ttest_ind`"
   ]
  }
 ],
 "metadata": {
  "anaconda-cloud": {},
  "kernelspec": {
   "display_name": "Python 3",
   "language": "python",
   "name": "python3"
  },
  "language_info": {
   "codemirror_mode": {
    "name": "ipython",
    "version": 3
   },
   "file_extension": ".py",
   "mimetype": "text/x-python",
   "name": "python",
   "nbconvert_exporter": "python",
   "pygments_lexer": "ipython3",
   "version": "3.5.2"
  }
 },
 "nbformat": 4,
 "nbformat_minor": 0
}
