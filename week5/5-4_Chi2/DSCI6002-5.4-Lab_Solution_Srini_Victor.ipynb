{
 "cells": [
  {
   "cell_type": "markdown",
   "metadata": {},
   "source": [
    "# Lab 5.4: Chi-Square Tests\n",
    "\n",
    "## Outline\n",
    "\n",
    "- Chi-square test for goodness of fit\n",
    "- Chi-square test for independence"
   ]
  },
  {
   "cell_type": "markdown",
   "metadata": {},
   "source": [
    "**Questions 1**  \n",
    "\n",
    "Seven percent of mutual fund investors rate corporate stocks “very safe,” 58% rate them “somewhat safe,” 24% rate them “not very safe,” 4% rate them “not at all safe,” and 7% are “not sure.” A BusinessWeek/Harris poll asked 529 mutual fund investors how they would rate corporate bonds on safety. The responses are as follows.  \n",
    "\n",
    "<img src=\"images/q1.png\" width=\"300\">  \n",
    "\n",
    "Do mutual fund investors’ attitudes toward corporate bonds differ from their attitudes toward\n",
    "corporate stocks? Clearly state the null and alternative hypotheses."
   ]
  },
  {
   "cell_type": "code",
   "execution_count": 1,
   "metadata": {
    "collapsed": false
   },
   "outputs": [
    {
     "name": "stdout",
     "output_type": "stream",
     "text": [
      "Populating the interactive namespace from numpy and matplotlib\n"
     ]
    }
   ],
   "source": [
    "%pylab inline\n",
    "\n",
    "import pandas as pd\n",
    "import statsmodels.api as sm\n",
    "\n",
    "from IPython.display import Latex\n",
    "\n",
    "from scipy import stats\n",
    "from statsmodels.graphics.gofplots import qqplot\n",
    "from statsmodels.distributions.empirical_distribution import ECDF"
   ]
  },
  {
   "cell_type": "code",
   "execution_count": 2,
   "metadata": {
    "collapsed": false
   },
   "outputs": [
    {
     "data": {
      "text/html": [
       "<div>\n",
       "<table border=\"1\" class=\"dataframe\">\n",
       "  <thead>\n",
       "    <tr style=\"text-align: right;\">\n",
       "      <th></th>\n",
       "      <th>verysafe</th>\n",
       "      <th>somewhatsafe</th>\n",
       "      <th>notverysafe</th>\n",
       "      <th>notatallsafe</th>\n",
       "      <th>notsure</th>\n",
       "    </tr>\n",
       "  </thead>\n",
       "  <tbody>\n",
       "    <tr>\n",
       "      <th>Bonds</th>\n",
       "      <td>0.090737</td>\n",
       "      <td>0.610586</td>\n",
       "      <td>0.149338</td>\n",
       "      <td>0.030246</td>\n",
       "      <td>0.119093</td>\n",
       "    </tr>\n",
       "    <tr>\n",
       "      <th>Stocks</th>\n",
       "      <td>0.070000</td>\n",
       "      <td>0.580000</td>\n",
       "      <td>0.240000</td>\n",
       "      <td>0.040000</td>\n",
       "      <td>0.070000</td>\n",
       "    </tr>\n",
       "  </tbody>\n",
       "</table>\n",
       "</div>"
      ],
      "text/plain": [
       "        verysafe  somewhatsafe  notverysafe  notatallsafe   notsure\n",
       "Bonds   0.090737      0.610586     0.149338      0.030246  0.119093\n",
       "Stocks  0.070000      0.580000     0.240000      0.040000  0.070000"
      ]
     },
     "execution_count": 2,
     "metadata": {},
     "output_type": "execute_result"
    }
   ],
   "source": [
    "saftey = [\"verysafe\", \"somewhatsafe\", \"notverysafe\", \"notatallsafe\", \"notsure\"]\n",
    "data = pd.DataFrame({\"Stocks\": [0.07,0.58, 0.24, 0.04, 0.07], \"Bonds\": [48/529, 323/529, 79/529, 16/529, 63/529]}, index=saftey).T\n",
    "data"
   ]
  },
  {
   "cell_type": "markdown",
   "metadata": {},
   "source": [
    "$H_0$: the stocks and bonds attitudes are same  \n",
    "\n",
    "$H_a$: the stocks and bonds attitudes differ"
   ]
  },
  {
   "cell_type": "code",
   "execution_count": 3,
   "metadata": {
    "collapsed": false
   },
   "outputs": [
    {
     "name": "stdout",
     "output_type": "stream",
     "text": [
      "chi^2: 41.6919444005\n"
     ]
    },
    {
     "data": {
      "text/plain": [
       "1.9323272579221198e-08"
      ]
     },
     "execution_count": 3,
     "metadata": {},
     "output_type": "execute_result"
    }
   ],
   "source": [
    "n = 529\n",
    "# expected proportions\n",
    "p_stocks = np.array([.07, .58, .24, .04, .07])\n",
    "# expected counts\n",
    "e_bonds = n*p_stocks\n",
    "# observed counts\n",
    "o_bonds = np.array([48, 323, 79, 16, 63])\n",
    "# calculate the test statistic\n",
    "chi_2 = np.sum(((o_bonds - e_bonds)**2)/e_bonds)\n",
    "print('chi^2:', chi_2)\n",
    "# calculate p-value\n",
    "stats.chi2(4).sf(chi_2)"
   ]
  },
  {
   "cell_type": "markdown",
   "metadata": {},
   "source": [
    "The p-value is less than .05, so we reject the null hypothesis that attitudes towards stocks and bonds are equivalent."
   ]
  },
  {
   "cell_type": "markdown",
   "metadata": {},
   "source": [
    "**Question 2**  \n",
    "\n",
    "A news article reports that \"Americans have differing views on two potentially inconvenient and invasive practices that airports could implement to uncover potential terrorist attacks.\" This news piece was based on a survey conducted among a random sample of 1,137 adults nationwide, interviewed by telephone November 7-10, 2010, where one of the questions on the survey was \"Some airports are now using 'full-body' digital x-ray machines to electronically screen passengers in airport security lines. Do you think these new x-ray machines should or should not be used at airports?\" Below is a summary of responses based on party affiliation.  \n",
    "\n",
    "<img src=\"images/q4.png\" width=\"550\">  \n",
    "\n",
    "The differences in each political group may be due to chance. Complete the following computations under the null\n",
    "hypothesis of independence between an individual's party affiliation and his/her support of full-body scans. It may be useful to first add on an extra column for row totals before proceeding with the computations.  \n",
    "\n",
    "1) How many Republicans would you expect to not support the use of full-body scans?  \n",
    "\n",
    "2) How many Democrats would you expect to support the use of full-body scans?  \n",
    "\n",
    "3) How many Independents would you expect to not know or not answer?  \n",
    "\n",
    "4) Test if an individual's party affiliation affects his/her support of full-body scans. Clearly state the null and alternative hypotheses in your test."
   ]
  },
  {
   "cell_type": "code",
   "execution_count": 4,
   "metadata": {
    "collapsed": false
   },
   "outputs": [
    {
     "data": {
      "text/html": [
       "<div>\n",
       "<table border=\"1\" class=\"dataframe\">\n",
       "  <thead>\n",
       "    <tr style=\"text-align: right;\">\n",
       "      <th></th>\n",
       "      <th>democrat</th>\n",
       "      <th>independent</th>\n",
       "      <th>republican</th>\n",
       "    </tr>\n",
       "  </thead>\n",
       "  <tbody>\n",
       "    <tr>\n",
       "      <th>should</th>\n",
       "      <td>299</td>\n",
       "      <td>351</td>\n",
       "      <td>264</td>\n",
       "    </tr>\n",
       "    <tr>\n",
       "      <th>shouldnot</th>\n",
       "      <td>55</td>\n",
       "      <td>77</td>\n",
       "      <td>38</td>\n",
       "    </tr>\n",
       "    <tr>\n",
       "      <th>dontknow</th>\n",
       "      <td>15</td>\n",
       "      <td>22</td>\n",
       "      <td>16</td>\n",
       "    </tr>\n",
       "  </tbody>\n",
       "</table>\n",
       "</div>"
      ],
      "text/plain": [
       "           democrat  independent  republican\n",
       "should          299          351         264\n",
       "shouldnot        55           77          38\n",
       "dontknow         15           22          16"
      ]
     },
     "execution_count": 4,
     "metadata": {},
     "output_type": "execute_result"
    }
   ],
   "source": [
    "answer = [\"should\", \"shouldnot\", \"dontknow\"]\n",
    "party = pd.DataFrame({\"republican\": [264,38,16], \n",
    "                      \"democrat\": [299,55,15], \n",
    "                      \"independent\": [351,77,22]}, index=answer).T\n",
    "party_chi2, p, dof, party_expected = stats.chi2_contingency(party.T)\n",
    "party.T"
   ]
  },
  {
   "cell_type": "code",
   "execution_count": 5,
   "metadata": {
    "collapsed": false,
    "scrolled": true
   },
   "outputs": [
    {
     "data": {
      "text/plain": [
       "array([[ 296.62796834,  361.7414248 ,  255.63060686],\n",
       "       [  55.17150396,   67.2823219 ,   47.54617414],\n",
       "       [  17.2005277 ,   20.9762533 ,   14.823219  ]])"
      ]
     },
     "execution_count": 5,
     "metadata": {},
     "output_type": "execute_result"
    }
   ],
   "source": [
    "party_expected"
   ]
  },
  {
   "cell_type": "code",
   "execution_count": 6,
   "metadata": {
    "collapsed": false
   },
   "outputs": [
    {
     "name": "stdout",
     "output_type": "stream",
     "text": [
      "\n",
      "Observed:\n",
      "             should  shouldnot  dontknow\n",
      "democrat        299         55        15\n",
      "independent     351         77        22\n",
      "republican      264         38        16\n",
      "\n",
      "Expected:\n",
      "                 should   shouldnot    dontknow\n",
      "democrat     296.627968  361.741425  255.630607\n",
      "independent   55.171504   67.282322   47.546174\n",
      "republican    17.200528   20.976253   14.823219\n"
     ]
    }
   ],
   "source": [
    "expected_df = pd.DataFrame(party_expected, index=['democrat', 'independent', 'republican'], columns=answer)\n",
    "\n",
    "print(\"\\nObserved:\\n{}\".format(party))\n",
    "print(\"\\nExpected:\\n{}\".format(expected_df))"
   ]
  },
  {
   "cell_type": "markdown",
   "metadata": {},
   "source": [
    "#### 1) How many Republicans would you expect to not support the use of full-body scans?\n"
   ]
  },
  {
   "cell_type": "code",
   "execution_count": 7,
   "metadata": {
    "collapsed": false
   },
   "outputs": [
    {
     "name": "stdout",
     "output_type": "stream",
     "text": [
      "We would expect 20.98 Republicans to not support body scans\n"
     ]
    }
   ],
   "source": [
    "print(\"We would expect\", round(party_expected[2][1], 2), \"Republicans to not support body scans\")"
   ]
  },
  {
   "cell_type": "markdown",
   "metadata": {},
   "source": [
    "#### 2) How many Democrats would you expect to support the use of full-body scans?\n"
   ]
  },
  {
   "cell_type": "code",
   "execution_count": 8,
   "metadata": {
    "collapsed": false
   },
   "outputs": [
    {
     "name": "stdout",
     "output_type": "stream",
     "text": [
      "We would expect 296.63 Democrats to support body scans\n"
     ]
    }
   ],
   "source": [
    "print(\"We would expect\", round(party_expected[0][0], 2), \"Democrats to support body scans\")"
   ]
  },
  {
   "cell_type": "markdown",
   "metadata": {},
   "source": [
    "#### 3) How many Independents would you expect to not know or not answer?\n"
   ]
  },
  {
   "cell_type": "code",
   "execution_count": 9,
   "metadata": {
    "collapsed": false
   },
   "outputs": [
    {
     "name": "stdout",
     "output_type": "stream",
     "text": [
      "We would expect 47.55 Independents to not not know/not answer about body scans\n"
     ]
    }
   ],
   "source": [
    "print(\"We would expect\", round(party_expected[1][2], 2), \"Independents to not not know/not answer about body scans\")"
   ]
  },
  {
   "cell_type": "markdown",
   "metadata": {},
   "source": [
    "#### 4) Test if an individual's party affiliation affects his/her support of full-body scans. Clearly state the null and alternative hypotheses in your test."
   ]
  },
  {
   "cell_type": "code",
   "execution_count": 10,
   "metadata": {
    "collapsed": false
   },
   "outputs": [
    {
     "data": {
      "text/latex": [
       "$\\chi^2 = 4.358; p = 0.36$"
      ],
      "text/plain": [
       "<IPython.core.display.Latex object>"
      ]
     },
     "execution_count": 10,
     "metadata": {},
     "output_type": "execute_result"
    }
   ],
   "source": [
    "Latex(r\"$\\chi^2 = {:.4}; p = {:.2}$\".format(party_chi2, p))"
   ]
  },
  {
   "cell_type": "markdown",
   "metadata": {
    "collapsed": true
   },
   "source": [
    "$H_0$: party affiliation does not affect support of full body scan (party affiliation and support independent)\n",
    "\n",
    "$H_a$: party affiliation affects support of full body scan (party affiliation and support not independent)  \n",
    "\n",
    "Since p-value(0.36 > .05), we fail to reject the null hypothesis. We don't have enough evidence that party affiliation affects support of the full body scan issue"
   ]
  },
  {
   "cell_type": "markdown",
   "metadata": {},
   "source": [
    "**Question 3**  \n",
    "\n",
    "A clothes retailer believes that there is no difference in sales across Monday, Tuesday and Wednesday. You are given the data in a `cloth_sales` table (in RDS) to test the claim. The table contains two columns: `dt` for the date, and `sales`, containing the count of sales for that day. Start by drawing up the table for the observed and expected frequencies for the chi-square test. \n",
    "\n",
    "**Hint:** \n",
    "- It will probably be easiest to extract the week of the year (`week`) and the day of the week (`dow`) using the [`date_trunc`](https://www.postgresql.org/docs/current/static/functions-datetime.html#FUNCTIONS-DATETIME-TRUNC) and [`date_part`](https://www.postgresql.org/docs/current/static/functions-datetime.html#FUNCTIONS-DATETIME-EXTRACT) functions in PostgreSQL respectively. You can then [`pivot`](http://pandas.pydata.org/pandas-docs/stable/reshaping.html#reshaping-by-pivoting-dataframe-objects) the table with pandas. The `head` of the resulting data frame should look something like:\n",
    "\n",
    "<table border=\"1\" class=\"dataframe\">\n",
    "  <thead>\n",
    "    <tr style=\"text-align: right;\">\n",
    "      <th>date_part</th>\n",
    "      <th>1.0</th>\n",
    "      <th>2.0</th>\n",
    "      <th>3.0</th>\n",
    "    </tr>\n",
    "    <tr>\n",
    "      <th>date_trunc</th>\n",
    "      <th></th>\n",
    "      <th></th>\n",
    "      <th></th>\n",
    "    </tr>\n",
    "  </thead>\n",
    "  <tbody>\n",
    "    <tr>\n",
    "      <th>2014-10-27</th>\n",
    "      <td>1016</td>\n",
    "      <td>978</td>\n",
    "      <td>1010</td>\n",
    "    </tr>\n",
    "    <tr>\n",
    "      <th>2014-11-03</th>\n",
    "      <td>987</td>\n",
    "      <td>991</td>\n",
    "      <td>997</td>\n",
    "    </tr>\n",
    "    <tr>\n",
    "      <th>2014-11-10</th>\n",
    "      <td>1014</td>\n",
    "      <td>983</td>\n",
    "      <td>1002</td>\n",
    "    </tr>\n",
    "    <tr>\n",
    "      <th>2014-11-17</th>\n",
    "      <td>991</td>\n",
    "      <td>945</td>\n",
    "      <td>992</td>\n",
    "    </tr>\n",
    "    <tr>\n",
    "      <th>2014-11-24</th>\n",
    "      <td>1001</td>\n",
    "      <td>1058</td>\n",
    "      <td>1002</td>\n",
    "    </tr>\n",
    "  </tbody>\n",
    "</table>  \n",
    "\n",
    "(N.B. `date_part('dow', dt)` will return the number of days after Sunday, so Monday = 1.0, Tuesday = 2.0, and so on.)\n",
    "   \n",
    "- Use `scipy.stats.chisquare()` to carry out a goodness of fit test"
   ]
  },
  {
   "cell_type": "code",
   "execution_count": 11,
   "metadata": {
    "collapsed": false
   },
   "outputs": [],
   "source": [
    "import yaml\n",
    "\n",
    "from sqlalchemy import create_engine\n",
    "\n",
    "pg_creds = yaml.load(open('../../pg_creds.yaml'))['student']\n",
    "\n",
    "engine = create_engine('postgresql://{user}:{password}@{host}:{port}/{dbname}'.format(**pg_creds))"
   ]
  },
  {
   "cell_type": "code",
   "execution_count": 12,
   "metadata": {
    "collapsed": false,
    "scrolled": true
   },
   "outputs": [
    {
     "name": "stderr",
     "output_type": "stream",
     "text": [
      "/Users/srianant/anaconda/lib/python3.5/site-packages/IPython/config.py:13: ShimWarning: The `IPython.config` package has been deprecated. You should import from traitlets.config instead.\n",
      "  \"You should import from traitlets.config instead.\", ShimWarning)\n",
      "/Users/srianant/anaconda/lib/python3.5/site-packages/IPython/utils/traitlets.py:5: UserWarning: IPython.utils.traitlets has moved to a top-level traitlets package.\n",
      "  warn(\"IPython.utils.traitlets has moved to a top-level traitlets package.\")\n"
     ]
    }
   ],
   "source": [
    "%load_ext sql"
   ]
  },
  {
   "cell_type": "code",
   "execution_count": 13,
   "metadata": {
    "collapsed": false
   },
   "outputs": [
    {
     "data": {
      "text/html": [
       "<div>\n",
       "<table border=\"1\" class=\"dataframe\">\n",
       "  <thead>\n",
       "    <tr style=\"text-align: right;\">\n",
       "      <th></th>\n",
       "      <th>week_of_year</th>\n",
       "      <th>day_of_week</th>\n",
       "      <th>sales</th>\n",
       "    </tr>\n",
       "  </thead>\n",
       "  <tbody>\n",
       "    <tr>\n",
       "      <th>0</th>\n",
       "      <td>2014-10-27</td>\n",
       "      <td>1.0</td>\n",
       "      <td>1016</td>\n",
       "    </tr>\n",
       "    <tr>\n",
       "      <th>1</th>\n",
       "      <td>2014-10-27</td>\n",
       "      <td>2.0</td>\n",
       "      <td>978</td>\n",
       "    </tr>\n",
       "    <tr>\n",
       "      <th>2</th>\n",
       "      <td>2014-10-27</td>\n",
       "      <td>3.0</td>\n",
       "      <td>1010</td>\n",
       "    </tr>\n",
       "    <tr>\n",
       "      <th>3</th>\n",
       "      <td>2014-11-03</td>\n",
       "      <td>1.0</td>\n",
       "      <td>987</td>\n",
       "    </tr>\n",
       "    <tr>\n",
       "      <th>4</th>\n",
       "      <td>2014-11-03</td>\n",
       "      <td>2.0</td>\n",
       "      <td>991</td>\n",
       "    </tr>\n",
       "  </tbody>\n",
       "</table>\n",
       "</div>"
      ],
      "text/plain": [
       "  week_of_year  day_of_week  sales\n",
       "0   2014-10-27          1.0   1016\n",
       "1   2014-10-27          2.0    978\n",
       "2   2014-10-27          3.0   1010\n",
       "3   2014-11-03          1.0    987\n",
       "4   2014-11-03          2.0    991"
      ]
     },
     "execution_count": 13,
     "metadata": {},
     "output_type": "execute_result"
    }
   ],
   "source": [
    "# create pandas df from SQL\n",
    "sales = pd.read_sql(\"SELECT date_trunc('week', cloth_sales.dt) as week_of_year, date_part('dow', cloth_sales.dt) as day_of_week, sales from cloth_sales\", engine)\n",
    "sales.head()"
   ]
  },
  {
   "cell_type": "code",
   "execution_count": 16,
   "metadata": {
    "collapsed": false
   },
   "outputs": [
    {
     "data": {
      "text/html": [
       "<div>\n",
       "<table border=\"1\" class=\"dataframe\">\n",
       "  <thead>\n",
       "    <tr>\n",
       "      <th></th>\n",
       "      <th colspan=\"3\" halign=\"left\">sales</th>\n",
       "    </tr>\n",
       "    <tr>\n",
       "      <th>day_of_week</th>\n",
       "      <th>1.0</th>\n",
       "      <th>2.0</th>\n",
       "      <th>3.0</th>\n",
       "    </tr>\n",
       "    <tr>\n",
       "      <th>week_of_year</th>\n",
       "      <th></th>\n",
       "      <th></th>\n",
       "      <th></th>\n",
       "    </tr>\n",
       "  </thead>\n",
       "  <tbody>\n",
       "    <tr>\n",
       "      <th>2014-10-27</th>\n",
       "      <td>1016</td>\n",
       "      <td>978</td>\n",
       "      <td>1010</td>\n",
       "    </tr>\n",
       "    <tr>\n",
       "      <th>2014-11-03</th>\n",
       "      <td>987</td>\n",
       "      <td>991</td>\n",
       "      <td>997</td>\n",
       "    </tr>\n",
       "    <tr>\n",
       "      <th>2014-11-10</th>\n",
       "      <td>1014</td>\n",
       "      <td>983</td>\n",
       "      <td>1002</td>\n",
       "    </tr>\n",
       "    <tr>\n",
       "      <th>2014-11-17</th>\n",
       "      <td>991</td>\n",
       "      <td>945</td>\n",
       "      <td>992</td>\n",
       "    </tr>\n",
       "    <tr>\n",
       "      <th>2014-11-24</th>\n",
       "      <td>1001</td>\n",
       "      <td>1058</td>\n",
       "      <td>1002</td>\n",
       "    </tr>\n",
       "  </tbody>\n",
       "</table>\n",
       "</div>"
      ],
      "text/plain": [
       "             sales            \n",
       "day_of_week    1.0   2.0   3.0\n",
       "week_of_year                  \n",
       "2014-10-27    1016   978  1010\n",
       "2014-11-03     987   991   997\n",
       "2014-11-10    1014   983  1002\n",
       "2014-11-17     991   945   992\n",
       "2014-11-24    1001  1058  1002"
      ]
     },
     "execution_count": 16,
     "metadata": {},
     "output_type": "execute_result"
    }
   ],
   "source": [
    "# create pivot table\n",
    "sales = sales.pivot('week_of_year', 'day_of_week')\n",
    "sales.head()"
   ]
  },
  {
   "cell_type": "code",
   "execution_count": 17,
   "metadata": {
    "collapsed": false
   },
   "outputs": [
    {
     "data": {
      "text/html": [
       "<div>\n",
       "<table border=\"1\" class=\"dataframe\">\n",
       "  <thead>\n",
       "    <tr>\n",
       "      <th></th>\n",
       "      <th colspan=\"3\" halign=\"left\">sales</th>\n",
       "      <th>total</th>\n",
       "      <th>expected</th>\n",
       "    </tr>\n",
       "    <tr>\n",
       "      <th>day_of_week</th>\n",
       "      <th>1.0</th>\n",
       "      <th>2.0</th>\n",
       "      <th>3.0</th>\n",
       "      <th></th>\n",
       "      <th></th>\n",
       "    </tr>\n",
       "    <tr>\n",
       "      <th>week_of_year</th>\n",
       "      <th></th>\n",
       "      <th></th>\n",
       "      <th></th>\n",
       "      <th></th>\n",
       "      <th></th>\n",
       "    </tr>\n",
       "  </thead>\n",
       "  <tbody>\n",
       "    <tr>\n",
       "      <th>2014-10-27</th>\n",
       "      <td>1016</td>\n",
       "      <td>978</td>\n",
       "      <td>1010</td>\n",
       "      <td>3004</td>\n",
       "      <td>1001.333333</td>\n",
       "    </tr>\n",
       "    <tr>\n",
       "      <th>2014-11-03</th>\n",
       "      <td>987</td>\n",
       "      <td>991</td>\n",
       "      <td>997</td>\n",
       "      <td>2975</td>\n",
       "      <td>991.666667</td>\n",
       "    </tr>\n",
       "    <tr>\n",
       "      <th>2014-11-10</th>\n",
       "      <td>1014</td>\n",
       "      <td>983</td>\n",
       "      <td>1002</td>\n",
       "      <td>2999</td>\n",
       "      <td>999.666667</td>\n",
       "    </tr>\n",
       "    <tr>\n",
       "      <th>2014-11-17</th>\n",
       "      <td>991</td>\n",
       "      <td>945</td>\n",
       "      <td>992</td>\n",
       "      <td>2928</td>\n",
       "      <td>976.000000</td>\n",
       "    </tr>\n",
       "    <tr>\n",
       "      <th>2014-11-24</th>\n",
       "      <td>1001</td>\n",
       "      <td>1058</td>\n",
       "      <td>1002</td>\n",
       "      <td>3061</td>\n",
       "      <td>1020.333333</td>\n",
       "    </tr>\n",
       "  </tbody>\n",
       "</table>\n",
       "</div>"
      ],
      "text/plain": [
       "             sales             total     expected\n",
       "day_of_week    1.0   2.0   3.0                   \n",
       "week_of_year                                     \n",
       "2014-10-27    1016   978  1010  3004  1001.333333\n",
       "2014-11-03     987   991   997  2975   991.666667\n",
       "2014-11-10    1014   983  1002  2999   999.666667\n",
       "2014-11-17     991   945   992  2928   976.000000\n",
       "2014-11-24    1001  1058  1002  3061  1020.333333"
      ]
     },
     "execution_count": 17,
     "metadata": {},
     "output_type": "execute_result"
    }
   ],
   "source": [
    "# calculate expected counts for each week\n",
    "sales['total'] = sales[['sales'][0]][1.0] + sales[['sales'][0]][2.0] + sales[['sales'][0]][3.0]\n",
    "sales['expected'] = sales['total']/3\n",
    "sales.head()"
   ]
  },
  {
   "cell_type": "code",
   "execution_count": 21,
   "metadata": {
    "collapsed": false
   },
   "outputs": [
    {
     "data": {
      "text/plain": [
       "24.697211952470848"
      ]
     },
     "execution_count": 21,
     "metadata": {},
     "output_type": "execute_result"
    }
   ],
   "source": [
    "# calculate X^2 statistic\n",
    "x_2 = 0\n",
    "for day in [1.0, 2.0, 3.0]:\n",
    "    x_2 = np.sum(((sales[['sales'][0]][day] - sales['expected'])**2)/sales['expected'])\n",
    "x_2"
   ]
  },
  {
   "cell_type": "code",
   "execution_count": 22,
   "metadata": {
    "collapsed": false
   },
   "outputs": [
    {
     "data": {
      "text/plain": [
       "4.3357932540058771e-06"
      ]
     },
     "execution_count": 22,
     "metadata": {},
     "output_type": "execute_result"
    }
   ],
   "source": [
    "# calculate p-value\n",
    "df=2\n",
    "stats.chi2(2).sf(x_2)"
   ]
  },
  {
   "cell_type": "markdown",
   "metadata": {},
   "source": [
    "Since p > .05, we reject the null hypothesis, which is that there is no difference in sales across days of the week."
   ]
  },
  {
   "cell_type": "code",
   "execution_count": null,
   "metadata": {
    "collapsed": true
   },
   "outputs": [],
   "source": []
  },
  {
   "cell_type": "markdown",
   "metadata": {
    "collapsed": false
   },
   "source": [
    "**Question 4**  \n",
    "\n",
    "1) A law suit has been filed against a university for a charge of sexual discrimination against female applicants during the admissions process. Use the data below to test whether sex affects admission at this university.\n",
    "      \n",
    "   **Hint:**\n",
    "   - Construct your null and alternative hypotheses\n",
    "   - Use `scipy.stats.chi2_contingency()` to carry out a test for independence\n",
    "   - The function takes the contingency table as an `numpy` array as the first argument\n",
    "\n",
    "\n",
    "|        | Admitted | Not Admitted |\n",
    "|--------|----------|--------------|\n",
    "| Male   | 3715     | 4727         |\n",
    "| Female | 1513     | 2808         |\n",
    "\n",
    "2) You are also given the breakdown of the female and male admissions by department (A to F).\n",
    "\n",
    "<img src=\"images/paradox_1.png\" width=\"300px\">\n",
    "\n",
    "Test if sex and department are independent in terms of number of applicants.\n",
    "\n",
    "3) (Extra Credit) Based on all the data you are given, is it fair to say that there is sexual discirmination in the admission process? Explain your answer. (Hint: Simpson's paradox)"
   ]
  },
  {
   "cell_type": "markdown",
   "metadata": {},
   "source": [
    "#### Solution 4.1"
   ]
  },
  {
   "cell_type": "code",
   "execution_count": 23,
   "metadata": {
    "collapsed": false
   },
   "outputs": [
    {
     "data": {
      "text/html": [
       "<div>\n",
       "<table border=\"1\" class=\"dataframe\">\n",
       "  <thead>\n",
       "    <tr style=\"text-align: right;\">\n",
       "      <th></th>\n",
       "      <th>Admitted</th>\n",
       "      <th>NotAdmitted</th>\n",
       "    </tr>\n",
       "  </thead>\n",
       "  <tbody>\n",
       "    <tr>\n",
       "      <th>Female</th>\n",
       "      <td>1513</td>\n",
       "      <td>2808</td>\n",
       "    </tr>\n",
       "    <tr>\n",
       "      <th>Male</th>\n",
       "      <td>3715</td>\n",
       "      <td>4727</td>\n",
       "    </tr>\n",
       "  </tbody>\n",
       "</table>\n",
       "</div>"
      ],
      "text/plain": [
       "        Admitted  NotAdmitted\n",
       "Female      1513         2808\n",
       "Male        3715         4727"
      ]
     },
     "execution_count": 23,
     "metadata": {},
     "output_type": "execute_result"
    }
   ],
   "source": [
    "admin = [\"Admitted\", \"NotAdmitted\"]\n",
    "sdata = pd.DataFrame({\"Male\": [3715,4727], \"Female\": [1513,2808]}, index=admin).T\n",
    "sdata"
   ]
  },
  {
   "cell_type": "markdown",
   "metadata": {},
   "source": [
    "$H_0$: admission & gender are independent\n",
    "    \n",
    "$H_a$: admission & gender not independent"
   ]
  },
  {
   "cell_type": "code",
   "execution_count": 24,
   "metadata": {
    "collapsed": false
   },
   "outputs": [
    {
     "data": {
      "text/latex": [
       "$\\chi^2 = 95.17; p = 1.7e-22$"
      ],
      "text/plain": [
       "<IPython.core.display.Latex object>"
      ]
     },
     "execution_count": 24,
     "metadata": {},
     "output_type": "execute_result"
    }
   ],
   "source": [
    "chi2, p, dof, expected = stats.chi2_contingency(sdata)\n",
    "\n",
    "Latex(r\"$\\chi^2 = {:.4}; p = {:.2}$\".format(chi2, p))"
   ]
  },
  {
   "cell_type": "markdown",
   "metadata": {},
   "source": [
    "#### 4.1 commentary\n",
    "\n",
    "Since p-value < .05 (1.7e−22) is extremly small, we reject NULL-hypothesis. Not enough evidence to say that admission rates & gender are independent."
   ]
  },
  {
   "cell_type": "markdown",
   "metadata": {},
   "source": [
    "#### Solution 4.2"
   ]
  },
  {
   "cell_type": "markdown",
   "metadata": {},
   "source": [
    "$H_0$: department & gender are independent\n",
    "    \n",
    "$H_a$: department & gender are not independent"
   ]
  },
  {
   "cell_type": "code",
   "execution_count": 29,
   "metadata": {
    "collapsed": false
   },
   "outputs": [
    {
     "data": {
      "text/html": [
       "<div>\n",
       "<table border=\"1\" class=\"dataframe\">\n",
       "  <thead>\n",
       "    <tr style=\"text-align: right;\">\n",
       "      <th></th>\n",
       "      <th>MalesAdmitted</th>\n",
       "      <th>FemalesAdmitted</th>\n",
       "    </tr>\n",
       "  </thead>\n",
       "  <tbody>\n",
       "    <tr>\n",
       "      <th>A</th>\n",
       "      <td>825</td>\n",
       "      <td>108</td>\n",
       "    </tr>\n",
       "    <tr>\n",
       "      <th>B</th>\n",
       "      <td>560</td>\n",
       "      <td>25</td>\n",
       "    </tr>\n",
       "    <tr>\n",
       "      <th>C</th>\n",
       "      <td>325</td>\n",
       "      <td>593</td>\n",
       "    </tr>\n",
       "    <tr>\n",
       "      <th>D</th>\n",
       "      <td>417</td>\n",
       "      <td>375</td>\n",
       "    </tr>\n",
       "    <tr>\n",
       "      <th>E</th>\n",
       "      <td>191</td>\n",
       "      <td>393</td>\n",
       "    </tr>\n",
       "    <tr>\n",
       "      <th>F</th>\n",
       "      <td>373</td>\n",
       "      <td>341</td>\n",
       "    </tr>\n",
       "  </tbody>\n",
       "</table>\n",
       "</div>"
      ],
      "text/plain": [
       "   MalesAdmitted  FemalesAdmitted\n",
       "A            825              108\n",
       "B            560               25\n",
       "C            325              593\n",
       "D            417              375\n",
       "E            191              393\n",
       "F            373              341"
      ]
     },
     "execution_count": 29,
     "metadata": {},
     "output_type": "execute_result"
    }
   ],
   "source": [
    "applicants = [\"MalesAdmitted\",\"FemalesAdmitted\"]\n",
    "department = pd.DataFrame({\"A\": [825,108], \"B\": [560,25], \"C\": [325,593], \"D\": [417,375], \"E\": [191,393], \"F\": [373,341]}, index=applicants).T\n",
    "\n",
    "department"
   ]
  },
  {
   "cell_type": "code",
   "execution_count": 30,
   "metadata": {
    "collapsed": false
   },
   "outputs": [
    {
     "name": "stdout",
     "output_type": "stream",
     "text": [
      "MalesAdmitted:  1198.02\n"
     ]
    }
   ],
   "source": [
    "print(\"MalesAdmitted: \",511.50+352.80+120.25+137.61+53.48+22.38)"
   ]
  },
  {
   "cell_type": "code",
   "execution_count": 31,
   "metadata": {
    "collapsed": false
   },
   "outputs": [
    {
     "name": "stdout",
     "output_type": "stream",
     "text": [
      "FemalesAdmitted:  556.62\n"
     ]
    }
   ],
   "source": [
    "print(\"FemalesAdmitted: \",88.56+17.00+201.62+131.25+94.32+23.87)"
   ]
  },
  {
   "cell_type": "code",
   "execution_count": 32,
   "metadata": {
    "collapsed": false
   },
   "outputs": [
    {
     "data": {
      "text/latex": [
       "$\\chi^2 = 1.068e+03; p = 9.4e-229$"
      ],
      "text/plain": [
       "<IPython.core.display.Latex object>"
      ]
     },
     "execution_count": 32,
     "metadata": {},
     "output_type": "execute_result"
    }
   ],
   "source": [
    "chi2, p, dof, expected = stats.chi2_contingency(department)\n",
    "\n",
    "Latex(r\"$\\chi^2 = {:.4}; p = {:.2}$\".format(chi2, p))"
   ]
  },
  {
   "cell_type": "markdown",
   "metadata": {
    "collapsed": true
   },
   "source": [
    "#### 4.2 commentary\n",
    "\n",
    "Since p-value < .05 (9.4e−229) is extremly small, we reject NULL-hypothesis. Not enough evidence to say that department & gender are independent."
   ]
  },
  {
   "cell_type": "markdown",
   "metadata": {
    "collapsed": true
   },
   "source": [
    "#### 4.3 Commentary\n",
    "\n",
    "No, despite the fact that both tests showed us that we have to reject the null hypotheses that gender vs. department and gender vs. admissions are independent, we can't definitively say that sexual discrimination is happening. Gender vs. admissions shows bias toward the male direction while gender vs. department shows bias towards the female direction. Two biases combined together can create misleading results/conclusions, similar to what Anscombe's Quartet demonstrates. "
   ]
  },
  {
   "cell_type": "markdown",
   "metadata": {},
   "source": [
    "#### Hint\n",
    "\n",
    "Some functions that may be useful to you:\n",
    "\n",
    "- From the `sqlalchemy` package:\n",
    "    - `create_engine`\n",
    "- From the `pandas` package:\n",
    "    - `read_sql`\n",
    "    - `pivot`\n",
    "- From the `scipy.stats` package:\n",
    "    - `chisquare`\n",
    "    - `chi2_contingency`"
   ]
  }
 ],
 "metadata": {
  "anaconda-cloud": {},
  "kernelspec": {
   "display_name": "Python 3",
   "language": "python",
   "name": "python3"
  },
  "language_info": {
   "codemirror_mode": {
    "name": "ipython",
    "version": 3
   },
   "file_extension": ".py",
   "mimetype": "text/x-python",
   "name": "python",
   "nbconvert_exporter": "python",
   "pygments_lexer": "ipython3",
   "version": "3.5.2"
  }
 },
 "nbformat": 4,
 "nbformat_minor": 0
}
