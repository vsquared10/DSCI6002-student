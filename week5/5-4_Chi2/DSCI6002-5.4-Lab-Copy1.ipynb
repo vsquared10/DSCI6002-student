{
 "cells": [
  {
   "cell_type": "markdown",
   "metadata": {},
   "source": [
    "# Lab 5.4: Chi-Square Tests\n",
    "\n",
    "## Outline\n",
    "\n",
    "- Chi-square test for goodness of fit\n",
    "- Chi-square test for independence"
   ]
  },
  {
   "cell_type": "code",
   "execution_count": 4,
   "metadata": {
    "collapsed": false
   },
   "outputs": [
    {
     "name": "stdout",
     "output_type": "stream",
     "text": [
      "Populating the interactive namespace from numpy and matplotlib\n"
     ]
    }
   ],
   "source": [
    "%pylab inline\n",
    "\n",
    "import pandas as pd\n",
    "import statsmodels.api as sm\n",
    "\n",
    "from IPython.display import Latex\n",
    "\n",
    "from scipy import stats\n",
    "from statsmodels.graphics.gofplots import qqplot\n",
    "from statsmodels.distributions.empirical_distribution import ECDF"
   ]
  },
  {
   "cell_type": "markdown",
   "metadata": {},
   "source": [
    "**Questions 1**  \n",
    "\n",
    "Seven percent of mutual fund investors rate corporate stocks “very safe,” 58% rate them “somewhat safe,” 24% rate them “not very safe,” 4% rate them “not at all safe,” and 7% are “not sure.” A BusinessWeek/Harris poll asked 529 mutual fund investors how they would rate corporate bonds on safety. The responses are as follows.  \n",
    "\n",
    "<img src=\"images/q1.png\" width=\"300\">  \n",
    "\n",
    "Do mutual fund investors’ attitudes toward corporate bonds differ from their attitudes toward\n",
    "corporate stocks? Clearly state the null and alternative hypotheses."
   ]
  },
  {
   "cell_type": "markdown",
   "metadata": {},
   "source": [
    "#### Answer 1\n",
    "\n",
    "$H_0$: the stocks and bonds attitudes differ  \n",
    "$H_a$: the stocks and bonds attitudes are similar  "
   ]
  },
  {
   "cell_type": "code",
   "execution_count": 13,
   "metadata": {
    "collapsed": false
   },
   "outputs": [],
   "source": [
    "ratings = [\"Very safe\", \"Somewhat safe\", \"Not very safe\", \"Not at all safe\", \"Not sure\"]\n",
    "stocks_bonds = pd.DataFrame({\"Stocks\": [.07, .58, .24, .04, .07], \n",
    "                             \"Bonds\": [48/529, 323/529, 79/529, 16/529, 63/529]}, index=ratings).T\n",
    "chi2, p, dof, expected = stats.chi2_contingency(stocks_bonds)"
   ]
  },
  {
   "cell_type": "code",
   "execution_count": 6,
   "metadata": {
    "collapsed": false,
    "scrolled": true
   },
   "outputs": [
    {
     "data": {
      "text/latex": [
       "$\\chi^2 = 0.03867; p = 1.0$"
      ],
      "text/plain": [
       "<IPython.core.display.Latex object>"
      ]
     },
     "execution_count": 6,
     "metadata": {},
     "output_type": "execute_result"
    }
   ],
   "source": [
    "Latex(r\"$\\chi^2 = {:.4}; p = {:.2}$\".format(chi2, p))"
   ]
  },
  {
   "cell_type": "code",
   "execution_count": 14,
   "metadata": {
    "collapsed": false
   },
   "outputs": [
    {
     "data": {
      "text/plain": [
       "array([[ 0.08036862,  0.59529301,  0.19466919,  0.03512287,  0.09454631],\n",
       "       [ 0.08036862,  0.59529301,  0.19466919,  0.03512287,  0.09454631]])"
      ]
     },
     "execution_count": 14,
     "metadata": {},
     "output_type": "execute_result"
    }
   ],
   "source": [
    "expected"
   ]
  },
  {
   "cell_type": "markdown",
   "metadata": {},
   "source": [
    "#### Answer 1 Commentary\n",
    "\n",
    "The p-value is 1, so that means that we fail to reject that the attitudes differ. The evidence shows that stock and bond attitudes are actually quite dependent, but we can't prove that for sure."
   ]
  },
  {
   "cell_type": "markdown",
   "metadata": {},
   "source": [
    "**Question 2**  \n",
    "\n",
    "A news article reports that \"Americans have differing views on two potentially inconvenient and invasive practices that airports could implement to uncover potential terrorist attacks.\" This news piece was based on a survey conducted among a random sample of 1,137 adults nationwide, interviewed by telephone November 7-10, 2010, where one of the questions on the survey was \"Some airports are now using 'full-body' digital x-ray machines to electronically screen passengers in airport security lines. Do you think these new x-ray machines should or should not be used at airports?\" Below is a summary of responses based on party affiliation.  \n",
    "\n",
    "<img src=\"images/q4.png\" width=\"550\">  \n",
    "\n",
    "The differences in each political group may be due to chance. Complete the following computations under the null\n",
    "hypothesis of independence between an individual's party affiliation and his/her support of full-body scans. It may be useful to first add on an extra column for row totals before proceeding with the computations.  \n",
    "\n",
    "1) How many Republicans would you expect to not support the use of full-body scans?  \n",
    "\n",
    "2) How many Democrats would you expect to support the use of full-body scans?  \n",
    "\n",
    "3) How many Independents would you expect to not know or not answer?  \n",
    "\n",
    "4) Test if an individual's party affiliation affects his/her support of full-body scans. Clearly state the null and alternative hypotheses in your test."
   ]
  },
  {
   "cell_type": "markdown",
   "metadata": {},
   "source": [
    "### Answer 2"
   ]
  },
  {
   "cell_type": "code",
   "execution_count": 32,
   "metadata": {
    "collapsed": false
   },
   "outputs": [],
   "source": [
    "party = [\"Republican\", \"Democrat\", \"Independent\", \"Total\"]\n",
    "body_scans = pd.DataFrame({\"Should\": [264, 299, 351, (264+299+351)], \n",
    "                           \"Don't know/No Answer\": [16, 15, 22, (16+15+22)], \n",
    "                           \"Should not\": [38, 55, 77, (38+55+77)], \n",
    "                           \"Total\": [318, 369, 450, (318+369+450)]},index=party).T\n",
    "chi2, p, dof, expected_party = stats.chi2_contingency(body_scans)"
   ]
  },
  {
   "cell_type": "code",
   "execution_count": 33,
   "metadata": {
    "collapsed": false
   },
   "outputs": [
    {
     "data": {
      "text/html": [
       "<div>\n",
       "<table border=\"1\" class=\"dataframe\">\n",
       "  <thead>\n",
       "    <tr style=\"text-align: right;\">\n",
       "      <th></th>\n",
       "      <th>Republican</th>\n",
       "      <th>Democrat</th>\n",
       "      <th>Independent</th>\n",
       "      <th>Total</th>\n",
       "    </tr>\n",
       "  </thead>\n",
       "  <tbody>\n",
       "    <tr>\n",
       "      <th>Don't know/No Answer</th>\n",
       "      <td>16</td>\n",
       "      <td>15</td>\n",
       "      <td>22</td>\n",
       "      <td>53</td>\n",
       "    </tr>\n",
       "    <tr>\n",
       "      <th>Should</th>\n",
       "      <td>264</td>\n",
       "      <td>299</td>\n",
       "      <td>351</td>\n",
       "      <td>914</td>\n",
       "    </tr>\n",
       "    <tr>\n",
       "      <th>Should not</th>\n",
       "      <td>38</td>\n",
       "      <td>55</td>\n",
       "      <td>77</td>\n",
       "      <td>170</td>\n",
       "    </tr>\n",
       "    <tr>\n",
       "      <th>Total</th>\n",
       "      <td>318</td>\n",
       "      <td>369</td>\n",
       "      <td>450</td>\n",
       "      <td>1137</td>\n",
       "    </tr>\n",
       "  </tbody>\n",
       "</table>\n",
       "</div>"
      ],
      "text/plain": [
       "                      Republican  Democrat  Independent  Total\n",
       "Don't know/No Answer          16        15           22     53\n",
       "Should                       264       299          351    914\n",
       "Should not                    38        55           77    170\n",
       "Total                        318       369          450   1137"
      ]
     },
     "execution_count": 33,
     "metadata": {},
     "output_type": "execute_result"
    }
   ],
   "source": [
    "body_scans"
   ]
  },
  {
   "cell_type": "code",
   "execution_count": 34,
   "metadata": {
    "collapsed": false
   },
   "outputs": [
    {
     "data": {
      "text/plain": [
       "array([[   14.823219  ,    17.2005277 ,    20.9762533 ,    53.        ],\n",
       "       [  255.63060686,   296.62796834,   361.7414248 ,   914.        ],\n",
       "       [   47.54617414,    55.17150396,    67.2823219 ,   170.        ],\n",
       "       [  318.        ,   369.        ,   450.        ,  1137.        ]])"
      ]
     },
     "execution_count": 34,
     "metadata": {},
     "output_type": "execute_result"
    }
   ],
   "source": [
    "expected_party"
   ]
  },
  {
   "cell_type": "markdown",
   "metadata": {},
   "source": [
    "#### Answer 2.1\n",
    "\n",
    "1) How many Republicans would you expect to not support the use of full-body scans?  \n"
   ]
  },
  {
   "cell_type": "code",
   "execution_count": 38,
   "metadata": {
    "collapsed": false
   },
   "outputs": [
    {
     "name": "stdout",
     "output_type": "stream",
     "text": [
      "We would expect 47.546 Republicans to not support body scans\n"
     ]
    }
   ],
   "source": [
    "print(\"We would expect\", round(expected_party[2][0], 3), \"Republicans to not support body scans\")"
   ]
  },
  {
   "cell_type": "markdown",
   "metadata": {},
   "source": [
    "**Question 3**  \n",
    "\n",
    "A clothes retailer believes that there is no difference in sales across Monday, Tuesday and Wednesday. You are given the data in a `cloth_sales` table (in RDS) to test the claim. The table contains two columns: `dt` for the date, and `sales`, containing the count of sales for that day. Start by drawing up the table for the observed and expected frequencies for the chi-square test. \n",
    "\n",
    "**Hint:** \n",
    "- It will probably be easiest to extract the week of the year (`week`) and the day of the week (`dow`) using the [`date_trunc`](https://www.postgresql.org/docs/current/static/functions-datetime.html#FUNCTIONS-DATETIME-TRUNC) and [`date_part`](https://www.postgresql.org/docs/current/static/functions-datetime.html#FUNCTIONS-DATETIME-EXTRACT) functions in PostgreSQL respectively. You can then [`pivot`](http://pandas.pydata.org/pandas-docs/stable/reshaping.html#reshaping-by-pivoting-dataframe-objects) the table with pandas. The `head` of the resulting data frame should look something like:\n",
    "\n",
    "<table border=\"1\" class=\"dataframe\">\n",
    "  <thead>\n",
    "    <tr style=\"text-align: right;\">\n",
    "      <th>date_part</th>\n",
    "      <th>1.0</th>\n",
    "      <th>2.0</th>\n",
    "      <th>3.0</th>\n",
    "    </tr>\n",
    "    <tr>\n",
    "      <th>date_trunc</th>\n",
    "      <th></th>\n",
    "      <th></th>\n",
    "      <th></th>\n",
    "    </tr>\n",
    "  </thead>\n",
    "  <tbody>\n",
    "    <tr>\n",
    "      <th>2014-10-27</th>\n",
    "      <td>1016</td>\n",
    "      <td>978</td>\n",
    "      <td>1010</td>\n",
    "    </tr>\n",
    "    <tr>\n",
    "      <th>2014-11-03</th>\n",
    "      <td>987</td>\n",
    "      <td>991</td>\n",
    "      <td>997</td>\n",
    "    </tr>\n",
    "    <tr>\n",
    "      <th>2014-11-10</th>\n",
    "      <td>1014</td>\n",
    "      <td>983</td>\n",
    "      <td>1002</td>\n",
    "    </tr>\n",
    "    <tr>\n",
    "      <th>2014-11-17</th>\n",
    "      <td>991</td>\n",
    "      <td>945</td>\n",
    "      <td>992</td>\n",
    "    </tr>\n",
    "    <tr>\n",
    "      <th>2014-11-24</th>\n",
    "      <td>1001</td>\n",
    "      <td>1058</td>\n",
    "      <td>1002</td>\n",
    "    </tr>\n",
    "  </tbody>\n",
    "</table>  \n",
    "\n",
    "(N.B. `date_part('dow', dt)` will return the number of days after Sunday, so Monday = 1.0, Tuesday = 2.0, and so on.)\n",
    "   \n",
    "- Use `scipy.stats.chisquare()` to carry out a goodness of fit test"
   ]
  },
  {
   "cell_type": "markdown",
   "metadata": {
    "collapsed": false
   },
   "source": [
    "**Question 4**  \n",
    "\n",
    "1) A law suit has been filed against a university for a charge of sexual discrimination against female applicants during the admissions process. Use the data below to test whether sex affects admission at this university.\n",
    "      \n",
    "   **Hint:**\n",
    "   - Construct your null and alternative hypotheses\n",
    "   - Use `scipy.stats.chi2_contingency()` to carry out a test for independence\n",
    "   - The function takes the contingency table as an `numpy` array as the first argument\n",
    "\n",
    "\n",
    "|        | Admitted | Not Admitted |\n",
    "|--------|----------|--------------|\n",
    "| Male   | 3715     | 4727         |\n",
    "| Female | 1513     | 2808         |\n",
    "\n",
    "2) You are also given the breakdown of the female and male admissions by department (A to F).\n",
    "\n",
    "<img src=\"images/paradox_1.png\" width=\"300px\">\n",
    "\n",
    "Test if sex and department are independent in terms of number of applicants.\n",
    "\n",
    "3) (Extra Credit) Based on all the data you are given, is it fair to say that there is sexual discirmination in the admission process? Explain your answer. (Hint: Simpson's paradox)"
   ]
  },
  {
   "cell_type": "markdown",
   "metadata": {},
   "source": [
    "#### Hint\n",
    "\n",
    "Some functions that may be useful to you:\n",
    "\n",
    "- From the `sqlalchemy` package:\n",
    "    - `create_engine`\n",
    "- From the `pandas` package:\n",
    "    - `read_sql`\n",
    "    - `pivot`\n",
    "- From the `scipy.stats` package:\n",
    "    - `chisquare`\n",
    "    - `chi2_contingency`"
   ]
  }
 ],
 "metadata": {
  "anaconda-cloud": {},
  "kernelspec": {
   "display_name": "Python 3",
   "language": "python",
   "name": "python3"
  },
  "language_info": {
   "codemirror_mode": {
    "name": "ipython",
    "version": 3
   },
   "file_extension": ".py",
   "mimetype": "text/x-python",
   "name": "python",
   "nbconvert_exporter": "python",
   "pygments_lexer": "ipython3",
   "version": "3.5.2"
  }
 },
 "nbformat": 4,
 "nbformat_minor": 0
}
